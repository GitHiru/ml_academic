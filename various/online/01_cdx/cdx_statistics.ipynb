{
 "cells": [
  {
   "cell_type": "markdown",
   "metadata": {},
   "source": [
    "# 統計学入門編 (機械学習)\n",
    "---"
   ]
  },
  {
   "cell_type": "code",
   "execution_count": 1,
   "metadata": {
    "collapsed": true,
    "jupyter": {
     "outputs_hidden": true
    }
   },
   "outputs": [],
   "source": [
    "import numpy as np\n",
    "import matplotlib.pyplot as plt"
   ]
  },
  {
   "cell_type": "code",
   "execution_count": 2,
   "metadata": {
    "collapsed": true,
    "jupyter": {
     "outputs_hidden": true
    },
    "scrolled": true
   },
   "outputs": [
    {
     "name": "stdout",
     "output_type": "stream",
     "text": [
      "Defaulting to user installation because normal site-packages is not writeable\n",
      "Requirement already satisfied: matplotlib in /private/var/containers/Bundle/Application/538AF133-E5F4-4CE5-AACC-65DE5DF56DD1/Carnets.app/Library/lib/python3.9/site-packages (3.3.2+2545.gef673c46e)\n",
      "Requirement already satisfied: python-dateutil>=2.7 in /private/var/containers/Bundle/Application/538AF133-E5F4-4CE5-AACC-65DE5DF56DD1/Carnets.app/Library/lib/python3.9/site-packages (from matplotlib) (2.8.1)\n",
      "Requirement already satisfied: pillow>=6.2.0 in /private/var/containers/Bundle/Application/538AF133-E5F4-4CE5-AACC-65DE5DF56DD1/Carnets.app/Library/lib/python3.9/site-packages (from matplotlib) (8.1.2)\n",
      "Requirement already satisfied: numpy>=1.16 in /private/var/containers/Bundle/Application/538AF133-E5F4-4CE5-AACC-65DE5DF56DD1/Carnets.app/Library/lib/python3.9/site-packages/numpy-1.21.0.dev0+716.g786cc1dd5-py3.9-macosx-11.2-x86_64.egg (from matplotlib) (1.21.0.dev0+716.g786cc1dd5)\n",
      "Requirement already satisfied: pyparsing>=2.2.1 in /private/var/containers/Bundle/Application/538AF133-E5F4-4CE5-AACC-65DE5DF56DD1/Carnets.app/Library/lib/python3.9/site-packages (from matplotlib) (2.4.7)\n",
      "Requirement already satisfied: kiwisolver>=1.0.1 in /private/var/containers/Bundle/Application/538AF133-E5F4-4CE5-AACC-65DE5DF56DD1/Carnets.app/Library/lib/python3.9/site-packages (from matplotlib) (1.3.1)\n",
      "Requirement already satisfied: cycler>=0.10 in /private/var/containers/Bundle/Application/538AF133-E5F4-4CE5-AACC-65DE5DF56DD1/Carnets.app/Library/lib/python3.9/site-packages (from matplotlib) (0.10.0)\n",
      "Requirement already satisfied: six in /private/var/containers/Bundle/Application/538AF133-E5F4-4CE5-AACC-65DE5DF56DD1/Carnets.app/Library/lib/python3.9/site-packages (from cycler>=0.10->matplotlib) (1.15.0)\n",
      "\r"
     ]
    },
    {
     "name": "stderr",
     "output_type": "stream",
     "text": [
      "\u001b[33mWARNING: You are using pip version 21.0.1; however, version 21.1 is available.\n",
      "You should consider upgrading via the '/private/var/containers/Bundle/Application/538AF133-E5F4-4CE5-AACC-65DE5DF56DD1/Carnets.app/Library/bin/python3 -m pip install --upgrade pip' command.\u001b[0m\n",
      "\r"
     ]
    }
   ],
   "source": [
    "!pip install matplotlib"
   ]
  },
  {
   "cell_type": "code",
   "execution_count": 53,
   "metadata": {},
   "outputs": [
    {
     "name": "stderr",
     "output_type": "stream",
     "text": [
      "\u001b[33mWARNING: Value for scheme.headers does not match. Please report this to <https://github.com/pypa/pip/issues/9617>\n",
      "\r"
     ]
    },
    {
     "name": "stdout",
     "output_type": "stream",
     "text": [
      "Defaulting to user installation because normal site-packages is not writeable\n",
      "\r"
     ]
    },
    {
     "name": "stderr",
     "output_type": "stream",
     "text": [
      "distutils: /private/var/containers/Bundle/Application/538AF133-E5F4-4CE5-AACC-65DE5DF56DD1/Carnets.app/Library/include/python3.9/UNKNOWN\n",
      "sysconfig: /private/var/containers/Bundle/Application/538AF133-E5F4-4CE5-AACC-65DE5DF56DD1/Carnets.app/Library/include/python3.9\u001b[0m\n",
      "\u001b[33mWARNING: Additional context:\n",
      "user = False\n",
      "home = None\n",
      "root = None\n",
      "prefix = None\u001b[0m\n",
      "\r"
     ]
    },
    {
     "name": "stdout",
     "output_type": "stream",
     "text": [
      "Requirement already satisfied: pip in /private/var/mobile/Containers/Data/Application/2EE4AB14-3608-4AD2-8F7C-081A8267CE4D/Library/lib/python3.9/site-packages (21.1)\n",
      "\r"
     ]
    },
    {
     "name": "stderr",
     "output_type": "stream",
     "text": [
      "\u001b[33mWARNING: Value for scheme.headers does not match. Please report this to <https://github.com/pypa/pip/issues/9617>\n",
      "distutils: /var/mobile/Containers/Data/Application/2EE4AB14-3608-4AD2-8F7C-081A8267CE4D/Library/include/python3.9/UNKNOWN\n",
      "sysconfig: /var/mobile/Containers/Data/Application/2EE4AB14-3608-4AD2-8F7C-081A8267CE4D/Library/include/python3.9\u001b[0m\n",
      "\u001b[33mWARNING: Additional context:\n",
      "user = True\n",
      "home = None\n",
      "root = None\n",
      "prefix = None\u001b[0m\n",
      "\r"
     ]
    }
   ],
   "source": [
    "!/private/var/containers/Bundle/Application/538AF133-E5F4-4CE5-AACC-65DE5DF56DD1/Carnets.app/Library/bin/python3 -m pip install --upgrade pip"
   ]
  },
  {
   "cell_type": "code",
   "execution_count": 3,
   "metadata": {
    "collapsed": true,
    "jupyter": {
     "outputs_hidden": true
    }
   },
   "outputs": [
    {
     "name": "stdout",
     "output_type": "stream",
     "text": [
      "Package                           Version\n",
      "--------------------------------- --------------------------\n",
      "appnope                           0.1.2\n",
      "argon2-cffi                       20.1.0\n",
      "astropy                           4.2\n",
      "async-generator                   1.10\n",
      "\r"
     ]
    },
    {
     "name": "stderr",
     "output_type": "stream",
     "text": [
      "\u001b[33mWARNING: You are using pip version 21.0.1; however, version 21.1 is available.\n",
      "\r"
     ]
    },
    {
     "name": "stdout",
     "output_type": "stream",
     "text": [
      "attrs                             20.3.0\n",
      "\r"
     ]
    },
    {
     "name": "stderr",
     "output_type": "stream",
     "text": [
      "You should consider upgrading via the '/private/var/containers/Bundle/Application/538AF133-E5F4-4CE5-AACC-65DE5DF56DD1/Carnets.app/Library/bin/python3 -m pip install --upgrade pip' command.\u001b[0m\n",
      "\r"
     ]
    },
    {
     "name": "stdout",
     "output_type": "stream",
     "text": [
      "Babel                             2.9.0\n",
      "backcall                          0.2.0\n",
      "bleach                            3.3.0\n",
      "bokeh                             2.2.3\n",
      "certifi                           2020.12.5\n",
      "cffi                              1.14.2\n",
      "cloudpickle                       1.6.0\n",
      "cryptography                      3.4.6\n",
      "cycler                            0.10.0\n",
      "Cython                            0.29.21\n",
      "decorator                         4.4.2\n",
      "defusedxml                        0.7.1\n",
      "dill                              0.3.3\n",
      "docutils                          0.16\n",
      "entrypoints                       0.3\n",
      "extension-helpers                 0.1\n",
      "future                            0.18.2\n",
      "html5lib                          1.1\n",
      "ipykernel                         5.3.4\n",
      "ipysheet                          0.4.4\n",
      "ipython                           7.21.0\n",
      "ipython-genutils                  0.2.0\n",
      "ipywidgets                        7.6.3\n",
      "jedi                              0.18.0\n",
      "Jinja2                            2.11.3\n",
      "jsonschema                        3.2.0\n",
      "jupyter                           1.0.0\n",
      "jupyter-client                    6.1.7.dev0\n",
      "jupyter-console                   6.2.0\n",
      "jupyter-contrib-core              0.3.3\n",
      "jupyter-contrib-nbextensions      0.5.1\n",
      "jupyter-core                      4.7.1\n",
      "jupyter-highlight-selected-word   0.2.0\n",
      "jupyter-latex-envs                1.4.6\n",
      "jupyter-nbextensions-configurator 0.4.1\n",
      "jupyterlab-pygments               0.1.2\n",
      "jupyterlab-widgets                1.0.0\n",
      "kiwisolver                        1.3.1\n",
      "lxml                              4.6.2\n",
      "m2r                               0.2.1\n",
      "MarkupSafe                        1.1.1\n",
      "matplotlib                        3.3.2+2545.gef673c46e\n",
      "mistune                           0.8.4\n",
      "mpmath                            1.2.2.dev18+g1bb25a4\n",
      "nbclient                          0.5.3\n",
      "nbconvert                         6.0.4\n",
      "nbformat                          5.1.2\n",
      "nest-asyncio                      1.5.1\n",
      "notebook                          7.0.0.dev0\n",
      "numpy                             1.21.0.dev0+716.g786cc1dd5\n",
      "packaging                         20.9\n",
      "pandas                            1.2.3\n",
      "pandocfilters                     1.4.3\n",
      "parso                             0.8.1\n",
      "pexpect                           4.8.0\n",
      "pickleshare                       0.7.5\n",
      "Pillow                            8.1.2\n",
      "pip                               21.0.1\n",
      "prometheus-client                 0.9.0\n",
      "prompt-toolkit                    3.0.7\n",
      "protobuf                          3.15.5\n",
      "ptyprocess                        0.7.0\n",
      "pybind11                          2.6.2\n",
      "pycparser                         2.20\n",
      "pyerfa                            1.7.2\n",
      "pyglet                            1.5.0\n",
      "Pygments                          2.8.1\n",
      "pyparsing                         2.4.7\n",
      "pyrsistent                        0.17.3\n",
      "python-dateutil                   2.8.1\n",
      "pytz                              2021.1\n",
      "PyYAML                            5.4.1\n",
      "pyzmq                             22.0.3\n",
      "qtconsole                         5.0.2\n",
      "QtPy                              1.9.0\n",
      "semantic-version                  2.8.5\n",
      "Send2Trash                        1.5.0\n",
      "setuptools                        54.1.1\n",
      "setuptools-rust                   0.12.1\n",
      "six                               1.15.0\n",
      "sympy                             1.7.1\n",
      "terminado                         0.9.2\n",
      "testpath                          0.4.4\n",
      "toml                              0.10.2\n",
      "tornado                           6.1\n",
      "tqdm                              4.59.0\n",
      "traitlets                         5.0.5\n",
      "typing-extensions                 3.7.4.3\n",
      "urllib3                           1.26.3\n",
      "wcwidth                           0.2.5\n",
      "webencodings                      0.5.1\n",
      "wheel                             0.36.2\n",
      "widgetsnbextension                4.0.0a0\n",
      "\r"
     ]
    }
   ],
   "source": [
    "!pip list"
   ]
  },
  {
   "cell_type": "markdown",
   "metadata": {},
   "source": [
    "## 📊 ドットプロット/ヒストグラム\n",
    "---\n",
    "+ **度数分布表**とはデータを階級に分け、各階級ごとの度数を表現した表\n",
    "+ **ドットプロット**とは各変数ごとにデータの値をドット（点）で表現したグラフ\n",
    "+ **ヒストグラム**とは度数分布表をグラフにしたもの"
   ]
  },
  {
   "cell_type": "code",
   "execution_count": 4,
   "metadata": {},
   "outputs": [],
   "source": [
    "# 使用するライブラリのインポート\n",
    "import numpy as np\n",
    "import matplotlib.pyplot as plt"
   ]
  },
  {
   "cell_type": "code",
   "execution_count": 5,
   "metadata": {},
   "outputs": [],
   "source": [
    "# 練習問題「ゴルフのスコア」データ作成\n",
    "golf = np.array([110,107,121,137,87,92,104,129,98,99,139,82,105,100,114,122,109,94,106,111])"
   ]
  },
  {
   "cell_type": "code",
   "execution_count": 6,
   "metadata": {},
   "outputs": [
    {
     "data": {
      "image/png": "[encoded data removed]",
      "text/plain": [
       "<Figure size 432x288 with 1 Axes>"
      ]
     },
     "metadata": {
      "needs_background": "light"
     },
     "output_type": "display_data"
    }
   ],
   "source": [
    "#ヒストグラムの作成\n",
    "plt.hist(golf, range=[80,140], bins=6)\n",
    "plt.grid(True)\n",
    "plt.show()"
   ]
  },
  {
   "cell_type": "markdown",
   "metadata": {},
   "source": [
    "## 📊 平均値　中央値　最頻値\n",
    "---\n",
    "### データの中央を表す指標\n",
    "+ 平均値(mean value/ミーン:相加平均)\n",
    "> 観測値の総和を観測値の個数で割ったもの\n",
    "> アベレージとも呼ばれるが統計ではMeanと呼ぶことが一般\n",
    ">> Mean = (7+12+3+19+5+10+7)/7 ≒ ９\n",
    "+ 中央値(median value/メディアン)\n",
    "> 有限個のデータを小さい順（or大きい順）に並べた時中央に位置する値\n",
    ">> Median = 3,5,7,7,10,12,19 = 7\n",
    ">> Median = 2,3,5,7,7,10,12,19 = 6.5\n",
    "+ 最頻値(mode/モード)\n",
    "> データ群や確率分布で最も頻繁に出現する値（があれば）\n",
    ">> Mode = 7\n",
    "### データの分布（散らばり度）を表す指標\n",
    "+ 四分位範囲（Interquartile range： IQR）\n",
    "> \n",
    ">> IQR = 後半Median - 前半Median \n",
    "\n",
    "四分位範囲の求め方は「中央値」の扱い方が異なる3つの求め方があります。\n",
    "Numpyの```np.percentile()```などを利用してIQRを求める際には、中央値の扱い方に注目をして、どの方法でIQRが算出されているかに注意をしましょう。\n",
    "算出方法が異なると IQRの値も異なります。"
   ]
  },
  {
   "cell_type": "code",
   "execution_count": 7,
   "metadata": {},
   "outputs": [],
   "source": [
    "# 使用するライブラリのインポート\n",
    "import numpy as np\n",
    "# 練習問題「1日のコーヒーの量」データ作成\n",
    "coffee = np.array([2,2,3,5,7,9,10,15,16])"
   ]
  },
  {
   "cell_type": "code",
   "execution_count": 8,
   "metadata": {},
   "outputs": [
    {
     "data": {
      "text/plain": [
       "7.0"
      ]
     },
     "execution_count": 8,
     "metadata": {},
     "output_type": "execute_result"
    }
   ],
   "source": [
    "#中央値(Median)\n",
    "coffee_median = np.median(coffee)\n",
    "coffee_median"
   ]
  },
  {
   "cell_type": "code",
   "execution_count": 9,
   "metadata": {},
   "outputs": [
    {
     "name": "stdout",
     "output_type": "stream",
     "text": [
      "中央値 =  7.0\n",
      "IQR =  10.0\n"
     ]
    }
   ],
   "source": [
    "# 「coffee」のデータから中央値を除いて前半(Q1)と後半(Q3）に分ける\n",
    "coffee_q1 = np.array([2,2,3,5])\n",
    "coffee_q3 = np.array([9,10,15,16])\n",
    "\n",
    "# Q1とQ3の中央値(Median)を求めよう\n",
    "q1_median = np.median(coffee_q1)\n",
    "q3_median = np.median(coffee_q3)\n",
    "\n",
    "# IQRを算出（四分位範囲＝後半中央値ー前半中央値）\n",
    "IQR = q3_median - q1_median\n",
    "\n",
    "# 答え確認\n",
    "print('中央値 = ', coffee_median)\n",
    "print('IQR = ', IQR)"
   ]
  },
  {
   "cell_type": "markdown",
   "metadata": {},
   "source": [
    "## 📊 分散　標準偏差\n",
    "---\n",
    "### 概念\n",
    "+ 「母集団(Population)」 : 何か情報を得たいと考えている全てのデータ\n",
    "+ 「標本(Sample)」 : 母集団から一部抜粋したデータ\n",
    "\n",
    "<img src='http://bellcurve.jp/statistics/wp-body/wp-content/uploads/2016/08/2b530e80c7d0de90885e285c5d798063-12.png' width=50%>\n",
    "\n",
    "### 散らばり度を計る指標\n",
    "+ 「分散(Variance)」 \n",
    "+ 「標準偏差(Standard Deviation)\n",
    "\n",
    "<img src='http://whitewell.sakura.ne.jp/R/Figs/RS-3-1.png' width=80%>\n",
    "\n",
    "---\n",
    "\n",
    "    e.g. 部内の全メンバー（５名）の野球経験年数\n",
    "       1, 2, 2 ,5, 6年\n",
    "\n",
    "+ 母平均（Population Mean）\n",
    "> μ（ミュー）＝母平均　統計ではしばしばこう呼ばれる\n",
    ">\n",
    "> → (1+2+2+5+6)/5 = 3.2\n",
    "> \n",
    "> ![img]()\n",
    "\n",
    "+ 母分散（Population Variance）\n",
    "> σ^2（シグマ） ＝ 母分散： 平均から各データーポイントがどれくらい離れているか\n",
    ">\n",
    "> (1-3.2)^2+(2-3.2)^2+(2-3.2)^2+(5-3.2)^2+(6-3.2)^2/5 = 3.76\n",
    "> 各データからμを引いて、２乗する（∵マイナスの値にしない趣旨）\n",
    ">\n",
    "> ![img](https://weblio.hs.llnwd.net/e7/img/dict/tkgyg/TokeigakuNote/Average/bun-eq6.png)"
   ]
  },
  {
   "cell_type": "code",
   "execution_count": 10,
   "metadata": {},
   "outputs": [],
   "source": [
    "import numpy as np"
   ]
  },
  {
   "cell_type": "code",
   "execution_count": 11,
   "metadata": {},
   "outputs": [],
   "source": [
    "# 平均値を求める関数\n",
    "def find_mean(data):\n",
    "    s = sum(data)\n",
    "    n = len(data)\n",
    "    mean = s / n\n",
    "    return mean"
   ]
  },
  {
   "cell_type": "code",
   "execution_count": 12,
   "metadata": {},
   "outputs": [],
   "source": [
    "a = [1, 2, 2, 5, 6]"
   ]
  },
  {
   "cell_type": "code",
   "execution_count": 13,
   "metadata": {},
   "outputs": [
    {
     "data": {
      "text/plain": [
       "3.2"
      ]
     },
     "execution_count": 13,
     "metadata": {},
     "output_type": "execute_result"
    }
   ],
   "source": [
    "find_mean(a)"
   ]
  },
  {
   "cell_type": "code",
   "execution_count": 14,
   "metadata": {},
   "outputs": [],
   "source": [
    "# 偏差を求める関数\n",
    "def find_diff(data):\n",
    "    mean = find_mean(data)\n",
    "    diff = []\n",
    "    for num in data:\n",
    "        diff.append(num - mean)\n",
    "    return diff"
   ]
  },
  {
   "cell_type": "code",
   "execution_count": 15,
   "metadata": {},
   "outputs": [
    {
     "data": {
      "text/plain": [
       "[-2.2, -1.2000000000000002, -1.2000000000000002, 1.7999999999999998, 2.8]"
      ]
     },
     "execution_count": 15,
     "metadata": {},
     "output_type": "execute_result"
    }
   ],
   "source": [
    "find_diff(a)"
   ]
  },
  {
   "cell_type": "code",
   "execution_count": 16,
   "metadata": {},
   "outputs": [],
   "source": [
    "# 分散を求める関数\n",
    "def find_variance(data):\n",
    "    diff = find_diff(data)\n",
    "    sq_diff = []\n",
    "    for d in diff:\n",
    "        sq_diff.append(d**2)\n",
    "    sum_sq_diff = sum(sq_diff)\n",
    "    variance = sum_sq_diff/len(data)\n",
    "    return variance"
   ]
  },
  {
   "cell_type": "code",
   "execution_count": 17,
   "metadata": {},
   "outputs": [
    {
     "data": {
      "text/plain": [
       "3.7600000000000002"
      ]
     },
     "execution_count": 17,
     "metadata": {},
     "output_type": "execute_result"
    }
   ],
   "source": [
    "find_variance(a)"
   ]
  },
  {
   "cell_type": "markdown",
   "metadata": {},
   "source": [
    "### 標準偏差（Standard Deviation）\n",
    "    e.g. チーム内の全メンバーの身長（m）\n",
    "       1.6, 1.9, 1.5, 1.8, 1.7\n",
    "\n",
    "1. 母平均\n",
    "> μ = (1.6+1.9+1.5+1.8+1.7)/5 = 1.7メートル\n",
    "\n",
    "\n",
    "2. 母分散\n",
    ">σ^2 = {(1.6-1.7)^2+(1.9-1.7)^2+(1.5-1.7)^2+(1.8-1.7)^2+(1.7-1.7)^2}/5 = 0.02平方メートル\n",
    "\n",
    "※メートル計算だが、２乗したことにより平方メートルに変化！\n",
    "平方メートルをメートルに直すために\n",
    "> 母分散σ^2の平方根σ\n",
    "> \n",
    "> σ^2 = 0.02㎡\n",
    ">\n",
    "> σ   = 0.14m　（```母集団標準偏差：Population Standard Deviation```）"
   ]
  },
  {
   "cell_type": "code",
   "execution_count": 18,
   "metadata": {},
   "outputs": [],
   "source": [
    "d = np.array([1.6, 1.9, 1.5, 1.8, 1.7])"
   ]
  },
  {
   "cell_type": "code",
   "execution_count": 19,
   "metadata": {},
   "outputs": [
    {
     "data": {
      "text/plain": [
       "0.019999999999999993"
      ]
     },
     "execution_count": 19,
     "metadata": {},
     "output_type": "execute_result"
    }
   ],
   "source": [
    "# 母分散（σ^2）\n",
    "variance = find_variance(d)\n",
    "variance"
   ]
  },
  {
   "cell_type": "code",
   "execution_count": 20,
   "metadata": {},
   "outputs": [
    {
     "data": {
      "text/plain": [
       "0.14142135623730948"
      ]
     },
     "execution_count": 20,
     "metadata": {},
     "output_type": "execute_result"
    }
   ],
   "source": [
    "# 標準偏差（σ）：　母分散の平方根\n",
    "np.sqrt(variance)"
   ]
  },
  {
   "cell_type": "markdown",
   "metadata": {},
   "source": [
    "## 📊 標本標準偏差\n",
    "---\n",
    "+ 「標本分散 (Sample Variance)」\n",
    ">\n",
    "+ 「不偏分散 (Unbiased Variance)」\n",
    "> 標本が母集団を求めるのに適している数か判断する（「母集団割り出すのに標本足りてる〜？」）\n",
    "+ 「標本標準偏差 (Sample Standard Deviation)」\n",
    "\n",
    "<img src='https://blog.apar.jp/wp-content/uploads/2016/05/population-sample-02-1.png' width=50%>\n",
    "\n",
    "src:[５分で分かる！「母集団」と「標本」の意味](https://blog.apar.jp/data-analysis/4607/)\n",
    "\n",
    "---\n",
    "e.g. 日本全人口の身長のデータ＝母集団（Population）🗾\n",
    "\n",
    "    (but) 同時刻の全ての日本人の等制約を儲けるとデータ取得が困難\n",
    "\n",
    "    そこで、標本（Sample）=6名を用いる\n",
    "        1.5, 1.7, 1.8, 1.6, 1.5, 1.7\n",
    "    \n",
    "    x   : 標本平均（Sample Mean）=1.63\n",
    "    s^2 : 標本分散（Sample Variance）=0.0122\n",
    "    u^2 : 不偏分散（Unbiased Sample Variance）＝0.0146\n",
    "    "
   ]
  },
  {
   "cell_type": "code",
   "execution_count": 21,
   "metadata": {},
   "outputs": [],
   "source": [
    "import numpy as np"
   ]
  },
  {
   "cell_type": "code",
   "execution_count": 22,
   "metadata": {},
   "outputs": [],
   "source": [
    "# 平均\n",
    "def find_mean(data):\n",
    "    s = sum(data)\n",
    "    n = len(data)\n",
    "    mean = s/n\n",
    "    return mean\n",
    "\n",
    "# 偏差\n",
    "def find_diff(data):\n",
    "    mean = find_mean(data)\n",
    "    diff = []\n",
    "    for num in data:\n",
    "        diff.append(num - mean)\n",
    "    return diff\n",
    "\n",
    "# 分散\n",
    "def cal_variance(data):\n",
    "    diff = find_diff(data)\n",
    "    sq_diff = []\n",
    "    for d in diff:\n",
    "        sq_diff.append(d**2)\n",
    "    sum_sq_diff = sum(sq_diff)\n",
    "    variance = sum_sq_diff/len(data)\n",
    "    return variance"
   ]
  },
  {
   "cell_type": "code",
   "execution_count": 23,
   "metadata": {},
   "outputs": [],
   "source": [
    "sample = np.array([1.5, 1.7, 1.8, 1.6, 1.5, 1.7])"
   ]
  },
  {
   "cell_type": "code",
   "execution_count": 24,
   "metadata": {},
   "outputs": [
    {
     "data": {
      "text/plain": [
       "1.633333333333333"
      ]
     },
     "execution_count": 24,
     "metadata": {},
     "output_type": "execute_result"
    }
   ],
   "source": [
    "find_mean(sample)"
   ]
  },
  {
   "cell_type": "code",
   "execution_count": 25,
   "metadata": {},
   "outputs": [
    {
     "data": {
      "text/plain": [
       "1.633333333333333"
      ]
     },
     "execution_count": 25,
     "metadata": {},
     "output_type": "execute_result"
    }
   ],
   "source": [
    "sample.mean()"
   ]
  },
  {
   "cell_type": "code",
   "execution_count": 26,
   "metadata": {},
   "outputs": [
    {
     "data": {
      "text/plain": [
       "0.012222222222222223"
      ]
     },
     "execution_count": 26,
     "metadata": {},
     "output_type": "execute_result"
    }
   ],
   "source": [
    "cal_variance(sample)"
   ]
  },
  {
   "cell_type": "code",
   "execution_count": 27,
   "metadata": {},
   "outputs": [],
   "source": [
    "# 不偏分散\n",
    "def cal_unbaiased_variance(data):\n",
    "    diff = find_diff(data)\n",
    "    sq_diff = []\n",
    "    for d in diff:\n",
    "        sq_diff.append(d**2)\n",
    "    sum_sq_diff = sum(sq_diff)\n",
    "    unbaiased_variance = sum_sq_diff/(len(data)-1)\n",
    "    return unbaiased_variance"
   ]
  },
  {
   "cell_type": "code",
   "execution_count": 28,
   "metadata": {},
   "outputs": [
    {
     "data": {
      "text/plain": [
       "0.014666666666666666"
      ]
     },
     "execution_count": 28,
     "metadata": {},
     "output_type": "execute_result"
    }
   ],
   "source": [
    "cal_unbaiased_variance(sample)"
   ]
  },
  {
   "cell_type": "markdown",
   "metadata": {},
   "source": [
    "e.g. 🍀クローバー畑の四葉のクローバー数から標本標準偏差を求めよ\n",
    "\n",
    "<img src='https://nerima-kodomonomori.com/wpf/wp-content/uploads/2015/04/a0800_001212-332x221.jpg' width='20%'>\n",
    "\n",
    "    ランダムに標本を８箇所選択：以下其々８箇所の中に在🍀の数\n",
    "    2, 1, 3, 6, 1, 2, 4, 5 (本)\n",
    "    \n",
    "    ・ 標本平均（SampleMean）\n",
    "      x＝ （2+1+3+6+1+2+4+5） ÷ ８ ＝ 3.0\n",
    "     \n",
    "    ・ 不偏分散(Unbaiased Samole Variance)\n",
    "      u^2 = {(2-3)^2+(1-3)^2+(3-3)^2+(6-3)^2+(1-3)^2+(2-3)^2+(4-3)^2+(5-3)^2+}÷（８−１）\n",
    "      ≒ 3.429\n",
    "      \n",
    "    ・ 標本標準偏差（Sample Standard Deviation）\n",
    "      > 不偏分散を平方根（√）した値\n",
    "      u = √u^2\n",
    "        = 1.852\n",
    "        \n",
    "     　よって、母集団（Population）の標準偏差（Standard Deviation）の不偏推定量\n",
    "      > (咀嚼) 本当はクローバー畑全体（母集団）の標準偏差を求めたい！\n",
    "      > だけど、あまりに広大のため、ランダムに選択した箇所（標本）の標準偏差を求めて、\n",
    "      > 母集団の標準偏差を推測（不偏推定量）してみました。って感じ。"
   ]
  },
  {
   "cell_type": "code",
   "execution_count": 29,
   "metadata": {},
   "outputs": [],
   "source": [
    "clover = np.array([2, 1, 3, 6, 1, 2, 4, 5])"
   ]
  },
  {
   "cell_type": "code",
   "execution_count": 30,
   "metadata": {},
   "outputs": [
    {
     "data": {
      "text/plain": [
       "3.0"
      ]
     },
     "execution_count": 30,
     "metadata": {},
     "output_type": "execute_result"
    }
   ],
   "source": [
    "find_mean(clover)"
   ]
  },
  {
   "cell_type": "code",
   "execution_count": 31,
   "metadata": {},
   "outputs": [
    {
     "data": {
      "text/plain": [
       "3.4285714285714284"
      ]
     },
     "execution_count": 31,
     "metadata": {},
     "output_type": "execute_result"
    }
   ],
   "source": [
    "clover_un_vr = cal_unbaiased_variance(clover)\n",
    "clover_un_vr"
   ]
  },
  {
   "cell_type": "code",
   "execution_count": 32,
   "metadata": {},
   "outputs": [
    {
     "data": {
      "text/plain": [
       "1.8516401995451028"
      ]
     },
     "execution_count": 32,
     "metadata": {},
     "output_type": "execute_result"
    }
   ],
   "source": [
    "np.sqrt(clover_un_vr)"
   ]
  },
  {
   "cell_type": "markdown",
   "metadata": {},
   "source": [
    "### 📊 外れ値　平均値/中央値\n",
    "---\n",
    "\n",
    "    e.g.🍻半年の飲み会の数(15名の其々の回数)\n",
    "        1,1,6,10,10,12,12,13,13,13,15,15,16,16,17 （回）\n",
    "        \n",
    "        １を外れ値として除外しても良い？　→　結論：良い\n",
    "\n",
    "---\n",
    "\n",
    "+ 外れ値（Outliers）\n",
    "> データ群より明らかに離れたデータ（例題の場合、１とか）を推定する際に加味するべきか否かの考え方\n",
    "\n",
    "    一般的な外れ値の求め方\n",
    "    ```(Q3+1.5*IQR) < 外れ値 < (Q1-1.5*IQR)```\n",
    "    \n",
    "    22.5　<　外れ値　< 2.5\n",
    "\n",
    " + 中央値（Median）＝１３\n",
    " + IQR（四分位範囲）= Q3-Q1 =5\n",
    "   + Q1（第１四分位点）=10　：中央値の値の前半部分の更に中央値\n",
    "   + Q3（第３四分位点）=1５"
   ]
  },
  {
   "cell_type": "code",
   "execution_count": 33,
   "metadata": {},
   "outputs": [
    {
     "data": {
      "image/png": "[encoded data removed]",
      "text/plain": [
       "<Figure size 432x288 with 1 Axes>"
      ]
     },
     "metadata": {
      "needs_background": "light"
     },
     "output_type": "display_data"
    }
   ],
   "source": [
    "# exam1\n",
    "import numpy as np\n",
    "import matplotlib.pyplot as plt\n",
    "\n",
    "age = np.array([36, 25, 38,\t46,\t55,\t68,\t72,\t55,\t36,\t38, 67,\t45,\t22,\t48,\t91,\t46,\t52,\t61,\t58,\t55])\n",
    "\n",
    "plt.hist(age, range=[0, 100], bins=10)\n",
    "plt.grid(True)\n",
    "plt.show()"
   ]
  },
  {
   "cell_type": "code",
   "execution_count": 34,
   "metadata": {},
   "outputs": [
    {
     "name": "stdout",
     "output_type": "stream",
     "text": [
      "Median ＝ 83.5\n",
      "Mean ＝ 82.5\n",
      "Mode ＝ 91\n"
     ]
    }
   ],
   "source": [
    "# exam2\n",
    "import numpy as np\n",
    "import matplotlib.pyplot as plt\n",
    "import statistics\n",
    "\n",
    "math_point = np.array([80, 78, 91, 84, 76, 68, 89, 85, 91, 83])\n",
    "\n",
    "median = np.median(math_point)\n",
    "mean = math_point.mean()\n",
    "mode = statistics.mode(math_point)\n",
    "\n",
    "print('Median ＝ ', median, sep='')\n",
    "print('Mean ＝ ', mean, sep='')\n",
    "print('Mode ＝ ', mode, sep='')"
   ]
  },
  {
   "cell_type": "code",
   "execution_count": 35,
   "metadata": {},
   "outputs": [
    {
     "name": "stdout",
     "output_type": "stream",
     "text": [
      "Python 3.9.2+\n",
      "\r"
     ]
    }
   ],
   "source": [
    "!python --version"
   ]
  },
  {
   "cell_type": "code",
   "execution_count": 36,
   "metadata": {},
   "outputs": [
    {
     "name": "stdout",
     "output_type": "stream",
     "text": [
      "σ ＝ 5.25(母集団標準偏差)\n"
     ]
    }
   ],
   "source": [
    "# exam3\n",
    "import numpy as np\n",
    "\n",
    "population = 2250\n",
    "population_mean = 78.2\n",
    "population_variance = 27.5625\n",
    "\n",
    "sq_pppulation_variance = np.sqrt(population_variance)\n",
    "print('σ ＝ ', sq_pppulation_variance, '(母集団標準偏差)',sep='')"
   ]
  },
  {
   "cell_type": "code",
   "execution_count": 37,
   "metadata": {},
   "outputs": [
    {
     "name": "stdout",
     "output_type": "stream",
     "text": [
      "σ^2 =  6.0\n",
      "σ =  2.449489742783178\n"
     ]
    }
   ],
   "source": [
    "# exam4\n",
    "import numpy as np\n",
    "\n",
    "population = 920\n",
    "sample_child = np.array([2, 2, 5, 7])\n",
    "\n",
    "# diff\n",
    "def find_diff(data):\n",
    "    diff = []\n",
    "    mean = data.mean()\n",
    "    for d in data:\n",
    "        diff.append(d-mean)\n",
    "    return diff\n",
    "\n",
    "# unbaiased variancce\n",
    "def cal_uinbaiased_variance(data):\n",
    "    sq_dif = []\n",
    "    diff = find_diff(data)\n",
    "    for d in diff:\n",
    "        sq_diff.append(d**2)\n",
    "    sum_sq_diff = sum(sq_diff)\n",
    "    unbaiased_variance = sum_sq_diff/(len(data)-1)\n",
    "    return variance\n",
    "\n",
    "res = cal_unbaiased_variance(sample_child)\n",
    "print('σ^2 = ', res)\n",
    "print('σ = ', np.sqrt(res))"
   ]
  },
  {
   "cell_type": "markdown",
   "metadata": {},
   "source": [
    "### 📊 Zスコア\n",
    "> 機会学習分野では頻出割合は低いが概念を押さえておこう！\n",
    "---\n",
    "+ Zスコアとは、平均から標準偏差何個ぶん離れているかを表している\n",
    "+ ```Zスコアの求め方 = (データ - 平均) ÷ (標準偏差)```\n",
    "\n",
    "<img src='https://www.thoughtco.com/thmb/gItmqGd5HlnhyPIiLm1YHXOlTnw=/330x242/filters:fill%28auto,1%29/zscore-56a8fa785f9b58b7d0f6e87b.GIF' width=25%>\n",
    "\n",
    "\n",
    "e.g) 学校の期末テストの点数は正規分布に従っており、平均μ=76、標準偏差σ=7.2でした。いずれのZスコアを求めよ。\n",
    "> 1. 52点\n",
    "> 2. ７４点\n",
    "> 3. ９８点\n",
    "\n",
    "※ 正規分布\n",
    "\n",
    "<img src='https://media-kojirokousi.com/wp-content/uploads/2017/12/9ce101d0a1ce0310f592b172635a6b8d.png' width=25%>\n",
    "\n",
    "> 平均部分が山頂\n",
    "\n",
    "1. (52-76)/7.2 = -3.33 : 平均からマイナス方向に3つ離れているところに属していると言える。\n",
    "2. (74-76)/7.2 = -0.28 \n",
    "3. (98-76)/7.2 = 3.06 "
   ]
  },
  {
   "cell_type": "markdown",
   "metadata": {},
   "source": [
    "---\n",
    "e.g) 📄物理と数学のテストの結果（とある学校の）\n",
    "\n",
    "    物理 平均(μ)=87点　標準偏差(σ)=6.4点\n",
    "    数学 平均(μ)=74点　標準偏差(σ)=3.2点\n",
    "    \n",
    "A君は、物理９２点　数学８２点　どちらの科目が比較的に良い結果だったか？\n",
    "> 一見、物理の方が得点が高いので物理の方が良いと思う...\n",
    "\n",
    "[zスコア]\n",
    "\n",
    "    物理　(92-87)/6.4 = 0.78　:平均から0.78個離れている\n",
    "    数学　(82-74)/3.2 = 2.5 　:平均から２.５個離れている\n",
    "    →　Zスコアの比較から数学の方が良い結果と言える。"
   ]
  },
  {
   "cell_type": "markdown",
   "metadata": {},
   "source": [
    "### 📊 密度曲線 （ Density Curve:デンシティ・カーブ ）\n",
    "---\n",
    "\n",
    "+ 連続する確率分布をグラフ化したものを密度曲線\n",
    "+ XとYの値が重要ではなく密度曲線内の面積に意味があります\n",
    "+ 密度曲線内の面積を和は「1」（つまり100%）\n",
    "\n",
    "データの分布が可視化されている\n",
    "密度曲線はマイナスの値を持ちません\n",
    "\n",
    "見方として、「４杯以下のデータは何％？」\n",
    "おおよその面積を見て見る。\n",
    "\n",
    "---\n",
    "e.g) ☕️ 1日に飲むコーヒーの量（杯）\n",
    "\n",
    "    0.4,0.8,1.2,2.2,2.3,2.3,3.0,3.0,3.0,3.1,3.3,3.5,3.8,4.1,4.8,4.9,5.1,5.7,6.9,7.1"
   ]
  },
  {
   "cell_type": "code",
   "execution_count": 38,
   "metadata": {},
   "outputs": [],
   "source": [
    "import numpy as np\n",
    "import matplotlib.pyplot as plt\n",
    "\n",
    "coffee = np.array([0.4,0.8,1.2,2.2,2.3,2.3,3.0,3.0,3.0,3.1,3.3,3.5,3.8,4.1,4.8,4.9,5.1,5.7,6.9,7.1])"
   ]
  },
  {
   "cell_type": "code",
   "execution_count": 39,
   "metadata": {},
   "outputs": [
    {
     "data": {
      "text/plain": [
       "20"
      ]
     },
     "execution_count": 39,
     "metadata": {},
     "output_type": "execute_result"
    }
   ],
   "source": [
    "# データ個数\n",
    "coffee.size"
   ]
  },
  {
   "cell_type": "code",
   "execution_count": 40,
   "metadata": {},
   "outputs": [
    {
     "data": {
      "image/png": "[encoded data removed]",
      "text/plain": [
       "<Figure size 432x288 with 1 Axes>"
      ]
     },
     "metadata": {
      "needs_background": "light"
     },
     "output_type": "display_data"
    }
   ],
   "source": [
    "# ヒストグラム\n",
    "plt.hist(coffee, range=[0, 10])\n",
    "plt.grid(True)\n",
    "plt.show()"
   ]
  },
  {
   "cell_type": "code",
   "execution_count": 41,
   "metadata": {},
   "outputs": [
    {
     "data": {
      "text/plain": [
       "(array([10.,  5., 15., 35., 15., 10.,  5.,  5.,  0.,  0.]),\n",
       " array([ 0.,  1.,  2.,  3.,  4.,  5.,  6.,  7.,  8.,  9., 10.]),\n",
       " <BarContainer object of 10 artists>)"
      ]
     },
     "execution_count": 41,
     "metadata": {},
     "output_type": "execute_result"
    },
    {
     "data": {
      "image/png": "[encoded data removed]",
      "text/plain": [
       "<Figure size 432x288 with 1 Axes>"
      ]
     },
     "metadata": {
      "needs_background": "light"
     },
     "output_type": "display_data"
    }
   ],
   "source": [
    "# 相対度数のヒストグラム （weightsアーギュメントを用いる！）\n",
    "#```weights= 1/20 * 100 ``` ☕️一杯当たりの重みを％で計算\n",
    "plt.hist(coffee, weights=np.zeros_like(coffee)+1/coffee.size*100, range=[0, 10]) #bins：階級も指定できる"
   ]
  },
  {
   "cell_type": "code",
   "execution_count": 42,
   "metadata": {},
   "outputs": [],
   "source": [
    "# 乱数を用いて１０００個のデータを作成\n",
    "# ```np.random.正規分布（平均, 標準偏差, 個数）```\n",
    "coffee_2 = np.random.normal(5.0, 1.0, 1000)"
   ]
  },
  {
   "cell_type": "code",
   "execution_count": 43,
   "metadata": {},
   "outputs": [
    {
     "data": {
      "text/plain": [
       "5.023594690210419"
      ]
     },
     "execution_count": 43,
     "metadata": {},
     "output_type": "execute_result"
    }
   ],
   "source": [
    "coffee_2.mean()    # 平均(μ:mean）　おおよそ５.０付近となる"
   ]
  },
  {
   "cell_type": "code",
   "execution_count": 44,
   "metadata": {},
   "outputs": [
    {
     "data": {
      "text/plain": [
       "1.0181844974241234"
      ]
     },
     "execution_count": 44,
     "metadata": {},
     "output_type": "execute_result"
    }
   ],
   "source": [
    "coffee_2.std()    # 標準偏差（σ：standard deviation）　おおよそ１．０付近となる"
   ]
  },
  {
   "cell_type": "code",
   "execution_count": 45,
   "metadata": {},
   "outputs": [
    {
     "data": {
      "text/plain": [
       "1000"
      ]
     },
     "execution_count": 45,
     "metadata": {},
     "output_type": "execute_result"
    }
   ],
   "source": [
    "coffee_2.size    # 個数"
   ]
  },
  {
   "cell_type": "code",
   "execution_count": 46,
   "metadata": {},
   "outputs": [
    {
     "data": {
      "image/png": "[encoded data removed]",
      "text/plain": [
       "<Figure size 432x288 with 1 Axes>"
      ]
     },
     "metadata": {
      "needs_background": "light"
     },
     "output_type": "display_data"
    }
   ],
   "source": [
    "plt.hist(coffee_2, weights=np.zeros_like(coffee_2)+1/coffee_2.size*100, range=[0, 10], bins=100)   # 相対度数\n",
    "plt.grid(True)"
   ]
  },
  {
   "cell_type": "code",
   "execution_count": 47,
   "metadata": {
    "collapsed": true,
    "jupyter": {
     "outputs_hidden": true
    }
   },
   "outputs": [],
   "source": [
    "# 密度曲線を描画\n",
    "import pandas as pd"
   ]
  },
  {
   "cell_type": "code",
   "execution_count": 48,
   "metadata": {},
   "outputs": [
    {
     "name": "stdout",
     "output_type": "stream",
     "text": [
      "Defaulting to user installation because normal site-packages is not writeable\n",
      "Requirement already satisfied: pandas in /private/var/containers/Bundle/Application/538AF133-E5F4-4CE5-AACC-65DE5DF56DD1/Carnets.app/Library/lib/python3.9/site-packages (1.2.3)\n",
      "Requirement already satisfied: pytz>=2017.3 in /private/var/containers/Bundle/Application/538AF133-E5F4-4CE5-AACC-65DE5DF56DD1/Carnets.app/Library/lib/python3.9/site-packages (from pandas) (2021.1)\n",
      "Requirement already satisfied: numpy>=1.16.5 in /private/var/containers/Bundle/Application/538AF133-E5F4-4CE5-AACC-65DE5DF56DD1/Carnets.app/Library/lib/python3.9/site-packages/numpy-1.21.0.dev0+716.g786cc1dd5-py3.9-macosx-11.2-x86_64.egg (from pandas) (1.21.0.dev0+716.g786cc1dd5)\n",
      "Requirement already satisfied: python-dateutil>=2.7.3 in /private/var/containers/Bundle/Application/538AF133-E5F4-4CE5-AACC-65DE5DF56DD1/Carnets.app/Library/lib/python3.9/site-packages (from pandas) (2.8.1)\n",
      "Requirement already satisfied: six>=1.5 in /private/var/containers/Bundle/Application/538AF133-E5F4-4CE5-AACC-65DE5DF56DD1/Carnets.app/Library/lib/python3.9/site-packages (from python-dateutil>=2.7.3->pandas) (1.15.0)\n",
      "\r"
     ]
    },
    {
     "name": "stderr",
     "output_type": "stream",
     "text": [
      "\u001b[33mWARNING: You are using pip version 21.0.1; however, version 21.1 is available.\n",
      "You should consider upgrading via the '/private/var/containers/Bundle/Application/538AF133-E5F4-4CE5-AACC-65DE5DF56DD1/Carnets.app/Library/bin/python3 -m pip install --upgrade pip' command.\u001b[0m\n",
      "\r"
     ]
    }
   ],
   "source": [
    "!pip install pandas"
   ]
  },
  {
   "cell_type": "code",
   "execution_count": 49,
   "metadata": {},
   "outputs": [],
   "source": [
    "import pandas as pd"
   ]
  },
  {
   "cell_type": "code",
   "execution_count": 50,
   "metadata": {
    "collapsed": true,
    "jupyter": {
     "outputs_hidden": true
    }
   },
   "outputs": [
    {
     "ename": "ModuleNotFoundError",
     "evalue": "No module named 'scipy'",
     "output_type": "error",
     "traceback": [
      "\u001b[0;31m---------------------------------------------------------------------------\u001b[0m",
      "\u001b[0;31mModuleNotFoundError\u001b[0m                       Traceback (most recent call last)",
      "\u001b[0;32m<ipython-input-50-37d3031f901f>\u001b[0m in \u001b[0;36m<module>\u001b[0;34m\u001b[0m\n\u001b[0;32m----> 1\u001b[0;31m \u001b[0mpd\u001b[0m\u001b[0;34m.\u001b[0m\u001b[0mDataFrame\u001b[0m\u001b[0;34m(\u001b[0m\u001b[0mcoffee_2\u001b[0m\u001b[0;34m)\u001b[0m\u001b[0;34m.\u001b[0m\u001b[0mplot\u001b[0m\u001b[0;34m(\u001b[0m\u001b[0mkind\u001b[0m\u001b[0;34m=\u001b[0m\u001b[0;34m'density'\u001b[0m\u001b[0;34m)\u001b[0m\u001b[0;34m\u001b[0m\u001b[0;34m\u001b[0m\u001b[0m\n\u001b[0m",
      "\u001b[0;32m/private/var/containers/Bundle/Application/538AF133-E5F4-4CE5-AACC-65DE5DF56DD1/Carnets.app/Library/lib/python3.9/site-packages/pandas/plotting/_core.py\u001b[0m in \u001b[0;36m__call__\u001b[0;34m(self, *args, **kwargs)\u001b[0m\n\u001b[1;32m    953\u001b[0m                     \u001b[0mdata\u001b[0m\u001b[0;34m.\u001b[0m\u001b[0mcolumns\u001b[0m \u001b[0;34m=\u001b[0m \u001b[0mlabel_name\u001b[0m\u001b[0;34m\u001b[0m\u001b[0;34m\u001b[0m\u001b[0m\n\u001b[1;32m    954\u001b[0m \u001b[0;34m\u001b[0m\u001b[0m\n\u001b[0;32m--> 955\u001b[0;31m         \u001b[0;32mreturn\u001b[0m \u001b[0mplot_backend\u001b[0m\u001b[0;34m.\u001b[0m\u001b[0mplot\u001b[0m\u001b[0;34m(\u001b[0m\u001b[0mdata\u001b[0m\u001b[0;34m,\u001b[0m \u001b[0mkind\u001b[0m\u001b[0;34m=\u001b[0m\u001b[0mkind\u001b[0m\u001b[0;34m,\u001b[0m \u001b[0;34m**\u001b[0m\u001b[0mkwargs\u001b[0m\u001b[0;34m)\u001b[0m\u001b[0;34m\u001b[0m\u001b[0;34m\u001b[0m\u001b[0m\n\u001b[0m\u001b[1;32m    956\u001b[0m \u001b[0;34m\u001b[0m\u001b[0m\n\u001b[1;32m    957\u001b[0m     \u001b[0m__call__\u001b[0m\u001b[0;34m.\u001b[0m\u001b[0m__doc__\u001b[0m \u001b[0;34m=\u001b[0m \u001b[0m__doc__\u001b[0m\u001b[0;34m\u001b[0m\u001b[0;34m\u001b[0m\u001b[0m\n",
      "\u001b[0;32m/private/var/containers/Bundle/Application/538AF133-E5F4-4CE5-AACC-65DE5DF56DD1/Carnets.app/Library/lib/python3.9/site-packages/pandas/plotting/_matplotlib/__init__.py\u001b[0m in \u001b[0;36mplot\u001b[0;34m(data, kind, **kwargs)\u001b[0m\n\u001b[1;32m     59\u001b[0m             \u001b[0mkwargs\u001b[0m\u001b[0;34m[\u001b[0m\u001b[0;34m\"ax\"\u001b[0m\u001b[0;34m]\u001b[0m \u001b[0;34m=\u001b[0m \u001b[0mgetattr\u001b[0m\u001b[0;34m(\u001b[0m\u001b[0max\u001b[0m\u001b[0;34m,\u001b[0m \u001b[0;34m\"left_ax\"\u001b[0m\u001b[0;34m,\u001b[0m \u001b[0max\u001b[0m\u001b[0;34m)\u001b[0m\u001b[0;34m\u001b[0m\u001b[0;34m\u001b[0m\u001b[0m\n\u001b[1;32m     60\u001b[0m     \u001b[0mplot_obj\u001b[0m \u001b[0;34m=\u001b[0m \u001b[0mPLOT_CLASSES\u001b[0m\u001b[0;34m[\u001b[0m\u001b[0mkind\u001b[0m\u001b[0;34m]\u001b[0m\u001b[0;34m(\u001b[0m\u001b[0mdata\u001b[0m\u001b[0;34m,\u001b[0m \u001b[0;34m**\u001b[0m\u001b[0mkwargs\u001b[0m\u001b[0;34m)\u001b[0m\u001b[0;34m\u001b[0m\u001b[0;34m\u001b[0m\u001b[0m\n\u001b[0;32m---> 61\u001b[0;31m     \u001b[0mplot_obj\u001b[0m\u001b[0;34m.\u001b[0m\u001b[0mgenerate\u001b[0m\u001b[0;34m(\u001b[0m\u001b[0;34m)\u001b[0m\u001b[0;34m\u001b[0m\u001b[0;34m\u001b[0m\u001b[0m\n\u001b[0m\u001b[1;32m     62\u001b[0m     \u001b[0mplot_obj\u001b[0m\u001b[0;34m.\u001b[0m\u001b[0mdraw\u001b[0m\u001b[0;34m(\u001b[0m\u001b[0;34m)\u001b[0m\u001b[0;34m\u001b[0m\u001b[0;34m\u001b[0m\u001b[0m\n\u001b[1;32m     63\u001b[0m     \u001b[0;32mreturn\u001b[0m \u001b[0mplot_obj\u001b[0m\u001b[0;34m.\u001b[0m\u001b[0mresult\u001b[0m\u001b[0;34m\u001b[0m\u001b[0;34m\u001b[0m\u001b[0m\n",
      "\u001b[0;32m/private/var/containers/Bundle/Application/538AF133-E5F4-4CE5-AACC-65DE5DF56DD1/Carnets.app/Library/lib/python3.9/site-packages/pandas/plotting/_matplotlib/core.py\u001b[0m in \u001b[0;36mgenerate\u001b[0;34m(self)\u001b[0m\n\u001b[1;32m    278\u001b[0m         \u001b[0mself\u001b[0m\u001b[0;34m.\u001b[0m\u001b[0m_compute_plot_data\u001b[0m\u001b[0;34m(\u001b[0m\u001b[0;34m)\u001b[0m\u001b[0;34m\u001b[0m\u001b[0;34m\u001b[0m\u001b[0m\n\u001b[1;32m    279\u001b[0m         \u001b[0mself\u001b[0m\u001b[0;34m.\u001b[0m\u001b[0m_setup_subplots\u001b[0m\u001b[0;34m(\u001b[0m\u001b[0;34m)\u001b[0m\u001b[0;34m\u001b[0m\u001b[0;34m\u001b[0m\u001b[0m\n\u001b[0;32m--> 280\u001b[0;31m         \u001b[0mself\u001b[0m\u001b[0;34m.\u001b[0m\u001b[0m_make_plot\u001b[0m\u001b[0;34m(\u001b[0m\u001b[0;34m)\u001b[0m\u001b[0;34m\u001b[0m\u001b[0;34m\u001b[0m\u001b[0m\n\u001b[0m\u001b[1;32m    281\u001b[0m         \u001b[0mself\u001b[0m\u001b[0;34m.\u001b[0m\u001b[0m_add_table\u001b[0m\u001b[0;34m(\u001b[0m\u001b[0;34m)\u001b[0m\u001b[0;34m\u001b[0m\u001b[0;34m\u001b[0m\u001b[0m\n\u001b[1;32m    282\u001b[0m         \u001b[0mself\u001b[0m\u001b[0;34m.\u001b[0m\u001b[0m_make_legend\u001b[0m\u001b[0;34m(\u001b[0m\u001b[0;34m)\u001b[0m\u001b[0;34m\u001b[0m\u001b[0;34m\u001b[0m\u001b[0m\n",
      "\u001b[0;32m/private/var/containers/Bundle/Application/538AF133-E5F4-4CE5-AACC-65DE5DF56DD1/Carnets.app/Library/lib/python3.9/site-packages/pandas/plotting/_matplotlib/hist.py\u001b[0m in \u001b[0;36m_make_plot\u001b[0;34m(self)\u001b[0m\n\u001b[1;32m     90\u001b[0m                 \u001b[0mkwds\u001b[0m\u001b[0;34m[\u001b[0m\u001b[0;34m\"weights\"\u001b[0m\u001b[0;34m]\u001b[0m \u001b[0;34m=\u001b[0m \u001b[0mweights\u001b[0m\u001b[0;34m[\u001b[0m\u001b[0;34m:\u001b[0m\u001b[0;34m,\u001b[0m \u001b[0mi\u001b[0m\u001b[0;34m]\u001b[0m\u001b[0;34m\u001b[0m\u001b[0;34m\u001b[0m\u001b[0m\n\u001b[1;32m     91\u001b[0m \u001b[0;34m\u001b[0m\u001b[0m\n\u001b[0;32m---> 92\u001b[0;31m             \u001b[0martists\u001b[0m \u001b[0;34m=\u001b[0m \u001b[0mself\u001b[0m\u001b[0;34m.\u001b[0m\u001b[0m_plot\u001b[0m\u001b[0;34m(\u001b[0m\u001b[0max\u001b[0m\u001b[0;34m,\u001b[0m \u001b[0my\u001b[0m\u001b[0;34m,\u001b[0m \u001b[0mcolumn_num\u001b[0m\u001b[0;34m=\u001b[0m\u001b[0mi\u001b[0m\u001b[0;34m,\u001b[0m \u001b[0mstacking_id\u001b[0m\u001b[0;34m=\u001b[0m\u001b[0mstacking_id\u001b[0m\u001b[0;34m,\u001b[0m \u001b[0;34m**\u001b[0m\u001b[0mkwds\u001b[0m\u001b[0;34m)\u001b[0m\u001b[0;34m\u001b[0m\u001b[0;34m\u001b[0m\u001b[0m\n\u001b[0m\u001b[1;32m     93\u001b[0m             \u001b[0mself\u001b[0m\u001b[0;34m.\u001b[0m\u001b[0m_add_legend_handle\u001b[0m\u001b[0;34m(\u001b[0m\u001b[0martists\u001b[0m\u001b[0;34m[\u001b[0m\u001b[0;36m0\u001b[0m\u001b[0;34m]\u001b[0m\u001b[0;34m,\u001b[0m \u001b[0mlabel\u001b[0m\u001b[0;34m,\u001b[0m \u001b[0mindex\u001b[0m\u001b[0;34m=\u001b[0m\u001b[0mi\u001b[0m\u001b[0;34m)\u001b[0m\u001b[0;34m\u001b[0m\u001b[0;34m\u001b[0m\u001b[0m\n\u001b[1;32m     94\u001b[0m \u001b[0;34m\u001b[0m\u001b[0m\n",
      "\u001b[0;32m/private/var/containers/Bundle/Application/538AF133-E5F4-4CE5-AACC-65DE5DF56DD1/Carnets.app/Library/lib/python3.9/site-packages/pandas/plotting/_matplotlib/hist.py\u001b[0m in \u001b[0;36m_plot\u001b[0;34m(cls, ax, y, style, bw_method, ind, column_num, stacking_id, **kwds)\u001b[0m\n\u001b[1;32m    158\u001b[0m         \u001b[0;34m**\u001b[0m\u001b[0mkwds\u001b[0m\u001b[0;34m,\u001b[0m\u001b[0;34m\u001b[0m\u001b[0;34m\u001b[0m\u001b[0m\n\u001b[1;32m    159\u001b[0m     ):\n\u001b[0;32m--> 160\u001b[0;31m         \u001b[0;32mfrom\u001b[0m \u001b[0mscipy\u001b[0m\u001b[0;34m.\u001b[0m\u001b[0mstats\u001b[0m \u001b[0;32mimport\u001b[0m \u001b[0mgaussian_kde\u001b[0m\u001b[0;34m\u001b[0m\u001b[0;34m\u001b[0m\u001b[0m\n\u001b[0m\u001b[1;32m    161\u001b[0m \u001b[0;34m\u001b[0m\u001b[0m\n\u001b[1;32m    162\u001b[0m         \u001b[0my\u001b[0m \u001b[0;34m=\u001b[0m \u001b[0mremove_na_arraylike\u001b[0m\u001b[0;34m(\u001b[0m\u001b[0my\u001b[0m\u001b[0;34m)\u001b[0m\u001b[0;34m\u001b[0m\u001b[0;34m\u001b[0m\u001b[0m\n",
      "\u001b[0;31mModuleNotFoundError\u001b[0m: No module named 'scipy'"
     ]
    },
    {
     "data": {
      "image/png": "[encoded data removed]",
      "text/plain": [
       "<Figure size 432x288 with 1 Axes>"
      ]
     },
     "metadata": {
      "needs_background": "light"
     },
     "output_type": "display_data"
    }
   ],
   "source": [
    "pd.DataFrame(coffee_2).plot(kind='density')"
   ]
  },
  {
   "cell_type": "code",
   "execution_count": null,
   "metadata": {},
   "outputs": [],
   "source": [
    "!pip install scipy"
   ]
  },
  {
   "cell_type": "code",
   "execution_count": null,
   "metadata": {},
   "outputs": [],
   "source": [
    "pd.DataFrame(coffee_2).plot(kind='density')\n",
    "plt.grid(True)"
   ]
  },
  {
   "cell_type": "markdown",
   "metadata": {},
   "source": [
    "### 📊 正規分布(Normal Distribution:ノーマル・ディストリビューション）\n",
    "> 機会学習では頻繁には出てこない\n",
    "---\n",
    "\n",
    "<img src='https://media-kojirokousi.com/wp-content/uploads/2017/12/9ce101d0a1ce0310f592b172635a6b8d.png' width=45%>\n",
    "\n",
    "+ 平均(Mean)付近が一番高く左右対称の釣り鐘型の分布\n",
    "+ 「68％-95％-99.7％ルール」と標準偏差を用いて確率を導き出せます\n",
    "> 正規分布の密度教区線内の面積を１００％とした時\n",
    "\n",
    "　　    Zスコア１ の内側の割合 : 68%\n",
    "   　　 Zスコア2 の内側の割合 : 95%\n",
    "       Zスコア3 の内側の割合 : 99.7%\n",
    "    \n",
    "\n",
    "+ ZスコアとZテーブルでも確率も導き出すことが可能\n",
    "\n",
    "---\n",
    "\n",
    "    e.g. Z市の20歳男性の身長データを取ったところ、正規分布に従っており、平均が１７６㌢で標準偏差が5.1㌢だった\n",
    "         （解法ヒント）密度曲線を描いて用いてみよう！\n",
    "         \n",
    "         a) 170.9cm以下の割合は？ \n",
    "         （解法ヒント） 「68-95-99.7ルール」 を用いYO!\n",
    "         \n",
    "         （１００％-68%）÷２ ＝ １６％\n",
    "         \n",
    "         b) 165.8cm~186.2cmの割合は？\n",
    "         \n",
    "         ９５％\n",
    "         \n",
    "         c) 1９１.３cm以上の割合は？\n",
    "         \n",
    "         （１００%-99.7%）÷２ = 0.15%\n",
    "         \n",
    "         d) A君178.6cm、A君より身長が低い人の割合は？\n",
    "         ※「68-95-99.7ルール」が使えない💦\n",
    "         （解法ヒント）　Zテーブル：標準正規分布表 を用いYO!\n",
    "         \n",
    "         A君のZスコア：　（178.6ー１７６）÷５.１ = 0.51    # 標準偏差から０.51個離れたところに分布する\n",
    "         \n",
    "         Zテーブル：　0.51 = 0.6950 →　69.5%\n",
    "         \n",
    "<img src='https://toukeigaku-jouhou.info/wp-content/uploads/2015/08/hyoujyunseikibunpuhyou1.png' width=35%>\n",
    "\n",
    ">x軸：少数点第二位\n",
    ">y軸：少数点第一位   "
   ]
  },
  {
   "cell_type": "markdown",
   "metadata": {},
   "source": [
    "### 📊 散布図（Scatter plot）　相関関係\n",
    "---\n",
    "\n",
    "    相関関係とは2つの変数において、一方が変換すれば他方も変換する関係を相関関係と呼びます。\n",
    "    相関関係には「正」と「負」、「強い」と「弱い」といった相関関係があります。\n",
    "    「正の相関関係」は一方の変数が増えた時、他方の変数も増える関係性を呼びます。\n",
    "    「負の相関関係」は逆に一方の変数が増えた時に、他方が減る関係性です。\n",
    "\n",
    "\n",
    "e.g, 期末テストの結果と勉強時間\n",
    "\n",
    "|出席番号|１|２|3|4|5|6|7|8|9|10|11|12|13|14|\n",
    "|:-|:-:|:-:|:-:|:-:|:-:|:-:|:-:|:-:|:-:|:-:|:-:|:-:|:-:|:-:|\n",
    "|時間|0.5|6|2|1.5|4|2.5|3|1|5|5.5|3.5|4.5|3.5|3|\n",
    "|点数|69|97|83|76|92|83|76|92|86|87|74|93|93|88|89|84|79|\n",
    "\n",
    "\n",
    "勉強時間が多いほど、得点にも良い影響を与えている。正の相関関係があると言える。\n",
    "\n",
    "\n",
    "<img src='https://www.toukei.metro.tokyo.lg.jp/manabou/img/tyuu/sirou/tokutyou/b-2.gif' width=90%>"
   ]
  },
  {
   "cell_type": "markdown",
   "metadata": {},
   "source": [
    "### 📊 相関係数（correlation coefficient）\n",
    "---\n",
    "\n",
    "+ 相関係数は英語でcorrelation coefficient（コリレーション・コエフィシェント）\n",
    "+ 一般的に英語記号で「r」（アール）と表記されます\n",
    "+ 相関係数は```-1 <= r <= 1```の値を持ちます\n",
    "> xとyの値に対して直線がどれくらい綺麗に引けるかを表している。\n",
    "\n",
    "> ※相関係数は「０」が一番弱い！＝相関関係が全くないと言える\n",
    "\n",
    "<img src='https://atarimae.biz/wp-content/uploads/2050/10/correl-equation.png' width=35%>\n",
    "\n",
    "<img src='https://atarimae.biz/wp-content/uploads/2050/10/soukan.png' width=50%>\n",
    "\n",
    "\n",
    "e.g. \n",
    "\n",
    "     (x,y)\n",
    "    =(1,1)\n",
    "    =(3,2)\n",
    "    =(4,5)\n",
    "    =(6,8)\n",
    "\n",
    "    x_mean = 3.5\n",
    "    x_std  = 1.803 ... Sx\n",
    "    \n",
    "    y_mean = 4\n",
    "    y_std  = 2.739 ... Sy\n",
    "    \n",
    "    Sxy    = 4.75\n",
    "    \n",
    "    r      = 4.75 / 1.803*2.739\n",
    "           = 0.962 ... 相関係数\n",
    "\n"
   ]
  },
  {
   "cell_type": "code",
   "execution_count": 1,
   "metadata": {},
   "outputs": [],
   "source": [
    "import numpy as np\n",
    "import pandas as pd\n",
    "import matplotlib.pyplot as plt"
   ]
  },
  {
   "cell_type": "code",
   "execution_count": 2,
   "metadata": {},
   "outputs": [],
   "source": [
    "x = np.array([1,3,4,6])\n",
    "y = np.array([1,2,5,8])"
   ]
  },
  {
   "cell_type": "code",
   "execution_count": 3,
   "metadata": {},
   "outputs": [],
   "source": [
    "sx = x.std()\n",
    "sy = y.std()"
   ]
  },
  {
   "cell_type": "code",
   "execution_count": 4,
   "metadata": {},
   "outputs": [
    {
     "data": {
      "text/plain": [
       "1.8027756377319946"
      ]
     },
     "execution_count": 4,
     "metadata": {},
     "output_type": "execute_result"
    }
   ],
   "source": [
    "sx"
   ]
  },
  {
   "cell_type": "code",
   "execution_count": 5,
   "metadata": {},
   "outputs": [
    {
     "data": {
      "text/plain": [
       "2.7386127875258306"
      ]
     },
     "execution_count": 5,
     "metadata": {},
     "output_type": "execute_result"
    }
   ],
   "source": [
    "sy"
   ]
  },
  {
   "cell_type": "code",
   "execution_count": 6,
   "metadata": {},
   "outputs": [],
   "source": [
    "# 共分散（Covariance）\n",
    "sxy = np.cov(x, y, ddof=0)[0][1]"
   ]
  },
  {
   "cell_type": "code",
   "execution_count": 7,
   "metadata": {},
   "outputs": [
    {
     "data": {
      "text/plain": [
       "4.75"
      ]
     },
     "execution_count": 7,
     "metadata": {},
     "output_type": "execute_result"
    }
   ],
   "source": [
    "sxy"
   ]
  },
  {
   "cell_type": "code",
   "execution_count": 8,
   "metadata": {},
   "outputs": [],
   "source": [
    "r = sxy/(sx*sy)"
   ]
  },
  {
   "cell_type": "code",
   "execution_count": 9,
   "metadata": {},
   "outputs": [
    {
     "data": {
      "text/plain": [
       "0.9621023987294833"
      ]
     },
     "execution_count": 9,
     "metadata": {},
     "output_type": "execute_result"
    }
   ],
   "source": [
    "r"
   ]
  },
  {
   "cell_type": "markdown",
   "metadata": {},
   "source": [
    "### 📊 線形回帰(Linear Regression)\n",
    "---\n",
    "\n",
    "線形モデルを導き出す。\n",
    "\n",
    "<img src='https://upload.wikimedia.org/wikipedia/commons/thumb/b/be/Normdist_regression.png/300px-Normdist_regression.png'>\n",
    "\n",
    "e.g.\n",
    "\n",
    "期末テストの結果kと勉強時間\n",
    "\n",
    "|出席番号|１|２|3|4|5|6|7|8|9|10|11|12|13|14|\n",
    "|:-|:-:|:-:|:-:|:-:|:-:|:-:|:-:|:-:|:-:|:-:|:-:|:-:|:-:|:-:|\n",
    "|時間|0.5|6|2|1.5|4|2.5|3|1|5|5.5|3.5|4.5|3.5|3|\n",
    "|点数|69|97|83|76|92|83|76|92|86|87|74|93|93|88|89|84|79|\n",
    "\n",
    "a) 勉強時間4時間の生徒の点数を推測？\n",
    "> 表からは4時間勉強した人の得点は９２点、しかし誰しも4時間勉強したらそれを上回るのか下回るのか？いい分を推測しよう！\n",
    "\n",
    "データの傾向的に、一般の方が4時間勉強したら、８９点(線形モデルからの推測) と推測できる。\n",
    "> 散布図を作成して、いい分の線を引いた場合\n",
    "\n",
    "b）　この線形モデルを最適に表す数式は？\n",
    "\n",
    "    1) y = 6x +67.2\n",
    "    2) y = -5x +67.2\n",
    "    3) y = 5.3x +67.2　◎\n",
    "    \n",
    "    傾き計算 ： y軸/x軸 = 8 ÷　1.5 = 5.3333...\n",
    "\n",
    "\n",
    "c) 2時間勉強した生徒の推測点数は？\n",
    "\n",
    "    y = 5.3x + 67.2\n",
    "      = (5.3*2) + 67.2\n",
    "      = 77.8 点"
   ]
  },
  {
   "cell_type": "markdown",
   "metadata": {},
   "source": [
    "### 📊 残差(Residua) 最小二乗法（LSM:Least Squares Method）\n",
    "> 2つのデータにフィットする直線（線形モデル）の導き出し方\n",
    "---\n",
    "\n",
    "+ 残差は英語で「Residual」（レジヂュアル）\n",
    "+ 実際のデータと線形モデルで推測した値との差が残差\n",
    " + 実データが予測値よりも低い場合は残差がマイナス\n",
    " + 実データが予測値よりも高い場合は残差がプラス\n",
    " > 残差を計算することで、線形モデルの予測の精度の良し悪しが解る\n",
    "\n",
    "\n",
    "+ 線形モデル（データに最もフィットする直線）を求める方法は2つ\n",
    " + ①残差の```絶対値```の合計が最小になる\n",
    " + ②残差の```二乗```の合計が最小になる\n",
    "\n",
    "+ 2つ目の残差の二乗の最小値を用いて線形モデルを導き出す方法が「最小二乗法」\n",
    "+ 「最小二乗法」は英語でLeast Squares Method（LSM）\n",
    "\n",
    "---\n",
    "\n",
    "e.g. 身長と体重の散布図（スキャタープロット：図１）\n",
    "> 正の相関関係\n",
    "\n",
    "    線形モデル（線を引く）を作成して予測する!\n",
    "    ますは、最適なモデルを導き出す！（全てのポイントちょうど真ん中ぐらいでいい分な線）\n",
    "\n",
    "![img](http://fk-plaza.jp/Solution/QC7/img/qc7-4-1.gif)\n",
    "\n",
    "数式　：　y^ = wx + b\n",
    "> y^ （yハット）：予測、導き出したい数字の意"
   ]
  },
  {
   "cell_type": "code",
   "execution_count": null,
   "metadata": {},
   "outputs": [],
   "source": [
    "# exam\n",
    "mean = 83\n",
    "std = 3.0\n",
    "A_score = 92\n",
    "\n",
    "z = (A_score-mean)/std\n",
    "print('A君のZスコアは、',z)"
   ]
  },
  {
   "cell_type": "code",
   "execution_count": null,
   "metadata": {},
   "outputs": [],
   "source": [
    "a = 22.4\n",
    "y = (0.41*a)-.55\n",
    "y"
   ]
  }
 ],
 "metadata": {
  "kernelspec": {
   "display_name": "Python 3",
   "language": "python",
   "name": "python3"
  },
  "language_info": {
   "codemirror_mode": {
    "name": "ipython",
    "version": 3
   },
   "file_extension": ".py",
   "mimetype": "text/x-python",
   "name": "python",
   "nbconvert_exporter": "python",
   "pygments_lexer": "ipython3",
   "version": "3.9.2+"
  }
 },
 "nbformat": 4,
 "nbformat_minor": 4
}
