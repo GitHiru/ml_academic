{
 "cells": [
  {
   "cell_type": "markdown",
   "metadata": {},
   "source": [
    "# PyQ 学習メモ"
   ]
  },
  {
   "cell_type": "markdown",
   "metadata": {},
   "source": [
    "## | List型\n",
    "```\n",
    "[ \"value\", ]\n",
    "```"
   ]
  },
  {
   "cell_type": "markdown",
   "metadata": {},
   "source": [
    "### - .append()"
   ]
  },
  {
   "cell_type": "code",
   "execution_count": 1,
   "metadata": {},
   "outputs": [
    {
     "name": "stdout",
     "output_type": "stream",
     "text": [
      "['佐藤']\n"
     ]
    }
   ],
   "source": [
    "sample_list = []  # 空のリスト\n",
    "sample_list.append('佐藤')  # 要素の追加\n",
    "print(sample_list)  # -> ['佐藤']"
   ]
  },
  {
   "cell_type": "code",
   "execution_count": 2,
   "metadata": {},
   "outputs": [
    {
     "name": "stdout",
     "output_type": "stream",
     "text": [
      "['佐藤', '鈴木']\n"
     ]
    }
   ],
   "source": [
    "sample_list.append('鈴木')  # 要素の追加\n",
    "print(sample_list)  # -> ['佐藤', '鈴木']"
   ]
  },
  {
   "cell_type": "markdown",
   "metadata": {},
   "source": [
    "### - .pop(index=0)\n",
    "> デフォルトでindex番号０が消される"
   ]
  },
  {
   "cell_type": "code",
   "execution_count": 3,
   "metadata": {},
   "outputs": [
    {
     "name": "stdout",
     "output_type": "stream",
     "text": [
      "['佐藤']\n",
      "鈴木 が削除されました\n"
     ]
    }
   ],
   "source": [
    "pop_data = sample_list.pop(1) #index番号削除\n",
    "print(sample_list)\n",
    "print(f\"{pop_data} が削除されました\")"
   ]
  },
  {
   "cell_type": "code",
   "execution_count": 4,
   "metadata": {},
   "outputs": [],
   "source": [
    "hoge = []\n",
    "fuga = [1, 2, 3, 4, 5]"
   ]
  },
  {
   "cell_type": "code",
   "execution_count": 5,
   "metadata": {},
   "outputs": [
    {
     "name": "stdout",
     "output_type": "stream",
     "text": [
      "[0]\n"
     ]
    }
   ],
   "source": [
    "hoge.append(0)\n",
    "print(hoge)"
   ]
  },
  {
   "cell_type": "markdown",
   "metadata": {},
   "source": [
    "### list + list"
   ]
  },
  {
   "cell_type": "code",
   "execution_count": 6,
   "metadata": {},
   "outputs": [
    {
     "name": "stdout",
     "output_type": "stream",
     "text": [
      "[0, 1, 2, 3, 4, 5]\n"
     ]
    }
   ],
   "source": [
    "# リスト結合\n",
    "hogefuga = hoge + fuga\n",
    "print(hogefuga)"
   ]
  },
  {
   "cell_type": "markdown",
   "metadata": {},
   "source": [
    "### - .insert(index, value)"
   ]
  },
  {
   "cell_type": "code",
   "execution_count": 7,
   "metadata": {},
   "outputs": [
    {
     "name": "stdout",
     "output_type": "stream",
     "text": [
      "[0, 1, 'uma', 2, 3, 4, 5]\n"
     ]
    }
   ],
   "source": [
    "# リストに挿入\n",
    "hogefuga.insert(2, 'uma')\n",
    "print(hogefuga)"
   ]
  },
  {
   "cell_type": "code",
   "execution_count": 8,
   "metadata": {},
   "outputs": [
    {
     "name": "stdout",
     "output_type": "stream",
     "text": [
      "[0, 'uma', 2, 3, 4, 5]\n"
     ]
    }
   ],
   "source": [
    "# リストの値削除 .pop（index数）　←指定無しは最後尾削除\n",
    "hogefuga.pop(1)\n",
    "print(hogefuga)"
   ]
  },
  {
   "cell_type": "markdown",
   "metadata": {},
   "source": [
    "### - forによる連続アクセス"
   ]
  },
  {
   "cell_type": "code",
   "execution_count": 9,
   "metadata": {},
   "outputs": [
    {
     "name": "stdout",
     "output_type": "stream",
     "text": [
      "0\n",
      "uma\n",
      "2\n",
      "3\n",
      "4\n",
      "5\n"
     ]
    }
   ],
   "source": [
    "# for文による値抽出\n",
    "for i in hogefuga:\n",
    "    print(i)"
   ]
  },
  {
   "cell_type": "code",
   "execution_count": 10,
   "metadata": {},
   "outputs": [
    {
     "name": "stdout",
     "output_type": "stream",
     "text": [
      "0 0\n",
      "1 uma\n",
      "2 2\n",
      "3 3\n",
      "4 4\n",
      "5 5\n"
     ]
    }
   ],
   "source": [
    "# 通し番号が必要な時\n",
    "for i, elm in enumerate(hogefuga):\n",
    "    print(i, elm)"
   ]
  },
  {
   "cell_type": "markdown",
   "metadata": {},
   "source": [
    "## | Dictionary型\n",
    "```\n",
    "{'key':'value',}\n",
    "```"
   ]
  },
  {
   "cell_type": "markdown",
   "metadata": {},
   "source": [
    "### - Value（辞書値）取得"
   ]
  },
  {
   "cell_type": "code",
   "execution_count": 12,
   "metadata": {},
   "outputs": [
    {
     "name": "stdout",
     "output_type": "stream",
     "text": [
      "{'ボールペン': 120, 'ノート': 80, 'のり': 50} <class 'dict'>\n"
     ]
    }
   ],
   "source": [
    "# 文房具価格リスト辞書型\n",
    "inventory = {'ボールペン': 120, 'ノート': 80, 'のり': 50}\n",
    "print(inventory, type(inventory))"
   ]
  },
  {
   "cell_type": "code",
   "execution_count": 13,
   "metadata": {},
   "outputs": [
    {
     "name": "stdout",
     "output_type": "stream",
     "text": [
      "['ノート', 'のり', 'ボールペン', 'のり', 'のり'] <class 'list'>\n"
     ]
    }
   ],
   "source": [
    "# 文房具購入個数リスト（リスト型）\n",
    "tel = ['ノート', 'のり', 'ボールペン', 'のり', 'のり']\n",
    "print(tel, type(tel))"
   ]
  },
  {
   "cell_type": "code",
   "execution_count": 14,
   "metadata": {},
   "outputs": [
    {
     "name": "stdout",
     "output_type": "stream",
     "text": [
      "ノート 80\n",
      "のり 50\n",
      "ボールペン 120\n",
      "のり 50\n",
      "のり 50\n"
     ]
    }
   ],
   "source": [
    "# 集計\n",
    "for stationery in tel:\n",
    "    print(stationery, inventory[stationery])"
   ]
  },
  {
   "cell_type": "markdown",
   "metadata": {},
   "source": [
    "### - Valueに値追加（集計）"
   ]
  },
  {
   "cell_type": "code",
   "execution_count": 15,
   "metadata": {},
   "outputs": [],
   "source": [
    "# 集計用の為、初期値を０で入れておく\n",
    "items = {'ボールペン': 0,\n",
    "             'ノート': 0,\n",
    "             'のり': 0}\n",
    "\n",
    "# 利用状況\n",
    "used = ['ボールペン', 'ノート', 'のり', 'のり', 'ノート', 'ボールペン', 'ボールペン', 'ノート', 'ノート']"
   ]
  },
  {
   "cell_type": "code",
   "execution_count": 16,
   "metadata": {},
   "outputs": [
    {
     "name": "stdout",
     "output_type": "stream",
     "text": [
      "{'ボールペン': 3, 'ノート': 4, 'のり': 2}\n"
     ]
    }
   ],
   "source": [
    "# 各文房具の利用回数の計算\n",
    "for item in used:\n",
    "    items[item] += 1\n",
    "    #print(items) #途中経過\n",
    "print(items)"
   ]
  },
  {
   "cell_type": "code",
   "execution_count": 17,
   "metadata": {},
   "outputs": [
    {
     "name": "stdout",
     "output_type": "stream",
     "text": [
      "{'大根': 1, '人参': 2, 'じゃがいも': 3}\n"
     ]
    }
   ],
   "source": [
    "# ネスト（入れ子構造のこと）\n",
    "vegetables = ['大根', '人参', 'じゃがいも', 'じゃがいも', '人参', 'じゃがいも']\n",
    "\n",
    "# 集計用辞書\n",
    "veg_counts = {}\n",
    "\n",
    "# 野菜の数を集計\n",
    "for veg in vegetables:\n",
    "    #リストから値を順に取得、辞書に値があれば１追加。なければ１を返す\n",
    "    if veg in veg_counts:\n",
    "        veg_counts[veg] += 1\n",
    "    else:\n",
    "        veg_counts[veg] = 1\n",
    "print(veg_counts)"
   ]
  },
  {
   "cell_type": "markdown",
   "metadata": {},
   "source": [
    "### - .items()\n",
    "> アンパックしているから引数が、複数（Key、Value）"
   ]
  },
  {
   "cell_type": "code",
   "execution_count": 18,
   "metadata": {},
   "outputs": [
    {
     "name": "stdout",
     "output_type": "stream",
     "text": [
      "カレー:5\n",
      "唐揚げ:4\n",
      "うどん:3\n"
     ]
    }
   ],
   "source": [
    "# お昼の注文\n",
    "lunch = ['カレー', '唐揚げ', 'うどん',  'カレー', 'カレー', '唐揚げ', 'カレー', '唐揚げ', 'カレー', 'うどん', '唐揚げ', 'うどん']\n",
    "\n",
    "# 集計用辞書\n",
    "count = {}\n",
    "\n",
    "# 集計\n",
    "for k in lunch:\n",
    "    if k in count:\n",
    "        count[k] += 1\n",
    "    else:\n",
    "        count[k] = 1\n",
    "\n",
    "# 表示\n",
    "for k, v in count.items():\n",
    "    print(k + ':' + str(v))"
   ]
  },
  {
   "cell_type": "code",
   "execution_count": 19,
   "metadata": {},
   "outputs": [
    {
     "name": "stdout",
     "output_type": "stream",
     "text": [
      "茨城県:5\n",
      "栃木県:2\n",
      "群馬県:5\n",
      "埼玉県:5\n",
      "千葉県:3\n",
      "東京都:2\n",
      "神奈川県:5\n"
     ]
    }
   ],
   "source": [
    "# 集計用辞書\n",
    "area = {}\n",
    "\n",
    "# 販売実績\n",
    "sales = ['茨城県', '栃木県', '群馬県', '埼玉県', '千葉県', '東京都', '神奈川県',\n",
    "         '東京都', '茨城県', '埼玉県', '埼玉県', '埼玉県', '神奈川県', '神奈川県',\n",
    "         '茨城県', '茨城県', '群馬県', '群馬県', '群馬県', '群馬県', '神奈川県',\n",
    "         '茨城県', '神奈川県', '栃木県', '千葉県', '千葉県', '埼玉県']\n",
    "\n",
    "# 集計\n",
    "for k in sales:\n",
    "    if k in area:\n",
    "        area[k] += 1\n",
    "    else:\n",
    "        area[k] = 1\n",
    "\n",
    "# 表示\n",
    "for k, v in area.items():\n",
    "    print(k, ':', v, sep='')"
   ]
  },
  {
   "cell_type": "markdown",
   "metadata": {},
   "source": [
    "## | ファイル読込"
   ]
  },
  {
   "cell_type": "markdown",
   "metadata": {},
   "source": [
    "+ pattern1.\n",
    "\n",
    "```python\n",
    "f = open('url', encoding='utf-8')\n",
    "contents = f.read()\n",
    "print(contents)\n",
    "f.close()\n",
    "```\n",
    "\n",
    "+ pattern2.\n",
    "\n",
    "```python\n",
    "with open('url', encoding='utf-8') as f:\n",
    "    contents = f.read()\n",
    "    print(contents)\n",
    "```\n",
    "> このwith文のブロックが終わるとPythonが自動でファイルを閉じてくれますので、 close() メソッドを書く必要がありません。\n"
   ]
  },
  {
   "cell_type": "code",
   "execution_count": null,
   "metadata": {},
   "outputs": [],
   "source": [
    "with open('input/menu.csv', encoding='utf-8') as f:\n",
    "    for row in f:\n",
    "        str_row = row.rstrip()    # 接尾改行削除\n",
    "        print(str_row)\n",
    "\n",
    "# strip メソッド\n",
    "# 　.strip 両脇削除\n",
    "#　 .rstrip　末尾削除\n",
    "#　 .lstrip　接頭削除"
   ]
  },
  {
   "cell_type": "code",
   "execution_count": null,
   "metadata": {},
   "outputs": [],
   "source": [
    "with open('url', encoding='utf-8') as f:\n",
    "    for row in f:\n",
    "        columns = row.rstrip().split(',')\n",
    "        name = columnsl[0]\n",
    "        price = columns[1]\n",
    "        \n",
    "        if name == \"a\":\n",
    "            new_price = int(price*0.5)\n",
    "            print(name, ':', new_price, '円（半額）', sep='')\n",
    "        else:\n",
    "            print(name, ':', price, '円', sep='')\n",
    "            \n",
    "        # if name == 'a' or 'b':\n",
    "        # if name in ['a', 'b']:"
   ]
  },
  {
   "cell_type": "code",
   "execution_count": null,
   "metadata": {},
   "outputs": [],
   "source": [
    "orders = {}\n",
    "\n",
    "with open('url', encoding='utf-8') as f:\n",
    "    for row in f:\n",
    "        columns = row.rstrip.split(',')\n",
    "        k = columns[0]\n",
    "        \n",
    "    if k in orders:\n",
    "        orders[k] += 1\n",
    "    else:\n",
    "        order[k] = 1\n",
    "        \n",
    "for k, v in orders.items():\n",
    "    print(k, ':', v, '.', sep='')"
   ]
  },
  {
   "cell_type": "code",
   "execution_count": null,
   "metadata": {},
   "outputs": [],
   "source": [
    "# 性別の集計\n",
    "sex = {}\n",
    "with open('csv/order_list.csv', encoding='utf-8') as f:\n",
    "    for row in f:\n",
    "        col = row.rstrip().split(',')\n",
    "        k_sex = col[3]\n",
    "        \n",
    "        if k_sex in sex:\n",
    "            sex[k_sex] += 1\n",
    "        else:\n",
    "            sex[k_sex] = 1\n",
    "for k, v in sex.items():\n",
    "    print(k, ':', v, sep='')"
   ]
  },
  {
   "cell_type": "markdown",
   "metadata": {},
   "source": [
    "## | モジュール"
   ]
  },
  {
   "cell_type": "markdown",
   "metadata": {},
   "source": [
    "毎回、```datetime.datetime.now()```と書くのは煩雑です。\n",
    "```from モジュール名 import クラス名```とすると、利用時にクラス名から開始できます。\n",
    "\n",
    "```python\n",
    "datetime.datetime.now()\n",
    "　 ↓\n",
    "from datetime import datetime # modul\n",
    "now = datetime.now()\n",
    "```"
   ]
  },
  {
   "cell_type": "code",
   "execution_count": 20,
   "metadata": {},
   "outputs": [
    {
     "name": "stdout",
     "output_type": "stream",
     "text": [
      "2021-02-04 13:08:31.451706\n"
     ]
    }
   ],
   "source": [
    "from datetime import datetime \n",
    "now = datetime.now()\n",
    "print(now)"
   ]
  },
  {
   "cell_type": "code",
   "execution_count": 21,
   "metadata": {},
   "outputs": [
    {
     "name": "stdout",
     "output_type": "stream",
     "text": [
      "2021 年\n",
      "2 月\n",
      "4 日\n",
      "13 時\n",
      "8 分\n",
      "31 秒\n"
     ]
    }
   ],
   "source": [
    "print(now.year, '年')\n",
    "print(now.month, '月')\n",
    "print(now.day, '日')\n",
    "print(now.hour, '時')\n",
    "print(now.minute, '分')\n",
    "print(now.second, '秒')"
   ]
  },
  {
   "cell_type": "markdown",
   "metadata": {},
   "source": [
    "## | f-string"
   ]
  },
  {
   "cell_type": "markdown",
   "metadata": {},
   "source": [
    "フォーマット済み文字列リテラル = [f-strings](https://docs.python.org/ja/3/tutorial/inputoutput.html#tut-f-strings) (python3.6~)\n",
    ">文字列生成時に変数データを扱うことができる。\n",
    "\n",
    "```python\n",
    "time = datetime(1991,6,12)\n",
    "v = f'生年月日：{time = : %Y/%m/%d}'\n",
    "```"
   ]
  },
  {
   "cell_type": "code",
   "execution_count": 26,
   "metadata": {},
   "outputs": [
    {
     "name": "stdout",
     "output_type": "stream",
     "text": [
      "生年月日：time = 1991/06/12\n"
     ]
    }
   ],
   "source": [
    "time = datetime(1991,6,12)\n",
    "v = f'生年月日：{time = : %Y/%m/%d}'\n",
    "print(v)"
   ]
  },
  {
   "cell_type": "code",
   "execution_count": 27,
   "metadata": {},
   "outputs": [
    {
     "name": "stdout",
     "output_type": "stream",
     "text": [
      "2016-01-15 09:15:31\n"
     ]
    }
   ],
   "source": [
    "# 文字列を日付に変換\n",
    "# 文字列を日時に変換すると「日時として日付を加減算」したり、「日時に対応した曜日を取得」したりできるようになります。\n",
    "\n",
    "from datetime import datetime\n",
    "\n",
    "str_day = '2016/01/15 09:15:31'\n",
    "one_day = datetime.strptime(str_day, '%Y/%m/%d %H:%M:%S') # str_dayに格納文字列と同様のフォーマット記載すると日付データに変換！\n",
    "print(one_day)"
   ]
  },
  {
   "cell_type": "code",
   "execution_count": null,
   "metadata": {},
   "outputs": [],
   "source": [
    "# 日付データの演算\n",
    "from datetime import datetime\n",
    "from datetime import timedelta\n",
    "\n",
    "olympic_day = datetime(2020, 7, 24)\n",
    "# 2日前に変更\n",
    "before_2days = olympic_day - timedelta(days=2)\n",
    "# 表示\n",
    "print(before_2days.date())\n",
    "print(before_2days - olympic_day) # 差分\n",
    "print(before_2days < olympic_day) # ブーリアン\n",
    "\n",
    "\n",
    "# timedelta には色々指定可能（　seconds（秒） 、 microseconds（マイクロ秒） 、 milliseconds（ミリ秒） 、 minutes（分） 、 hours（時） 、 weeks（週） ）"
   ]
  },
  {
   "cell_type": "code",
   "execution_count": null,
   "metadata": {},
   "outputs": [],
   "source": [
    "from datetime import datetime\n",
    "from datetime import timedelta\n",
    "\n",
    "# 指定日\n",
    "str_date = '2016-10-20'\n",
    "\n",
    "# 日付へ変換\n",
    "one_day = datetime.strptime(str_date, '%Y-%m-%d')\n",
    "# 5日前\n",
    "befor_day = one_day + timedelta(days=-5)\n",
    "# 文字列に変換\n",
    "print_date = f'{befor_day:%Y-%m-%d}'\n",
    "# 表示\n",
    "print(print_date)"
   ]
  },
  {
   "cell_type": "code",
   "execution_count": null,
   "metadata": {},
   "outputs": [],
   "source": [
    "from datetime import datetime\n",
    "\n",
    "with open('input/days.txt', encoding='utf-8') as f:\n",
    "    for row in f:\n",
    "        # 日付データへ変換\n",
    "        day = datetime.strptime(row.rstrip(), '%Y-%m-%d')\n",
    "        # 文字列へ変換(f-string)\n",
    "        print(f'{day:%Y/%m/%d}')"
   ]
  },
  {
   "cell_type": "code",
   "execution_count": null,
   "metadata": {},
   "outputs": [],
   "source": [
    "from datetime import datetime\n",
    "from datetime import timedelta\n",
    "\n",
    "# 基準の日付\n",
    "str_date = '2016-10-20'\n",
    "# 文字列を日付へ変換\n",
    "base_day = datetime.strptime(str_date, '%Y-%m-%d')\n",
    "# 5日前の日付\n",
    "befor_day = base_day + timedelta(days=-5)\n",
    "\n",
    "# ファイルinput/days.txtを開く\n",
    "with open('input/days.txt', encoding='utf-8') as f:\n",
    "    for row in f:\n",
    "        # 文字列を日付へ変換\n",
    "        day = datetime.strptime(row.rstrip(), '%Y-%m-%d')\n",
    "        # 日付を比較\n",
    "        if befor_day <= day < base_day:\n",
    "            print(f'{day:%Y/%m/%d}')\n"
   ]
  },
  {
   "cell_type": "markdown",
   "metadata": {},
   "source": [
    "## | ファイル書込\n",
    "---\n",
    "\n",
    "```python\n",
    "with open('txt/say.txt', 'x', encoding='utf-8') as f:\n",
    "    f.write('say hello')\n",
    "\n",
    "print('complite writting')\n",
    "```\n",
    "\n",
    "```\n",
    "r: 読み込み専用。省略可能。\n",
    "w: 書き込みするときに指定。ファイルが存在しない場合、新しいファイルが作られる。\n",
    "x: ファイルが存在しない場合のみ、ファイルを作成し、書き込む。ファイルが存在する場合は何もしない。\n",
    "a: （＝append）末尾に書き込み。ファイルが存在しない場合はファイルを作成し、書き込む。\n",
    "```\n",
    "cf.[組み込み関数 — Python 3 ドキュメント#open ](https://docs.python.org/ja/3/library/functions.html#open)"
   ]
  },
  {
   "cell_type": "code",
   "execution_count": null,
   "metadata": {},
   "outputs": [],
   "source": [
    "with open('txt/say.txt', 'x', encoding='utf-8') as f:\n",
    "    f.write('say hello')\n",
    "print('complite writting')"
   ]
  },
  {
   "cell_type": "code",
   "execution_count": null,
   "metadata": {},
   "outputs": [],
   "source": [
    "from datetime import datetime\n",
    "\n",
    "# 現在の時刻を取得し、文字列に変換\n",
    "now = datetime.now()\n",
    "str_now = f'{now:%Y/%m/%d %H:%M:%S}'\n",
    "\n",
    "# 出勤時間か、退勤時間かを判定\n",
    "if 7 <= now.hour < 12:\n",
    "    action = '出勤'\n",
    "else:\n",
    "    action = '退勤'\n",
    "\n",
    "with open('output/timecard.log', 'a', encoding='utf-8') as f:\n",
    "    f.write(str_now + ' - ' + action + '\\n')\n",
    "    \n",
    "# 出力文字列作成\n",
    "write_string = str_now + ' - ' + action + '\\n'\n",
    "print(write_string)"
   ]
  },
  {
   "cell_type": "code",
   "execution_count": null,
   "metadata": {},
   "outputs": [],
   "source": [
    "# 自分で描いたボツコード\n",
    "# CSV読み込み\n",
    "py_learning = {}\n",
    "with open('input/books.csv', encoding='utf-8') as f:\n",
    "    for row in f:\n",
    "        col = row.rstrip().split(',')\n",
    "        \n",
    "        date = col[0]\n",
    "        name = col[1]\n",
    "        contents = col[2]\n",
    "\n",
    "print(py_learning)\n",
    "\n",
    "# csv書き出し\n",
    "with open('output/book_python.csv', 'a', encoding='utf-8') as f: \n",
    "    for date, name, contents in py_learning.items():\n",
    "        if contents == 'Python-勉強会':\n",
    "            f.write(date + name + contents + '\\n')\n",
    "\n",
    "print('Fin')"
   ]
  },
  {
   "cell_type": "code",
   "execution_count": null,
   "metadata": {},
   "outputs": [],
   "source": [
    "# 解答\n",
    "output_rows = []\n",
    "\n",
    "with open('./input/books.csv', encoding='utf-8') as f:\n",
    "    for row in f:\n",
    "        columns = row.strip().split(',')\n",
    "        purpose = columns[2]  # 会議室の利用目的\n",
    "\n",
    "        if purpose == 'Python-勉強会':\n",
    "            output_rows.append(row)\n",
    "\n",
    "# ファイル'output/book_python.csv'へ書き込む\n",
    "with open('output/book_python.csv', 'w', encoding='utf-8') as wf:\n",
    "    for row in output_rows:\n",
    "        wf.write(row)"
   ]
  },
  {
   "cell_type": "code",
   "execution_count": null,
   "metadata": {},
   "outputs": [],
   "source": [
    "# 練習\n",
    "gender_list = []\n",
    "sex = 'men'\n",
    "with open('./csv/order_list.csv', encoding='utf-8') as f:\n",
    "    for row in f:\n",
    "        col = row.strip().split(',')\n",
    "        aim = col[3]\n",
    "        \n",
    "        if aim == sex:\n",
    "            gender_list.append(row)\n",
    "\n",
    "# 書き出し\n",
    "with open('./csv/order_list_men.csv', 'a', encoding='utf-8') as wf:\n",
    "    for row in gender_list:\n",
    "        wf.write(row)"
   ]
  },
  {
   "cell_type": "code",
   "execution_count": null,
   "metadata": {},
   "outputs": [],
   "source": [
    "# 練習\n",
    "from datetime import datetime\n",
    "from datetime import timedelta\n",
    "\n",
    "# 指定日\n",
    "str_date = '2016-10-20'\n",
    "# 日付へ変換\n",
    "base_date = datetime.strptime(str_date, '%Y-%m-%d')\n",
    "# 5日前\n",
    "before_5days = base_date - timedelta(days=5)\n",
    "# 文字列に変換\n",
    "print_date = f'{before_5days:%Y-%m-%d}'\n",
    "# 表示\n",
    "print(print_date)"
   ]
  },
  {
   "cell_type": "code",
   "execution_count": null,
   "metadata": {},
   "outputs": [],
   "source": [
    "# 練習\n",
    "from datetime import datetime\n",
    "\n",
    "with open('input/days.txt', encoding='utf-8') as f:\n",
    "    for row in f:\n",
    "        date = datetime.strptime(row.rstrip(), '%Y-%d-%m')\n",
    "        print(f'{date, '%Y/%m/%d'}')"
   ]
  },
  {
   "cell_type": "code",
   "execution_count": null,
   "metadata": {},
   "outputs": [],
   "source": [
    "a = 10\n",
    "# 奇数か偶数かの判定処理を書いて下さい\n",
    "if a % 2  == 0:\n",
    "    print('偶数です')\n",
    "else:\n",
    "    print('奇数です')"
   ]
  },
  {
   "cell_type": "code",
   "execution_count": null,
   "metadata": {},
   "outputs": [],
   "source": [
    "# 練習　（うるう年）\n",
    "year = 2500\n",
    "# うるう年の判定をしてみましょう\n",
    "if (year%4==0 and year%100!=0) or year%400 == 0: \n",
    "    print('うるう年')\n",
    "else:\n",
    "    print('平年')"
   ]
  },
  {
   "cell_type": "code",
   "execution_count": null,
   "metadata": {},
   "outputs": [],
   "source": [
    "# 練習　（つるかめ算）\n",
    "# 足の数\n",
    "leg_total = 34\n",
    "# 動物の合計数\n",
    "animals = 10\n",
    "# 亀の足の本数\n",
    "legs_kame = 4\n",
    "# 鶴の足の本数\n",
    "legs_tsuru = 2\n",
    "\n",
    "# つるかめ算の処理を書いて下さい\n",
    "print('【問題】')\n",
    "print('鶴と亀が合わせて', animals, '羽(匹)います、', sep='')\n",
    "print('足の合計は',leg_total,'本です。',sep='')\n",
    "\n",
    "tsuru = (legs_kame*animals) - leg_total // (legs_kame-legs_tsuru)\n",
    "kame = animals - tsuru\n",
    "\n",
    "print('鶴は',tsuru,'羽です', sep='')\n",
    "print('亀は',kame,'匹です',sep='')"
   ]
  },
  {
   "cell_type": "code",
   "execution_count": null,
   "metadata": {},
   "outputs": [],
   "source": [
    "\"\"\"過去100日間の会議室の利用目的別の集計.\"\"\"\n",
    "from datetime import datetime, timedelta\n",
    "\n",
    "\n",
    "PERIOD_DAYS = 100\n",
    "\n",
    "\n",
    "# キーに「会議室の利用目的」、バリューに利用回数の合計を入れて計算する\n",
    "purpose_count = {}\n",
    "\n",
    "now = datetime.now()\n",
    "today = datetime(now.year, now.month, now.day)  # 本日の0:00:00時点の日付\n",
    "agg_since_date = now - timedelta(days=PERIOD_DAYS)  # 今から PERIOD_DAYS 前の日時\n",
    "\n",
    "# ファイルの読み込み\n",
    "with open('./input/books.csv', encoding='utf-8') as f:\n",
    "    for row in f:\n",
    "        columns = row.strip().split(',')\n",
    "        date_str = columns[0]  # 日付\n",
    "        purpose = columns[2]  # 会議室の利用目的\n",
    "\n",
    "        reservation_date = datetime.strptime(date_str, '%Y-%m-%d') # 文字列を日付データに\n",
    "\n",
    "        # 利用された日付がPERIOD_DAYS前の日時以上、今現在未満であれば集計対象\n",
    "        if agg_since_date <= reservation_date < today:\n",
    "            if purpose in purpose_count:\n",
    "                purpose_count[purpose] += 1\n",
    "            else:\n",
    "                purpose_count[purpose] = 1\n",
    "\n",
    "# ファイルに書き込み\n",
    "with open('./output/count_purpose.csv', 'w', encoding='utf-8') as f:\n",
    "    for purpose, count in purpose_count.items():\n",
    "        f.write(purpose + \",\" + str(count) + \"\\n\")"
   ]
  },
  {
   "cell_type": "code",
   "execution_count": null,
   "metadata": {},
   "outputs": [],
   "source": [
    "# 練習\n",
    "# 品目別集計\n",
    "products = {}\n",
    "\n",
    "with open('input/report.csv', encoding='utf-8') as f:\n",
    "    for row in f:\n",
    "        col = row.rstrip().split(',')\n",
    "        \n",
    "        product = col[1]\n",
    "        \n",
    "        if product in products:\n",
    "            products[product] += 1\n",
    "        else:\n",
    "            products[product] = 1\n",
    "\n",
    "# 表示\n",
    "for k, v in products.items():\n",
    "    print(k + ':' + str(v))"
   ]
  },
  {
   "cell_type": "code",
   "execution_count": null,
   "metadata": {},
   "outputs": [],
   "source": [
    "# 練習\n",
    "# 月べつ総売り上げ集計\n",
    "from datetime import datetime\n",
    "\n",
    "result = {}\n",
    "with open('input/report.csv', mode='r', encoding='utf-8') as fp:\n",
    "    for line in fp:\n",
    "        sold_at, item_name, amount = line.rstrip().split(',')\n",
    " \n",
    "        # 文字列を日付時刻型オブジェクトに変換\n",
    "        sold_at_datetime = datetime.strptime(\n",
    "            sold_at, '%Y-%m-%d %H:%M:%S')\n",
    "        \n",
    "        # 辞書にKeyが無ければ初期値０で代入\n",
    "        if sold_at_datetime.month not in result:\n",
    "            result[sold_at_datetime.month] = 0\n",
    "            \n",
    "        # 金額をカウント\n",
    "        result[sold_at_datetime.month] += int(amount)\n",
    "\n",
    "# 集計結果を画面に出力\n",
    "for key, value in result.items():\n",
    "    print(key, '月: ', value, sep='')"
   ]
  },
  {
   "cell_type": "code",
   "execution_count": null,
   "metadata": {},
   "outputs": [],
   "source": [
    "from datetime import datetime\n",
    "\n",
    "result = {}\n",
    "\n",
    "with open('csv/order_list.csv', mode='r', encoding='utf-8') as fp:\n",
    "    for line in fp:\n",
    "        entry, userid, neme, sex, age, totalmoney, birthday = line.rstrip().split(',')\n",
    "        \n",
    "        entry_datetime = datetime.strptime(entry, '%Y/%m/%d')\n",
    "        \n",
    "        if entry_datetime.month not in result:\n",
    "            result[entry_datetime.month] = 0\n",
    "            \n",
    "        result[entry_datetime.month] += int(totalmoney)\n",
    "\n",
    "for k, v in result.items():\n",
    "    print(k + '月:　' + v)"
   ]
  },
  {
   "cell_type": "code",
   "execution_count": null,
   "metadata": {},
   "outputs": [],
   "source": [
    "#練習　「おみくじ」開発\n",
    "import random\n",
    "\n",
    "fortunes = {\n",
    "    1: '凶',\n",
    "    2: '末吉',\n",
    "    3: '小吉',\n",
    "    4: '中吉',\n",
    "    5: '吉',\n",
    "    6: '大吉'\n",
    "}\n",
    "\n",
    "# ここから処理を書いていきます\n",
    "\n",
    "no = random.randint(1, 6) # １〜６の数字をランダム取得\n",
    "\n",
    "fortune = fortunes[no] # 辞書にアクセス\n",
    "\n",
    "file_name = 'input/fortune_' + str(no) + '.txt'\n",
    "with open(file_name, mode='r', encoding='utf-8') as f:\n",
    "    message_list = f.readlines() # 1行ごとをリスト型で取得\n",
    "    message = random.choice(message_list) # リストの中から一つ取得\n",
    "    \n",
    "\n",
    "print('あなたの運勢は...')\n",
    "print(fortune)\n",
    "print(message)"
   ]
  },
  {
   "cell_type": "code",
   "execution_count": null,
   "metadata": {},
   "outputs": [],
   "source": [
    "# 練習　「じゃんけん」開発\n",
    "import random\n",
    "\n",
    "\n",
    "hand_dict = {\n",
    "    '1': 'グー',\n",
    "    '2': 'チョキ',\n",
    "    '3': 'パー'\n",
    "}\n",
    "\n",
    "print('手を入力してください')\n",
    "print('1:グー 2:チョキ 3:パー')\n",
    "\n",
    "# ユーザーに手を入力してもらう\n",
    "player_input = input()\n",
    "# 入力値が辞書hand_dictのキーとして存在しないことを判定する処理を書きます\n",
    "if player_input not in hand_dict:\n",
    "    # 1, 2, 3以外が入力されたらプログラムを終了する\n",
    "    print('入力が正しくありません。')\n",
    "    exit()\n",
    "\n",
    "# 入力値に対応した手の名前を辞書hand_dictから取得して、変数playerに代入します\n",
    "player = hand_dict[player_input]\n",
    "print('入力した手: ' + player)\n",
    "\n",
    "# コンピューターの手をランダムに決定する\n",
    "com_input = random.choice(['1', '2', '3'])\n",
    "# コンピューターの手の名前を辞書hand_dictから取得して、変数comに代入します\n",
    "com = hand_dict[com_input]\n",
    "print('コンピューターの手: ' + com)\n",
    "\n",
    "# 互いの手を表示する(例. グーvsチョキ)\n",
    "print(player + 'vs' + com)\n",
    "\n",
    "# ここからじゃんけんの勝敗条件を書いていきます。結果は変数resultに代入します\n",
    "if player == com: # あいこの条件\n",
    "    result = 'あいこ'\n",
    "elif player == 'グー': # グーの条件\n",
    "    if com == 'チョキ':\n",
    "        result = 'あなたの勝ち'\n",
    "    else:\n",
    "        result = 'コンピューターの勝ち'\n",
    "elif player == 'チョキ': # チョキの条件\n",
    "    if com == 'パー':\n",
    "        result = 'あなたの勝ち'\n",
    "    else:\n",
    "        result = 'コンピューターの勝ち'\n",
    "else: # パーの条件\n",
    "    if com == 'グー':\n",
    "        result = 'あなたの勝ち'\n",
    "    else:\n",
    "        result = 'コンピューターの勝ち'\n",
    "\n",
    "print(result)"
   ]
  },
  {
   "cell_type": "markdown",
   "metadata": {},
   "source": [
    "### 関数\n",
    "---\n",
    "\n",
    "```python\n",
    "# よく見るこれらも関数！\n",
    "str()\n",
    "int()\n",
    "max()\n",
    "\n",
    "print() # 処理だけして、戻り値がない関数もあります。\n",
    "...etc.\n",
    "```\n",
    "\n",
    "**※ 関数は実行する場所より先に定義します。**\n"
   ]
  },
  {
   "cell_type": "code",
   "execution_count": null,
   "metadata": {},
   "outputs": [],
   "source": [
    "numbers = [199, 288, 56, 82, 99, 1, 538, 499]\n",
    "\n",
    "# 実行\n",
    "max_number = max(numbers)\n",
    "\n",
    "# 表示\n",
    "print(max_number)"
   ]
  },
  {
   "cell_type": "code",
   "execution_count": null,
   "metadata": {},
   "outputs": [],
   "source": [
    "import random\n",
    "\n",
    "numbers = [199, 288, 56, 82, 99, 1, 538, 499]\n",
    "\n",
    "num_randint = random.randint(1, 100)\n",
    "print(num_randint)\n",
    "\n",
    "num_choice = random.choice(numbers)\n",
    "print(num_choice)\n",
    "\n",
    "random.shuffle(numbers)\n",
    "print(numbers)"
   ]
  },
  {
   "cell_type": "code",
   "execution_count": null,
   "metadata": {},
   "outputs": [],
   "source": [
    "# 関数add_oneを定義します\n",
    "def add_one(x):\n",
    "    return x + 1\n",
    "\n",
    "# 実行\n",
    "result = add_one(1) # 引数\n",
    "print(result)"
   ]
  },
  {
   "cell_type": "code",
   "execution_count": null,
   "metadata": {},
   "outputs": [],
   "source": [
    "def say_hello():\n",
    "    print('hello')\n",
    "    \n",
    "\n",
    "say_hello()    "
   ]
  },
  {
   "cell_type": "code",
   "execution_count": null,
   "metadata": {},
   "outputs": [],
   "source": [
    "# 関数say_helloを定義します\n",
    "def say_hello(name):\n",
    "    print('Hello,' + name)\n",
    "\n",
    "# 実行\n",
    "say_hello('Joy')\n",
    "say_hello('Mary')"
   ]
  },
  {
   "cell_type": "code",
   "execution_count": null,
   "metadata": {},
   "outputs": [],
   "source": [
    "# 関数check_even_oddを定義します\n",
    "def check_even_odd(num):\n",
    "    if num % 2 == 0:\n",
    "        print(num, 'is even number!')\n",
    "    else:\n",
    "        print(num, 'is odd number!')\n",
    "\n",
    "\n",
    "# 実行\n",
    "check_even_odd(14)\n",
    "check_even_odd(25)\n",
    "check_even_odd(33)"
   ]
  },
  {
   "cell_type": "code",
   "execution_count": null,
   "metadata": {},
   "outputs": [],
   "source": [
    "# 関数say_helloを定義します\n",
    "def say_hello(name):\n",
    "    return 'Hello,' + name # 戻り値をRETURN文で返す\n",
    "\n",
    "joy = say_hello('Joy')\n",
    "mary = say_hello('Mary')\n",
    "\n",
    "print(joy)\n",
    "print(mary)"
   ]
  },
  {
   "cell_type": "code",
   "execution_count": null,
   "metadata": {},
   "outputs": [],
   "source": [
    "#複数の引数、関数div_and_modを定義します\n",
    "def div_and_mod(x, y):\n",
    "    div = x//y\n",
    "    mod = x%y\n",
    "    return div, mod\n",
    "\n",
    "div1, mod1 = div_and_mod(100, 23)\n",
    "print(div1, mod1)\n",
    "\n",
    "div2, mod2 = div_and_mod(235, 17)\n",
    "print(div2, mod2)"
   ]
  },
  {
   "cell_type": "code",
   "execution_count": null,
   "metadata": {},
   "outputs": [],
   "source": [
    "# 平均値を求める関数meanを定義します\n",
    "def mean(x):\n",
    "    return sum(x)/len(x)\n",
    "\n",
    "\n",
    "sample_list = [4, 100, 30, 43, 57, 32, 90, 77]\n",
    "\n",
    "result = mean(sample_list)\n",
    "print(result)"
   ]
  },
  {
   "cell_type": "code",
   "execution_count": null,
   "metadata": {},
   "outputs": [],
   "source": [
    "# 実は平均値は statistics モジュールの mean() で求められます。\n",
    "\n",
    "import statistics\n",
    "\n",
    "sample_list = [4, 100, 30, 43, 57, 32, 90, 77]\n",
    "\n",
    "result = statistics.mean(sample_list)\n",
    "print(result)"
   ]
  },
  {
   "cell_type": "code",
   "execution_count": null,
   "metadata": {},
   "outputs": [],
   "source": [
    "# モジュールaddの関数add_oneを利用します\n",
    "from add import add_one \n",
    "\n",
    "# 実行\n",
    "result = add_one(1)\n",
    "print(result)"
   ]
  },
  {
   "cell_type": "code",
   "execution_count": null,
   "metadata": {},
   "outputs": [],
   "source": [
    "# add.py 中に定義しているの関数 add_one を利用するには、以下のように モジュール名.関数名 とドット（.）でつなげて利用します。\n",
    "import add\n",
    "\n",
    "# 実行\n",
    "result = add.add_one(1)\n",
    "print(result)"
   ]
  },
  {
   "cell_type": "code",
   "execution_count": null,
   "metadata": {},
   "outputs": [],
   "source": [
    "# 異なるモジュールに同じ関数名があった場合は、 as を使って関数に別の名前をつけられます。\n",
    "from add_1 import add_one as add_one_1\n",
    "from add_2 import add_one as add_one_2\n",
    "\n",
    "# 実行\n",
    "result_1 = add_one_1(1)\n",
    "print(result_1)\n",
    "result_2 = add_one_2(1)\n",
    "print(result_2)"
   ]
  },
  {
   "cell_type": "code",
   "execution_count": null,
   "metadata": {},
   "outputs": [],
   "source": [
    "from greeting import say_hello, print_morning\n",
    "\n",
    "# 実行\n",
    "say_hello('Bob')\n",
    "print_morning()"
   ]
  },
  {
   "cell_type": "code",
   "execution_count": null,
   "metadata": {},
   "outputs": [],
   "source": [
    "from greeting import *\n",
    "\n",
    "# 実行\n",
    "say_hello('Bob')\n",
    "print_morning()"
   ]
  },
  {
   "cell_type": "code",
   "execution_count": null,
   "metadata": {},
   "outputs": [],
   "source": [
    "# 外部関数を用いる場合\n",
    "# 予め、以下の御呪いを記述しておく（呼び出し先で実行防止）\n",
    "def say_hello():\n",
    "    print('Hello')\n",
    "    \n",
    "if __name__ == '__main__': # ここ\n",
    "    say_hello()"
   ]
  },
  {
   "cell_type": "code",
   "execution_count": null,
   "metadata": {},
   "outputs": [],
   "source": [
    "def check_even_odd(num):\n",
    "    if num % 2 == 0:\n",
    "        print(num, 'is even number!')\n",
    "    else:\n",
    "        print(num, 'is odd number!')\n",
    "\n",
    "def main():\n",
    "    check_even_odd(14)\n",
    "    check_even_odd(25)\n",
    "    check_even_odd(33)\n",
    "\n",
    "if __name__ == '__main__':\n",
    "    main() # 個別に関数化させて記述方法"
   ]
  },
  {
   "cell_type": "markdown",
   "metadata": {},
   "source": [
    "### スコープ　（変数の範囲）\n",
    "---\n",
    "\n",
    "+ ローカルカルスコープ\n",
    "> 関数内の変数 a や b は関数の中でのみ有効な変数です。これを「ローカルスコープ」と呼びます。\n",
    "+ グローバルスコープ\n",
    "> Pythonファイルに直接置かれた変数（変数 g）はグローバル変数です。\n",
    " \n",
    "ローカルスコープにある変数: ローカル変数\n",
    "グローバルスコープにある変数: グローバル変数\n",
    "\n",
    "cf.[9.2. Python のスコープと名前空間](https://docs.python.org/ja/3/tutorial/classes.html#python-scopes-and-namespaces)"
   ]
  },
  {
   "cell_type": "code",
   "execution_count": null,
   "metadata": {},
   "outputs": [],
   "source": [
    "g = 100 # グローバルスコープ（変数）\n",
    "\n",
    "\n",
    "def other():\n",
    "    b = 'local2' # ローカルスコープ（変数）\n",
    "    print(b)\n",
    "    print(g)\n",
    "\n",
    "\n",
    "def main():\n",
    "    a = 'local'  # ローカルスコープ（変数）\n",
    "    print(a)\n",
    "    print(g)\n",
    "    \n",
    "other()\n",
    "main()"
   ]
  },
  {
   "cell_type": "code",
   "execution_count": null,
   "metadata": {},
   "outputs": [],
   "source": [
    "# 実験\n",
    "def scope_test():\n",
    "    def do_local():\n",
    "        spam = \"local spam\"\n",
    "\n",
    "    def do_nonlocal():\n",
    "        nonlocal spam\n",
    "        spam = \"nonlocal spam\"\n",
    "\n",
    "    def do_global():\n",
    "        global spam\n",
    "        spam = \"global spam\"\n",
    "\n",
    "    spam = \"test spam\"\n",
    "    do_local()\n",
    "    print(\"After local assignment:\", spam)\n",
    "    do_nonlocal()\n",
    "    print(\"After nonlocal assignment:\", spam)\n",
    "    do_global()\n",
    "    print(\"After global assignment:\", spam)\n",
    "\n",
    "scope_test()\n",
    "print(\"In global scope:\", spam)"
   ]
  },
  {
   "cell_type": "code",
   "execution_count": null,
   "metadata": {},
   "outputs": [],
   "source": [
    "# 練習　誕生日\n",
    "from datetime import date\n",
    "\n",
    "\n",
    "# 誕生日から現在の年齢を計算する関数calc_age\n",
    "def calc_age(year, month, day):\n",
    "    today = date.today() # 20XX-XX-XX\n",
    "    age = today.year - year\n",
    "\n",
    "    # 今年の誕生日が来ているかどうか判定するために今年の誕生日 this_year_birthday を用意する\n",
    "    this_year_birthday = date(today.year, month, day) #20XX-12-27\n",
    "    if today < this_year_birthday:\n",
    "        age -= 1\n",
    "\n",
    "    return age\n",
    "\n",
    "\n",
    "def main():\n",
    "    # 佐藤さんの年齢を求めて表示する\n",
    "    sato_age = calc_age(1975, 12, 27)\n",
    "    print('佐藤さんは', sato_age, '歳')\n",
    "\n",
    "    # 鈴木さんの年齢を求めて表示する\n",
    "    suzuki_age = calc_age(1995, 1, 10)\n",
    "    print('鈴木さんは', suzuki_age, '歳')\n",
    "\n",
    "\n",
    "if __name__ == '__main__':\n",
    "    main()\n"
   ]
  },
  {
   "cell_type": "markdown",
   "metadata": {},
   "source": [
    "### Tuple (,)\n",
    "---\n",
    "\n",
    "タプルはリストに似たシーケンス型*のオブジェクトです。要素の参照は、リストと同様にインデックスを指定します。\n",
    "\n",
    "\n",
    "\\*[[シーケンス型（Variable）](https://www.python.ambitious-engineer.com/archives/126)] シーケンスとは、複数の値を順番に並べたものをひとかたまりとして格納するための型です。\n",
    "\n",
    "ただし、リストと異なり一度生成されたタプルは要素の変更・追加・削除ができません。\n",
    "そのため、リストにあった append() や insert()、pop() といった要素を変更する関数がありません。\n",
    "\n",
    "```Python\n",
    "def error():\n",
    "    test_tuple = (1, 2)\n",
    "    test_tuple[0] = 100 #書き換えを試みる\n",
    "\n",
    "\n",
    "if __name__ == \"__main__\":\n",
    "    error()\n",
    "\n",
    "# >TypeError: 'tuple' object does not support item assignment\n",
    "```"
   ]
  },
  {
   "cell_type": "code",
   "execution_count": null,
   "metadata": {},
   "outputs": [],
   "source": [
    "def main():\n",
    "    programming_lang = ('Python 1991', 'Ruby 1995', 'Go 2009') #タプル\n",
    "    \n",
    "    for lang in programming_lang:\n",
    "        print(lang, '年生まれ')\n",
    "\n",
    "if __name__ == '__main__':\n",
    "    main()"
   ]
  },
  {
   "cell_type": "markdown",
   "metadata": {},
   "source": [
    "### アンパック代入\n",
    "---\n",
    "\n",
    "> 複数の変数に要素を代入する方法 \n",
    "\n",
    "> (タプルだけでなく、リストや文字列でもアンパック代入できます。)\n",
    "\n",
    "```python\n",
    "a, b = (100, 200)\n",
    "print(a)\n",
    "print(b)\n",
    "```"
   ]
  },
  {
   "cell_type": "code",
   "execution_count": null,
   "metadata": {},
   "outputs": [],
   "source": [
    "def main():\n",
    "    a, b = (100, 200) # アンパック代入タプル\n",
    "    print(a)\n",
    "    print(b)\n",
    "    \n",
    "    x, y, z = [1, 2, 3] #アンパック代入リスト\n",
    "    print(x)\n",
    "    print(y)\n",
    "    print(z)\n",
    "    \n",
    "if __name__ == \"__main__\":\n",
    "    main()"
   ]
  },
  {
   "cell_type": "code",
   "execution_count": null,
   "metadata": {},
   "outputs": [],
   "source": [
    "# 練習　アンパック代入を使った処理\n",
    "def main():\n",
    "    python = ('Python', 1991)\n",
    "    ruby = ('Ruby', 1995)\n",
    "    go = ('Go', 2009)\n",
    "\n",
    "    programming_lang = (python, ruby, go) # タプルの値をタプルに格納\n",
    "\n",
    "    for lang in programming_lang:\n",
    "\n",
    "        # name = lang[0]\n",
    "        # year = lang[1]\n",
    "        \n",
    "        name, year = lang # アンパック代入\n",
    "\n",
    "        print(name, year, '年生まれ', sep='')\n",
    "        \n",
    "if __name__ == \"__main__\":\n",
    "    main()"
   ]
  },
  {
   "cell_type": "markdown",
   "metadata": {},
   "source": [
    "### タプルを辞書のキーとして使おう\n",
    "---\n",
    "\n",
    "タプルは辞書のキーとして使用できます。\n",
    "\n",
    "⭕️```d = {(1, 2): 'A'}```\n",
    "\n",
    "一方、リストを辞書のキーにするとTypeErrorが発生します。\n",
    "\n",
    "❌```d = {[1, 2]: 'A'}```\n",
    "\n",
    "```TypeError: unhashable type: 'list'```\n",
    "\n",
    "\n",
    ">タプルを辞書のキーとして使うことで、たとえば、(緯度, 経度)を入れたタプルをキーにして、値を都市名にすることで座標から都市名を取り出せる辞書が作れます。\n",
    ">タプルの値は直接変更できないようになっていますが、このような値をイミュータブルと呼びます。"
   ]
  },
  {
   "cell_type": "code",
   "execution_count": null,
   "metadata": {},
   "outputs": [],
   "source": [
    "def main():\n",
    "    tuple_key_dict = {(1, 2): 'A'}\n",
    "    print(tuple_key_dict[1, 2])\n",
    "\n",
    "\n",
    "def error():\n",
    "    # リストをキーにした辞書を作る。エラーが出ることを確認する\n",
    "    list_key_dict = {[1, 2]: 'A'}\n",
    "    print(list_key_dict)  # エラーが出るためこの行は実行されない\n",
    "\n",
    "\n",
    "if __name__ == \"__main__\":\n",
    "    main()\n",
    "    error()"
   ]
  },
  {
   "cell_type": "code",
   "execution_count": null,
   "metadata": {},
   "outputs": [],
   "source": [
    "# https://techacademy.jp/magazine/32653\n",
    "\n",
    "import csv\n",
    "\n",
    "f = open('csv/epos.csv', encoding='utf-8')\n",
    "reader = csv.reader(f)\n",
    "header = next(reader) # ラベルデータをスキップする\n",
    "\n",
    "for row in reader:\n",
    "    print(row)\n",
    "f.close()"
   ]
  },
  {
   "cell_type": "code",
   "execution_count": null,
   "metadata": {},
   "outputs": [],
   "source": [
    "def main():\n",
    "    python = (1991, 'Guido')\n",
    "    ruby = (1995, 'Matz')\n",
    "    go = (2009, 'Rob')\n",
    "\n",
    "    lang_dict = {\n",
    "        python: 'Python',\n",
    "        ruby: 'Ruby',\n",
    "        go: 'Go',\n",
    "    }\n",
    "\n",
    "    for lang_info, lang_name in lang_dict.items():\n",
    "        year, designer = lang_info\n",
    "        print(year, designer, lang_name)\n",
    "\n",
    "\n",
    "if __name__ == \"__main__\":\n",
    "    main()\n"
   ]
  },
  {
   "cell_type": "markdown",
   "metadata": {},
   "source": [
    "### エスケープシーケンス\n",
    "\n",
    "```Python\n",
    "\\n # 改行\n",
    "\\t # タブ\n",
    "\n",
    "```\n",
    "\n",
    "[row文字列](https://docs.pyq.jp/python/library/string.html)\n",
    "> \\（バックスラッシュ）を文字列として扱うため\n",
    "```python\n",
    "print(r'Hello\\nWorld!') # Hello\\nWorld! と表示\n",
    "```\n"
   ]
  },
  {
   "cell_type": "code",
   "execution_count": null,
   "metadata": {},
   "outputs": [],
   "source": [
    "print('Good morning')\n",
    "print(\"Good afternoon\")\n",
    "\n",
    "print('Hello\\nWorld!')\n",
    "\n",
    "print('''Good evening\n",
    "Good night''')\n",
    "\n",
    "print(\"\"\"Spam\n",
    "Egg\n",
    "Ham\"\"\")\n",
    "\n",
    "print('\\tこんにちは\\t山本さん')"
   ]
  },
  {
   "cell_type": "markdown",
   "metadata": {},
   "source": [
    "### 文字列のスライス\n",
    "\n",
    "```python\n",
    "'''\n",
    "ファイル名の拡張子（最後の3文字）だけ取り出す。ファイル名から拡張子を取り除くなどに使われます。\n",
    "'''\n",
    "file_name = 'hello.exe'\n",
    "\n",
    "# 拡張子\n",
    "print(file_name[-3:])  # exe\n",
    "# 拡張子を除く\n",
    "print(file_name[:-4])  # hello\n",
    "```"
   ]
  },
  {
   "cell_type": "code",
   "execution_count": null,
   "metadata": {},
   "outputs": [],
   "source": [
    "message = 'Hello, World'\n",
    "\n",
    "print(message[0])  # 1番目の文字\n",
    "print(message[7:])  # 8文字目から最後まで\n",
    "print(message[2:4])  # 3文字目から4文字目まで\n",
    "print(message[:5])  # 最初から5文字目まで\n",
    "print(message[-1])  # 最後の文字\n",
    "print(message[:-3])  # 最初から最後から3文字目の直前まで"
   ]
  },
  {
   "cell_type": "markdown",
   "metadata": {},
   "source": [
    "これまで学んだ ```文字列.rstrip()``` 、 ```文字列.split()``` 以外にも文字列のメソッドがあります。\n",
    "\n",
    "### 文字列.join()\n",
    "---\n",
    "str.join() メソッドを利用し、リストの要素の文字列を結合しましょう。\n",
    "\n",
    "str.join() メソッドは、 ```'文字列'.join(文字列のリスト) ```と書きます。\n",
    "文字列のリスト の各要素を 文字列 を間に挟んで結合します。\n",
    "\n",
    "以下の場合は、 'a' 、 'b' 、 'c' 、を '-' で結合します。\n",
    "```python\n",
    "print('-'.join(['a', 'b', 'c']))\n",
    "```\n",
    "\n",
    "### 文字列.replace()\n",
    "---\n",
    "\n",
    "```文字列.replace()``` メソッドは、以下のように利用し文字列中の 元文字列 を 置換文字列 で置換します。\n",
    "\n",
    "'文字列'.replace('元文字列', '置換文字列')\n",
    "```python\n",
    "template = \"\"\"\\\n",
    "<名前>様\n",
    "この度はアンケートへ回答いただきありがとうございます。\n",
    "次回ご来店時に<金額>円offクーポンを発行しますので、ご依頼ください。\"\"\"\n",
    "\n",
    "message = template.replace('<名前>', '木村').replace('<金額>', 100)\n",
    "print(message)\n",
    "\n",
    "```\n",
    "\n",
    "str.replace()は指定した文字列の一部を置換した結果を返します。第3引数に何個目まで置換するかを指定できます。省略した場合は当てはまる全文字列を置換します。\n",
    "```python\n",
    "a = 'Hello, World'\n",
    "b = a.replace('o', 'v')\n",
    "print(b)\n",
    "# Hellv, Wvrld\n",
    "\n",
    "c = a.replace('o', 'v', 1)\n",
    "print(c)\n",
    "# Hellv, World\n",
    "```"
   ]
  },
  {
   "cell_type": "markdown",
   "metadata": {},
   "source": [
    "### % を使った書式指定 \n",
    "> 文字列にデータを差し込む方法\n",
    "\n",
    "[6.1.3.1. 書式指定ミニ言語仕様](https://docs.python.org/ja/3/library/string.html#format-specification-mini-language)\n",
    "\n",
    "複数の値を置き換えたい場合は、%の後ろにタプルを渡します。\n",
    "\n",
    "+ %s - 文字列\n",
    "+ %d - 10進整数\n",
    "\n",
    "現在は%を利用した整形より、次から学習するstr.format()やf-stringsをよく使います。"
   ]
  },
  {
   "cell_type": "code",
   "execution_count": null,
   "metadata": {},
   "outputs": [],
   "source": [
    "# %を使った書式指定\n",
    "age = 10\n",
    "name = '山田'\n",
    "\n",
    "# この下に処理を記述します\n",
    "msg = '私は%d才です。' % age\n",
    "print(msg)\n",
    "\n",
    "print('こんにちは%sさん' % name)\n",
    "\n",
    "print('%sさんは%d才です。' % (name, age))"
   ]
  },
  {
   "cell_type": "markdown",
   "metadata": {},
   "source": [
    "### str.format()\n",
    "書式指定文字列{}に名前を指定しているので、str.format()関数の呼び出し時に、名前に値を渡すことで、該当する書式指定文字列の部分に値が埋め込まれます。\n",
    "str.format()関数に値を指定する際に、どのような順序で値を渡しても大丈夫ですが、必ず名前=値の形式で引数を指定します。"
   ]
  },
  {
   "cell_type": "code",
   "execution_count": null,
   "metadata": {},
   "outputs": [],
   "source": [
    "print('{}, {}!'.format('Hello','World'))\n",
    "print('{}, {}!'.format('World', 'Hello'))\n",
    "print('{1}, {0}!'.format('Hello','World'))\n",
    "print('{0}, {1}, {0}!'.format('Hello','World'))"
   ]
  },
  {
   "cell_type": "code",
   "execution_count": null,
   "metadata": {},
   "outputs": [],
   "source": [
    "card = \"\"\"\\\n",
    "株式会社ビープラウド\n",
    "{job_title}\n",
    "{name}\n",
    "MAIL: {mail}\n",
    "TEL: 03-9999-9999 FAX: 03-9999-9998 内線: {extension}\n",
    "URL: https://www.beproud.jp\n",
    "\"\"\"\n",
    "\n",
    "sato_card = card.format(name='佐藤太郎',\n",
    "                       job_title='エンジニア',\n",
    "                       mail='taro@beproud.jp',\n",
    "                       extension='1234')\n",
    "\n",
    "print(sato_card)\n"
   ]
  },
  {
   "cell_type": "code",
   "execution_count": null,
   "metadata": {},
   "outputs": [],
   "source": [
    "# フォーマット済み文字列リテラル(f-string: formatted string literal)\n",
    "#文字列リテラルの引用符の前に f または F をつけます。\n",
    "#引用符の中に変数などを {変数} と指定します。\n",
    "\n",
    "var1 = \"Hello\"\n",
    "var2 = 100\n",
    "\n",
    "print(f'{var1} World')\n",
    "# 「Hello World」 と表示\n",
    "\n",
    "print(f'{var2} 歳')\n",
    "# 「100 歳」 と表示\n",
    "\n",
    "fruits = ['もも', 'りんご', 'なし']\n",
    "print(f'今日の果物: {fruits[1]}')\n",
    "# 「今日の果物: りんご」 と表示"
   ]
  },
  {
   "cell_type": "markdown",
   "metadata": {},
   "source": [
    "### 数値の書式\n",
    "format()を用いて文字列の中に値を埋め込むとき、数値の書式を指定できます。\n",
    "たとえば、10進数として表示したり、小数第六位まで表示という指定ができます。\n",
    "```\n",
    "{:d} : 10進数として表示\n",
    "\n",
    "{:f} : 小数第六位まで表示\n",
    "```\n",
    "> {:.nf} 小数第n位まで表示\n",
    "\n",
    "[Pythonの文字列フォーマット（formatメソッドの使い方）](https://gammasoft.jp/blog/python-string-format/)"
   ]
  },
  {
   "cell_type": "code",
   "execution_count": null,
   "metadata": {},
   "outputs": [],
   "source": [
    "scores = {\n",
    "    '国語': 99,\n",
    "    '算数': 71,\n",
    "    '英語': 80\n",
    "}\n",
    "\n",
    "\n",
    "def main():\n",
    "    #pass\n",
    "    total = 0\n",
    "    for score in scores.values():\n",
    "        total += score\n",
    "    \n",
    "    print('3教科の合計点は{:d}点'.format(total))\n",
    "    print('3教科の平均点は{:f}点'.format(total/len(scoresr)))\n",
    "\n",
    "\n",
    "if __name__ == '__main__':\n",
    "    main()"
   ]
  },
  {
   "cell_type": "code",
   "execution_count": null,
   "metadata": {},
   "outputs": [],
   "source": [
    "x = 11\n",
    "y = 2.5555555\n",
    "print('{0:d}, {0:d}, {1:f}, {1:f}, {1:.3f}'.format(x, y))\n",
    "# 11, 11, 2.555556, 2.555556 2.556"
   ]
  },
  {
   "cell_type": "code",
   "execution_count": null,
   "metadata": {},
   "outputs": [],
   "source": [
    "numbers = [10, 30, 33, 33, 23, 22, 44]\n",
    "\n",
    "\n",
    "def calc_avg(values):\n",
    "    \"\"\"引数で渡されたリストの平均値を表示する.\"\"\"\n",
    "    # 戻り値は平均値（浮動小数点数型）\n",
    "    # pass\n",
    "    total = 0\n",
    "    for i in numbers:\n",
    "        total += i\n",
    "    return total/len(numbers)\n",
    "\n",
    "\n",
    "def main():\n",
    "    \"\"\"メインの処理.\"\"\"\n",
    "    res = calc_avg(numbers)\n",
    "#     print('{0:.3f}'.format(res)) # インデックス数が０は省略可能\n",
    "    print('{:.3f}'.format(res))\n",
    "\n",
    "\n",
    "if __name__ == '__main__':\n",
    "    main()\n"
   ]
  },
  {
   "cell_type": "code",
   "execution_count": null,
   "metadata": {},
   "outputs": [],
   "source": [
    "print('{0:.1f} {1:.2f} {2:.3f}'.format(3.1415, 3.1415, 3.1415))"
   ]
  },
  {
   "cell_type": "markdown",
   "metadata": {},
   "source": [
    "### 文字列の存在確認 \n",
    "---\n",
    "```python\n",
    "def main():\n",
    "    \"\"\"メインの処理.\"\"\"\n",
    "    # pass\n",
    "    with open('input/reservation.csv', encoding='utf-8') as f:\n",
    "        for row in f:\n",
    "            if '山田' in row: # 文字列に特定の文字列が含まれているか確認するときは in 演算子\n",
    "                print(row.rstrip())\n",
    "\n",
    "\n",
    "\n",
    "if __name__ == '__main__':\n",
    "    main()\n",
    "```"
   ]
  },
  {
   "cell_type": "code",
   "execution_count": null,
   "metadata": {},
   "outputs": [],
   "source": [
    "def main():\n",
    "    \"\"\"メインの処理.\"\"\"\n",
    "    with open('input/reservation.csv', encoding='utf-8') as f:\n",
    "        for row in f:\n",
    "            \n",
    "            \n",
    "            if row.startswith('山田'): # 文字列が指定引数から始まるならTrue、そうでなければFalse\n",
    "                print(row.rstrip())\n",
    "                \n",
    "            if row[:2] == '山田': # 文字列のスライスを利用し、最初から2文字が山田か判定\n",
    "                print(row.rstrip())\n",
    "                \n",
    "            if row.find('山田') == 0: # 指定した文字列が文字列のどの位置から開始しているかを返す\n",
    "                print(row.rstrip())\n",
    "\n",
    "\n",
    "if __name__ == '__main__':\n",
    "    main()"
   ]
  },
  {
   "cell_type": "code",
   "execution_count": null,
   "metadata": {},
   "outputs": [],
   "source": [
    "zen_of_python = \"\"\"Beautiful is better than ugly.\n",
    "Explicit is better than implicit.\n",
    "Simple is better than complex.\n",
    "Complex is better than complicated.\n",
    "Flat is better than nested.\n",
    "Sparse is better than dense.\n",
    "Readability counts.\n",
    "Special cases aren't special enough to break the rules.\n",
    "Although practicality beats purity.\n",
    "Errors should never pass silently.\n",
    "Unless explicitly silenced.\n",
    "In the face of ambiguity, refuse the temptation to guess.\n",
    "There should be one-- and preferably only one --obvious way to do it.\n",
    "Although that way may not be obvious at first unless you're Dutch.\n",
    "Now is better than never.\n",
    "Although never is often better than *right* now.\n",
    "If the implementation is hard to explain, it's a bad idea.\n",
    "If the implementation is easy to explain, it may be a good idea.\n",
    "Namespaces are one honking great idea -- let's do more of those!\"\"\"\n",
    "\n",
    "rows = zen_of_python.splitlines() # 1行ずつ取得：文字列から改行までのデータを取得\n",
    "\n",
    "for row in rows:\n",
    "    length = len(row)\n",
    "    print(length, '文字: ', row)"
   ]
  },
  {
   "cell_type": "markdown",
   "metadata": {},
   "source": [
    "### 除算した商と余り\n",
    "```divmod(引数1, 引数2)```は引数1を引数2で除算した商と余りを返します。\n",
    "整数では、結果は```(a // b, a % b)```と同じ!"
   ]
  },
  {
   "cell_type": "code",
   "execution_count": null,
   "metadata": {},
   "outputs": [],
   "source": [
    "x1, y1 = divmod(10, 3)\n",
    "print('10割る3の商は{}, 余りは{}です。'.format(x1, y1))\n",
    "\n",
    "x2, y2 = divmod(200, 7)\n",
    "print('200割る7の商は{}, 余りは{}です。'.format(x2, y2))"
   ]
  },
  {
   "cell_type": "markdown",
   "metadata": {},
   "source": [
    "### 値の型を判定"
   ]
  },
  {
   "cell_type": "code",
   "execution_count": null,
   "metadata": {},
   "outputs": [],
   "source": [
    "print(type(4))\n",
    "print(type(2.5))\n",
    "print(type('あいうえお'))"
   ]
  },
  {
   "cell_type": "code",
   "execution_count": null,
   "metadata": {},
   "outputs": [],
   "source": [
    "def is_child(age):\n",
    "    return age < 18\n",
    "\n",
    "def is_kanto(address):\n",
    "    kanto = ['茨城県', '栃木県', '群馬県', '埼玉県', '千葉県', '東京都', '神奈川県']\n",
    "    return address in kanto\n",
    "\n",
    "\n",
    "def main():\n",
    "    members = [\n",
    "            {'name': 'サトシ', 'age': 13, 'address': '東京都'},\n",
    "            {'name': 'ヨウコ', 'age': 16, 'address': '大阪府'},\n",
    "            {'name': 'ハジメ', 'age': 25, 'address': '千葉県'}\n",
    "        ]\n",
    "\n",
    "    for member in members:\n",
    "        if is_child(member['age']) and is_kanto(member['address']):\n",
    "            print('{}は関東在住の子供'.format(member['name']))\n",
    "\n",
    "if __name__ == '__main__':\n",
    "    main()"
   ]
  },
  {
   "cell_type": "code",
   "execution_count": null,
   "metadata": {},
   "outputs": [],
   "source": []
  }
 ],
 "metadata": {
  "kernelspec": {
   "display_name": "Python 3",
   "language": "python",
   "name": "python3"
  },
  "language_info": {
   "codemirror_mode": {
    "name": "ipython",
    "version": 3
   },
   "file_extension": ".py",
   "mimetype": "text/x-python",
   "name": "python",
   "nbconvert_exporter": "python",
   "pygments_lexer": "ipython3",
   "version": "3.8.5"
  },
  "toc-autonumbering": false,
  "toc-showcode": false,
  "toc-showmarkdowntxt": false,
  "toc-showtags": false
 },
 "nbformat": 4,
 "nbformat_minor": 4
}
