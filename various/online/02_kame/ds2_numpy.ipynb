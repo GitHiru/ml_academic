{
 "cells": [
  {
   "cell_type": "markdown",
   "metadata": {},
   "source": [
    "# NumPy\n",
    "\n",
    "> `index`\n",
    "> + [6 NumPy](#6-NumPy)\n",
    "> + [7 indexingとslicing](#7-indexingとslicing)\n",
    "> + [8 行列生成](#8-行列生成)\n",
    "> + [9 よく使う便利関数](#9-よく使う便利関数)\n",
    "\n",
    "> `cf.`\n",
    "> + [データサイエンスのためのPython入門⑥〜はじめてのNumpy〜](https://datawokagaku.com/numpy/)\n",
    "> + [データサイエンスのためのPython入門⑦〜これだけ知っておけばいいNumPyのindexingとslicing〜](https://datawokagaku.com/numpy_slice/)\n",
    "> + [データサイエンスのためのPython入門⑧〜NumPyでよく使う行列生成〜](https://datawokagaku.com/numpy_generate/)\n",
    "> + [データサイエンスのためのPython入門⑨〜NumPyでよく使う便利関数〜](https://datawokagaku.com/numpy_functions/)\n",
    "\n",
    "---"
   ]
  },
  {
   "cell_type": "markdown",
   "metadata": {},
   "source": [
    "## <a id='6'>6 NumPy</a>\n",
    "\n",
    "> ```memo```\n",
    "> + 科学や数学のための数値計算モジュール\n",
    "> + Numerical Pythonの略\n",
    "> + 行列計算が得意、[フーリエ変換](https://www.google.com/search?>q=%E3%83%95%E3%83%BC%E3%83%AA%E3%82%A8%E5%A4%89%E6%8F%9B&oq=hu-rie&aqs=chrome.1.69i57j0i4i433l2j0i4l2j0i4i395l5.2714j1j7&sourceid=chrome&ie=UTF-8)とか乱数の生成にも使える\n",
    "> + 「世界中のデータサイエンティストがPythonを使う理由はNumpyがあるから」と言っても過言ではないらしい\n",
    "> + Anacondaディストリビューションに入っている\n",
    "> + インストールは、```$conda install numpy```  や ```$pip install numpy```"
   ]
  },
  {
   "cell_type": "code",
   "execution_count": 1,
   "metadata": {},
   "outputs": [],
   "source": [
    "# インポート\n",
    "import numpy as np"
   ]
  },
  {
   "cell_type": "code",
   "execution_count": 3,
   "metadata": {},
   "outputs": [
    {
     "data": {
      "text/plain": [
       "'1.19.4'"
      ]
     },
     "execution_count": 3,
     "metadata": {},
     "output_type": "execute_result"
    }
   ],
   "source": [
    "# バージョン確認\n",
    "np.version.full_version"
   ]
  },
  {
   "cell_type": "code",
   "execution_count": 4,
   "metadata": {},
   "outputs": [
    {
     "data": {
      "text/plain": [
       "'/Users/t/.pyenv/versions/3.8.5/lib/python3.8/site-packages/numpy/__init__.py'"
      ]
     },
     "execution_count": 4,
     "metadata": {},
     "output_type": "execute_result"
    }
   ],
   "source": [
    "# numpyモジュールの所在確認\n",
    "np.__file__"
   ]
  },
  {
   "cell_type": "markdown",
   "metadata": {},
   "source": [
    "### | 行列とはなんぞ？\n",
    "> 縦と横に数字が羅列したもの(ざっくりw)\n",
    "\n",
    "> ```memo```\n",
    "> + 一般に，線形代数という数学の分野\n",
    "> > cf.[【機械学習のための】数学を勉強するのにおすすめの本とロードマップ【米国データサイエンティスト厳選】](https://datawokagaku.com/math_books/)\n",
    "([マセマの本](https://www.mathema.jp/)がわかりやすくてお勧め)\n",
    "> + NumPyはこの「行列」の計算を簡単にしかも高速にできる"
   ]
  },
  {
   "cell_type": "markdown",
   "metadata": {},
   "source": [
    "#### - ベクトル(Vector)\n",
    "> 数を一列にならべたもの(ざっくりw)<br>\n",
    ">$\n",
    "M=\n",
    "\\begin{bmatrix}\n",
    "1\\\\\n",
    "2\\\\\n",
    "3\n",
    "\\end{bmatrix}\n",
    "\\ \n",
    "N=\n",
    "\\begin{bmatrix}\n",
    "1& 2& 3\n",
    "\\end{bmatrix}\n",
    "$"
   ]
  },
  {
   "cell_type": "markdown",
   "metadata": {},
   "source": [
    "#### - 行列(Matrix)\n",
    ">$\n",
    "M=\n",
    "\\begin{bmatrix}\n",
    "1& 2& 3\\\\\n",
    "4& 5& 6\\\\\n",
    "7& 8& 9\n",
    "\\end{bmatrix}\n",
    "$"
   ]
  },
  {
   "cell_type": "markdown",
   "metadata": {},
   "source": [
    "### | NumPy Arraysを使ってみる"
   ]
  },
  {
   "cell_type": "code",
   "execution_count": 6,
   "metadata": {},
   "outputs": [
    {
     "data": {
      "text/plain": [
       "[1, 2, 3]"
      ]
     },
     "execution_count": 6,
     "metadata": {},
     "output_type": "execute_result"
    }
   ],
   "source": [
    "# 普通のPythonのリスト\n",
    "python_list = [1, 2, 3]\n",
    "python_list"
   ]
  },
  {
   "cell_type": "code",
   "execution_count": 7,
   "metadata": {},
   "outputs": [
    {
     "data": {
      "text/plain": [
       "array([1, 2, 3])"
      ]
     },
     "execution_count": 7,
     "metadata": {},
     "output_type": "execute_result"
    }
   ],
   "source": [
    "# NumPy Arraysのリスト\n",
    "np_list = np.array([1, 2, 3])\n",
    "np_list"
   ]
  },
  {
   "cell_type": "code",
   "execution_count": null,
   "metadata": {},
   "outputs": [],
   "source": [
    "# Pythonで入れ子（ネスト）のリスト\n",
    "python_list = [[1, 2, 3], [4, 5, 6], [7, 8, 9]]\n",
    "python_list"
   ]
  },
  {
   "cell_type": "code",
   "execution_count": null,
   "metadata": {},
   "outputs": [],
   "source": [
    "# NumPyArraysの行列\n",
    "np_list = np.array([[1, 2, 3], [4, 5, 6], [7, 8, 9]])\n",
    "np_list"
   ]
  },
  {
   "cell_type": "markdown",
   "metadata": {},
   "source": [
    "### | NumPy Arraysの演算"
   ]
  },
  {
   "cell_type": "markdown",
   "metadata": {},
   "source": [
    "#### - 行列演算 (四則演算)"
   ]
  },
  {
   "cell_type": "code",
   "execution_count": null,
   "metadata": {},
   "outputs": [],
   "source": [
    "array1 = np.array([[1, 2, 3], [4, 5, 6], [7, 8, 9]])\n",
    "array2 = np.array([[1, 2, 3], [4, 5, 6], [7, 8, 9]])"
   ]
  },
  {
   "cell_type": "code",
   "execution_count": null,
   "metadata": {},
   "outputs": [],
   "source": [
    "array1 + array2"
   ]
  },
  {
   "cell_type": "code",
   "execution_count": null,
   "metadata": {},
   "outputs": [],
   "source": [
    "array1 - array2"
   ]
  },
  {
   "cell_type": "code",
   "execution_count": null,
   "metadata": {},
   "outputs": [],
   "source": [
    "array1 * array2"
   ]
  },
  {
   "cell_type": "code",
   "execution_count": null,
   "metadata": {},
   "outputs": [],
   "source": [
    "array1 / array2"
   ]
  },
  {
   "cell_type": "markdown",
   "metadata": {},
   "source": [
    "#### - broadcast\n",
    "+ [NumPy - Broadcasting](https://www.tutorialspoint.com/numpy/numpy_broadcasting.htm)\n",
    "\n",
    "![img](https://datawokagaku.com/wp-content/uploads/2020/01/numpy_broadcast-300x104.png)\n",
    ">source:https://www.tutorialspoint.com/numpy/numpy_broadcasting.htm"
   ]
  },
  {
   "cell_type": "code",
   "execution_count": null,
   "metadata": {},
   "outputs": [],
   "source": [
    "# 行列のサイズが合わない者同士で計算\n",
    "array1 = np.array([1, 2, 3]) #(1,3)\n",
    "array2 = np.array([[1, 2, 3], [4, 5, 6], [7, 8, 9]]) #(3,3)"
   ]
  },
  {
   "cell_type": "code",
   "execution_count": null,
   "metadata": {},
   "outputs": [],
   "source": [
    "a = array1 + array2\n",
    "b = array1 - array2\n",
    "c = array1 * array2\n",
    "d = array1 / array2\n",
    "print('{0} \\n---\\n {1} \\n---\\n {2} \\n---\\n {3}'.format(a, b, c, d))"
   ]
  },
  {
   "cell_type": "code",
   "execution_count": null,
   "metadata": {},
   "outputs": [],
   "source": [
    "# 足りない要素は[1, 2, 3]で自動的に補完されたことの証明\n",
    "\n",
    "array1 = np.array([[1, 2, 3], [1, 2, 3], [1, 2, 3]]) #(3,3)\n",
    "array2 = np.array([[1, 2, 3], [4, 5, 6], [7, 8, 9]]) #(3,3)\n",
    "\n",
    "a = array1 + array2\n",
    "b = array1 - array2\n",
    "c = array1 * array2\n",
    "d = array1 / array2\n",
    "print('{0} \\n---\\n {1} \\n---\\n {2} \\n---\\n {3}'.format(a, b, c, d))"
   ]
  },
  {
   "cell_type": "markdown",
   "metadata": {},
   "source": [
    "#### - .shape"
   ]
  },
  {
   "cell_type": "code",
   "execution_count": null,
   "metadata": {},
   "outputs": [],
   "source": [
    "array = np.array([[1, 2], [3, 4], [5, 6]])\n",
    "print(array)\n",
    "array.shape"
   ]
  },
  {
   "cell_type": "markdown",
   "metadata": {},
   "source": [
    "## 7 indexingとslicing\n",
    "```memo```\n",
    "+ NumPyの操作で圧倒的に多いのはこのIndexingとSlicing(さらにいうとslicingが多い)\n",
    "+ indexingとslicingはデータサイエンスに欠かせない操作\n",
    "> 実業務では，ぶっちゃけ行列演算ってそんなにしない\n",
    "> \n",
    "> + 自分で数式を作って生のデータをそれにぶっこむとき\n",
    "> + 例えば深層学習の中間層に自分で行列演算の式を書くとき\n",
    ">> そういうときはNumPyではなくてNumPyを内部で使ってる別のパッケージを使ったり\n",
    "+ N次元Arrayのことをndarray(N-dimentional array)"
   ]
  },
  {
   "cell_type": "markdown",
   "metadata": {},
   "source": [
    "### | Indexing\n",
    "<img src='https://datawokagaku.com/wp-content/uploads/2020/01/numpy_index_basic-300x211.png' width=25%>"
   ]
  },
  {
   "cell_type": "code",
   "execution_count": null,
   "metadata": {},
   "outputs": [],
   "source": [
    "ndarray = np.array([[1, 2], [3, 4], [5, 6]])\n",
    "ndarray"
   ]
  },
  {
   "cell_type": "code",
   "execution_count": null,
   "metadata": {},
   "outputs": [],
   "source": [
    "# ●行●列のデータ取得\n",
    "print(ndarray[1][0])\n",
    "print(ndarray[1, 0]) #(一般的)"
   ]
  },
  {
   "cell_type": "code",
   "execution_count": null,
   "metadata": {},
   "outputs": [],
   "source": [
    "# 3次元以降の配列(画像処理でよく使われる)\n",
    "ndarray = np.array([\n",
    "    [[1,2],[3,4],[5,6]],\n",
    "    [[7,8],[9,10],[11,12]],\n",
    "    [[13,14],[15,16],[17,18]]\n",
    "])\n",
    "print(ndarray, '\\n\\n', ndarray.shape)"
   ]
  },
  {
   "cell_type": "code",
   "execution_count": null,
   "metadata": {},
   "outputs": [],
   "source": [
    "ndarray[0]"
   ]
  },
  {
   "cell_type": "code",
   "execution_count": null,
   "metadata": {},
   "outputs": [],
   "source": [
    "ndarray[0, 2]"
   ]
  },
  {
   "cell_type": "code",
   "execution_count": null,
   "metadata": {},
   "outputs": [],
   "source": [
    "ndarray[0 ,2, 0] #height, width, channel"
   ]
  },
  {
   "cell_type": "markdown",
   "metadata": {},
   "source": [
    "```mame```\n",
    "\n",
    "３次元なら(height, width, channel)のようにコメントを書いておき，どこの要素にindexすればどの情報が得られるのかわかるようにします．\n",
    "\n",
    "+ 一般的に白黒画像なら(height, width)\n",
    "+ カラー画像なら(height, width, channel)\n",
    "> (channelというのはRed, Green，Blueのようなそれぞれの色のチャネル)"
   ]
  },
  {
   "cell_type": "markdown",
   "metadata": {},
   "source": [
    "### | Slicing（重要）\n",
    "<img src='https://datawokagaku.com/wp-content/uploads/2020/01/slicing_basic-768x271.png' width=45%>\n",
    "\n",
    "[N:M]としたとき，indexが「N以上M未満」の要素をとってきます\n",
    "\n",
    "```e.g.```\n",
    "例えば画像のndarrayで、右半分だけ表示するとき\n",
    "[:, 2/width:]とslicingすると右半分になる。\n",
    "\n",
    "<img src='https://datawokagaku.com/wp-content/uploads/2020/01/2d_slice.png' width=45%>"
   ]
  },
  {
   "cell_type": "code",
   "execution_count": null,
   "metadata": {},
   "outputs": [],
   "source": [
    "array = np.array([\n",
    "    [1, 2, 3, 4],\n",
    "    [2, 4, 6, 4],\n",
    "    [3, 5, 7, 4],\n",
    "    [3, 5, 7, 4]\n",
    "])\n",
    "array"
   ]
  },
  {
   "cell_type": "code",
   "execution_count": null,
   "metadata": {},
   "outputs": [],
   "source": [
    "array[:, 2:] #全行、２列以降"
   ]
  },
  {
   "cell_type": "code",
   "execution_count": null,
   "metadata": {},
   "outputs": [],
   "source": [
    "#（練習）下２段を取得\n",
    "print(array[2:,])\n",
    "print(array[2:, :])"
   ]
  },
  {
   "cell_type": "code",
   "execution_count": null,
   "metadata": {},
   "outputs": [],
   "source": [
    "#（練習）右下から４マス取得\n",
    "array[2:, 2:]"
   ]
  },
  {
   "cell_type": "code",
   "execution_count": null,
   "metadata": {},
   "outputs": [],
   "source": [
    "array = np.array([1, 2, 3, 4, 5, 6, 7])\n",
    "print(array[1:6])\n",
    "print(array[1:6:2]) #(n:m:L) Lは飛び　＝２個飛ばし"
   ]
  },
  {
   "cell_type": "markdown",
   "metadata": {},
   "source": [
    "```mame```\n",
    "\n",
    "    他にもややこしいslicingのルールが存在します.\n",
    "    しかし,本当にややこしすぎてコードを書いている人も理解しにくいものが多く,可読性が低くなるのであまり好まれません!"
   ]
  },
  {
   "cell_type": "markdown",
   "metadata": {},
   "source": [
    "## <a id='8'>8 行列生成</a>"
   ]
  },
  {
   "cell_type": "markdown",
   "metadata": {},
   "source": [
    "### | 様々なndarrayを作る"
   ]
  },
  {
   "cell_type": "markdown",
   "metadata": {},
   "source": [
    "#### - np.arange([start,] stop[, step])\n",
    "    よく使います．\n",
    "    start以上stop未満の値をstepずつ増加させた値のarray．\n",
    "    ちなみに↑の関数の引数の表記で，[]は省略可能を意味します．\n",
    "    つまり，startとstepは省略可能で，それぞれ0と1がデフォルトで入ります．\n",
    "    \n",
    "```memo```\n",
    "\n",
    "現場活用例：\n",
    "[閾値](https://ja.wikipedia.org/wiki/%E3%81%97%E3%81%8D%E3%81%84%E5%80%A4)をたくさん用意してその結果がどう変わるか見る場合に`np.arange()`で閾値のリストを作成。\n"
   ]
  },
  {
   "cell_type": "code",
   "execution_count": null,
   "metadata": {},
   "outputs": [],
   "source": [
    "import numpy as np\n",
    "\n",
    "print(np.arange(5))\n",
    "print(np.arange(0, 5, 1))"
   ]
  },
  {
   "cell_type": "code",
   "execution_count": null,
   "metadata": {},
   "outputs": [],
   "source": [
    "print(np.arange(0, 5, 2))\n",
    "print(np.arange(0, 5, 0.1))"
   ]
  },
  {
   "cell_type": "markdown",
   "metadata": {},
   "source": [
    "#### - np.linspace(start, stop, num=50)\n",
    "    np.arange()がstepだったのに対し，np.linspace()は要素の数(num)を指定します．\n",
    "    startからstopまでの値をnum等分した値がarrayで返されます．\n",
    "    stepを指定したい時はnp.arange()で，\n",
    "    stepはなんでもいいが特定の数だけほしいという場合はnp.linspace()を使いましょう．(stopの値を含むことに注意しましょう．)"
   ]
  },
  {
   "cell_type": "code",
   "execution_count": null,
   "metadata": {},
   "outputs": [],
   "source": [
    "np.linspace(1, 2, 20)"
   ]
  },
  {
   "cell_type": "markdown",
   "metadata": {},
   "source": [
    "#### - .copy()\n",
    "    arrayをコピーします．本当にそれだけです．\n",
    "    コピーされたarrayは全く別のオブジェクトになります．\n",
    "\n",
    "```Cf.```\n",
    "+ [Pythonの変数とオブジェクトID - Qiita](https://qiita.com/inatatsu_csg/items/b953ff8049bd47276778)"
   ]
  },
  {
   "cell_type": "code",
   "execution_count": null,
   "metadata": {},
   "outputs": [],
   "source": [
    "ndarray = np.arange(0, 5)\n",
    "ndarray_copy = ndarray.copy()\n",
    "print('original arrays value is  {0}, id: {1}.'.format(ndarray, id(ndarray)))\n",
    "print('copied arrays value is {0}, id: {1}.'.format(ndarray_copy, id(ndarray_copy)))"
   ]
  },
  {
   "cell_type": "markdown",
   "metadata": {},
   "source": [
    "```memo```\n",
    "\n",
    "Pythonでは基本`参照渡し`です．\n",
    "NumPy Arrayはmutableなオブジェクトなので，関数内で変更されると，元の変数にも影響があることに気をつけましょう．\n",
    "`値渡し`にしたいときに.copy()をよく使います．\n",
    "\n"
   ]
  },
  {
   "cell_type": "markdown",
   "metadata": {},
   "source": [
    "##### (番外) 参照渡し、値渡し"
   ]
  },
  {
   "cell_type": "code",
   "execution_count": null,
   "metadata": {},
   "outputs": [],
   "source": [
    "# 参照渡しの例\n",
    "a = 'test'\n",
    "print('id:', id(a), sep='')\n",
    "\n",
    "def f(n):\n",
    "    print('id:', id(n), sep='')\n",
    "f(a)"
   ]
  },
  {
   "cell_type": "markdown",
   "metadata": {},
   "source": [
    "（結論）同じIDが割り振られている。\n",
    "\n",
    "    関数f（）にa=’test’の文字列の変数を入れました．\n",
    "    aと言う変数はid(a)からIDが割り当てられていて，メモリに保存されています．\n",
    "    f(a)を実行したときに，fの引数parametersにaの情報が渡されるわけですが，このparametersのIDをみても，同じIDが割り当てられている。\n",
    "    つまり，Pythonでは，関数に引数を渡す際には，値をコピーして渡しているのではなく，\n",
    "    メモリの参照先(アドレス)を渡している．　これを「参照渡し」といい，逆に値をコピーして渡すやり方を「値渡し」と言います．"
   ]
  },
  {
   "cell_type": "markdown",
   "metadata": {},
   "source": [
    "##### (番外) mutable, immutable"
   ]
  },
  {
   "cell_type": "code",
   "execution_count": null,
   "metadata": {},
   "outputs": [],
   "source": [
    "# mutable immutable の例\n",
    "str_say = 'Hello'\n",
    "list_say = ['H', 'e', 'l', 'l', 'o']\n",
    "print('string: {}'.format(str_say))\n",
    "print('list: {}'.format(list_say))\n",
    "print('-'*20)\n",
    "\n",
    "def add(say):\n",
    "    say += 'World'\n",
    "    return say\n",
    "\n",
    "output1 =add(str_say)\n",
    "output2 = add(list_say)\n",
    "print('string: {}'.format(output1))\n",
    "print('list: {}'.format(output2))\n",
    "print('-'*20)\n",
    "\n",
    "print('string: {} \\n ∴string is immutable'.format(str_say))\n",
    "print('list: {} \\n ∴list is mutable'.format(list_say))"
   ]
  },
  {
   "cell_type": "markdown",
   "metadata": {},
   "source": [
    "    この挙動の違いは，引数に渡しているオブジェクトがimmutableかmutableかの違いにあります．\n",
    "    (mutableというのは’変わりやすい’, immutableは’不変の’と言う意味)\n",
    "\n",
    "```mutable(変わりやすい)```\n",
    "+ list\n",
    "+ dict\n",
    "+ set\n",
    "\n",
    "```immutable(不変の)```\n",
    "+ str\n",
    "+ int\n",
    "+ float\n",
    "+ bool\n",
    "+ tapul"
   ]
  },
  {
   "cell_type": "markdown",
   "metadata": {},
   "source": [
    "##### (番外)NumPy Arrayで初心者がやりがちなこと\n",
    "\n",
    "    immutableのオブジェクトを引数に渡して関数内でそれを更新する場合は，結局内部でコピーを作るので値渡しのような挙動になります．\n",
    "    NumPyとかListってたくさんの値を保持することが多いのでデータ量が巨大になりがちです．\n",
    "    それをいちいちコピーしてたら大変なので参照渡しの挙動になると考えましょう．\n",
    "    \n",
    "    以下はNumPy Arrayの例です． .copy() をしないと直接もとの変数を上書きしてしまうので超注意です．\n",
    "\n",
    "　　　　（初心者がよくやるバグの原因です．以下の例をみてください．）\n",
    "    \n",
    "    arrayをそのまま更新している関数(change_100)に対して，\n",
    "    copyしてから更新している関数(change_100_copy)ではもとのarrayが更新されていないです．\n",
    "    関数内で直接arrayを更新する時は気をつけましょう．\n",
    "    メモリに余裕があると思ったら .copy() して値渡しにすることを検討しましょう．\n"
   ]
  },
  {
   "cell_type": "code",
   "execution_count": null,
   "metadata": {},
   "outputs": [],
   "source": [
    "array1 = np.arange(4)\n",
    "array2 = np.arange(4)\n",
    "print('original array1 is {} ({}).'.format(array1, id(array1)))\n",
    "print('original array2 is {} ({}).'.format(array2, id(array2)))\n",
    "print('-'*20)\n",
    "\n",
    "\n",
    "def change_100(array):\n",
    "    array[0] = 100\n",
    "    return array\n",
    "\n",
    "def change_100_copy(array):\n",
    "    array_copy = array.copy()\n",
    "    array_copy[0] = 100\n",
    "    return array_copy\n",
    "\n",
    "output1 = change_100(array1)\n",
    "output2 = change_100_copy(array2)\n",
    "print('original array1 is {} ({}).'.format(output1, id(output1)))\n",
    "print('original array2 is {} ({}).'.format(output2, id(output2)))\n",
    "print('-'*20)\n",
    "\n",
    "\n",
    "print('original array1 is {} ({}).'.format(array1, id(array1)))\n",
    "print('original array2 is {} ({}).'.format(array2, id(array2)))"
   ]
  },
  {
   "cell_type": "markdown",
   "metadata": {},
   "source": [
    "#### - np.zeros(shape)\n",
    "\n",
    "    こちらも頻出です．いわゆる零行列をつくります．要素が全て0のndarrayです. \n",
    "    shapeをタプルで渡しましょう． \n",
    "    np.zeros(4) など，タプルではなくintegerを入れるとその数文の一列の零行列ができます．( [0, 0, 0, 0] )\n",
    "\n",
    "```memo```\n",
    "\n",
    "    あらかじめndarrayの箱を確保したい時に使います．\n",
    "    一旦零行列作ってから要素を変更していって新たな行列を作るイメージです．"
   ]
  },
  {
   "cell_type": "code",
   "execution_count": null,
   "metadata": {},
   "outputs": [],
   "source": [
    "np.zeros(4)"
   ]
  },
  {
   "cell_type": "code",
   "execution_count": null,
   "metadata": {},
   "outputs": [],
   "source": [
    "shape = (2, 3, 5)\n",
    "np.zeros(shape)"
   ]
  },
  {
   "cell_type": "markdown",
   "metadata": {},
   "source": [
    "#### - np.ones(shape)\n",
    "    np.zerosの「1」版です．全ての要素が「１」になります"
   ]
  },
  {
   "cell_type": "code",
   "execution_count": null,
   "metadata": {},
   "outputs": [],
   "source": [
    "np.ones(5)"
   ]
  },
  {
   "cell_type": "code",
   "execution_count": null,
   "metadata": {},
   "outputs": [],
   "source": [
    "shape = (2, 4, 6)\n",
    "np.ones(shape)"
   ]
  },
  {
   "cell_type": "markdown",
   "metadata": {},
   "source": [
    "#### - np.eye(N)\n",
    "    N x Nの単位行列を作ります．単位行列というのは対角成分が全て１となる正方行列です"
   ]
  },
  {
   "cell_type": "code",
   "execution_count": null,
   "metadata": {},
   "outputs": [],
   "source": [
    "np.eye(6)"
   ]
  },
  {
   "cell_type": "code",
   "execution_count": null,
   "metadata": {},
   "outputs": [],
   "source": [
    "np.eye(3, 5)"
   ]
  },
  {
   "cell_type": "markdown",
   "metadata": {},
   "source": [
    "#### - np.random.rand()\n",
    "    0 ~ 1からランダムな数字で行列を作る\n",
    "    引数に応じて次元を変えられる。"
   ]
  },
  {
   "cell_type": "code",
   "execution_count": null,
   "metadata": {},
   "outputs": [],
   "source": [
    "r = np.random.rand()\n",
    "r_1d = np.random.rand(3)\n",
    "r_2d = np.random.rand(3, 2)\n",
    "\n",
    "print('1dimension:\\n {0} \\n\\n {1} \\n\\n ２dimension:\\n {2}'.format(r, r_1d, r_2d))"
   ]
  },
  {
   "cell_type": "markdown",
   "metadata": {},
   "source": [
    "#### - np.random.randn()\n",
    "    標準正規分布(平均0, 分散1の正規分布)から値が返されます．"
   ]
  },
  {
   "cell_type": "code",
   "execution_count": null,
   "metadata": {},
   "outputs": [],
   "source": [
    "r = np.random.randn()\n",
    "r_1d = np.random.randn(3)\n",
    "r_2d = np.random.randn(3, 2)\n",
    "\n",
    "print('1dimension:\\n {0} \\n\\n {1} \\n\\n ２dimension:\\n {2}'.format(r, r_1d, r_2d))"
   ]
  },
  {
   "cell_type": "markdown",
   "metadata": {},
   "source": [
    "#### - np.random.randint(low[, high] [, size])\n",
    "    ランダム系で一番使うかもしれません．\n",
    "    low以上hight未満のintegerからランダムに，指定したsizeのndarrayを返します．(sizeを指定しなかった場合はintegerを返す)"
   ]
  },
  {
   "cell_type": "code",
   "execution_count": null,
   "metadata": {},
   "outputs": [],
   "source": [
    "np.random.randint(10, 50, size=(2, 4, 3))"
   ]
  },
  {
   "cell_type": "markdown",
   "metadata": {},
   "source": [
    "#### - .reshape(shape)\n",
    "    超超超頻出です．あるndarrayのshapeを任意のshapeに変換(reshape)します\n",
    "    .reshape()によりもとのarrayは更新されません．\n",
    "    新しいarrayが返されることに注意しましょう．"
   ]
  },
  {
   "cell_type": "code",
   "execution_count": null,
   "metadata": {},
   "outputs": [],
   "source": [
    "array = np.arange(0, 10, 1)\n",
    "print('array:\\n {}'.format(array))"
   ]
  },
  {
   "cell_type": "code",
   "execution_count": null,
   "metadata": {},
   "outputs": [],
   "source": [
    "new_shape = (2, 5)\n",
    "reshape = array.reshape(new_shape)\n",
    "print('reshape:\\n {}'.format(reshape))\n",
    "\n",
    "print('array:\\n {}'.format(array))"
   ]
  },
  {
   "cell_type": "markdown",
   "metadata": {},
   "source": [
    "## 9 よく使う便利関数"
   ]
  },
  {
   "cell_type": "markdown",
   "metadata": {},
   "source": [
    "### | 要素の統計量\n",
    "```\n",
    "統計量というのは，最大値，最小値，平均，中央値，標準偏差などデータの特徴を要約した値\n",
    "```\n",
    "\n",
    "※np.関数名(ndarray)で呼ぶことも可能"
   ]
  },
  {
   "cell_type": "code",
   "execution_count": null,
   "metadata": {},
   "outputs": [],
   "source": [
    "import numpy as np\n",
    "normal_dist_mat = np.random.randn(5, 5)\n",
    "print(normal_dist_mat)"
   ]
  },
  {
   "cell_type": "markdown",
   "metadata": {},
   "source": [
    "#### - .max() .argmax()"
   ]
  },
  {
   "cell_type": "code",
   "execution_count": null,
   "metadata": {},
   "outputs": [],
   "source": [
    "#max 最大値を求める\n",
    "print('max is', normal_dist_mat.max())\n",
    "print('max is', np.max(normal_dist_mat))"
   ]
  },
  {
   "cell_type": "code",
   "execution_count": null,
   "metadata": {},
   "outputs": [],
   "source": [
    "#argmax \n",
    "print('argmax is', normal_dist_mat.argmax())\n",
    "print('argmax is', np.argmax(normal_dist_mat))"
   ]
  },
  {
   "cell_type": "markdown",
   "metadata": {},
   "source": [
    "#### - .flaten()"
   ]
  },
  {
   "cell_type": "code",
   "execution_count": null,
   "metadata": {},
   "outputs": [],
   "source": [
    "#(余談)flatten 一列にできる\n",
    "flat = normal_dist_mat.flatten()\n",
    "print(\"{}\\nid is: {}.\".format(flat, id(flat)))"
   ]
  },
  {
   "cell_type": "markdown",
   "metadata": {},
   "source": [
    "#### - .ravel()"
   ]
  },
  {
   "cell_type": "code",
   "execution_count": null,
   "metadata": {},
   "outputs": [],
   "source": [
    "id(normal_dist_mat)"
   ]
  },
  {
   "cell_type": "code",
   "execution_count": null,
   "metadata": {},
   "outputs": [],
   "source": [
    "# (余談) ravelでも一列にでき。\n",
    "flat_2 = normal_dist_mat.ravel()\n",
    "print(\"{}\\nid is: {}.\".format(flat_2, id(flat_2)))"
   ]
  },
  {
   "cell_type": "markdown",
   "metadata": {},
   "source": [
    "#### - .min() .argmin()"
   ]
  },
  {
   "cell_type": "code",
   "execution_count": null,
   "metadata": {},
   "outputs": [],
   "source": [
    "#min\n",
    "print('min is', normal_dist_mat.min())"
   ]
  },
  {
   "cell_type": "code",
   "execution_count": null,
   "metadata": {},
   "outputs": [],
   "source": [
    "#argmin\n",
    "print('argmin is', normal_dist_mat.argmin())"
   ]
  },
  {
   "cell_type": "markdown",
   "metadata": {},
   "source": [
    "#### - .mean()"
   ]
  },
  {
   "cell_type": "code",
   "execution_count": null,
   "metadata": {},
   "outputs": [],
   "source": [
    "#mean 平均値取得\n",
    "print('mean is', normal_dist_mat.mean())"
   ]
  },
  {
   "cell_type": "markdown",
   "metadata": {},
   "source": [
    "#### - np.median(ndarray)\n",
    "npから呼び出すことに注意"
   ]
  },
  {
   "cell_type": "code",
   "execution_count": null,
   "metadata": {},
   "outputs": [],
   "source": [
    "#median 中央値\n",
    "print('median is', np.median(normal_dist_mat))\n",
    "print('median is', normal_dist_mat.median) #npから呼び出さないと動かない"
   ]
  },
  {
   "cell_type": "markdown",
   "metadata": {},
   "source": [
    "#### - .std()"
   ]
  },
  {
   "cell_type": "code",
   "execution_count": null,
   "metadata": {},
   "outputs": [],
   "source": [
    "#std 標準偏差：standard deviation\n",
    "print('std is', normal_dist_mat.std())"
   ]
  },
  {
   "cell_type": "markdown",
   "metadata": {},
   "source": [
    "**標準偏差(standard deviation)**\n",
    ">標準偏差というのは，データの分散(ばらつき)を示す指標です．よく記号で𝜎(シグマ)や𝑠で表します．よく略してstdと言う\n",
    ">\n",
    "> cf.[【Pythonで学ぶ】絶対にわかる分散と標準偏差(超重要)【データサイエンス入門:統計編⑤】](https://datawokagaku.com/var_std/)\n",
    "\n",
    "\n",
    "**68-95-99.7ルール**\n",
    "> （正規分布では）平均から±1標準偏差には約68%のデータが，平均から±2標準偏差には約95%のデータが，平均から±3標準偏差には約99%のデータが，含まれるという経験則\n",
    ">\n",
    "> Cf.[【Pythonで学ぶ】標準偏差から散らばり具合をどう読み取る？【データサイエンス入門:統計編⑧】](https://datawokagaku.com/std_distribution/)\n",
    "\n",
    "<img src='https://datawokagaku.com/wp-content/uploads/2020/01/std_rule.png' width=35%>\n",
    "\n",
    "標準正規分布というのは平均0，分散1(標準偏差は分散の平方根なので標準偏差も1)の正規分布\n",
    "本来meanとstdは0と1に近い,２５個(5×５)程度のサンプリングでは元の特徴を表すには少ないことが分かる。"
   ]
  },
  {
   "cell_type": "markdown",
   "metadata": {},
   "source": [
    "#### - 引数axis\n",
    ">特定の行，列での統計量を求めたい\n",
    "+ axis=0を指定すると各列の統計量\n",
    "+ axis=1を指定すると各行の統計量"
   ]
  },
  {
   "cell_type": "code",
   "execution_count": null,
   "metadata": {},
   "outputs": [],
   "source": [
    "print(normal_dist_mat, '\\n')\n",
    "print('axis=0 各列最大値 > {}'.format(normal_dist_mat.max(axis=0)))\n",
    "print('axis=1 各行最大値 > {}'.format(normal_dist_mat.max(axis=1)))"
   ]
  },
  {
   "cell_type": "markdown",
   "metadata": {},
   "source": [
    "### | 数学でよく使う関数"
   ]
  },
  {
   "cell_type": "markdown",
   "metadata": {},
   "source": [
    "#### - np.exp(ndarray)\n",
    "> 指数関数(exponential function)\n",
    "> + NumPyではネイピア数e(約2.718)の指数関数"
   ]
  },
  {
   "cell_type": "code",
   "execution_count": null,
   "metadata": {},
   "outputs": [],
   "source": [
    "ndarray = np.linspace(-3, 3, 10)"
   ]
  },
  {
   "cell_type": "code",
   "execution_count": null,
   "metadata": {},
   "outputs": [],
   "source": [
    "expndarray = np.exp(ndarray)\n",
    "print('{0} \\n {1}'.format(ndarray, expndarray))"
   ]
  },
  {
   "cell_type": "code",
   "execution_count": null,
   "metadata": {},
   "outputs": [],
   "source": [
    "import matplotlib.pyplot as plt\n",
    "%matplotlib inline\n",
    "\n",
    "plt.plot(ndarray, expndarray)\n",
    "plt.show"
   ]
  },
  {
   "cell_type": "markdown",
   "metadata": {},
   "source": [
    "#### - np.log(ndarray)\n",
    "> 負の数は対数を取れないのでnan"
   ]
  },
  {
   "cell_type": "code",
   "execution_count": null,
   "metadata": {},
   "outputs": [],
   "source": [
    "logndarray = np.log(ndarray)\n",
    "print('{0} \\n {1}'.format(ndarray, logndarray))"
   ]
  },
  {
   "cell_type": "code",
   "execution_count": null,
   "metadata": {},
   "outputs": [],
   "source": [
    "plt.plot(ndarray, logndarray)\n",
    "plt.show"
   ]
  },
  {
   "cell_type": "markdown",
   "metadata": {},
   "source": [
    "#### - np.nan, np.isnan()\n",
    "> nan = Not-A-Number\n",
    ">+ NumPy演算で例えば0で割ったりすると出てきます．\n",
    ">+ PythonのNoneとは別物"
   ]
  },
  {
   "cell_type": "code",
   "execution_count": null,
   "metadata": {},
   "outputs": [],
   "source": [
    "print(logndarray[0])"
   ]
  },
  {
   "cell_type": "code",
   "execution_count": null,
   "metadata": {},
   "outputs": [],
   "source": [
    "print('nan == None?:{}'.format(logndarray[0] is None))"
   ]
  },
  {
   "cell_type": "code",
   "execution_count": null,
   "metadata": {},
   "outputs": [],
   "source": [
    "np.isnan(logndarray[0])"
   ]
  },
  {
   "cell_type": "markdown",
   "metadata": {},
   "source": [
    "#### - np.e\n",
    "> ネイピア数(2.7182….)"
   ]
  },
  {
   "cell_type": "code",
   "execution_count": null,
   "metadata": {},
   "outputs": [],
   "source": [
    "e = np.e\n",
    "print(e)\n",
    "print(np.log(e))"
   ]
  },
  {
   "cell_type": "markdown",
   "metadata": {},
   "source": [
    "### | ndarrayのshape操作\n",
    "> **rank:次元の数**\n",
    ">\n",
    "> rank 2\n",
    "> >(3,3)\n",
    ">\n",
    ">rank 3\n",
    ">> (3,3,1)\n",
    ">\n",
    "> いずれも同じ行列を意味する。"
   ]
  },
  {
   "cell_type": "code",
   "execution_count": null,
   "metadata": {},
   "outputs": [],
   "source": [
    "ndarray = np.array([[1, 2, 3], [4, 5, 6], [7, 8, 9]])\n",
    "print('array is:\\n{}'.format(ndarray))\n",
    "print(\"ndarray's shape is:{}\".format(ndarray.shape))"
   ]
  },
  {
   "cell_type": "markdown",
   "metadata": {},
   "source": [
    "#### -np.expand_dims(ndarray, axis)\n",
    ">**rankを一つ追加**\n",
    ">+ axis=0:一つ目の次元を追加\n",
    ">+ axis=-1:最後の次元を追加"
   ]
  },
  {
   "cell_type": "code",
   "execution_count": null,
   "metadata": {},
   "outputs": [],
   "source": [
    "expanded_ndarray = np.expand_dims(ndarray, axis=0)\n",
    "print('array is:\\n{}'.format(expanded_ndarray))\n",
    "print(\"ndarray's shape is:{}\".format(expanded_ndarray.shape))"
   ]
  },
  {
   "cell_type": "code",
   "execution_count": null,
   "metadata": {},
   "outputs": [],
   "source": [
    "expanded_ndarray = np.expand_dims(ndarray, axis=2)\n",
    "print('array is:\\n{}'.format(expanded_ndarray))\n",
    "print(\"ndarray's shape is:{}\".format(expanded_ndarray.shape))"
   ]
  },
  {
   "cell_type": "markdown",
   "metadata": {},
   "source": [
    "#### - np.squeeze(ndarray)\n",
    "> squeeze(絞る)するイメージ"
   ]
  },
  {
   "cell_type": "code",
   "execution_count": null,
   "metadata": {},
   "outputs": [],
   "source": [
    "squeezed_expanded_ndarray = np.squeeze(expanded_ndarray)\n",
    "print('array is:\\n{}'.format(squeezed_expanded_ndarray))\n",
    "print(\"ndarray's shape is:\\n{}\".format(squeezed_expanded_ndarray.shape))"
   ]
  },
  {
   "cell_type": "markdown",
   "metadata": {},
   "source": [
    "#### - .flatten()\n",
    ">ndarrayを一列にします．行列構造を持つ必要がなくなったりしたら使います．\n",
    "(もとのndarrayは変更されないことに注意)"
   ]
  },
  {
   "cell_type": "code",
   "execution_count": null,
   "metadata": {},
   "outputs": [],
   "source": [
    "flatten_array = ndarray.flatten()\n",
    "print('flatten_array:\\n{}'.format(flatten_array))\n",
    "print('ndarray:\\n{}'.format(ndarray))"
   ]
  },
  {
   "cell_type": "markdown",
   "metadata": {},
   "source": [
    "#### - ravel()"
   ]
  },
  {
   "cell_type": "code",
   "execution_count": null,
   "metadata": {},
   "outputs": [],
   "source": [
    "import numpy as np\n",
    "A = np.array([[1, 2, 3], [4, 5, 6], [7, 8, 9]]) # (3, 3)\n",
    "B = A.ravel() #次元短縮 (1,9)\n",
    "# A[0, :] = 0\n",
    "B"
   ]
  },
  {
   "cell_type": "markdown",
   "metadata": {},
   "source": [
    "### | NumPyArray 保存＆読込"
   ]
  },
  {
   "cell_type": "markdown",
   "metadata": {},
   "source": [
    "#### - np.save(‘path’, ndarray)"
   ]
  },
  {
   "cell_type": "code",
   "execution_count": null,
   "metadata": {},
   "outputs": [],
   "source": [
    "ndarray = np.array([\n",
    "    [1, 2, 3, 4],\n",
    "    [10, 20, 30, 40],\n",
    "    [100, 200, 300, 400],\n",
    "])\n",
    "np.save('saved_numpy', ndarray) #拡張子.npyを書いてもOK"
   ]
  },
  {
   "cell_type": "markdown",
   "metadata": {},
   "source": [
    "#### - np.load(‘path’)"
   ]
  },
  {
   "cell_type": "code",
   "execution_count": null,
   "metadata": {},
   "outputs": [],
   "source": [
    "loaded_numpy = np.load('saved_numpy.npy')\n",
    "loaded_numpy"
   ]
  }
 ],
 "metadata": {
  "kernelspec": {
   "display_name": "Python 3",
   "language": "python",
   "name": "python3"
  },
  "language_info": {
   "codemirror_mode": {
    "name": "ipython",
    "version": 3
   },
   "file_extension": ".py",
   "mimetype": "text/x-python",
   "name": "python",
   "nbconvert_exporter": "python",
   "pygments_lexer": "ipython3",
   "version": "3.8.5"
  }
 },
 "nbformat": 4,
 "nbformat_minor": 4
}
