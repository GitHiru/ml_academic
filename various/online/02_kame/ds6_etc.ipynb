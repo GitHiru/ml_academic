{
 "cells": [
  {
   "cell_type": "markdown",
   "metadata": {},
   "source": [
    "# その他便利ライブラリ・モジュール等\n",
    "\n",
    ">`index`\n",
    "> + [28 OpenCVによる画像の読み込みと色空間の変換，表示](#28-OpenCVによる画像の読み込みと色空間の変換，表示)\n",
    "> + [29 globの使い方・応用まで完全解説](#29-globの使い方・応用まで完全解説)\n",
    "> + [30 tqdmを使ってforループでプログレスバーを表示する](#30-tqdmを使ってforループでプログレスバーを表示する)\n",
    "> + [31 安全にPath操作をする](#31-安全にPath操作をする)\n",
    "> + [32 multiprocessingでの並列処理](#32-multiprocessingでの並列処理)\n",
    "> + [33 Pythonスクリプトを作ってJupyterから呼び出す](#33-Pythonスクリプトを作ってJupyterから呼び出す)\n",
    "\n",
    "> `Cf.`\n",
    "> + [データサイエンスのためのPython入門28〜OpenCVによる画像の読み込みと色空間の変換，表示〜](https://datawokagaku.com/opencv/)\n",
    "> + [データサイエンスのためのPython入門29〜globの使い方・応用まで完全解説〜](https://datawokagaku.com/glob/)\n",
    "> + [データサイエンスのためのPython入門30〜tqdmを使ってforループでプログレスバーを表示する〜](https://datawokagaku.com/tqdm/)\n",
    "> + [データサイエンスのためのPython入門31〜osモジュールとpathlibモジュールを使って安全にPath操作をする〜](https://datawokagaku.com/os_module/)\n",
    "> + [データサイエンスのためのPython入門32〜これだけ知っておけばいいmultiprocessingでの並列処理〜](https://datawokagaku.com/multiprocessing/)\n",
    "> + [データサイエンスのためのPython入門33(最終回)〜Pythonスクリプトを作ってJupyterから呼び出す〜](https://datawokagaku.com/python_script/)\n"
   ]
  },
  {
   "cell_type": "markdown",
   "metadata": {},
   "source": [
    "## 28 OpenCVによる画像の読み込みと色空間の変換，表示\n",
    "    \n",
    ">     データサイエンティストが扱うデータは，今まで扱っていたような(タイタニックデータのような)表形式のデータだけではありません．\n",
    ">     PNGファイルのような 画像データ や mp3のような 音声ファイル や mp4のような 動画， DICOMデータのような 医用画像データ など，\n",
    ">     文字通り「データ」と名前がつくもの’全て’です．\n",
    ">\n",
    ">     特に画像データは， 昨今の深層学習によるブレークスルーの中心的なモダリティであり， \n",
    ">     近年多くの研究者が他分野から画像処理・画像認識に流れており，目まぐるしいスピードで研究が進んでいる分野でもあります．\n",
    "\n",
    "\n",
    "> `cf.`　もっと詳しく学びたい人向け（英語）\n",
    "> + [OpenCV-Python Tutorials](https://opencv-python-tutroals.readthedocs.io/en/latest/py_tutorials/py_tutorials.html)\n",
    "> + [Image Processing in OpenCV](https://opencv-python-tutroals.readthedocs.io/en/latest/py_tutorials/py_imgproc/py_table_of_contents_imgproc/py_table_of_contents_imgproc.html#py-table-of-content-imgproc)"
   ]
  },
  {
   "cell_type": "markdown",
   "metadata": {},
   "source": [
    "### | OpenCV\n",
    ">     OpenCVは「コンピュータ・ビジョン」のアルゴリズムを簡単に使えるライブラリで，画像を扱う際には必須のライブラリです．\n",
    ">     例えば画像の輪郭だけ書いてくれたり色空間(白黒とか)を変更したり，いろんなことがめちゃくちゃ簡単にできます．\n",
    ">     もともとはC++で書かれたライブラリですが，Pythonラッパーもかなりアクティブに開発されており，Pythonで問題なく使えます．\n",
    ">\n",
    ">     (余談) Python用画像処理系ライブラリには他に， Python Imaging Library (PIL)と呼ばれるものがあります.\n",
    ">           OpenCVの方が深層学習系のライブラリ(TensorFlow, PyTorchやCaffeなど)との相性もよく，\n",
    ">           最近ではPILよりOpenCVの方が使われていると思います．"
   ]
  },
  {
   "cell_type": "markdown",
   "metadata": {},
   "source": [
    "### | OpenCVインストール&インポート"
   ]
  },
  {
   "cell_type": "markdown",
   "metadata": {},
   "source": [
    "```(番外編)```\n",
    "### Dockerでライブラリインポート\n",
    "> 基本的には ```$pip install opencv-python```でインストール可能ですが，\n",
    "> 場合によっては事前に関連パッケージのインストールが必要です．せっかくなのでこれを機にDocker環境の更新手順を紹介したいと思います．\n",
    "\n",
    "> #### 1.Dockerコンテナに入ってopencvをインストール\n",
    "> ```\n",
    "> # Dockerコンテナ名確認\n",
    "> \n",
    "> $ docker ps\n",
    "> $ docker exec -it my-lab bash\n",
    "> root@ec5e9afb20f6:/#\n",
    "> ```\n",
    "> コンテナに入れました。\n",
    "\n",
    "> #### 2. OpenCVをインストール\n",
    "> ```\n",
    "> $pip install opencv-python \n",
    "> ```\n",
    ">\n",
    "> ```\n",
    "> $ apt-get update\n",
    "> $ apt-get install -y libsm6 libxext6 libxrender-dev libglib2.0-0\n",
    "> ```"
   ]
  },
  {
   "cell_type": "code",
   "execution_count": 1,
   "metadata": {},
   "outputs": [
    {
     "ename": "ModuleNotFoundError",
     "evalue": "No module named 'cv2'",
     "output_type": "error",
     "traceback": [
      "\u001b[0;31m-------------------------------------\u001b[0m",
      "\u001b[0;31mModuleNotFoundError\u001b[0mTraceback (most recent call last)",
      "\u001b[0;32m<ipython-input-1-c8ec22b3e787>\u001b[0m in \u001b[0;36m<module>\u001b[0;34m\u001b[0m\n\u001b[0;32m----> 1\u001b[0;31m \u001b[0;32mimport\u001b[0m \u001b[0mcv2\u001b[0m\u001b[0;34m\u001b[0m\u001b[0;34m\u001b[0m\u001b[0m\n\u001b[0m",
      "\u001b[0;31mModuleNotFoundError\u001b[0m: No module named 'cv2'"
     ]
    }
   ],
   "source": [
    "import cv2"
   ]
  },
  {
   "cell_type": "code",
   "execution_count": 2,
   "metadata": {},
   "outputs": [
    {
     "name": "stdout",
     "output_type": "stream",
     "text": [
      "Collecting opencv-python\n",
      "  Downloading opencv_python-4.5.1.48-cp38-cp38-macosx_10_13_x86_64.whl (40.3 MB)\n",
      "\u001b[K     |████████████████████████████████| 40.3 MB 179 kB/s eta 0:00:013\n",
      "\u001b[?25hRequirement already satisfied: numpy>=1.17.3 in /Users/t/.pyenv/versions/3.8.5/lib/python3.8/site-packages (from opencv-python) (1.19.4)\n",
      "Installing collected packages: opencv-python\n",
      "Successfully installed opencv-python-4.5.1.48\n",
      "\u001b[33mWARNING: You are using pip version 21.0; however, version 21.0.1 is available.\n",
      "You should consider upgrading via the '/Users/t/.pyenv/versions/3.8.5/bin/python3.8 -m pip install --upgrade pip' command.\u001b[0m\n"
     ]
    }
   ],
   "source": [
    "!pip install opencv-python"
   ]
  },
  {
   "cell_type": "code",
   "execution_count": 3,
   "metadata": {},
   "outputs": [
    {
     "name": "stdout",
     "output_type": "stream",
     "text": [
      "Requirement already satisfied: pip in /Users/t/.pyenv/versions/3.8.5/lib/python3.8/site-packages (21.0)\n",
      "Collecting pip\n",
      "  Downloading pip-21.0.1-py3-none-any.whl (1.5 MB)\n",
      "\u001b[K     |████████████████████████████████| 1.5 MB 53 kB/s eta 0:00:013\n",
      "\u001b[?25hInstalling collected packages: pip\n",
      "  Attempting uninstall: pip\n",
      "    Found existing installation: pip 21.0\n",
      "    Uninstalling pip-21.0:\n",
      "      Successfully uninstalled pip-21.0\n",
      "Successfully installed pip-21.0.1\n"
     ]
    }
   ],
   "source": [
    "!/Users/t/.pyenv/versions/3.8.5/bin/python3.8 -m pip install --upgrade pip"
   ]
  },
  {
   "cell_type": "code",
   "execution_count": 4,
   "metadata": {},
   "outputs": [],
   "source": [
    "import cv2"
   ]
  },
  {
   "cell_type": "markdown",
   "metadata": {},
   "source": [
    "### | OpenCVを使って画像を表示\n",
    "> Dockerからアクセスできるところ(かめさんの環境では~/Desktop/ds_pythonフォルダ)に配置\n",
    ">（第一回でdocker runした際の-vオプションです．）\n",
    ">\n",
    "> <img src='https://datawokagaku.com/wp-content/uploads/2020/02/lenna.png' width=12%>\n",
    "\n",
    "> `memo`\n",
    ">\n",
    ">      この写真，実はコンピュータ・ビジョン界隈では非常に有名な写真で，様々な論文で，「サンプル画像」として使われています． \n",
    ">      もともとはPLAYBOY誌のグラビア(ヌード)写真から切り取った写真で，1970年代前半に最初に使われたらしく，当初は「けしからん」と論争を巻き起こしたとか...\n",
    ">      今ではすっかりおなじみの画像になりました．\n",
    ">      ちなみに「Lena Forsen」が本名ですが，正しい発音に近いlennaが一般的に使われてます．(どっちでもいいわっ)"
   ]
  },
  {
   "cell_type": "markdown",
   "metadata": {},
   "source": [
    "#### - cv2.imread()\n",
    ">     画像を NumPy-Array で読み込む imread(image raad)"
   ]
  },
  {
   "cell_type": "code",
   "execution_count": 7,
   "metadata": {},
   "outputs": [],
   "source": [
    "import cv2\n",
    "lenna = cv2.imread(\"input/lenna.png\")"
   ]
  },
  {
   "cell_type": "code",
   "execution_count": 10,
   "metadata": {},
   "outputs": [
    {
     "name": "stdout",
     "output_type": "stream",
     "text": [
      "Dimmension is (220, 220, 3). \n",
      "Type is <class 'numpy.ndarray'>.\n"
     ]
    }
   ],
   "source": [
    "print(\"Dimmension is {}. \\nType is {}.\".format(lenna.shape, type(lenna)))"
   ]
  },
  {
   "cell_type": "markdown",
   "metadata": {},
   "source": [
    ">     これは画像の(高さ, 横幅, channel数)\n",
    ">     高さ と 横幅 は当然ピクセル数で， channelというのは画像の色を表現するのに使うもので， Red, Green, Blueの3channelであり，「RGB」というchannelでデータが保存されるのが一般的です．\n",
    ">     （後述しますが，OpenCVはデフォルトで 「BGR」 です．気をつけてください．）\n",
    "\n",
    "> <img src='https://datawokagaku.com/wp-content/uploads/2020/02/rgb_overview.png' width=55%>\n",
    ">\n",
    ">     もう少し詳しく説明すると，\n",
    ">     色を表現するにはいくつか方法があり， その一つに「赤・緑・青の３色の光を足し合わせる(加法混色)」という方法があります．\n",
    ">     各ピクセルの値はその光(Rなら赤)の強さを表しており，それを輝度値(Intensity)と呼びます．\n",
    ">     OpenCVではデフォルトで0~255の256(8bit)階調で表します．通常，画像は8bitで保存されます．"
   ]
  },
  {
   "cell_type": "markdown",
   "metadata": {},
   "source": [
    "#### - plt.imshow()\n",
    ">    画像を表示する"
   ]
  },
  {
   "cell_type": "code",
   "execution_count": 13,
   "metadata": {},
   "outputs": [
    {
     "data": {
      "text/plain": [
       "<matplotlib.image.AxesImage at 0x124c4d0d0>"
      ]
     },
     "execution_count": 13,
     "metadata": {},
     "output_type": "execute_result"
    },
    {
     "data": {
      "image/png": "[encoded data removed]",
      "text/plain": [
       "<Figure size 432x288 with 1 Axes>"
      ]
     },
     "metadata": {
      "needs_background": "light"
     },
     "output_type": "display_data"
    }
   ],
   "source": [
    "import matplotlib.pyplot as plt\n",
    "%matplotlib inline\n",
    "plt.imshow(lenna)"
   ]
  },
  {
   "cell_type": "markdown",
   "metadata": {},
   "source": [
    ">    ・・・が，なんか青いですよね？\n",
    "> \n",
    ">     実はこれ，OpenCVは画像を読み込む際に色空間をBGRで読んでいて，matplotlibではRGBで表示しているからです．\n",
    ">     つまり， 青と赤が逆になってしまっているってこと.\n",
    "\n",
    "> `⚠️`\n",
    ">\n",
    ">      現代一般的に使われるのはRGBなんですが， OpenCVはBGRで読み込みます．\n",
    ">      これには歴史的背景があるんですが，今日は触れません．興味がある方はググってみてください．\n",
    ">      とにかくこれがややこしい上に予期せぬバグを起こしやすいです．初学者は特に注意です．\n",
    ">      lennaの画像は幸いRとBが逆になると明らかに見た目が違うんで気づきますけど，そうでない画像も多いです．\n",
    ">      すると気づかずRとBを逆に捉えていて，「あるコードではRGB，別のコードではBGRで処理してた」なんてこともありえます．"
   ]
  },
  {
   "cell_type": "markdown",
   "metadata": {},
   "source": [
    "#### - cv2.cvtColor()\n",
    ">    BGRからRGBに変換する(cvtはconvertの略です)\n",
    "\n",
    ">    第一引数にndarrayを，第二引数に「なにからなにへの変換」なのかを示すcodeを指定(cv2.COLOR_に続く変数がそれです)\n",
    ">    Jupyterではcv2.COLORと打ってTabキーを押すと補完候補をみることができます．\n",
    ">\n",
    "> ```Python\n",
    "> cv2.colorJ\n",
    "> ```"
   ]
  },
  {
   "cell_type": "code",
   "execution_count": null,
   "metadata": {},
   "outputs": [],
   "source": [
    "cv2.color"
   ]
  },
  {
   "cell_type": "code",
   "execution_count": 15,
   "metadata": {},
   "outputs": [
    {
     "data": {
      "text/plain": [
       "<matplotlib.image.AxesImage at 0x1262eb2b0>"
      ]
     },
     "execution_count": 15,
     "metadata": {},
     "output_type": "execute_result"
    },
    {
     "data": {
      "image/png": "[encoded data removed]",
      "text/plain": [
       "<Figure size 432x288 with 1 Axes>"
      ]
     },
     "metadata": {
      "needs_background": "light"
     },
     "output_type": "display_data"
    }
   ],
   "source": [
    "lenna_rgb = cv2.cvtColor(lenna, cv2.COLOR_BGR2RGB)\n",
    "plt.imshow(lenna_rgb)"
   ]
  },
  {
   "cell_type": "markdown",
   "metadata": {},
   "source": [
    "## 29 globの使い方・応用まで完全解説\n",
    "\n",
    "> `cf.`\n",
    "> + [グロブ - wikipedia](https://ja.wikipedia.org/wiki/%E3%82%B0%E3%83%AD%E3%83%96)"
   ]
  },
  {
   "cell_type": "markdown",
   "metadata": {},
   "source": [
    "### | globを使って対象ファイルパスをリスト化\n",
    "> glob関数を使って，パターンにマッチしたファイルパスのリストを作る事ができます．(大量のファイルを扱う際によく使います．)"
   ]
  },
  {
   "cell_type": "code",
   "execution_count": 1,
   "metadata": {},
   "outputs": [],
   "source": [
    "from glob import glob"
   ]
  },
  {
   "cell_type": "code",
   "execution_count": 3,
   "metadata": {},
   "outputs": [
    {
     "data": {
      "text/plain": [
       "['input/gaussian_filtered_images/Mild/2d7666b8884f.png',\n",
       " 'input/gaussian_filtered_images/Mild/50840c36f0b4.png',\n",
       " 'input/gaussian_filtered_images/Mild/30cab14951ac.png',\n",
       " 'input/gaussian_filtered_images/Mild/a8582e346df0.png',\n",
       " 'input/gaussian_filtered_images/Mild/cab3dfa7962d.png',\n",
       " 'input/gaussian_filtered_images/Mild/35d6c4c50072.png',\n",
       " 'input/gaussian_filtered_images/Mild/67f5d89da548.png',\n",
       " 'input/gaussian_filtered_images/Mild/6b07971c3bf6.png',\n",
       " 'input/gaussian_filtered_images/Mild/7116128c65ab.png',\n",
       " 'input/gaussian_filtered_images/Mild/e38f3a65b02b.png',\n",
       " 'input/gaussian_filtered_images/Mild/d85588ff2ebd.png',\n",
       " 'input/gaussian_filtered_images/Mild/a19ecd0a706e.png',\n",
       " 'input/gaussian_filtered_images/Mild/49c5e7f6b8d2.png',\n",
       " 'input/gaussian_filtered_images/Mild/2f2e1949ad56.png',\n",
       " 'input/gaussian_filtered_images/Mild/35aa7f5c2ec0.png',\n",
       " 'input/gaussian_filtered_images/Mild/55eac26bd383.png',\n",
       " 'input/gaussian_filtered_images/Mild/af133a85ea0c.png',\n",
       " 'input/gaussian_filtered_images/Mild/80a02014b418.png',\n",
       " 'input/gaussian_filtered_images/Mild/384631079d1e.png',\n",
       " 'input/gaussian_filtered_images/Mild/e25ccfe38e44.png',\n",
       " 'input/gaussian_filtered_images/Mild/6ea07d19b4ce.png',\n",
       " 'input/gaussian_filtered_images/Mild/8273fdb4405e.png',\n",
       " 'input/gaussian_filtered_images/Mild/ead23cc922ed.png',\n",
       " 'input/gaussian_filtered_images/Mild/1e8a1fdee5b9.png',\n",
       " 'input/gaussian_filtered_images/Mild/c102db7634d8.png',\n",
       " 'input/gaussian_filtered_images/Mild/1b329a127307.png',\n",
       " 'input/gaussian_filtered_images/Mild/0f495d87656a.png',\n",
       " 'input/gaussian_filtered_images/Mild/58184d6fd087.png',\n",
       " 'input/gaussian_filtered_images/Mild/25e9fd872182.png',\n",
       " 'input/gaussian_filtered_images/Mild/c4a8f2fcf6e8.png',\n",
       " 'input/gaussian_filtered_images/Mild/ee78ce914066.png',\n",
       " 'input/gaussian_filtered_images/Mild/e9ff9352ccb3.png',\n",
       " 'input/gaussian_filtered_images/Mild/cb2f3c5d71a7.png',\n",
       " 'input/gaussian_filtered_images/Mild/5090917a2676.png',\n",
       " 'input/gaussian_filtered_images/Mild/79ce83c07588.png',\n",
       " 'input/gaussian_filtered_images/Mild/dbd062558b81.png',\n",
       " 'input/gaussian_filtered_images/Mild/5671eb95512b.png',\n",
       " 'input/gaussian_filtered_images/Mild/00cb6555d108.png',\n",
       " 'input/gaussian_filtered_images/Mild/96a9706b8534.png',\n",
       " 'input/gaussian_filtered_images/Mild/ea15a290eb96.png',\n",
       " 'input/gaussian_filtered_images/Mild/36677b70b1ef.png',\n",
       " 'input/gaussian_filtered_images/Mild/eba3acc42197.png',\n",
       " 'input/gaussian_filtered_images/Mild/f481f76a6b75.png',\n",
       " 'input/gaussian_filtered_images/Mild/f6f7dba7104d.png',\n",
       " 'input/gaussian_filtered_images/Mild/821789e9053f.png',\n",
       " 'input/gaussian_filtered_images/Mild/a75bab2463d4.png',\n",
       " 'input/gaussian_filtered_images/Mild/6028a575dc27.png',\n",
       " 'input/gaussian_filtered_images/Mild/a47432cd41e7.png',\n",
       " 'input/gaussian_filtered_images/Mild/31cb39681f6a.png',\n",
       " 'input/gaussian_filtered_images/Mild/15cc2aef772a.png',\n",
       " 'input/gaussian_filtered_images/Mild/12e3f5f2cb17.png',\n",
       " 'input/gaussian_filtered_images/Mild/03e25101e8e8.png',\n",
       " 'input/gaussian_filtered_images/Mild/eeb231c3ef1f.png',\n",
       " 'input/gaussian_filtered_images/Mild/90c982cc2d96.png',\n",
       " 'input/gaussian_filtered_images/Mild/6298468d7d75.png',\n",
       " 'input/gaussian_filtered_images/Mild/63363410389a.png',\n",
       " 'input/gaussian_filtered_images/Mild/f55e1d2a19e4.png',\n",
       " 'input/gaussian_filtered_images/Mild/495255c7492f.png',\n",
       " 'input/gaussian_filtered_images/Mild/b7278b4f2448.png',\n",
       " 'input/gaussian_filtered_images/Mild/4dd9d29eae5d.png',\n",
       " 'input/gaussian_filtered_images/Mild/c1ebe785503a.png',\n",
       " 'input/gaussian_filtered_images/Mild/382752f6694a.png',\n",
       " 'input/gaussian_filtered_images/Mild/33b893e18eb3.png',\n",
       " 'input/gaussian_filtered_images/Mild/f47a2a4a0411.png',\n",
       " 'input/gaussian_filtered_images/Mild/ef8109305128.png',\n",
       " 'input/gaussian_filtered_images/Mild/18b06f56ab27.png',\n",
       " 'input/gaussian_filtered_images/Mild/17eff993386f.png',\n",
       " 'input/gaussian_filtered_images/Mild/274f5029189b.png',\n",
       " 'input/gaussian_filtered_images/Mild/49386d603494.png',\n",
       " 'input/gaussian_filtered_images/Mild/89d9c071a56f.png',\n",
       " 'input/gaussian_filtered_images/Mild/d4f32b9c07df.png',\n",
       " 'input/gaussian_filtered_images/Mild/f7fec8935126.png',\n",
       " 'input/gaussian_filtered_images/Mild/89ed6a0dd53f.png',\n",
       " 'input/gaussian_filtered_images/Mild/3044022c6969.png',\n",
       " 'input/gaussian_filtered_images/Mild/07929d32b5b3.png',\n",
       " 'input/gaussian_filtered_images/Mild/58ccba7eec9c.png',\n",
       " 'input/gaussian_filtered_images/Mild/05a5183c92d0.png',\n",
       " 'input/gaussian_filtered_images/Mild/494fc9c745a3.png',\n",
       " 'input/gaussian_filtered_images/Mild/7b20210d9120.png',\n",
       " 'input/gaussian_filtered_images/Mild/8ef2eb8c51c4.png',\n",
       " 'input/gaussian_filtered_images/Mild/76be29bb30b2.png',\n",
       " 'input/gaussian_filtered_images/Mild/a01024054596.png',\n",
       " 'input/gaussian_filtered_images/Mild/523b3f0fc646.png',\n",
       " 'input/gaussian_filtered_images/Mild/4d7d6928534a.png',\n",
       " 'input/gaussian_filtered_images/Mild/c40976189f22.png',\n",
       " 'input/gaussian_filtered_images/Mild/f0c13be90519.png',\n",
       " 'input/gaussian_filtered_images/Mild/c0e15e8e2b46.png',\n",
       " 'input/gaussian_filtered_images/Mild/4c3c1ed09771.png',\n",
       " 'input/gaussian_filtered_images/Mild/4e0656629d02.png',\n",
       " 'input/gaussian_filtered_images/Mild/111898ab463d.png',\n",
       " 'input/gaussian_filtered_images/Mild/b71428739d4e.png',\n",
       " 'input/gaussian_filtered_images/Mild/77a9538b8362.png',\n",
       " 'input/gaussian_filtered_images/Mild/c56e65f74187.png',\n",
       " 'input/gaussian_filtered_images/Mild/c8fc0df22999.png',\n",
       " 'input/gaussian_filtered_images/Mild/9782c0489eca.png',\n",
       " 'input/gaussian_filtered_images/Mild/ababe19ed448.png',\n",
       " 'input/gaussian_filtered_images/Mild/b6a0e348a01e.png',\n",
       " 'input/gaussian_filtered_images/Mild/71f6a6e4620a.png',\n",
       " 'input/gaussian_filtered_images/Mild/59e5212f7139.png',\n",
       " 'input/gaussian_filtered_images/Mild/a3d2a0c4cd17.png',\n",
       " 'input/gaussian_filtered_images/Mild/47d1603a555b.png',\n",
       " 'input/gaussian_filtered_images/Mild/8bbd7835e9aa.png',\n",
       " 'input/gaussian_filtered_images/Mild/83e529e95b0e.png',\n",
       " 'input/gaussian_filtered_images/Mild/0369f3efe69b.png',\n",
       " 'input/gaussian_filtered_images/Mild/bb11db08584a.png',\n",
       " 'input/gaussian_filtered_images/Mild/5b068765e846.png',\n",
       " 'input/gaussian_filtered_images/Mild/d567a1a22d33.png',\n",
       " 'input/gaussian_filtered_images/Mild/bebb3f167654.png',\n",
       " 'input/gaussian_filtered_images/Mild/ad3fc5076852.png',\n",
       " 'input/gaussian_filtered_images/Mild/cc9270f06b65.png',\n",
       " 'input/gaussian_filtered_images/Mild/5548a7961a3e.png',\n",
       " 'input/gaussian_filtered_images/Mild/582115961a3d.png',\n",
       " 'input/gaussian_filtered_images/Mild/358d2224de73.png',\n",
       " 'input/gaussian_filtered_images/Mild/8714d17bb6da.png',\n",
       " 'input/gaussian_filtered_images/Mild/5777ef74c9ec.png',\n",
       " 'input/gaussian_filtered_images/Mild/09935d72892b.png',\n",
       " 'input/gaussian_filtered_images/Mild/bacfb1029f6b.png',\n",
       " 'input/gaussian_filtered_images/Mild/2d9d97a6e713.png',\n",
       " 'input/gaussian_filtered_images/Mild/365f8c01d994.png',\n",
       " 'input/gaussian_filtered_images/Mild/7335a2d43ada.png',\n",
       " 'input/gaussian_filtered_images/Mild/01b3aed3ed4c.png',\n",
       " 'input/gaussian_filtered_images/Mild/04ac765f91a1.png',\n",
       " 'input/gaussian_filtered_images/Mild/6cdd0f985270.png',\n",
       " 'input/gaussian_filtered_images/Mild/5b72ff04333d.png',\n",
       " 'input/gaussian_filtered_images/Mild/92d9e9f08709.png',\n",
       " 'input/gaussian_filtered_images/Mild/64678182d8a8.png',\n",
       " 'input/gaussian_filtered_images/Mild/10f36b0239fb.png',\n",
       " 'input/gaussian_filtered_images/Mild/22098b1fe461.png',\n",
       " 'input/gaussian_filtered_images/Mild/8114d6a160df.png',\n",
       " 'input/gaussian_filtered_images/Mild/b1197f2cc9b3.png',\n",
       " 'input/gaussian_filtered_images/Mild/1d674e2e32e0.png',\n",
       " 'input/gaussian_filtered_images/Mild/7ef5ff774a48.png',\n",
       " 'input/gaussian_filtered_images/Mild/4da2961e62fe.png',\n",
       " 'input/gaussian_filtered_images/Mild/52ae917fcea4.png',\n",
       " 'input/gaussian_filtered_images/Mild/ca30a97e9d13.png',\n",
       " 'input/gaussian_filtered_images/Mild/fd62bd0db4f1.png',\n",
       " 'input/gaussian_filtered_images/Mild/e96bd80a8a53.png',\n",
       " 'input/gaussian_filtered_images/Mild/a77dbec966d4.png',\n",
       " 'input/gaussian_filtered_images/Mild/d85d052900b4.png',\n",
       " 'input/gaussian_filtered_images/Mild/13ab8db8c700.png',\n",
       " 'input/gaussian_filtered_images/Mild/0dc031c94225.png',\n",
       " 'input/gaussian_filtered_images/Mild/6c6efb6b1358.png',\n",
       " 'input/gaussian_filtered_images/Mild/38e0e28d35d3.png',\n",
       " 'input/gaussian_filtered_images/Mild/5b0e53f53ef3.png',\n",
       " 'input/gaussian_filtered_images/Mild/bb9a3d835a94.png',\n",
       " 'input/gaussian_filtered_images/Mild/51131b48f9d4.png',\n",
       " 'input/gaussian_filtered_images/Mild/b8ebedd382de.png',\n",
       " 'input/gaussian_filtered_images/Mild/8f2996b8d855.png',\n",
       " 'input/gaussian_filtered_images/Mild/2ecbc2e3f239.png',\n",
       " 'input/gaussian_filtered_images/Mild/fca931da5c5e.png',\n",
       " 'input/gaussian_filtered_images/Mild/b4f41b5bf0ef.png',\n",
       " 'input/gaussian_filtered_images/Mild/cd45bfa07d41.png',\n",
       " 'input/gaussian_filtered_images/Mild/3f73c91b7e32.png',\n",
       " 'input/gaussian_filtered_images/Mild/5efa24b03d5e.png',\n",
       " 'input/gaussian_filtered_images/Mild/1bb0ddfe753a.png',\n",
       " 'input/gaussian_filtered_images/Mild/849a91e9ab28.png',\n",
       " 'input/gaussian_filtered_images/Mild/587146a55885.png',\n",
       " 'input/gaussian_filtered_images/Mild/944a233fbf8e.png',\n",
       " 'input/gaussian_filtered_images/Mild/bb45257258cc.png',\n",
       " 'input/gaussian_filtered_images/Mild/b576c5269ad1.png',\n",
       " 'input/gaussian_filtered_images/Mild/a32886cb31ab.png',\n",
       " 'input/gaussian_filtered_images/Mild/84a72e15b23c.png',\n",
       " 'input/gaussian_filtered_images/Mild/28f98cfe3858.png',\n",
       " 'input/gaussian_filtered_images/Mild/c96f743915b5.png',\n",
       " 'input/gaussian_filtered_images/Mild/a00b4cb250a7.png',\n",
       " 'input/gaussian_filtered_images/Mild/7ccb267fd394.png',\n",
       " 'input/gaussian_filtered_images/Mild/248139c423c4.png',\n",
       " 'input/gaussian_filtered_images/Mild/68332fdcaa70.png',\n",
       " 'input/gaussian_filtered_images/Mild/27e4c800a449.png',\n",
       " 'input/gaussian_filtered_images/Mild/93be637084a2.png',\n",
       " 'input/gaussian_filtered_images/Mild/6165081b9021.png',\n",
       " 'input/gaussian_filtered_images/Mild/a7ec056502e7.png',\n",
       " 'input/gaussian_filtered_images/Mild/8dc22e65c06f.png',\n",
       " 'input/gaussian_filtered_images/Mild/194814669fee.png',\n",
       " 'input/gaussian_filtered_images/Mild/a8c54e2a4b79.png',\n",
       " 'input/gaussian_filtered_images/Mild/4a213b405ee4.png',\n",
       " 'input/gaussian_filtered_images/Mild/61bbe8db6f3a.png',\n",
       " 'input/gaussian_filtered_images/Mild/5633ced07d8e.png',\n",
       " 'input/gaussian_filtered_images/Mild/c027e5482e8c.png',\n",
       " 'input/gaussian_filtered_images/Mild/fe2df69676cf.png',\n",
       " 'input/gaussian_filtered_images/Mild/95a4cc805c7b.png',\n",
       " 'input/gaussian_filtered_images/Mild/94372043d55b.png',\n",
       " 'input/gaussian_filtered_images/Mild/0dce95217626.png',\n",
       " 'input/gaussian_filtered_images/Mild/45e4b7eada54.png',\n",
       " 'input/gaussian_filtered_images/Mild/f72ef9ceeaa8.png',\n",
       " 'input/gaussian_filtered_images/Mild/5b804948e35f.png',\n",
       " 'input/gaussian_filtered_images/Mild/ca63fe4f4b52.png',\n",
       " 'input/gaussian_filtered_images/Mild/7ea756985353.png',\n",
       " 'input/gaussian_filtered_images/Mild/eed4afc8ec83.png',\n",
       " 'input/gaussian_filtered_images/Mild/06b71823f9cd.png',\n",
       " 'input/gaussian_filtered_images/Mild/36041171f441.png',\n",
       " 'input/gaussian_filtered_images/Mild/e26d8718ca58.png',\n",
       " 'input/gaussian_filtered_images/Mild/8c2f0f04e1ed.png',\n",
       " 'input/gaussian_filtered_images/Mild/a95858e052d6.png',\n",
       " 'input/gaussian_filtered_images/Mild/8bc6716c2238.png',\n",
       " 'input/gaussian_filtered_images/Mild/82ac8463fadd.png',\n",
       " 'input/gaussian_filtered_images/Mild/3c72f580d4ba.png',\n",
       " 'input/gaussian_filtered_images/Mild/1116271db4ea.png',\n",
       " 'input/gaussian_filtered_images/Mild/d1cad012a254.png',\n",
       " 'input/gaussian_filtered_images/Mild/29b52f64d2db.png',\n",
       " 'input/gaussian_filtered_images/Mild/22325552a4e3.png',\n",
       " 'input/gaussian_filtered_images/Mild/7bf981d9c7fe.png',\n",
       " 'input/gaussian_filtered_images/Mild/4029d70e9d8a.png',\n",
       " 'input/gaussian_filtered_images/Mild/2a8a9e957a6c.png',\n",
       " 'input/gaussian_filtered_images/Mild/655cafb4c932.png',\n",
       " 'input/gaussian_filtered_images/Mild/665ce639a331.png',\n",
       " 'input/gaussian_filtered_images/Mild/5a091e8cd95c.png',\n",
       " 'input/gaussian_filtered_images/Mild/fb6b8200b7f8.png',\n",
       " 'input/gaussian_filtered_images/Mild/24b943fe725e.png',\n",
       " 'input/gaussian_filtered_images/Mild/ca1036496659.png',\n",
       " 'input/gaussian_filtered_images/Mild/d06ccd0cf4b8.png',\n",
       " 'input/gaussian_filtered_images/Mild/1a03a7970337.png',\n",
       " 'input/gaussian_filtered_images/Mild/fe674c2f73f5.png',\n",
       " 'input/gaussian_filtered_images/Mild/086d41d17da8.png',\n",
       " 'input/gaussian_filtered_images/Mild/7a3ea1779b13.png',\n",
       " 'input/gaussian_filtered_images/Mild/ae8472f8d310.png',\n",
       " 'input/gaussian_filtered_images/Mild/ca6842bfcbc9.png',\n",
       " 'input/gaussian_filtered_images/Mild/4dd5d5ccddcf.png',\n",
       " 'input/gaussian_filtered_images/Mild/8a25a080f28f.png',\n",
       " 'input/gaussian_filtered_images/Mild/d801c0a66738.png',\n",
       " 'input/gaussian_filtered_images/Mild/b17f0b81dab3.png',\n",
       " 'input/gaussian_filtered_images/Mild/db690e2d02f8.png',\n",
       " 'input/gaussian_filtered_images/Mild/c7b622ec8104.png',\n",
       " 'input/gaussian_filtered_images/Mild/db4ed1e07aa3.png',\n",
       " 'input/gaussian_filtered_images/Mild/4c129470cec4.png',\n",
       " 'input/gaussian_filtered_images/Mild/8ff863f8874f.png',\n",
       " 'input/gaussian_filtered_images/Mild/107aea0d9289.png',\n",
       " 'input/gaussian_filtered_images/Mild/545df1bbcd61.png',\n",
       " 'input/gaussian_filtered_images/Mild/1c3a6b4449e9.png',\n",
       " 'input/gaussian_filtered_images/Mild/cc12453ea915.png',\n",
       " 'input/gaussian_filtered_images/Mild/78bcdffb8785.png',\n",
       " 'input/gaussian_filtered_images/Mild/c739ff9580d3.png',\n",
       " 'input/gaussian_filtered_images/Mild/9a3109657ac1.png',\n",
       " 'input/gaussian_filtered_images/Mild/07a1c7073982.png',\n",
       " 'input/gaussian_filtered_images/Mild/4393c5bc576a.png',\n",
       " 'input/gaussian_filtered_images/Mild/e580676516b0.png',\n",
       " 'input/gaussian_filtered_images/Mild/b9b99dad668d.png',\n",
       " 'input/gaussian_filtered_images/Mild/595446774178.png',\n",
       " 'input/gaussian_filtered_images/Mild/9ed666e982cd.png',\n",
       " 'input/gaussian_filtered_images/Mild/9eaf735cf01f.png',\n",
       " 'input/gaussian_filtered_images/Mild/059bc89df7f4.png',\n",
       " 'input/gaussian_filtered_images/Mild/4ef7144e24ff.png',\n",
       " 'input/gaussian_filtered_images/Mild/c0f15fe3b4b7.png',\n",
       " 'input/gaussian_filtered_images/Mild/65e51e18242b.png',\n",
       " 'input/gaussian_filtered_images/Mild/6762b2b48ea5.png',\n",
       " 'input/gaussian_filtered_images/Mild/613bacb35c05.png',\n",
       " 'input/gaussian_filtered_images/Mild/5cab3ef4b31c.png',\n",
       " 'input/gaussian_filtered_images/Mild/d6e26fe51dce.png',\n",
       " 'input/gaussian_filtered_images/Mild/bf18ff30a8f6.png',\n",
       " 'input/gaussian_filtered_images/Mild/b56340f472d2.png',\n",
       " 'input/gaussian_filtered_images/Mild/2f4e81787d9b.png',\n",
       " 'input/gaussian_filtered_images/Mild/bd269a1f0e4d.png',\n",
       " 'input/gaussian_filtered_images/Mild/53704c80f0d8.png',\n",
       " 'input/gaussian_filtered_images/Mild/abdb365cacbc.png',\n",
       " 'input/gaussian_filtered_images/Mild/fdd18ccbbdc5.png',\n",
       " 'input/gaussian_filtered_images/Mild/a5a2a7003d60.png',\n",
       " 'input/gaussian_filtered_images/Mild/64eb5a79dfdd.png',\n",
       " 'input/gaussian_filtered_images/Mild/33105f9b3a04.png',\n",
       " 'input/gaussian_filtered_images/Mild/76e589911303.png',\n",
       " 'input/gaussian_filtered_images/Mild/8676427e4625.png',\n",
       " 'input/gaussian_filtered_images/Mild/98fbe56dcc2c.png',\n",
       " 'input/gaussian_filtered_images/Mild/b07bc463b718.png',\n",
       " 'input/gaussian_filtered_images/Mild/1d11794057ff.png',\n",
       " 'input/gaussian_filtered_images/Mild/99132193eaa0.png',\n",
       " 'input/gaussian_filtered_images/Mild/d66b6f333dc7.png',\n",
       " 'input/gaussian_filtered_images/Mild/4f7755e74a9e.png',\n",
       " 'input/gaussian_filtered_images/Mild/33ffddea8c6e.png',\n",
       " 'input/gaussian_filtered_images/Mild/0a3202889f4d.png',\n",
       " 'input/gaussian_filtered_images/Mild/0eb52045349f.png',\n",
       " 'input/gaussian_filtered_images/Mild/0684311afdfc.png',\n",
       " 'input/gaussian_filtered_images/Mild/ca7140ecf389.png',\n",
       " 'input/gaussian_filtered_images/Mild/0a61bddab956.png',\n",
       " 'input/gaussian_filtered_images/Mild/94b1d8ad35ec.png',\n",
       " 'input/gaussian_filtered_images/Mild/a28bfb772f50.png',\n",
       " 'input/gaussian_filtered_images/Mild/cf603a9ef2d5.png',\n",
       " 'input/gaussian_filtered_images/Mild/40e9b5630438.png',\n",
       " 'input/gaussian_filtered_images/Mild/ec4649213ccf.png',\n",
       " 'input/gaussian_filtered_images/Mild/ca25745942b0.png',\n",
       " 'input/gaussian_filtered_images/Mild/3dbc90c7ee7d.png',\n",
       " 'input/gaussian_filtered_images/Mild/7347f5133a6a.png',\n",
       " 'input/gaussian_filtered_images/Mild/b50b30aa6e6c.png',\n",
       " 'input/gaussian_filtered_images/Mild/e9286ddf6ffe.png',\n",
       " 'input/gaussian_filtered_images/Mild/30941b65348b.png',\n",
       " 'input/gaussian_filtered_images/Mild/99ecdb41d5e7.png',\n",
       " 'input/gaussian_filtered_images/Mild/71c1a3cdbe47.png',\n",
       " 'input/gaussian_filtered_images/Mild/3461dc601cc2.png',\n",
       " 'input/gaussian_filtered_images/Mild/101b9ebfc720.png',\n",
       " 'input/gaussian_filtered_images/Mild/4661006f3ba6.png',\n",
       " 'input/gaussian_filtered_images/Mild/1df3e03a8f5f.png',\n",
       " 'input/gaussian_filtered_images/Mild/977e1ca77653.png',\n",
       " 'input/gaussian_filtered_images/Mild/dd19428c3d29.png',\n",
       " 'input/gaussian_filtered_images/Mild/4aa07d720638.png',\n",
       " 'input/gaussian_filtered_images/Mild/7ae69d22075a.png',\n",
       " 'input/gaussian_filtered_images/Mild/cfd1bd0fcbb4.png',\n",
       " 'input/gaussian_filtered_images/Mild/a443c4fd489c.png',\n",
       " 'input/gaussian_filtered_images/Mild/5712e2aa73a2.png',\n",
       " 'input/gaussian_filtered_images/Mild/677f087cd697.png',\n",
       " 'input/gaussian_filtered_images/Mild/e07045d7c5f7.png',\n",
       " 'input/gaussian_filtered_images/Mild/4fa26d065ad3.png',\n",
       " 'input/gaussian_filtered_images/Mild/63a03880939c.png',\n",
       " 'input/gaussian_filtered_images/Mild/0124dffecf29.png',\n",
       " 'input/gaussian_filtered_images/Mild/3c726de3ee90.png',\n",
       " 'input/gaussian_filtered_images/Mild/200d947f75db.png',\n",
       " 'input/gaussian_filtered_images/Mild/66cd9c28e636.png',\n",
       " 'input/gaussian_filtered_images/Mild/12ce6a1a1f31.png',\n",
       " 'input/gaussian_filtered_images/Mild/d5b4705ac2ee.png',\n",
       " 'input/gaussian_filtered_images/Mild/a2696f444ecb.png',\n",
       " 'input/gaussian_filtered_images/Mild/d0d59ed675b5.png',\n",
       " 'input/gaussian_filtered_images/Mild/cd5714db652d.png',\n",
       " 'input/gaussian_filtered_images/Mild/756b0d6488bb.png',\n",
       " 'input/gaussian_filtered_images/Mild/4e6071b73120.png',\n",
       " 'input/gaussian_filtered_images/Mild/19e350c7c83c.png',\n",
       " 'input/gaussian_filtered_images/Mild/b22354b5f94b.png',\n",
       " 'input/gaussian_filtered_images/Mild/2a08ed6bbcbc.png',\n",
       " 'input/gaussian_filtered_images/Mild/f5650eb52640.png',\n",
       " 'input/gaussian_filtered_images/Mild/531b39880c32.png',\n",
       " 'input/gaussian_filtered_images/Mild/cf0575534cec.png',\n",
       " 'input/gaussian_filtered_images/Mild/e2a233493b90.png',\n",
       " 'input/gaussian_filtered_images/Mild/3b73a3a4a734.png',\n",
       " 'input/gaussian_filtered_images/Mild/fecf4c5ae84b.png',\n",
       " 'input/gaussian_filtered_images/Mild/b640e3bdff75.png',\n",
       " 'input/gaussian_filtered_images/Mild/c1e6fa1ad314.png',\n",
       " 'input/gaussian_filtered_images/Mild/c9485c38fdd5.png',\n",
       " 'input/gaussian_filtered_images/Mild/ad1f7445b1a8.png',\n",
       " 'input/gaussian_filtered_images/Mild/259d30f693b6.png',\n",
       " 'input/gaussian_filtered_images/Mild/5347b4c8e9b3.png',\n",
       " 'input/gaussian_filtered_images/Mild/0ad7f631dedb.png',\n",
       " 'input/gaussian_filtered_images/Mild/0024cdab0c1e.png',\n",
       " 'input/gaussian_filtered_images/Mild/4ecd1fdd1435.png',\n",
       " 'input/gaussian_filtered_images/Mild/2994f17f58a5.png',\n",
       " 'input/gaussian_filtered_images/Mild/19722bff5a09.png',\n",
       " 'input/gaussian_filtered_images/Mild/38b9bb961847.png',\n",
       " 'input/gaussian_filtered_images/Mild/8fc09fecd22f.png',\n",
       " 'input/gaussian_filtered_images/Mild/0d310aba6373.png',\n",
       " 'input/gaussian_filtered_images/Mild/278aa860dffd.png',\n",
       " 'input/gaussian_filtered_images/Mild/b94c58d063bf.png',\n",
       " 'input/gaussian_filtered_images/Mild/513b0a4651fa.png',\n",
       " 'input/gaussian_filtered_images/Mild/80d24897669f.png',\n",
       " 'input/gaussian_filtered_images/Mild/bc73ce76ec43.png',\n",
       " 'input/gaussian_filtered_images/Mild/fea14b3d44b0.png',\n",
       " 'input/gaussian_filtered_images/Mild/7005be54cab1.png',\n",
       " 'input/gaussian_filtered_images/Mild/a8c950a99107.png',\n",
       " 'input/gaussian_filtered_images/Mild/53f6c1c65c04.png',\n",
       " 'input/gaussian_filtered_images/Mild/3ee17aa12e46.png',\n",
       " 'input/gaussian_filtered_images/Mild/1c0cf251b426.png',\n",
       " 'input/gaussian_filtered_images/Mild/d3de0d313d61.png',\n",
       " 'input/gaussian_filtered_images/Mild/6d292ca4c9ad.png',\n",
       " 'input/gaussian_filtered_images/Mild/7427dedafccf.png',\n",
       " 'input/gaussian_filtered_images/Mild/6b00cb764237.png',\n",
       " 'input/gaussian_filtered_images/Mild/5879285f9d8d.png',\n",
       " 'input/gaussian_filtered_images/Mild/e55188915f9d.png',\n",
       " 'input/gaussian_filtered_images/Mild/7f60f2a083d3.png',\n",
       " 'input/gaussian_filtered_images/Mild/a3ad6c2db6f1.png',\n",
       " 'input/gaussian_filtered_images/Mild/0fb1053285cf.png',\n",
       " 'input/gaussian_filtered_images/Mild/6377e23928f6.png',\n",
       " 'input/gaussian_filtered_images/Mild/bb783d8e496f.png',\n",
       " 'input/gaussian_filtered_images/Mild/d66ccb75ada1.png',\n",
       " 'input/gaussian_filtered_images/Mild/da1fb35f5df9.png',\n",
       " 'input/gaussian_filtered_images/Mild/22a6da005395.png',\n",
       " 'input/gaussian_filtered_images/Mild/578109578b46.png',\n",
       " 'input/gaussian_filtered_images/Mild/3de8ad4151e1.png',\n",
       " 'input/gaussian_filtered_images/Mild/73881f55a3ec.png',\n",
       " 'input/gaussian_filtered_images/Mild/cae51154e1ce.png',\n",
       " 'input/gaussian_filtered_images/Mild/c0968d41eb93.png',\n",
       " 'input/gaussian_filtered_images/Mild/94111ed3d276.png',\n",
       " 'input/gaussian_filtered_images/Mild/4cae247d9909.png',\n",
       " 'input/gaussian_filtered_images/Mild/8a01daa423f7.png',\n",
       " 'input/gaussian_filtered_images/Mild/f762c272c522.png',\n",
       " 'input/gaussian_filtered_images/Mild/172df1330a60.png',\n",
       " 'input/gaussian_filtered_images/Mild/4e82c3c8d31f.png']"
      ]
     },
     "execution_count": 3,
     "metadata": {},
     "output_type": "execute_result"
    }
   ],
   "source": [
    "glob(\"input/gaussian_filtered_images/Mild/*\")"
   ]
  },
  {
   "cell_type": "code",
   "execution_count": 18,
   "metadata": {},
   "outputs": [
    {
     "name": "stdout",
     "output_type": "stream",
     "text": [
      "フォルダ名： ['Mild' 'Moderate']\n",
      "拡張子 : ['png']\n"
     ]
    }
   ],
   "source": [
    "import numpy as np\n",
    "allpng_list = glob(\"input/gaussian_filtered_images/*/*.png\")\n",
    "\n",
    "# gaussian_filtered_images配下のフォルダ名取得（内包表記）\n",
    "folder_list = [p.split(\"/\")[2]for p in allpng_list]\n",
    "print(\"フォルダ名：\", np.unique(folder_list))\n",
    "\n",
    "# .で区切った最後尾取得（拡張子取得）\n",
    "extension_list = [p.split(\".\")[-1]for p in allpng_list]\n",
    "print(\"拡張子 :\", np.unique(extension_list))"
   ]
  },
  {
   "cell_type": "code",
   "execution_count": 27,
   "metadata": {},
   "outputs": [
    {
     "data": {
      "text/html": [
       "<div>\n",
       "<style scoped>\n",
       "    .dataframe tbody tr th:only-of-type {\n",
       "        vertical-align: middle;\n",
       "    }\n",
       "\n",
       "    .dataframe tbody tr th {\n",
       "        vertical-align: top;\n",
       "    }\n",
       "\n",
       "    .dataframe thead th {\n",
       "        text-align: right;\n",
       "    }\n",
       "</style>\n",
       "<table border=\"1\" class=\"dataframe\">\n",
       "  <thead>\n",
       "    <tr style=\"text-align: right;\">\n",
       "      <th></th>\n",
       "      <th>path</th>\n",
       "      <th>type</th>\n",
       "      <th>extension</th>\n",
       "    </tr>\n",
       "  </thead>\n",
       "  <tbody>\n",
       "    <tr>\n",
       "      <th>0</th>\n",
       "      <td>input/gaussian_filtered_images/Mild/2d7666b888...</td>\n",
       "      <td>Mild</td>\n",
       "      <td>png</td>\n",
       "    </tr>\n",
       "    <tr>\n",
       "      <th>1</th>\n",
       "      <td>input/gaussian_filtered_images/Mild/50840c36f0...</td>\n",
       "      <td>Mild</td>\n",
       "      <td>png</td>\n",
       "    </tr>\n",
       "    <tr>\n",
       "      <th>2</th>\n",
       "      <td>input/gaussian_filtered_images/Mild/30cab14951...</td>\n",
       "      <td>Mild</td>\n",
       "      <td>png</td>\n",
       "    </tr>\n",
       "  </tbody>\n",
       "</table>\n",
       "</div>"
      ],
      "text/plain": [
       "                                                path  ... extension\n",
       "0  input/gaussian_filtered_images/Mild/2d7666b888...  ...       png\n",
       "1  input/gaussian_filtered_images/Mild/50840c36f0...  ...       png\n",
       "2  input/gaussian_filtered_images/Mild/30cab14951...  ...       png\n",
       "\n",
       "[3 rows x 3 columns]"
      ]
     },
     "execution_count": 27,
     "metadata": {},
     "output_type": "execute_result"
    }
   ],
   "source": [
    "#データフレーム化\n",
    "import pandas as pd\n",
    "\n",
    "df = pd.DataFrame({\"path\":allpng_list, \"type\":folder_list, \"extension\":extension_list})\n",
    "df.head(3)"
   ]
  },
  {
   "cell_type": "markdown",
   "metadata": {},
   "source": [
    "```Python\n",
    "import numpy as np\n",
    "import pandas as pd\n",
    "\n",
    "allpngs = glob(\"input/gaussian_filtered_images/*/*.png\")\n",
    "types = [p.split(\"/\")[2]for p in allpngs]\n",
    "extensions = [p.split(\".\")[-1]for p in allpngs]\n",
    "df = pd.DataFrame({\"path\":allpngs, \"type\":types, \"extension\":extensions})\n",
    "```\n",
    "> `memo`\n",
    ">\n",
    "> 大量データのデータフレーム化処理の一連は`データサイエンスではめちゃくちゃ頻出`"
   ]
  },
  {
   "cell_type": "code",
   "execution_count": 28,
   "metadata": {},
   "outputs": [
    {
     "data": {
      "text/plain": [
       "Moderate    999\n",
       "Mild        370\n",
       "Name: type, dtype: int64"
      ]
     },
     "execution_count": 28,
     "metadata": {},
     "output_type": "execute_result"
    }
   ],
   "source": [
    "df[\"type\"].value_counts()"
   ]
  },
  {
   "cell_type": "code",
   "execution_count": 38,
   "metadata": {},
   "outputs": [
    {
     "data": {
      "text/plain": [
       "<seaborn.axisgrid.FacetGrid at 0x122364310>"
      ]
     },
     "execution_count": 38,
     "metadata": {},
     "output_type": "execute_result"
    },
    {
     "data": {
      "image/png": "[encoded data removed]",
      "text/plain": [
       "<Figure size 360x360 with 1 Axes>"
      ]
     },
     "metadata": {
      "needs_background": "light"
     },
     "output_type": "display_data"
    }
   ],
   "source": [
    "import matplotlib.pyplot as plt\n",
    "import seaborn as sns\n",
    "%matplotlib inline\n",
    "\n",
    "# plt.figure(figsize=(1, 1))\n",
    "sns.catplot(x=\"type\", data=df, kind=\"count\")"
   ]
  },
  {
   "cell_type": "markdown",
   "metadata": {},
   "source": [
    "## 30 tqdmを使ってforループでプログレスバーを表示する\n",
    "> 大量のデータを処理する際にプログレスバーを表示するtqdmというモジュールについて解説\n",
    "\n",
    "> `cf.`\n",
    "> + [tqdm - github](https://github.com/tqdm/tqdm)"
   ]
  },
  {
   "cell_type": "markdown",
   "metadata": {},
   "source": [
    "### | tqdmをインストール＆インポート\n",
    "> globと違って`import tqdm`でインポートし`tqdm.tqdm`と使う人はあまり見ません"
   ]
  },
  {
   "cell_type": "code",
   "execution_count": 39,
   "metadata": {},
   "outputs": [],
   "source": [
    "from tqdm import tqdm"
   ]
  },
  {
   "cell_type": "markdown",
   "metadata": {},
   "source": [
    "### | tqdmの基本的な使い方"
   ]
  },
  {
   "cell_type": "code",
   "execution_count": 41,
   "metadata": {},
   "outputs": [
    {
     "name": "stdout",
     "output_type": "stream",
     "text": [
      "10000000\n"
     ]
    }
   ],
   "source": [
    "sum = 0\n",
    "for i in range(0, 10000000):\n",
    "    sum += 1\n",
    "print(sum)"
   ]
  },
  {
   "cell_type": "code",
   "execution_count": 42,
   "metadata": {},
   "outputs": [
    {
     "name": "stderr",
     "output_type": "stream",
     "text": [
      "100%|██████████| 10000000/10000000 [00:03<00:00, 3101214.79it/s]"
     ]
    },
    {
     "name": "stdout",
     "output_type": "stream",
     "text": [
      "10000000\n"
     ]
    },
    {
     "name": "stderr",
     "output_type": "stream",
     "text": [
      "\n"
     ]
    }
   ],
   "source": [
    "sum = 0\n",
    "for i in tqdm(range(0, 10000000)):\n",
    "    sum += 1\n",
    "print(sum)"
   ]
  },
  {
   "cell_type": "markdown",
   "metadata": {},
   "source": [
    "### | total引数を使って，データ数表示"
   ]
  },
  {
   "cell_type": "code",
   "execution_count": 62,
   "metadata": {},
   "outputs": [
    {
     "data": {
      "text/html": [
       "<div>\n",
       "<style scoped>\n",
       "    .dataframe tbody tr th:only-of-type {\n",
       "        vertical-align: middle;\n",
       "    }\n",
       "\n",
       "    .dataframe tbody tr th {\n",
       "        vertical-align: top;\n",
       "    }\n",
       "\n",
       "    .dataframe thead th {\n",
       "        text-align: right;\n",
       "    }\n",
       "</style>\n",
       "<table border=\"1\" class=\"dataframe\">\n",
       "  <thead>\n",
       "    <tr style=\"text-align: right;\">\n",
       "      <th></th>\n",
       "      <th>path</th>\n",
       "      <th>type</th>\n",
       "      <th>extension</th>\n",
       "    </tr>\n",
       "  </thead>\n",
       "  <tbody>\n",
       "    <tr>\n",
       "      <th>0</th>\n",
       "      <td>input/gaussian_filtered_images/Mild/2d7666b888...</td>\n",
       "      <td>Mild</td>\n",
       "      <td>png</td>\n",
       "    </tr>\n",
       "    <tr>\n",
       "      <th>1</th>\n",
       "      <td>input/gaussian_filtered_images/Mild/50840c36f0...</td>\n",
       "      <td>Mild</td>\n",
       "      <td>png</td>\n",
       "    </tr>\n",
       "    <tr>\n",
       "      <th>2</th>\n",
       "      <td>input/gaussian_filtered_images/Mild/30cab14951...</td>\n",
       "      <td>Mild</td>\n",
       "      <td>png</td>\n",
       "    </tr>\n",
       "  </tbody>\n",
       "</table>\n",
       "</div>"
      ],
      "text/plain": [
       "                                                path  ... extension\n",
       "0  input/gaussian_filtered_images/Mild/2d7666b888...  ...       png\n",
       "1  input/gaussian_filtered_images/Mild/50840c36f0...  ...       png\n",
       "2  input/gaussian_filtered_images/Mild/30cab14951...  ...       png\n",
       "\n",
       "[3 rows x 3 columns]"
      ]
     },
     "execution_count": 62,
     "metadata": {},
     "output_type": "execute_result"
    }
   ],
   "source": [
    "import numpy as np\n",
    "import pandas as pd \n",
    "from glob import glob\n",
    "\n",
    "allimg_list = glob(\"input/gaussian_filtered_images/*/*.png\")\n",
    "type_list = [p.split(\"/\")[2]for p in allimg_list]\n",
    "extension_list = [p.split(\".\")[-1]for p in allimg_list]\n",
    "# print(np.unique([type_list, extension_list]))\n",
    "df = pd.DataFrame({\"path\":allimg_list, \"type\":type_list, \"extension\":extension_list})\n",
    "df.head(3)"
   ]
  },
  {
   "cell_type": "code",
   "execution_count": 61,
   "metadata": {},
   "outputs": [
    {
     "name": "stderr",
     "output_type": "stream",
     "text": [
      "100%|██████████| 1369/1369 [00:00<00:00, 12631.14it/s]\n"
     ]
    }
   ],
   "source": [
    "# データフレームをfor処理の際にtqdmを挟む\n",
    "for idx, row in tqdm(df.iterrows(), total=len(df)):\n",
    "    pass"
   ]
  },
  {
   "cell_type": "markdown",
   "metadata": {},
   "source": [
    "### | 頻出例：データIO処理でよく使う\n",
    ">     このtqdmは特に，データを読み込んで処理して保存するようなIO処理でよく使います．\n",
    ">     pngデータをnpyデータで保存する処理は深層学習でよく使います．\n",
    ">     (多くの深層学習のフレームワークは学習データとしてnpyデータを使うから)"
   ]
  },
  {
   "cell_type": "code",
   "execution_count": 68,
   "metadata": {},
   "outputs": [],
   "source": [
    "import cv2"
   ]
  },
  {
   "cell_type": "code",
   "execution_count": 74,
   "metadata": {},
   "outputs": [],
   "source": [
    "#NumPy Arrayを保存先パス\n",
    "sava_path = \"output/gaussian_filtered_nparray/\"\n",
    "\n",
    "for p in glob(\"input/gaussian_filtered_images/*/*.png\"):\n",
    "   #  pngファイルをOpenCVでロード\n",
    "    im = cv2.imread(p)\n",
    "    # 画像のファイル名をそのまま流用\n",
    "    file_name = p.split(\"/\")[-1].split(\".png\")[0]\n",
    "    save_path = sava_path + file_name\n",
    "    # \n",
    "    np.save(save_path, im)"
   ]
  },
  {
   "cell_type": "markdown",
   "metadata": {},
   "source": [
    "## 31 安全にPath操作をする\n",
    ">     osモジュールとpathlibモジュールを使って，安全にPath操作をする方法\n",
    ">     ファイルパスはOSによって異なりますし，スラッシュをつけ忘れてたりしてバグの元なので文字列操作だけでは不安です．\n",
    ">     文字列ではなくてosモジュールを使うことで，安全にpathを操作できます\n",
    "\n",
    "> `⚠️`\n",
    ">\n",
    ">     今回の内容は普段解析で常に使うものでもないので，\n",
    ">     多くの人は都度ネットで確認しながら書くようなコードだと思います．\n",
    ">     なので覚えようとはせず，必要な時にググればいいくらいに読んでください"
   ]
  },
  {
   "cell_type": "markdown",
   "metadata": {},
   "source": [
    "### | osモジュールとpathlibモジュールをインポートする\n",
    "> pathlibモジュールは，今回`Pathクラス`を使用"
   ]
  },
  {
   "cell_type": "code",
   "execution_count": 2,
   "metadata": {},
   "outputs": [],
   "source": [
    "import os\n",
    "from pathlib import Path"
   ]
  },
  {
   "cell_type": "markdown",
   "metadata": {},
   "source": [
    "### | pathlibを使ってフォルダおよびファイル構造を取得"
   ]
  },
  {
   "cell_type": "code",
   "execution_count": 12,
   "metadata": {},
   "outputs": [],
   "source": [
    "# pというPathオブジェクト(正しくはPosixPathオブジェクト)のインスタンス作成\n",
    "p = Path(\"input/gaussian_filtered_images\")"
   ]
  },
  {
   "cell_type": "code",
   "execution_count": 16,
   "metadata": {},
   "outputs": [
    {
     "data": {
      "text/plain": [
       "<generator object Path.iterdir at 0x10e380b30>"
      ]
     },
     "execution_count": 16,
     "metadata": {},
     "output_type": "execute_result"
    }
   ],
   "source": [
    "p.iterdir()"
   ]
  },
  {
   "cell_type": "code",
   "execution_count": 15,
   "metadata": {},
   "outputs": [
    {
     "data": {
      "text/plain": [
       "generator"
      ]
     },
     "execution_count": 15,
     "metadata": {},
     "output_type": "execute_result"
    }
   ],
   "source": [
    "type(p.iterdir())"
   ]
  },
  {
   "cell_type": "code",
   "execution_count": 17,
   "metadata": {},
   "outputs": [
    {
     "data": {
      "text/plain": [
       "[PosixPath('input/gaussian_filtered_images/.DS_Store'),\n",
       " PosixPath('input/gaussian_filtered_images/Mild'),\n",
       " PosixPath('input/gaussian_filtered_images/Moderate')]"
      ]
     },
     "execution_count": 17,
     "metadata": {},
     "output_type": "execute_result"
    }
   ],
   "source": [
    "list(p.iterdir())"
   ]
  },
  {
   "cell_type": "markdown",
   "metadata": {},
   "source": [
    "#### - glob(\"path\")"
   ]
  },
  {
   "cell_type": "code",
   "execution_count": 26,
   "metadata": {
    "collapsed": true,
    "jupyter": {
     "outputs_hidden": true
    }
   },
   "outputs": [
    {
     "data": {
      "text/plain": [
       "[PosixPath('input/gaussian_filtered_images/Mild/2d7666b8884f.png'),\n",
       " PosixPath('input/gaussian_filtered_images/Mild/50840c36f0b4.png'),\n",
       " PosixPath('input/gaussian_filtered_images/Mild/30cab14951ac.png'),\n",
       " PosixPath('input/gaussian_filtered_images/Mild/a8582e346df0.png'),\n",
       " PosixPath('input/gaussian_filtered_images/Mild/cab3dfa7962d.png'),\n",
       " PosixPath('input/gaussian_filtered_images/Mild/35d6c4c50072.png'),\n",
       " PosixPath('input/gaussian_filtered_images/Mild/67f5d89da548.png'),\n",
       " PosixPath('input/gaussian_filtered_images/Mild/6b07971c3bf6.png'),\n",
       " PosixPath('input/gaussian_filtered_images/Mild/7116128c65ab.png'),\n",
       " PosixPath('input/gaussian_filtered_images/Mild/e38f3a65b02b.png'),\n",
       " PosixPath('input/gaussian_filtered_images/Mild/d85588ff2ebd.png'),\n",
       " PosixPath('input/gaussian_filtered_images/Mild/a19ecd0a706e.png'),\n",
       " PosixPath('input/gaussian_filtered_images/Mild/49c5e7f6b8d2.png'),\n",
       " PosixPath('input/gaussian_filtered_images/Mild/2f2e1949ad56.png'),\n",
       " PosixPath('input/gaussian_filtered_images/Mild/35aa7f5c2ec0.png'),\n",
       " PosixPath('input/gaussian_filtered_images/Mild/55eac26bd383.png'),\n",
       " PosixPath('input/gaussian_filtered_images/Mild/af133a85ea0c.png'),\n",
       " PosixPath('input/gaussian_filtered_images/Mild/80a02014b418.png'),\n",
       " PosixPath('input/gaussian_filtered_images/Mild/384631079d1e.png'),\n",
       " PosixPath('input/gaussian_filtered_images/Mild/e25ccfe38e44.png'),\n",
       " PosixPath('input/gaussian_filtered_images/Mild/6ea07d19b4ce.png'),\n",
       " PosixPath('input/gaussian_filtered_images/Mild/8273fdb4405e.png'),\n",
       " PosixPath('input/gaussian_filtered_images/Mild/ead23cc922ed.png'),\n",
       " PosixPath('input/gaussian_filtered_images/Mild/1e8a1fdee5b9.png'),\n",
       " PosixPath('input/gaussian_filtered_images/Mild/c102db7634d8.png'),\n",
       " PosixPath('input/gaussian_filtered_images/Mild/1b329a127307.png'),\n",
       " PosixPath('input/gaussian_filtered_images/Mild/0f495d87656a.png'),\n",
       " PosixPath('input/gaussian_filtered_images/Mild/58184d6fd087.png'),\n",
       " PosixPath('input/gaussian_filtered_images/Mild/25e9fd872182.png'),\n",
       " PosixPath('input/gaussian_filtered_images/Mild/c4a8f2fcf6e8.png'),\n",
       " PosixPath('input/gaussian_filtered_images/Mild/ee78ce914066.png'),\n",
       " PosixPath('input/gaussian_filtered_images/Mild/e9ff9352ccb3.png'),\n",
       " PosixPath('input/gaussian_filtered_images/Mild/cb2f3c5d71a7.png'),\n",
       " PosixPath('input/gaussian_filtered_images/Mild/5090917a2676.png'),\n",
       " PosixPath('input/gaussian_filtered_images/Mild/79ce83c07588.png'),\n",
       " PosixPath('input/gaussian_filtered_images/Mild/dbd062558b81.png'),\n",
       " PosixPath('input/gaussian_filtered_images/Mild/5671eb95512b.png'),\n",
       " PosixPath('input/gaussian_filtered_images/Mild/00cb6555d108.png'),\n",
       " PosixPath('input/gaussian_filtered_images/Mild/96a9706b8534.png'),\n",
       " PosixPath('input/gaussian_filtered_images/Mild/ea15a290eb96.png'),\n",
       " PosixPath('input/gaussian_filtered_images/Mild/36677b70b1ef.png'),\n",
       " PosixPath('input/gaussian_filtered_images/Mild/eba3acc42197.png'),\n",
       " PosixPath('input/gaussian_filtered_images/Mild/f481f76a6b75.png'),\n",
       " PosixPath('input/gaussian_filtered_images/Mild/f6f7dba7104d.png'),\n",
       " PosixPath('input/gaussian_filtered_images/Mild/821789e9053f.png'),\n",
       " PosixPath('input/gaussian_filtered_images/Mild/a75bab2463d4.png'),\n",
       " PosixPath('input/gaussian_filtered_images/Mild/6028a575dc27.png'),\n",
       " PosixPath('input/gaussian_filtered_images/Mild/a47432cd41e7.png'),\n",
       " PosixPath('input/gaussian_filtered_images/Mild/31cb39681f6a.png'),\n",
       " PosixPath('input/gaussian_filtered_images/Mild/15cc2aef772a.png'),\n",
       " PosixPath('input/gaussian_filtered_images/Mild/12e3f5f2cb17.png'),\n",
       " PosixPath('input/gaussian_filtered_images/Mild/03e25101e8e8.png'),\n",
       " PosixPath('input/gaussian_filtered_images/Mild/eeb231c3ef1f.png'),\n",
       " PosixPath('input/gaussian_filtered_images/Mild/90c982cc2d96.png'),\n",
       " PosixPath('input/gaussian_filtered_images/Mild/6298468d7d75.png'),\n",
       " PosixPath('input/gaussian_filtered_images/Mild/63363410389a.png'),\n",
       " PosixPath('input/gaussian_filtered_images/Mild/f55e1d2a19e4.png'),\n",
       " PosixPath('input/gaussian_filtered_images/Mild/495255c7492f.png'),\n",
       " PosixPath('input/gaussian_filtered_images/Mild/b7278b4f2448.png'),\n",
       " PosixPath('input/gaussian_filtered_images/Mild/4dd9d29eae5d.png'),\n",
       " PosixPath('input/gaussian_filtered_images/Mild/c1ebe785503a.png'),\n",
       " PosixPath('input/gaussian_filtered_images/Mild/382752f6694a.png'),\n",
       " PosixPath('input/gaussian_filtered_images/Mild/33b893e18eb3.png'),\n",
       " PosixPath('input/gaussian_filtered_images/Mild/f47a2a4a0411.png'),\n",
       " PosixPath('input/gaussian_filtered_images/Mild/ef8109305128.png'),\n",
       " PosixPath('input/gaussian_filtered_images/Mild/18b06f56ab27.png'),\n",
       " PosixPath('input/gaussian_filtered_images/Mild/17eff993386f.png'),\n",
       " PosixPath('input/gaussian_filtered_images/Mild/274f5029189b.png'),\n",
       " PosixPath('input/gaussian_filtered_images/Mild/49386d603494.png'),\n",
       " PosixPath('input/gaussian_filtered_images/Mild/89d9c071a56f.png'),\n",
       " PosixPath('input/gaussian_filtered_images/Mild/d4f32b9c07df.png'),\n",
       " PosixPath('input/gaussian_filtered_images/Mild/f7fec8935126.png'),\n",
       " PosixPath('input/gaussian_filtered_images/Mild/89ed6a0dd53f.png'),\n",
       " PosixPath('input/gaussian_filtered_images/Mild/3044022c6969.png'),\n",
       " PosixPath('input/gaussian_filtered_images/Mild/07929d32b5b3.png'),\n",
       " PosixPath('input/gaussian_filtered_images/Mild/58ccba7eec9c.png'),\n",
       " PosixPath('input/gaussian_filtered_images/Mild/05a5183c92d0.png'),\n",
       " PosixPath('input/gaussian_filtered_images/Mild/494fc9c745a3.png'),\n",
       " PosixPath('input/gaussian_filtered_images/Mild/7b20210d9120.png'),\n",
       " PosixPath('input/gaussian_filtered_images/Mild/8ef2eb8c51c4.png'),\n",
       " PosixPath('input/gaussian_filtered_images/Mild/76be29bb30b2.png'),\n",
       " PosixPath('input/gaussian_filtered_images/Mild/a01024054596.png'),\n",
       " PosixPath('input/gaussian_filtered_images/Mild/523b3f0fc646.png'),\n",
       " PosixPath('input/gaussian_filtered_images/Mild/4d7d6928534a.png'),\n",
       " PosixPath('input/gaussian_filtered_images/Mild/c40976189f22.png'),\n",
       " PosixPath('input/gaussian_filtered_images/Mild/f0c13be90519.png'),\n",
       " PosixPath('input/gaussian_filtered_images/Mild/c0e15e8e2b46.png'),\n",
       " PosixPath('input/gaussian_filtered_images/Mild/4c3c1ed09771.png'),\n",
       " PosixPath('input/gaussian_filtered_images/Mild/4e0656629d02.png'),\n",
       " PosixPath('input/gaussian_filtered_images/Mild/111898ab463d.png'),\n",
       " PosixPath('input/gaussian_filtered_images/Mild/b71428739d4e.png'),\n",
       " PosixPath('input/gaussian_filtered_images/Mild/77a9538b8362.png'),\n",
       " PosixPath('input/gaussian_filtered_images/Mild/c56e65f74187.png'),\n",
       " PosixPath('input/gaussian_filtered_images/Mild/c8fc0df22999.png'),\n",
       " PosixPath('input/gaussian_filtered_images/Mild/9782c0489eca.png'),\n",
       " PosixPath('input/gaussian_filtered_images/Mild/ababe19ed448.png'),\n",
       " PosixPath('input/gaussian_filtered_images/Mild/b6a0e348a01e.png'),\n",
       " PosixPath('input/gaussian_filtered_images/Mild/71f6a6e4620a.png'),\n",
       " PosixPath('input/gaussian_filtered_images/Mild/59e5212f7139.png'),\n",
       " PosixPath('input/gaussian_filtered_images/Mild/a3d2a0c4cd17.png'),\n",
       " PosixPath('input/gaussian_filtered_images/Mild/47d1603a555b.png'),\n",
       " PosixPath('input/gaussian_filtered_images/Mild/8bbd7835e9aa.png'),\n",
       " PosixPath('input/gaussian_filtered_images/Mild/83e529e95b0e.png'),\n",
       " PosixPath('input/gaussian_filtered_images/Mild/0369f3efe69b.png'),\n",
       " PosixPath('input/gaussian_filtered_images/Mild/bb11db08584a.png'),\n",
       " PosixPath('input/gaussian_filtered_images/Mild/5b068765e846.png'),\n",
       " PosixPath('input/gaussian_filtered_images/Mild/d567a1a22d33.png'),\n",
       " PosixPath('input/gaussian_filtered_images/Mild/bebb3f167654.png'),\n",
       " PosixPath('input/gaussian_filtered_images/Mild/ad3fc5076852.png'),\n",
       " PosixPath('input/gaussian_filtered_images/Mild/cc9270f06b65.png'),\n",
       " PosixPath('input/gaussian_filtered_images/Mild/5548a7961a3e.png'),\n",
       " PosixPath('input/gaussian_filtered_images/Mild/582115961a3d.png'),\n",
       " PosixPath('input/gaussian_filtered_images/Mild/358d2224de73.png'),\n",
       " PosixPath('input/gaussian_filtered_images/Mild/8714d17bb6da.png'),\n",
       " PosixPath('input/gaussian_filtered_images/Mild/5777ef74c9ec.png'),\n",
       " PosixPath('input/gaussian_filtered_images/Mild/09935d72892b.png'),\n",
       " PosixPath('input/gaussian_filtered_images/Mild/bacfb1029f6b.png'),\n",
       " PosixPath('input/gaussian_filtered_images/Mild/2d9d97a6e713.png'),\n",
       " PosixPath('input/gaussian_filtered_images/Mild/365f8c01d994.png'),\n",
       " PosixPath('input/gaussian_filtered_images/Mild/7335a2d43ada.png'),\n",
       " PosixPath('input/gaussian_filtered_images/Mild/01b3aed3ed4c.png'),\n",
       " PosixPath('input/gaussian_filtered_images/Mild/04ac765f91a1.png'),\n",
       " PosixPath('input/gaussian_filtered_images/Mild/6cdd0f985270.png'),\n",
       " PosixPath('input/gaussian_filtered_images/Mild/5b72ff04333d.png'),\n",
       " PosixPath('input/gaussian_filtered_images/Mild/92d9e9f08709.png'),\n",
       " PosixPath('input/gaussian_filtered_images/Mild/64678182d8a8.png'),\n",
       " PosixPath('input/gaussian_filtered_images/Mild/10f36b0239fb.png'),\n",
       " PosixPath('input/gaussian_filtered_images/Mild/22098b1fe461.png'),\n",
       " PosixPath('input/gaussian_filtered_images/Mild/8114d6a160df.png'),\n",
       " PosixPath('input/gaussian_filtered_images/Mild/b1197f2cc9b3.png'),\n",
       " PosixPath('input/gaussian_filtered_images/Mild/1d674e2e32e0.png'),\n",
       " PosixPath('input/gaussian_filtered_images/Mild/7ef5ff774a48.png'),\n",
       " PosixPath('input/gaussian_filtered_images/Mild/4da2961e62fe.png'),\n",
       " PosixPath('input/gaussian_filtered_images/Mild/52ae917fcea4.png'),\n",
       " PosixPath('input/gaussian_filtered_images/Mild/ca30a97e9d13.png'),\n",
       " PosixPath('input/gaussian_filtered_images/Mild/fd62bd0db4f1.png'),\n",
       " PosixPath('input/gaussian_filtered_images/Mild/e96bd80a8a53.png'),\n",
       " PosixPath('input/gaussian_filtered_images/Mild/a77dbec966d4.png'),\n",
       " PosixPath('input/gaussian_filtered_images/Mild/d85d052900b4.png'),\n",
       " PosixPath('input/gaussian_filtered_images/Mild/13ab8db8c700.png'),\n",
       " PosixPath('input/gaussian_filtered_images/Mild/0dc031c94225.png'),\n",
       " PosixPath('input/gaussian_filtered_images/Mild/6c6efb6b1358.png'),\n",
       " PosixPath('input/gaussian_filtered_images/Mild/38e0e28d35d3.png'),\n",
       " PosixPath('input/gaussian_filtered_images/Mild/5b0e53f53ef3.png'),\n",
       " PosixPath('input/gaussian_filtered_images/Mild/bb9a3d835a94.png'),\n",
       " PosixPath('input/gaussian_filtered_images/Mild/51131b48f9d4.png'),\n",
       " PosixPath('input/gaussian_filtered_images/Mild/b8ebedd382de.png'),\n",
       " PosixPath('input/gaussian_filtered_images/Mild/8f2996b8d855.png'),\n",
       " PosixPath('input/gaussian_filtered_images/Mild/2ecbc2e3f239.png'),\n",
       " PosixPath('input/gaussian_filtered_images/Mild/fca931da5c5e.png'),\n",
       " PosixPath('input/gaussian_filtered_images/Mild/b4f41b5bf0ef.png'),\n",
       " PosixPath('input/gaussian_filtered_images/Mild/cd45bfa07d41.png'),\n",
       " PosixPath('input/gaussian_filtered_images/Mild/3f73c91b7e32.png'),\n",
       " PosixPath('input/gaussian_filtered_images/Mild/5efa24b03d5e.png'),\n",
       " PosixPath('input/gaussian_filtered_images/Mild/1bb0ddfe753a.png'),\n",
       " PosixPath('input/gaussian_filtered_images/Mild/849a91e9ab28.png'),\n",
       " PosixPath('input/gaussian_filtered_images/Mild/587146a55885.png'),\n",
       " PosixPath('input/gaussian_filtered_images/Mild/944a233fbf8e.png'),\n",
       " PosixPath('input/gaussian_filtered_images/Mild/bb45257258cc.png'),\n",
       " PosixPath('input/gaussian_filtered_images/Mild/b576c5269ad1.png'),\n",
       " PosixPath('input/gaussian_filtered_images/Mild/a32886cb31ab.png'),\n",
       " PosixPath('input/gaussian_filtered_images/Mild/84a72e15b23c.png'),\n",
       " PosixPath('input/gaussian_filtered_images/Mild/28f98cfe3858.png'),\n",
       " PosixPath('input/gaussian_filtered_images/Mild/c96f743915b5.png'),\n",
       " PosixPath('input/gaussian_filtered_images/Mild/a00b4cb250a7.png'),\n",
       " PosixPath('input/gaussian_filtered_images/Mild/7ccb267fd394.png'),\n",
       " PosixPath('input/gaussian_filtered_images/Mild/248139c423c4.png'),\n",
       " PosixPath('input/gaussian_filtered_images/Mild/68332fdcaa70.png'),\n",
       " PosixPath('input/gaussian_filtered_images/Mild/27e4c800a449.png'),\n",
       " PosixPath('input/gaussian_filtered_images/Mild/93be637084a2.png'),\n",
       " PosixPath('input/gaussian_filtered_images/Mild/6165081b9021.png'),\n",
       " PosixPath('input/gaussian_filtered_images/Mild/a7ec056502e7.png'),\n",
       " PosixPath('input/gaussian_filtered_images/Mild/8dc22e65c06f.png'),\n",
       " PosixPath('input/gaussian_filtered_images/Mild/194814669fee.png'),\n",
       " PosixPath('input/gaussian_filtered_images/Mild/a8c54e2a4b79.png'),\n",
       " PosixPath('input/gaussian_filtered_images/Mild/4a213b405ee4.png'),\n",
       " PosixPath('input/gaussian_filtered_images/Mild/61bbe8db6f3a.png'),\n",
       " PosixPath('input/gaussian_filtered_images/Mild/5633ced07d8e.png'),\n",
       " PosixPath('input/gaussian_filtered_images/Mild/c027e5482e8c.png'),\n",
       " PosixPath('input/gaussian_filtered_images/Mild/fe2df69676cf.png'),\n",
       " PosixPath('input/gaussian_filtered_images/Mild/95a4cc805c7b.png'),\n",
       " PosixPath('input/gaussian_filtered_images/Mild/94372043d55b.png'),\n",
       " PosixPath('input/gaussian_filtered_images/Mild/0dce95217626.png'),\n",
       " PosixPath('input/gaussian_filtered_images/Mild/45e4b7eada54.png'),\n",
       " PosixPath('input/gaussian_filtered_images/Mild/f72ef9ceeaa8.png'),\n",
       " PosixPath('input/gaussian_filtered_images/Mild/5b804948e35f.png'),\n",
       " PosixPath('input/gaussian_filtered_images/Mild/ca63fe4f4b52.png'),\n",
       " PosixPath('input/gaussian_filtered_images/Mild/7ea756985353.png'),\n",
       " PosixPath('input/gaussian_filtered_images/Mild/eed4afc8ec83.png'),\n",
       " PosixPath('input/gaussian_filtered_images/Mild/06b71823f9cd.png'),\n",
       " PosixPath('input/gaussian_filtered_images/Mild/36041171f441.png'),\n",
       " PosixPath('input/gaussian_filtered_images/Mild/e26d8718ca58.png'),\n",
       " PosixPath('input/gaussian_filtered_images/Mild/8c2f0f04e1ed.png'),\n",
       " PosixPath('input/gaussian_filtered_images/Mild/a95858e052d6.png'),\n",
       " PosixPath('input/gaussian_filtered_images/Mild/8bc6716c2238.png'),\n",
       " PosixPath('input/gaussian_filtered_images/Mild/82ac8463fadd.png'),\n",
       " PosixPath('input/gaussian_filtered_images/Mild/3c72f580d4ba.png'),\n",
       " PosixPath('input/gaussian_filtered_images/Mild/1116271db4ea.png'),\n",
       " PosixPath('input/gaussian_filtered_images/Mild/d1cad012a254.png'),\n",
       " PosixPath('input/gaussian_filtered_images/Mild/29b52f64d2db.png'),\n",
       " PosixPath('input/gaussian_filtered_images/Mild/22325552a4e3.png'),\n",
       " PosixPath('input/gaussian_filtered_images/Mild/7bf981d9c7fe.png'),\n",
       " PosixPath('input/gaussian_filtered_images/Mild/4029d70e9d8a.png'),\n",
       " PosixPath('input/gaussian_filtered_images/Mild/2a8a9e957a6c.png'),\n",
       " PosixPath('input/gaussian_filtered_images/Mild/655cafb4c932.png'),\n",
       " PosixPath('input/gaussian_filtered_images/Mild/665ce639a331.png'),\n",
       " PosixPath('input/gaussian_filtered_images/Mild/5a091e8cd95c.png'),\n",
       " PosixPath('input/gaussian_filtered_images/Mild/fb6b8200b7f8.png'),\n",
       " PosixPath('input/gaussian_filtered_images/Mild/24b943fe725e.png'),\n",
       " PosixPath('input/gaussian_filtered_images/Mild/ca1036496659.png'),\n",
       " PosixPath('input/gaussian_filtered_images/Mild/d06ccd0cf4b8.png'),\n",
       " PosixPath('input/gaussian_filtered_images/Mild/1a03a7970337.png'),\n",
       " PosixPath('input/gaussian_filtered_images/Mild/fe674c2f73f5.png'),\n",
       " PosixPath('input/gaussian_filtered_images/Mild/086d41d17da8.png'),\n",
       " PosixPath('input/gaussian_filtered_images/Mild/7a3ea1779b13.png'),\n",
       " PosixPath('input/gaussian_filtered_images/Mild/ae8472f8d310.png'),\n",
       " PosixPath('input/gaussian_filtered_images/Mild/ca6842bfcbc9.png'),\n",
       " PosixPath('input/gaussian_filtered_images/Mild/4dd5d5ccddcf.png'),\n",
       " PosixPath('input/gaussian_filtered_images/Mild/8a25a080f28f.png'),\n",
       " PosixPath('input/gaussian_filtered_images/Mild/d801c0a66738.png'),\n",
       " PosixPath('input/gaussian_filtered_images/Mild/b17f0b81dab3.png'),\n",
       " PosixPath('input/gaussian_filtered_images/Mild/db690e2d02f8.png'),\n",
       " PosixPath('input/gaussian_filtered_images/Mild/c7b622ec8104.png'),\n",
       " PosixPath('input/gaussian_filtered_images/Mild/db4ed1e07aa3.png'),\n",
       " PosixPath('input/gaussian_filtered_images/Mild/4c129470cec4.png'),\n",
       " PosixPath('input/gaussian_filtered_images/Mild/8ff863f8874f.png'),\n",
       " PosixPath('input/gaussian_filtered_images/Mild/107aea0d9289.png'),\n",
       " PosixPath('input/gaussian_filtered_images/Mild/545df1bbcd61.png'),\n",
       " PosixPath('input/gaussian_filtered_images/Mild/1c3a6b4449e9.png'),\n",
       " PosixPath('input/gaussian_filtered_images/Mild/cc12453ea915.png'),\n",
       " PosixPath('input/gaussian_filtered_images/Mild/78bcdffb8785.png'),\n",
       " PosixPath('input/gaussian_filtered_images/Mild/c739ff9580d3.png'),\n",
       " PosixPath('input/gaussian_filtered_images/Mild/9a3109657ac1.png'),\n",
       " PosixPath('input/gaussian_filtered_images/Mild/07a1c7073982.png'),\n",
       " PosixPath('input/gaussian_filtered_images/Mild/4393c5bc576a.png'),\n",
       " PosixPath('input/gaussian_filtered_images/Mild/e580676516b0.png'),\n",
       " PosixPath('input/gaussian_filtered_images/Mild/b9b99dad668d.png'),\n",
       " PosixPath('input/gaussian_filtered_images/Mild/595446774178.png'),\n",
       " PosixPath('input/gaussian_filtered_images/Mild/9ed666e982cd.png'),\n",
       " PosixPath('input/gaussian_filtered_images/Mild/9eaf735cf01f.png'),\n",
       " PosixPath('input/gaussian_filtered_images/Mild/059bc89df7f4.png'),\n",
       " PosixPath('input/gaussian_filtered_images/Mild/4ef7144e24ff.png'),\n",
       " PosixPath('input/gaussian_filtered_images/Mild/c0f15fe3b4b7.png'),\n",
       " PosixPath('input/gaussian_filtered_images/Mild/65e51e18242b.png'),\n",
       " PosixPath('input/gaussian_filtered_images/Mild/6762b2b48ea5.png'),\n",
       " PosixPath('input/gaussian_filtered_images/Mild/613bacb35c05.png'),\n",
       " PosixPath('input/gaussian_filtered_images/Mild/5cab3ef4b31c.png'),\n",
       " PosixPath('input/gaussian_filtered_images/Mild/d6e26fe51dce.png'),\n",
       " PosixPath('input/gaussian_filtered_images/Mild/bf18ff30a8f6.png'),\n",
       " PosixPath('input/gaussian_filtered_images/Mild/b56340f472d2.png'),\n",
       " PosixPath('input/gaussian_filtered_images/Mild/2f4e81787d9b.png'),\n",
       " PosixPath('input/gaussian_filtered_images/Mild/bd269a1f0e4d.png'),\n",
       " PosixPath('input/gaussian_filtered_images/Mild/53704c80f0d8.png'),\n",
       " PosixPath('input/gaussian_filtered_images/Mild/abdb365cacbc.png'),\n",
       " PosixPath('input/gaussian_filtered_images/Mild/fdd18ccbbdc5.png'),\n",
       " PosixPath('input/gaussian_filtered_images/Mild/a5a2a7003d60.png'),\n",
       " PosixPath('input/gaussian_filtered_images/Mild/64eb5a79dfdd.png'),\n",
       " PosixPath('input/gaussian_filtered_images/Mild/33105f9b3a04.png'),\n",
       " PosixPath('input/gaussian_filtered_images/Mild/76e589911303.png'),\n",
       " PosixPath('input/gaussian_filtered_images/Mild/8676427e4625.png'),\n",
       " PosixPath('input/gaussian_filtered_images/Mild/98fbe56dcc2c.png'),\n",
       " PosixPath('input/gaussian_filtered_images/Mild/b07bc463b718.png'),\n",
       " PosixPath('input/gaussian_filtered_images/Mild/1d11794057ff.png'),\n",
       " PosixPath('input/gaussian_filtered_images/Mild/99132193eaa0.png'),\n",
       " PosixPath('input/gaussian_filtered_images/Mild/d66b6f333dc7.png'),\n",
       " PosixPath('input/gaussian_filtered_images/Mild/4f7755e74a9e.png'),\n",
       " PosixPath('input/gaussian_filtered_images/Mild/33ffddea8c6e.png'),\n",
       " PosixPath('input/gaussian_filtered_images/Mild/0a3202889f4d.png'),\n",
       " PosixPath('input/gaussian_filtered_images/Mild/0eb52045349f.png'),\n",
       " PosixPath('input/gaussian_filtered_images/Mild/0684311afdfc.png'),\n",
       " PosixPath('input/gaussian_filtered_images/Mild/ca7140ecf389.png'),\n",
       " PosixPath('input/gaussian_filtered_images/Mild/0a61bddab956.png'),\n",
       " PosixPath('input/gaussian_filtered_images/Mild/94b1d8ad35ec.png'),\n",
       " PosixPath('input/gaussian_filtered_images/Mild/a28bfb772f50.png'),\n",
       " PosixPath('input/gaussian_filtered_images/Mild/cf603a9ef2d5.png'),\n",
       " PosixPath('input/gaussian_filtered_images/Mild/40e9b5630438.png'),\n",
       " PosixPath('input/gaussian_filtered_images/Mild/ec4649213ccf.png'),\n",
       " PosixPath('input/gaussian_filtered_images/Mild/ca25745942b0.png'),\n",
       " PosixPath('input/gaussian_filtered_images/Mild/3dbc90c7ee7d.png'),\n",
       " PosixPath('input/gaussian_filtered_images/Mild/7347f5133a6a.png'),\n",
       " PosixPath('input/gaussian_filtered_images/Mild/b50b30aa6e6c.png'),\n",
       " PosixPath('input/gaussian_filtered_images/Mild/e9286ddf6ffe.png'),\n",
       " PosixPath('input/gaussian_filtered_images/Mild/30941b65348b.png'),\n",
       " PosixPath('input/gaussian_filtered_images/Mild/99ecdb41d5e7.png'),\n",
       " PosixPath('input/gaussian_filtered_images/Mild/71c1a3cdbe47.png'),\n",
       " PosixPath('input/gaussian_filtered_images/Mild/3461dc601cc2.png'),\n",
       " PosixPath('input/gaussian_filtered_images/Mild/101b9ebfc720.png'),\n",
       " PosixPath('input/gaussian_filtered_images/Mild/4661006f3ba6.png'),\n",
       " PosixPath('input/gaussian_filtered_images/Mild/1df3e03a8f5f.png'),\n",
       " PosixPath('input/gaussian_filtered_images/Mild/977e1ca77653.png'),\n",
       " PosixPath('input/gaussian_filtered_images/Mild/dd19428c3d29.png'),\n",
       " PosixPath('input/gaussian_filtered_images/Mild/4aa07d720638.png'),\n",
       " PosixPath('input/gaussian_filtered_images/Mild/7ae69d22075a.png'),\n",
       " PosixPath('input/gaussian_filtered_images/Mild/cfd1bd0fcbb4.png'),\n",
       " PosixPath('input/gaussian_filtered_images/Mild/a443c4fd489c.png'),\n",
       " PosixPath('input/gaussian_filtered_images/Mild/5712e2aa73a2.png'),\n",
       " PosixPath('input/gaussian_filtered_images/Mild/677f087cd697.png'),\n",
       " PosixPath('input/gaussian_filtered_images/Mild/e07045d7c5f7.png'),\n",
       " PosixPath('input/gaussian_filtered_images/Mild/4fa26d065ad3.png'),\n",
       " PosixPath('input/gaussian_filtered_images/Mild/63a03880939c.png'),\n",
       " PosixPath('input/gaussian_filtered_images/Mild/0124dffecf29.png'),\n",
       " PosixPath('input/gaussian_filtered_images/Mild/3c726de3ee90.png'),\n",
       " PosixPath('input/gaussian_filtered_images/Mild/200d947f75db.png'),\n",
       " PosixPath('input/gaussian_filtered_images/Mild/66cd9c28e636.png'),\n",
       " PosixPath('input/gaussian_filtered_images/Mild/12ce6a1a1f31.png'),\n",
       " PosixPath('input/gaussian_filtered_images/Mild/d5b4705ac2ee.png'),\n",
       " PosixPath('input/gaussian_filtered_images/Mild/a2696f444ecb.png'),\n",
       " PosixPath('input/gaussian_filtered_images/Mild/d0d59ed675b5.png'),\n",
       " PosixPath('input/gaussian_filtered_images/Mild/cd5714db652d.png'),\n",
       " PosixPath('input/gaussian_filtered_images/Mild/756b0d6488bb.png'),\n",
       " PosixPath('input/gaussian_filtered_images/Mild/4e6071b73120.png'),\n",
       " PosixPath('input/gaussian_filtered_images/Mild/19e350c7c83c.png'),\n",
       " PosixPath('input/gaussian_filtered_images/Mild/b22354b5f94b.png'),\n",
       " PosixPath('input/gaussian_filtered_images/Mild/2a08ed6bbcbc.png'),\n",
       " PosixPath('input/gaussian_filtered_images/Mild/f5650eb52640.png'),\n",
       " PosixPath('input/gaussian_filtered_images/Mild/531b39880c32.png'),\n",
       " PosixPath('input/gaussian_filtered_images/Mild/cf0575534cec.png'),\n",
       " PosixPath('input/gaussian_filtered_images/Mild/e2a233493b90.png'),\n",
       " PosixPath('input/gaussian_filtered_images/Mild/3b73a3a4a734.png'),\n",
       " PosixPath('input/gaussian_filtered_images/Mild/fecf4c5ae84b.png'),\n",
       " PosixPath('input/gaussian_filtered_images/Mild/b640e3bdff75.png'),\n",
       " PosixPath('input/gaussian_filtered_images/Mild/c1e6fa1ad314.png'),\n",
       " PosixPath('input/gaussian_filtered_images/Mild/c9485c38fdd5.png'),\n",
       " PosixPath('input/gaussian_filtered_images/Mild/ad1f7445b1a8.png'),\n",
       " PosixPath('input/gaussian_filtered_images/Mild/259d30f693b6.png'),\n",
       " PosixPath('input/gaussian_filtered_images/Mild/5347b4c8e9b3.png'),\n",
       " PosixPath('input/gaussian_filtered_images/Mild/0ad7f631dedb.png'),\n",
       " PosixPath('input/gaussian_filtered_images/Mild/0024cdab0c1e.png'),\n",
       " PosixPath('input/gaussian_filtered_images/Mild/4ecd1fdd1435.png'),\n",
       " PosixPath('input/gaussian_filtered_images/Mild/2994f17f58a5.png'),\n",
       " PosixPath('input/gaussian_filtered_images/Mild/19722bff5a09.png'),\n",
       " PosixPath('input/gaussian_filtered_images/Mild/38b9bb961847.png'),\n",
       " PosixPath('input/gaussian_filtered_images/Mild/8fc09fecd22f.png'),\n",
       " PosixPath('input/gaussian_filtered_images/Mild/0d310aba6373.png'),\n",
       " PosixPath('input/gaussian_filtered_images/Mild/278aa860dffd.png'),\n",
       " PosixPath('input/gaussian_filtered_images/Mild/b94c58d063bf.png'),\n",
       " PosixPath('input/gaussian_filtered_images/Mild/513b0a4651fa.png'),\n",
       " PosixPath('input/gaussian_filtered_images/Mild/80d24897669f.png'),\n",
       " PosixPath('input/gaussian_filtered_images/Mild/bc73ce76ec43.png'),\n",
       " PosixPath('input/gaussian_filtered_images/Mild/fea14b3d44b0.png'),\n",
       " PosixPath('input/gaussian_filtered_images/Mild/7005be54cab1.png'),\n",
       " PosixPath('input/gaussian_filtered_images/Mild/a8c950a99107.png'),\n",
       " PosixPath('input/gaussian_filtered_images/Mild/53f6c1c65c04.png'),\n",
       " PosixPath('input/gaussian_filtered_images/Mild/3ee17aa12e46.png'),\n",
       " PosixPath('input/gaussian_filtered_images/Mild/1c0cf251b426.png'),\n",
       " PosixPath('input/gaussian_filtered_images/Mild/d3de0d313d61.png'),\n",
       " PosixPath('input/gaussian_filtered_images/Mild/6d292ca4c9ad.png'),\n",
       " PosixPath('input/gaussian_filtered_images/Mild/7427dedafccf.png'),\n",
       " PosixPath('input/gaussian_filtered_images/Mild/6b00cb764237.png'),\n",
       " PosixPath('input/gaussian_filtered_images/Mild/5879285f9d8d.png'),\n",
       " PosixPath('input/gaussian_filtered_images/Mild/e55188915f9d.png'),\n",
       " PosixPath('input/gaussian_filtered_images/Mild/7f60f2a083d3.png'),\n",
       " PosixPath('input/gaussian_filtered_images/Mild/a3ad6c2db6f1.png'),\n",
       " PosixPath('input/gaussian_filtered_images/Mild/0fb1053285cf.png'),\n",
       " PosixPath('input/gaussian_filtered_images/Mild/6377e23928f6.png'),\n",
       " PosixPath('input/gaussian_filtered_images/Mild/bb783d8e496f.png'),\n",
       " PosixPath('input/gaussian_filtered_images/Mild/d66ccb75ada1.png'),\n",
       " PosixPath('input/gaussian_filtered_images/Mild/da1fb35f5df9.png'),\n",
       " PosixPath('input/gaussian_filtered_images/Mild/22a6da005395.png'),\n",
       " PosixPath('input/gaussian_filtered_images/Mild/578109578b46.png'),\n",
       " PosixPath('input/gaussian_filtered_images/Mild/3de8ad4151e1.png'),\n",
       " PosixPath('input/gaussian_filtered_images/Mild/73881f55a3ec.png'),\n",
       " PosixPath('input/gaussian_filtered_images/Mild/cae51154e1ce.png'),\n",
       " PosixPath('input/gaussian_filtered_images/Mild/c0968d41eb93.png'),\n",
       " PosixPath('input/gaussian_filtered_images/Mild/94111ed3d276.png'),\n",
       " PosixPath('input/gaussian_filtered_images/Mild/4cae247d9909.png'),\n",
       " PosixPath('input/gaussian_filtered_images/Mild/8a01daa423f7.png'),\n",
       " PosixPath('input/gaussian_filtered_images/Mild/f762c272c522.png'),\n",
       " PosixPath('input/gaussian_filtered_images/Mild/172df1330a60.png'),\n",
       " PosixPath('input/gaussian_filtered_images/Mild/4e82c3c8d31f.png'),\n",
       " PosixPath('input/gaussian_filtered_images/Moderate/46923eea9a4e.png'),\n",
       " PosixPath('input/gaussian_filtered_images/Moderate/419406328dcd.png'),\n",
       " PosixPath('input/gaussian_filtered_images/Moderate/3b58b02c89ed.png'),\n",
       " PosixPath('input/gaussian_filtered_images/Moderate/aa9cfe639ef1.png'),\n",
       " PosixPath('input/gaussian_filtered_images/Moderate/4246ed634f25.png'),\n",
       " PosixPath('input/gaussian_filtered_images/Moderate/c8a3eb9a5b52.png'),\n",
       " PosixPath('input/gaussian_filtered_images/Moderate/0a1076183736.png'),\n",
       " PosixPath('input/gaussian_filtered_images/Moderate/437cbec4a3f8.png'),\n",
       " PosixPath('input/gaussian_filtered_images/Moderate/354b8911d6ed.png'),\n",
       " PosixPath('input/gaussian_filtered_images/Moderate/1b4625877527.png'),\n",
       " PosixPath('input/gaussian_filtered_images/Moderate/9cedf5c7016b.png'),\n",
       " PosixPath('input/gaussian_filtered_images/Moderate/026dcd9af143.png'),\n",
       " PosixPath('input/gaussian_filtered_images/Moderate/fc4d69128e7c.png'),\n",
       " PosixPath('input/gaussian_filtered_images/Moderate/5a2c27b95c7c.png'),\n",
       " PosixPath('input/gaussian_filtered_images/Moderate/7bc2e0fa3f72.png'),\n",
       " PosixPath('input/gaussian_filtered_images/Moderate/91a88d3b0358.png'),\n",
       " PosixPath('input/gaussian_filtered_images/Moderate/6cbc3dad809c.png'),\n",
       " PosixPath('input/gaussian_filtered_images/Moderate/582f739b8f62.png'),\n",
       " PosixPath('input/gaussian_filtered_images/Moderate/d83d0695e215.png'),\n",
       " PosixPath('input/gaussian_filtered_images/Moderate/510aa0a898fa.png'),\n",
       " PosixPath('input/gaussian_filtered_images/Moderate/8bdb891661a8.png'),\n",
       " PosixPath('input/gaussian_filtered_images/Moderate/42b08dca9b2f.png'),\n",
       " PosixPath('input/gaussian_filtered_images/Moderate/12a82fc7d73e.png'),\n",
       " PosixPath('input/gaussian_filtered_images/Moderate/91cbe1c775ef.png'),\n",
       " PosixPath('input/gaussian_filtered_images/Moderate/31b5d6fb0256.png'),\n",
       " PosixPath('input/gaussian_filtered_images/Moderate/855f0a5442b6.png'),\n",
       " PosixPath('input/gaussian_filtered_images/Moderate/a15590a7d774.png'),\n",
       " PosixPath('input/gaussian_filtered_images/Moderate/c6e1e9fbf39b.png'),\n",
       " PosixPath('input/gaussian_filtered_images/Moderate/599b89048034.png'),\n",
       " PosixPath('input/gaussian_filtered_images/Moderate/f9e779a13204.png'),\n",
       " PosixPath('input/gaussian_filtered_images/Moderate/bca2bdc15fc5.png'),\n",
       " PosixPath('input/gaussian_filtered_images/Moderate/302bcdb635ff.png'),\n",
       " PosixPath('input/gaussian_filtered_images/Moderate/314862758acf.png'),\n",
       " PosixPath('input/gaussian_filtered_images/Moderate/61ac9b0dc6b9.png'),\n",
       " PosixPath('input/gaussian_filtered_images/Moderate/34723fae6475.png'),\n",
       " PosixPath('input/gaussian_filtered_images/Moderate/5cf9127f251a.png'),\n",
       " PosixPath('input/gaussian_filtered_images/Moderate/b187b3c93afb.png'),\n",
       " PosixPath('input/gaussian_filtered_images/Moderate/89ee1fa16f90.png'),\n",
       " PosixPath('input/gaussian_filtered_images/Moderate/fa748b57262b.png'),\n",
       " PosixPath('input/gaussian_filtered_images/Moderate/83d6e40c869f.png'),\n",
       " PosixPath('input/gaussian_filtered_images/Moderate/2532613a584a.png'),\n",
       " PosixPath('input/gaussian_filtered_images/Moderate/5152bf091152.png'),\n",
       " PosixPath('input/gaussian_filtered_images/Moderate/5b301a6d1ac7.png'),\n",
       " PosixPath('input/gaussian_filtered_images/Moderate/67c03349bb31.png'),\n",
       " PosixPath('input/gaussian_filtered_images/Moderate/ca891d37a43c.png'),\n",
       " PosixPath('input/gaussian_filtered_images/Moderate/fa3e544a7401.png'),\n",
       " PosixPath('input/gaussian_filtered_images/Moderate/6531070bf03c.png'),\n",
       " PosixPath('input/gaussian_filtered_images/Moderate/e2161692a0b4.png'),\n",
       " PosixPath('input/gaussian_filtered_images/Moderate/3a61e690f4bb.png'),\n",
       " PosixPath('input/gaussian_filtered_images/Moderate/0da09e3ce8f1.png'),\n",
       " PosixPath('input/gaussian_filtered_images/Moderate/a2ad3da4c7d6.png'),\n",
       " PosixPath('input/gaussian_filtered_images/Moderate/b498b84d383f.png'),\n",
       " PosixPath('input/gaussian_filtered_images/Moderate/ee059945b08a.png'),\n",
       " PosixPath('input/gaussian_filtered_images/Moderate/07d8db76b301.png'),\n",
       " PosixPath('input/gaussian_filtered_images/Moderate/7350c50667c5.png'),\n",
       " PosixPath('input/gaussian_filtered_images/Moderate/42a67337fa8e.png'),\n",
       " PosixPath('input/gaussian_filtered_images/Moderate/38487e1a5b1f.png'),\n",
       " PosixPath('input/gaussian_filtered_images/Moderate/1bea04b2bb2d.png'),\n",
       " PosixPath('input/gaussian_filtered_images/Moderate/69591ebb198d.png'),\n",
       " PosixPath('input/gaussian_filtered_images/Moderate/7877be80901c.png'),\n",
       " PosixPath('input/gaussian_filtered_images/Moderate/14515b8f19b6.png'),\n",
       " PosixPath('input/gaussian_filtered_images/Moderate/1c5e6cdc7ee1.png'),\n",
       " PosixPath('input/gaussian_filtered_images/Moderate/ffa47f6a7bf4.png'),\n",
       " PosixPath('input/gaussian_filtered_images/Moderate/ed2c06fcc573.png'),\n",
       " PosixPath('input/gaussian_filtered_images/Moderate/54dc6e8107cd.png'),\n",
       " PosixPath('input/gaussian_filtered_images/Moderate/9837048b85dc.png'),\n",
       " PosixPath('input/gaussian_filtered_images/Moderate/8dfa629ca74e.png'),\n",
       " PosixPath('input/gaussian_filtered_images/Moderate/4ef0b485a7da.png'),\n",
       " PosixPath('input/gaussian_filtered_images/Moderate/6666c4f18396.png'),\n",
       " PosixPath('input/gaussian_filtered_images/Moderate/81bc03e2ff2b.png'),\n",
       " PosixPath('input/gaussian_filtered_images/Moderate/62ab144d5cee.png'),\n",
       " PosixPath('input/gaussian_filtered_images/Moderate/5a03fe3ed15c.png'),\n",
       " PosixPath('input/gaussian_filtered_images/Moderate/9c5dd3612f0c.png'),\n",
       " PosixPath('input/gaussian_filtered_images/Moderate/23175b7ef453.png'),\n",
       " PosixPath('input/gaussian_filtered_images/Moderate/92f313287a29.png'),\n",
       " PosixPath('input/gaussian_filtered_images/Moderate/bfaa0080ab61.png'),\n",
       " PosixPath('input/gaussian_filtered_images/Moderate/77baa08a1345.png'),\n",
       " PosixPath('input/gaussian_filtered_images/Moderate/9904939ab83d.png'),\n",
       " PosixPath('input/gaussian_filtered_images/Moderate/6733544ae7a6.png'),\n",
       " PosixPath('input/gaussian_filtered_images/Moderate/4e43d05cc2ef.png'),\n",
       " PosixPath('input/gaussian_filtered_images/Moderate/1f4bf8e28b41.png'),\n",
       " PosixPath('input/gaussian_filtered_images/Moderate/d18e5b68f6d2.png'),\n",
       " PosixPath('input/gaussian_filtered_images/Moderate/1006345f70b7.png'),\n",
       " PosixPath('input/gaussian_filtered_images/Moderate/1a369baf9ee6.png'),\n",
       " PosixPath('input/gaussian_filtered_images/Moderate/a45d77edf8d9.png'),\n",
       " PosixPath('input/gaussian_filtered_images/Moderate/e3a7671f787b.png'),\n",
       " PosixPath('input/gaussian_filtered_images/Moderate/b665041e1633.png'),\n",
       " PosixPath('input/gaussian_filtered_images/Moderate/ceb601fe8dba.png'),\n",
       " PosixPath('input/gaussian_filtered_images/Moderate/b468ebf5cb11.png'),\n",
       " PosixPath('input/gaussian_filtered_images/Moderate/79540be95177.png'),\n",
       " PosixPath('input/gaussian_filtered_images/Moderate/ca7570c5925c.png'),\n",
       " PosixPath('input/gaussian_filtered_images/Moderate/291e2ff3d834.png'),\n",
       " PosixPath('input/gaussian_filtered_images/Moderate/89fc080f7e83.png'),\n",
       " PosixPath('input/gaussian_filtered_images/Moderate/2b88cb6e31cd.png'),\n",
       " PosixPath('input/gaussian_filtered_images/Moderate/525acfea47e8.png'),\n",
       " PosixPath('input/gaussian_filtered_images/Moderate/b927a9238434.png'),\n",
       " PosixPath('input/gaussian_filtered_images/Moderate/e724866f5084.png'),\n",
       " PosixPath('input/gaussian_filtered_images/Moderate/f3b6b7ca1eb1.png'),\n",
       " PosixPath('input/gaussian_filtered_images/Moderate/00b74780d31d.png'),\n",
       " PosixPath('input/gaussian_filtered_images/Moderate/86722fcd802c.png'),\n",
       " PosixPath('input/gaussian_filtered_images/Moderate/1e4650743fa2.png'),\n",
       " PosixPath('input/gaussian_filtered_images/Moderate/ea588d1e5d96.png'),\n",
       " PosixPath('input/gaussian_filtered_images/Moderate/4b1001050f1d.png'),\n",
       " PosixPath('input/gaussian_filtered_images/Moderate/3246f07e65b4.png'),\n",
       " PosixPath('input/gaussian_filtered_images/Moderate/3c53198519f7.png'),\n",
       " PosixPath('input/gaussian_filtered_images/Moderate/6810410187a0.png'),\n",
       " PosixPath('input/gaussian_filtered_images/Moderate/4b5ffea77373.png'),\n",
       " PosixPath('input/gaussian_filtered_images/Moderate/7455e2b5fc57.png'),\n",
       " PosixPath('input/gaussian_filtered_images/Moderate/9568eb7e9c08.png'),\n",
       " PosixPath('input/gaussian_filtered_images/Moderate/59f3f70abddd.png'),\n",
       " PosixPath('input/gaussian_filtered_images/Moderate/1ade1e949383.png'),\n",
       " PosixPath('input/gaussian_filtered_images/Moderate/2e26762daed5.png'),\n",
       " PosixPath('input/gaussian_filtered_images/Moderate/a790a3b36390.png'),\n",
       " PosixPath('input/gaussian_filtered_images/Moderate/8eb3337a54e9.png'),\n",
       " PosixPath('input/gaussian_filtered_images/Moderate/8e20b8fac7c3.png'),\n",
       " PosixPath('input/gaussian_filtered_images/Moderate/a3706ce27869.png'),\n",
       " PosixPath('input/gaussian_filtered_images/Moderate/d9bbdc33db83.png'),\n",
       " PosixPath('input/gaussian_filtered_images/Moderate/b99794a0beed.png'),\n",
       " PosixPath('input/gaussian_filtered_images/Moderate/f2094a20b275.png'),\n",
       " PosixPath('input/gaussian_filtered_images/Moderate/8ab8d9b3ce3f.png'),\n",
       " PosixPath('input/gaussian_filtered_images/Moderate/1f0e223b8055.png'),\n",
       " PosixPath('input/gaussian_filtered_images/Moderate/33e8e26a75d4.png'),\n",
       " PosixPath('input/gaussian_filtered_images/Moderate/a3b2e93d058b.png'),\n",
       " PosixPath('input/gaussian_filtered_images/Moderate/e6a6acf7fca1.png'),\n",
       " PosixPath('input/gaussian_filtered_images/Moderate/6d3d1fe6c32a.png'),\n",
       " PosixPath('input/gaussian_filtered_images/Moderate/0fb560f9adb2.png'),\n",
       " PosixPath('input/gaussian_filtered_images/Moderate/e31c42a8652b.png'),\n",
       " PosixPath('input/gaussian_filtered_images/Moderate/e2a47a74e6e1.png'),\n",
       " PosixPath('input/gaussian_filtered_images/Moderate/4384fa687afa.png'),\n",
       " PosixPath('input/gaussian_filtered_images/Moderate/d2c6b99ef62c.png'),\n",
       " PosixPath('input/gaussian_filtered_images/Moderate/ca360bec5851.png'),\n",
       " PosixPath('input/gaussian_filtered_images/Moderate/8a759f94613a.png'),\n",
       " PosixPath('input/gaussian_filtered_images/Moderate/e540d2e35d15.png'),\n",
       " PosixPath('input/gaussian_filtered_images/Moderate/929cd3867815.png'),\n",
       " PosixPath('input/gaussian_filtered_images/Moderate/91e8af9ceee9.png'),\n",
       " PosixPath('input/gaussian_filtered_images/Moderate/fc1b1841eadf.png'),\n",
       " PosixPath('input/gaussian_filtered_images/Moderate/331b87d1b9d1.png'),\n",
       " PosixPath('input/gaussian_filtered_images/Moderate/2ba0b0d9bda2.png'),\n",
       " PosixPath('input/gaussian_filtered_images/Moderate/0e75d51152fc.png'),\n",
       " PosixPath('input/gaussian_filtered_images/Moderate/3dbfbc11e105.png'),\n",
       " PosixPath('input/gaussian_filtered_images/Moderate/cc839823755b.png'),\n",
       " PosixPath('input/gaussian_filtered_images/Moderate/44e0d56e9d42.png'),\n",
       " PosixPath('input/gaussian_filtered_images/Moderate/aa841de1ee82.png'),\n",
       " PosixPath('input/gaussian_filtered_images/Moderate/b0d6417bad3e.png'),\n",
       " PosixPath('input/gaussian_filtered_images/Moderate/2f5c9cdfb333.png'),\n",
       " PosixPath('input/gaussian_filtered_images/Moderate/77f69c7ff324.png'),\n",
       " PosixPath('input/gaussian_filtered_images/Moderate/b033ab4fb723.png'),\n",
       " PosixPath('input/gaussian_filtered_images/Moderate/6363b360aefb.png'),\n",
       " PosixPath('input/gaussian_filtered_images/Moderate/d91273efb92a.png'),\n",
       " PosixPath('input/gaussian_filtered_images/Moderate/650fbed3fdca.png'),\n",
       " PosixPath('input/gaussian_filtered_images/Moderate/a9a28c37c8c4.png'),\n",
       " PosixPath('input/gaussian_filtered_images/Moderate/5265dc9acdf8.png'),\n",
       " PosixPath('input/gaussian_filtered_images/Moderate/2700754f71e9.png'),\n",
       " PosixPath('input/gaussian_filtered_images/Moderate/a49b0b4484ea.png'),\n",
       " PosixPath('input/gaussian_filtered_images/Moderate/c73c5f6ef664.png'),\n",
       " PosixPath('input/gaussian_filtered_images/Moderate/0c55d58bebaf.png'),\n",
       " PosixPath('input/gaussian_filtered_images/Moderate/19113e5f45ec.png'),\n",
       " PosixPath('input/gaussian_filtered_images/Moderate/217dad18a5ed.png'),\n",
       " PosixPath('input/gaussian_filtered_images/Moderate/aa0afc41ed19.png'),\n",
       " PosixPath('input/gaussian_filtered_images/Moderate/14ee87d6cc42.png'),\n",
       " PosixPath('input/gaussian_filtered_images/Moderate/c6c2bad91f23.png'),\n",
       " PosixPath('input/gaussian_filtered_images/Moderate/48c49f662f7d.png'),\n",
       " PosixPath('input/gaussian_filtered_images/Moderate/8e3b79e1f1f7.png'),\n",
       " PosixPath('input/gaussian_filtered_images/Moderate/15528e740543.png'),\n",
       " PosixPath('input/gaussian_filtered_images/Moderate/ba25f947f4ec.png'),\n",
       " PosixPath('input/gaussian_filtered_images/Moderate/436e1793d240.png'),\n",
       " PosixPath('input/gaussian_filtered_images/Moderate/025a169a0bb0.png'),\n",
       " PosixPath('input/gaussian_filtered_images/Moderate/39134907127a.png'),\n",
       " PosixPath('input/gaussian_filtered_images/Moderate/fac399455195.png'),\n",
       " PosixPath('input/gaussian_filtered_images/Moderate/79be2ff796bf.png'),\n",
       " PosixPath('input/gaussian_filtered_images/Moderate/7ec1ffe8220b.png'),\n",
       " PosixPath('input/gaussian_filtered_images/Moderate/e9129ce55fd7.png'),\n",
       " PosixPath('input/gaussian_filtered_images/Moderate/999115d9386b.png'),\n",
       " PosixPath('input/gaussian_filtered_images/Moderate/ff344e5c9341.png'),\n",
       " PosixPath('input/gaussian_filtered_images/Moderate/9c088d2d1559.png'),\n",
       " PosixPath('input/gaussian_filtered_images/Moderate/c1c8550508e0.png'),\n",
       " PosixPath('input/gaussian_filtered_images/Moderate/4478b870e549.png'),\n",
       " PosixPath('input/gaussian_filtered_images/Moderate/3748349334f6.png'),\n",
       " PosixPath('input/gaussian_filtered_images/Moderate/8dfff47b06b7.png'),\n",
       " PosixPath('input/gaussian_filtered_images/Moderate/a93f1ea3ff4a.png'),\n",
       " PosixPath('input/gaussian_filtered_images/Moderate/dc3c0d8ee20b.png'),\n",
       " PosixPath('input/gaussian_filtered_images/Moderate/a21b37719f9b.png'),\n",
       " PosixPath('input/gaussian_filtered_images/Moderate/b762c29cf2f3.png'),\n",
       " PosixPath('input/gaussian_filtered_images/Moderate/5c6194562ed2.png'),\n",
       " PosixPath('input/gaussian_filtered_images/Moderate/9faad91b6578.png'),\n",
       " PosixPath('input/gaussian_filtered_images/Moderate/00e4ddff966a.png'),\n",
       " PosixPath('input/gaussian_filtered_images/Moderate/9785805af1b8.png'),\n",
       " PosixPath('input/gaussian_filtered_images/Moderate/45ae04cfde5d.png'),\n",
       " PosixPath('input/gaussian_filtered_images/Moderate/70f5caf5f305.png'),\n",
       " PosixPath('input/gaussian_filtered_images/Moderate/22ce8ef69357.png'),\n",
       " PosixPath('input/gaussian_filtered_images/Moderate/1f07dae3cadb.png'),\n",
       " PosixPath('input/gaussian_filtered_images/Moderate/1177d583c807.png'),\n",
       " PosixPath('input/gaussian_filtered_images/Moderate/b6304c545f95.png'),\n",
       " PosixPath('input/gaussian_filtered_images/Moderate/d29096bd94aa.png'),\n",
       " PosixPath('input/gaussian_filtered_images/Moderate/1c0e5dd1b14c.png'),\n",
       " PosixPath('input/gaussian_filtered_images/Moderate/75a7bc945b7d.png'),\n",
       " PosixPath('input/gaussian_filtered_images/Moderate/907aaff827e5.png'),\n",
       " PosixPath('input/gaussian_filtered_images/Moderate/1c5ad36fb799.png'),\n",
       " PosixPath('input/gaussian_filtered_images/Moderate/1124ffcd76c2.png'),\n",
       " PosixPath('input/gaussian_filtered_images/Moderate/2131aa3a1e6f.png'),\n",
       " PosixPath('input/gaussian_filtered_images/Moderate/8421107255ae.png'),\n",
       " PosixPath('input/gaussian_filtered_images/Moderate/a86c6283fd78.png'),\n",
       " PosixPath('input/gaussian_filtered_images/Moderate/03fd50da928d.png'),\n",
       " PosixPath('input/gaussian_filtered_images/Moderate/3c311c9109b0.png'),\n",
       " PosixPath('input/gaussian_filtered_images/Moderate/e5d56f4f359b.png'),\n",
       " PosixPath('input/gaussian_filtered_images/Moderate/8446826853d0.png'),\n",
       " PosixPath('input/gaussian_filtered_images/Moderate/d1f1ea894da1.png'),\n",
       " PosixPath('input/gaussian_filtered_images/Moderate/7dee6bf8b9c1.png'),\n",
       " PosixPath('input/gaussian_filtered_images/Moderate/064af6592ba6.png'),\n",
       " PosixPath('input/gaussian_filtered_images/Moderate/1968183f0e61.png'),\n",
       " PosixPath('input/gaussian_filtered_images/Moderate/65e530ee2e79.png'),\n",
       " PosixPath('input/gaussian_filtered_images/Moderate/6d454444f17c.png'),\n",
       " PosixPath('input/gaussian_filtered_images/Moderate/8ff2733f6aef.png'),\n",
       " PosixPath('input/gaussian_filtered_images/Moderate/1f63d44d9e3c.png'),\n",
       " PosixPath('input/gaussian_filtered_images/Moderate/4ee1ad981a6d.png'),\n",
       " PosixPath('input/gaussian_filtered_images/Moderate/175dd560810a.png'),\n",
       " PosixPath('input/gaussian_filtered_images/Moderate/f0c0f7b5e820.png'),\n",
       " PosixPath('input/gaussian_filtered_images/Moderate/959dc602febc.png'),\n",
       " PosixPath('input/gaussian_filtered_images/Moderate/f8fc411092c7.png'),\n",
       " PosixPath('input/gaussian_filtered_images/Moderate/1411c8ab7161.png'),\n",
       " PosixPath('input/gaussian_filtered_images/Moderate/dde43aa22ae6.png'),\n",
       " PosixPath('input/gaussian_filtered_images/Moderate/891392c9683c.png'),\n",
       " PosixPath('input/gaussian_filtered_images/Moderate/624fb7317106.png'),\n",
       " PosixPath('input/gaussian_filtered_images/Moderate/bfe467b7e997.png'),\n",
       " PosixPath('input/gaussian_filtered_images/Moderate/66d2ca47aa44.png'),\n",
       " PosixPath('input/gaussian_filtered_images/Moderate/e10190a9d52f.png'),\n",
       " PosixPath('input/gaussian_filtered_images/Moderate/84e8c62165b5.png'),\n",
       " PosixPath('input/gaussian_filtered_images/Moderate/a8e08e7fe016.png'),\n",
       " PosixPath('input/gaussian_filtered_images/Moderate/63d217b059b6.png'),\n",
       " PosixPath('input/gaussian_filtered_images/Moderate/e229aca862c7.png'),\n",
       " PosixPath('input/gaussian_filtered_images/Moderate/1dbdc32c17db.png'),\n",
       " PosixPath('input/gaussian_filtered_images/Moderate/c5431b81cbc9.png'),\n",
       " PosixPath('input/gaussian_filtered_images/Moderate/92b0d27fc0ec.png'),\n",
       " PosixPath('input/gaussian_filtered_images/Moderate/54cab3596214.png'),\n",
       " PosixPath('input/gaussian_filtered_images/Moderate/b60dbf9f0744.png'),\n",
       " PosixPath('input/gaussian_filtered_images/Moderate/a0d04a19cf40.png'),\n",
       " PosixPath('input/gaussian_filtered_images/Moderate/b82d5f1f1145.png'),\n",
       " PosixPath('input/gaussian_filtered_images/Moderate/f0800723bc63.png'),\n",
       " PosixPath('input/gaussian_filtered_images/Moderate/232549883508.png'),\n",
       " PosixPath('input/gaussian_filtered_images/Moderate/807135cbc438.png'),\n",
       " PosixPath('input/gaussian_filtered_images/Moderate/01c7808d901d.png'),\n",
       " PosixPath('input/gaussian_filtered_images/Moderate/467b7d9d811c.png'),\n",
       " PosixPath('input/gaussian_filtered_images/Moderate/453d553b0a94.png'),\n",
       " PosixPath('input/gaussian_filtered_images/Moderate/9e5ec293267c.png'),\n",
       " PosixPath('input/gaussian_filtered_images/Moderate/144a1a426137.png'),\n",
       " PosixPath('input/gaussian_filtered_images/Moderate/453a1e2754b2.png'),\n",
       " PosixPath('input/gaussian_filtered_images/Moderate/55092c0071eb.png'),\n",
       " PosixPath('input/gaussian_filtered_images/Moderate/d15ca3469b87.png'),\n",
       " PosixPath('input/gaussian_filtered_images/Moderate/f3cd489acbee.png'),\n",
       " PosixPath('input/gaussian_filtered_images/Moderate/5486da4273d7.png'),\n",
       " PosixPath('input/gaussian_filtered_images/Moderate/3fc219927a97.png'),\n",
       " PosixPath('input/gaussian_filtered_images/Moderate/7d1b40fdbd86.png'),\n",
       " PosixPath('input/gaussian_filtered_images/Moderate/c7c0470bcf87.png'),\n",
       " PosixPath('input/gaussian_filtered_images/Moderate/6987804eb464.png'),\n",
       " PosixPath('input/gaussian_filtered_images/Moderate/df8365d6ac33.png'),\n",
       " PosixPath('input/gaussian_filtered_images/Moderate/668e853258cd.png'),\n",
       " PosixPath('input/gaussian_filtered_images/Moderate/bfda2fd0533a.png'),\n",
       " PosixPath('input/gaussian_filtered_images/Moderate/a88f68b0b114.png'),\n",
       " PosixPath('input/gaussian_filtered_images/Moderate/eb32a815f78c.png'),\n",
       " PosixPath('input/gaussian_filtered_images/Moderate/460893cd86e3.png'),\n",
       " PosixPath('input/gaussian_filtered_images/Moderate/10ecc5292ab1.png'),\n",
       " PosixPath('input/gaussian_filtered_images/Moderate/c6a2975228af.png'),\n",
       " PosixPath('input/gaussian_filtered_images/Moderate/094858f005ab.png'),\n",
       " PosixPath('input/gaussian_filtered_images/Moderate/041f09eec1e8.png'),\n",
       " PosixPath('input/gaussian_filtered_images/Moderate/3cd801ffdbf0.png'),\n",
       " PosixPath('input/gaussian_filtered_images/Moderate/52230bbef30e.png'),\n",
       " PosixPath('input/gaussian_filtered_images/Moderate/4189d4e631ec.png'),\n",
       " PosixPath('input/gaussian_filtered_images/Moderate/cac80797770f.png'),\n",
       " PosixPath('input/gaussian_filtered_images/Moderate/ce887b196c23.png'),\n",
       " PosixPath('input/gaussian_filtered_images/Moderate/917f76f360b6.png'),\n",
       " PosixPath('input/gaussian_filtered_images/Moderate/27bab1432f61.png'),\n",
       " PosixPath('input/gaussian_filtered_images/Moderate/dee687c6e88a.png'),\n",
       " PosixPath('input/gaussian_filtered_images/Moderate/207a580de0ea.png'),\n",
       " PosixPath('input/gaussian_filtered_images/Moderate/a3957df90a78.png'),\n",
       " PosixPath('input/gaussian_filtered_images/Moderate/857002ed4e49.png'),\n",
       " PosixPath('input/gaussian_filtered_images/Moderate/a56729de89e9.png'),\n",
       " PosixPath('input/gaussian_filtered_images/Moderate/d28bd830c171.png'),\n",
       " PosixPath('input/gaussian_filtered_images/Moderate/d1fb4efb117c.png'),\n",
       " PosixPath('input/gaussian_filtered_images/Moderate/bf1b7e21e774.png'),\n",
       " PosixPath('input/gaussian_filtered_images/Moderate/cd29c88c9e36.png'),\n",
       " PosixPath('input/gaussian_filtered_images/Moderate/4489d421e5aa.png'),\n",
       " PosixPath('input/gaussian_filtered_images/Moderate/0519b934f6b1.png'),\n",
       " PosixPath('input/gaussian_filtered_images/Moderate/115e42dd6a81.png'),\n",
       " PosixPath('input/gaussian_filtered_images/Moderate/0dbaa09a458c.png'),\n",
       " PosixPath('input/gaussian_filtered_images/Moderate/269f0792f11f.png'),\n",
       " PosixPath('input/gaussian_filtered_images/Moderate/be161517d3ac.png'),\n",
       " PosixPath('input/gaussian_filtered_images/Moderate/b376def52ccc.png'),\n",
       " PosixPath('input/gaussian_filtered_images/Moderate/9033f1493da1.png'),\n",
       " PosixPath('input/gaussian_filtered_images/Moderate/bf7047dc683c.png'),\n",
       " PosixPath('input/gaussian_filtered_images/Moderate/2a3378bcfbcc.png'),\n",
       " PosixPath('input/gaussian_filtered_images/Moderate/b5c80d0ed0ff.png'),\n",
       " PosixPath('input/gaussian_filtered_images/Moderate/6cb98da77e3e.png'),\n",
       " PosixPath('input/gaussian_filtered_images/Moderate/1a1b4b2450ca.png'),\n",
       " PosixPath('input/gaussian_filtered_images/Moderate/83b61051737f.png'),\n",
       " PosixPath('input/gaussian_filtered_images/Moderate/e7a7187066ad.png'),\n",
       " PosixPath('input/gaussian_filtered_images/Moderate/0afdfe5f422c.png'),\n",
       " PosixPath('input/gaussian_filtered_images/Moderate/2a099b247b10.png'),\n",
       " PosixPath('input/gaussian_filtered_images/Moderate/aa9b8f05f4bf.png'),\n",
       " PosixPath('input/gaussian_filtered_images/Moderate/e499434242cc.png'),\n",
       " PosixPath('input/gaussian_filtered_images/Moderate/e387311a840e.png'),\n",
       " PosixPath('input/gaussian_filtered_images/Moderate/62cc7ddb53b6.png'),\n",
       " PosixPath('input/gaussian_filtered_images/Moderate/6e092b306fe1.png'),\n",
       " PosixPath('input/gaussian_filtered_images/Moderate/98f7136d2e7a.png'),\n",
       " PosixPath('input/gaussian_filtered_images/Moderate/80b5a9519aec.png'),\n",
       " PosixPath('input/gaussian_filtered_images/Moderate/38fe9f854046.png'),\n",
       " PosixPath('input/gaussian_filtered_images/Moderate/2cbfc6182ba2.png'),\n",
       " PosixPath('input/gaussian_filtered_images/Moderate/1120f6d08d95.png'),\n",
       " PosixPath('input/gaussian_filtered_images/Moderate/c2d2b4f536da.png'),\n",
       " PosixPath('input/gaussian_filtered_images/Moderate/e06d3d4733f0.png'),\n",
       " PosixPath('input/gaussian_filtered_images/Moderate/48fda42bd5d4.png'),\n",
       " PosixPath('input/gaussian_filtered_images/Moderate/a386ec9aabde.png'),\n",
       " PosixPath('input/gaussian_filtered_images/Moderate/b402daa0864c.png'),\n",
       " PosixPath('input/gaussian_filtered_images/Moderate/5e7cc6ab4ac4.png'),\n",
       " PosixPath('input/gaussian_filtered_images/Moderate/ff52392372d3.png'),\n",
       " PosixPath('input/gaussian_filtered_images/Moderate/96c3e3db68bc.png'),\n",
       " PosixPath('input/gaussian_filtered_images/Moderate/c8905b8d5cf1.png'),\n",
       " PosixPath('input/gaussian_filtered_images/Moderate/a150ff5dfe07.png'),\n",
       " PosixPath('input/gaussian_filtered_images/Moderate/fd48cf452e9d.png'),\n",
       " PosixPath('input/gaussian_filtered_images/Moderate/681c3c115684.png'),\n",
       " PosixPath('input/gaussian_filtered_images/Moderate/8d3d67661620.png'),\n",
       " PosixPath('input/gaussian_filtered_images/Moderate/6889bc64ab09.png'),\n",
       " PosixPath('input/gaussian_filtered_images/Moderate/a56230242a95.png'),\n",
       " PosixPath('input/gaussian_filtered_images/Moderate/df5ce3ea7820.png'),\n",
       " PosixPath('input/gaussian_filtered_images/Moderate/a1b12fdce6c3.png'),\n",
       " PosixPath('input/gaussian_filtered_images/Moderate/0efc93ec838b.png'),\n",
       " PosixPath('input/gaussian_filtered_images/Moderate/c8823cdaf7fa.png'),\n",
       " PosixPath('input/gaussian_filtered_images/Moderate/1541226c5d72.png'),\n",
       " PosixPath('input/gaussian_filtered_images/Moderate/698d6e422a80.png'),\n",
       " PosixPath('input/gaussian_filtered_images/Moderate/0fcfc6301f3d.png'),\n",
       " PosixPath('input/gaussian_filtered_images/Moderate/803120c5d287.png'),\n",
       " PosixPath('input/gaussian_filtered_images/Moderate/12025b34deb8.png'),\n",
       " PosixPath('input/gaussian_filtered_images/Moderate/310c27067ac0.png'),\n",
       " PosixPath('input/gaussian_filtered_images/Moderate/3c1efa38d0da.png'),\n",
       " PosixPath('input/gaussian_filtered_images/Moderate/07083738b75e.png'),\n",
       " PosixPath('input/gaussian_filtered_images/Moderate/4d1cf360b2d7.png'),\n",
       " PosixPath('input/gaussian_filtered_images/Moderate/f45f1485c940.png'),\n",
       " PosixPath('input/gaussian_filtered_images/Moderate/674057ab250c.png'),\n",
       " PosixPath('input/gaussian_filtered_images/Moderate/17188c13e635.png'),\n",
       " PosixPath('input/gaussian_filtered_images/Moderate/a688f20f8895.png'),\n",
       " PosixPath('input/gaussian_filtered_images/Moderate/27b68863349f.png'),\n",
       " PosixPath('input/gaussian_filtered_images/Moderate/0161338f53cc.png'),\n",
       " PosixPath('input/gaussian_filtered_images/Moderate/40527a5e95dd.png'),\n",
       " PosixPath('input/gaussian_filtered_images/Moderate/d3d578fe433f.png'),\n",
       " PosixPath('input/gaussian_filtered_images/Moderate/d8404680bba6.png'),\n",
       " PosixPath('input/gaussian_filtered_images/Moderate/60eeae3ba23d.png'),\n",
       " PosixPath('input/gaussian_filtered_images/Moderate/1d14dd912671.png'),\n",
       " PosixPath('input/gaussian_filtered_images/Moderate/7d1da90d3ca9.png'),\n",
       " PosixPath('input/gaussian_filtered_images/Moderate/42b93b574f23.png'),\n",
       " PosixPath('input/gaussian_filtered_images/Moderate/975252e325e3.png'),\n",
       " PosixPath('input/gaussian_filtered_images/Moderate/4ad6109706e8.png'),\n",
       " PosixPath('input/gaussian_filtered_images/Moderate/c05b7b4c22fe.png'),\n",
       " PosixPath('input/gaussian_filtered_images/Moderate/840527bc6628.png'),\n",
       " PosixPath('input/gaussian_filtered_images/Moderate/d83c3efade75.png'),\n",
       " PosixPath('input/gaussian_filtered_images/Moderate/3dfc50108072.png'),\n",
       " PosixPath('input/gaussian_filtered_images/Moderate/7bda86d95c5b.png'),\n",
       " PosixPath('input/gaussian_filtered_images/Moderate/5905a9b06a73.png'),\n",
       " PosixPath('input/gaussian_filtered_images/Moderate/417f408ee8e0.png'),\n",
       " PosixPath('input/gaussian_filtered_images/Moderate/0c76fd494af6.png'),\n",
       " PosixPath('input/gaussian_filtered_images/Moderate/c561bcd519e9.png'),\n",
       " PosixPath('input/gaussian_filtered_images/Moderate/9dab2e6ba44b.png'),\n",
       " PosixPath('input/gaussian_filtered_images/Moderate/530d78467615.png'),\n",
       " PosixPath('input/gaussian_filtered_images/Moderate/e6a58edc5b42.png'),\n",
       " PosixPath('input/gaussian_filtered_images/Moderate/af831c158744.png'),\n",
       " PosixPath('input/gaussian_filtered_images/Moderate/290ecdba359f.png'),\n",
       " PosixPath('input/gaussian_filtered_images/Moderate/fcc55ae641ae.png'),\n",
       " PosixPath('input/gaussian_filtered_images/Moderate/46f56c38051f.png'),\n",
       " PosixPath('input/gaussian_filtered_images/Moderate/ca9c912ebad7.png'),\n",
       " PosixPath('input/gaussian_filtered_images/Moderate/2776d70724d3.png'),\n",
       " PosixPath('input/gaussian_filtered_images/Moderate/b13d72ceea26.png'),\n",
       " PosixPath('input/gaussian_filtered_images/Moderate/63c3c571b8ee.png'),\n",
       " PosixPath('input/gaussian_filtered_images/Moderate/7b8c78b41c0d.png'),\n",
       " PosixPath('input/gaussian_filtered_images/Moderate/97a5ad7548b7.png'),\n",
       " PosixPath('input/gaussian_filtered_images/Moderate/757572337fd0.png'),\n",
       " PosixPath('input/gaussian_filtered_images/Moderate/01eb826f6467.png'),\n",
       " PosixPath('input/gaussian_filtered_images/Moderate/188a9323be03.png'),\n",
       " PosixPath('input/gaussian_filtered_images/Moderate/d88806d9ece9.png'),\n",
       " PosixPath('input/gaussian_filtered_images/Moderate/8c87bd748996.png'),\n",
       " PosixPath('input/gaussian_filtered_images/Moderate/43ddd0ab0cc4.png'),\n",
       " PosixPath('input/gaussian_filtered_images/Moderate/2376e5415458.png'),\n",
       " PosixPath('input/gaussian_filtered_images/Moderate/d18b1d8ac4de.png'),\n",
       " PosixPath('input/gaussian_filtered_images/Moderate/2cef97083e6f.png'),\n",
       " PosixPath('input/gaussian_filtered_images/Moderate/62e6f814c8f5.png'),\n",
       " PosixPath('input/gaussian_filtered_images/Moderate/144b01e7b993.png'),\n",
       " PosixPath('input/gaussian_filtered_images/Moderate/e12d41e7b221.png'),\n",
       " PosixPath('input/gaussian_filtered_images/Moderate/9d98a0b585f2.png'),\n",
       " PosixPath('input/gaussian_filtered_images/Moderate/b95d4dd8e5e2.png'),\n",
       " PosixPath('input/gaussian_filtered_images/Moderate/4da6e2089d57.png'),\n",
       " PosixPath('input/gaussian_filtered_images/Moderate/e34fa07bd64d.png'),\n",
       " PosixPath('input/gaussian_filtered_images/Moderate/876e1dd12d38.png'),\n",
       " PosixPath('input/gaussian_filtered_images/Moderate/7550966ef777.png'),\n",
       " PosixPath('input/gaussian_filtered_images/Moderate/9f1efb799b7b.png'),\n",
       " PosixPath('input/gaussian_filtered_images/Moderate/282bc792d23a.png'),\n",
       " PosixPath('input/gaussian_filtered_images/Moderate/2a47e5b21791.png'),\n",
       " PosixPath('input/gaussian_filtered_images/Moderate/e0863b353093.png'),\n",
       " PosixPath('input/gaussian_filtered_images/Moderate/4ed31cc07366.png'),\n",
       " PosixPath('input/gaussian_filtered_images/Moderate/f61bf44c677c.png'),\n",
       " PosixPath('input/gaussian_filtered_images/Moderate/a664d2055886.png'),\n",
       " PosixPath('input/gaussian_filtered_images/Moderate/882a71de424e.png'),\n",
       " PosixPath('input/gaussian_filtered_images/Moderate/cd4e7f9fa1a9.png'),\n",
       " PosixPath('input/gaussian_filtered_images/Moderate/9a78c6a7b1c2.png'),\n",
       " PosixPath('input/gaussian_filtered_images/Moderate/f30f203ef51e.png'),\n",
       " PosixPath('input/gaussian_filtered_images/Moderate/731b19a460ad.png'),\n",
       " PosixPath('input/gaussian_filtered_images/Moderate/441117562359.png'),\n",
       " PosixPath('input/gaussian_filtered_images/Moderate/0a09aa7356c0.png'),\n",
       " PosixPath('input/gaussian_filtered_images/Moderate/4242c0d87f57.png'),\n",
       " PosixPath('input/gaussian_filtered_images/Moderate/2463bb04ebc3.png'),\n",
       " PosixPath('input/gaussian_filtered_images/Moderate/c52bb7343387.png'),\n",
       " PosixPath('input/gaussian_filtered_images/Moderate/527bea76116c.png'),\n",
       " PosixPath('input/gaussian_filtered_images/Moderate/d41b33fcb94f.png'),\n",
       " PosixPath('input/gaussian_filtered_images/Moderate/3428230bf1bd.png'),\n",
       " PosixPath('input/gaussian_filtered_images/Moderate/4a558a1cd243.png'),\n",
       " PosixPath('input/gaussian_filtered_images/Moderate/50d8a8fb7737.png'),\n",
       " PosixPath('input/gaussian_filtered_images/Moderate/e96099b961b4.png'),\n",
       " PosixPath('input/gaussian_filtered_images/Moderate/8cb6b0efaaac.png'),\n",
       " PosixPath('input/gaussian_filtered_images/Moderate/56e56aa08362.png'),\n",
       " PosixPath('input/gaussian_filtered_images/Moderate/0953c0ac1735.png'),\n",
       " PosixPath('input/gaussian_filtered_images/Moderate/7247a2c97f71.png'),\n",
       " PosixPath('input/gaussian_filtered_images/Moderate/85fce24084da.png'),\n",
       " PosixPath('input/gaussian_filtered_images/Moderate/6ba5ed791444.png'),\n",
       " PosixPath('input/gaussian_filtered_images/Moderate/a0267206d51e.png'),\n",
       " PosixPath('input/gaussian_filtered_images/Moderate/b8ac328009e0.png'),\n",
       " PosixPath('input/gaussian_filtered_images/Moderate/db49cdf1ea64.png'),\n",
       " PosixPath('input/gaussian_filtered_images/Moderate/d9a475dfe59a.png'),\n",
       " PosixPath('input/gaussian_filtered_images/Moderate/f920ccd926db.png'),\n",
       " PosixPath('input/gaussian_filtered_images/Moderate/51405d042000.png'),\n",
       " PosixPath('input/gaussian_filtered_images/Moderate/49419f8d5cb4.png'),\n",
       " PosixPath('input/gaussian_filtered_images/Moderate/b574d229ec4c.png'),\n",
       " PosixPath('input/gaussian_filtered_images/Moderate/239f2c348ea4.png'),\n",
       " PosixPath('input/gaussian_filtered_images/Moderate/7d261f986bef.png'),\n",
       " PosixPath('input/gaussian_filtered_images/Moderate/7356dd08b0ae.png'),\n",
       " PosixPath('input/gaussian_filtered_images/Moderate/ac5b5dddf91b.png'),\n",
       " PosixPath('input/gaussian_filtered_images/Moderate/13063d1bc4ea.png'),\n",
       " PosixPath('input/gaussian_filtered_images/Moderate/20c883d3bd38.png'),\n",
       " PosixPath('input/gaussian_filtered_images/Moderate/89b044cbaf85.png'),\n",
       " PosixPath('input/gaussian_filtered_images/Moderate/17eb5d4ad740.png'),\n",
       " PosixPath('input/gaussian_filtered_images/Moderate/521d3e264d71.png'),\n",
       " PosixPath('input/gaussian_filtered_images/Moderate/85cc6d636898.png'),\n",
       " PosixPath('input/gaussian_filtered_images/Moderate/c613db1cab27.png'),\n",
       " PosixPath('input/gaussian_filtered_images/Moderate/388f12e8df0b.png'),\n",
       " PosixPath('input/gaussian_filtered_images/Moderate/7102f29e052e.png'),\n",
       " PosixPath('input/gaussian_filtered_images/Moderate/76e6a9238570.png'),\n",
       " PosixPath('input/gaussian_filtered_images/Moderate/23fca0693e2a.png'),\n",
       " PosixPath('input/gaussian_filtered_images/Moderate/3f47f83217b5.png'),\n",
       " PosixPath('input/gaussian_filtered_images/Moderate/5ed6dc419e4d.png'),\n",
       " PosixPath('input/gaussian_filtered_images/Moderate/6a91eb157f47.png'),\n",
       " PosixPath('input/gaussian_filtered_images/Moderate/9b32e8ef0ca0.png'),\n",
       " PosixPath('input/gaussian_filtered_images/Moderate/eb1ad14dd281.png'),\n",
       " PosixPath('input/gaussian_filtered_images/Moderate/1ffaa51a6245.png'),\n",
       " PosixPath('input/gaussian_filtered_images/Moderate/6b869f37cdf3.png'),\n",
       " PosixPath('input/gaussian_filtered_images/Moderate/b65ff67743b2.png'),\n",
       " PosixPath('input/gaussian_filtered_images/Moderate/2d870833c0c9.png'),\n",
       " PosixPath('input/gaussian_filtered_images/Moderate/0fd16b64697e.png'),\n",
       " PosixPath('input/gaussian_filtered_images/Moderate/04a6fc58dabc.png'),\n",
       " PosixPath('input/gaussian_filtered_images/Moderate/ef7a4ed8d5d1.png'),\n",
       " PosixPath('input/gaussian_filtered_images/Moderate/1c4d87baaffc.png'),\n",
       " PosixPath('input/gaussian_filtered_images/Moderate/878a3a097436.png'),\n",
       " PosixPath('input/gaussian_filtered_images/Moderate/96d48b073f18.png'),\n",
       " PosixPath('input/gaussian_filtered_images/Moderate/a804cef3e51f.png'),\n",
       " PosixPath('input/gaussian_filtered_images/Moderate/57ce57a8cfb0.png'),\n",
       " PosixPath('input/gaussian_filtered_images/Moderate/70ed3ec68b94.png'),\n",
       " PosixPath('input/gaussian_filtered_images/Moderate/e7a372a1c3a4.png'),\n",
       " PosixPath('input/gaussian_filtered_images/Moderate/07419eddd6be.png'),\n",
       " PosixPath('input/gaussian_filtered_images/Moderate/86b3a7929bec.png'),\n",
       " PosixPath('input/gaussian_filtered_images/Moderate/5cde55f745af.png'),\n",
       " PosixPath('input/gaussian_filtered_images/Moderate/a9d0c900b6a9.png'),\n",
       " PosixPath('input/gaussian_filtered_images/Moderate/76fe19ff64fb.png'),\n",
       " PosixPath('input/gaussian_filtered_images/Moderate/aef9016557ca.png'),\n",
       " PosixPath('input/gaussian_filtered_images/Moderate/5f70ad48a525.png'),\n",
       " PosixPath('input/gaussian_filtered_images/Moderate/51d0034d177d.png'),\n",
       " PosixPath('input/gaussian_filtered_images/Moderate/a01c590c444f.png'),\n",
       " PosixPath('input/gaussian_filtered_images/Moderate/308f7fce6f0d.png'),\n",
       " PosixPath('input/gaussian_filtered_images/Moderate/39923b29988a.png'),\n",
       " PosixPath('input/gaussian_filtered_images/Moderate/ffec9a18a3ce.png'),\n",
       " PosixPath('input/gaussian_filtered_images/Moderate/b0d35981708b.png'),\n",
       " PosixPath('input/gaussian_filtered_images/Moderate/6e68e742f5bc.png'),\n",
       " PosixPath('input/gaussian_filtered_images/Moderate/1269ab57c2e6.png'),\n",
       " PosixPath('input/gaussian_filtered_images/Moderate/1dd9adcbfff4.png'),\n",
       " PosixPath('input/gaussian_filtered_images/Moderate/0ac436400db4.png'),\n",
       " PosixPath('input/gaussian_filtered_images/Moderate/8f1e7433a95d.png'),\n",
       " PosixPath('input/gaussian_filtered_images/Moderate/a15470303941.png'),\n",
       " PosixPath('input/gaussian_filtered_images/Moderate/a4359815f152.png'),\n",
       " PosixPath('input/gaussian_filtered_images/Moderate/c4e8b1ec8893.png'),\n",
       " PosixPath('input/gaussian_filtered_images/Moderate/ffcf7b45f213.png'),\n",
       " PosixPath('input/gaussian_filtered_images/Moderate/d364423ec6f9.png'),\n",
       " PosixPath('input/gaussian_filtered_images/Moderate/295fdc964f6e.png'),\n",
       " PosixPath('input/gaussian_filtered_images/Moderate/d81338217fc5.png'),\n",
       " PosixPath('input/gaussian_filtered_images/Moderate/f460608cf4cc.png'),\n",
       " PosixPath('input/gaussian_filtered_images/Moderate/59ee65760535.png'),\n",
       " PosixPath('input/gaussian_filtered_images/Moderate/d3be5346684b.png'),\n",
       " PosixPath('input/gaussian_filtered_images/Moderate/799cb4c816ae.png'),\n",
       " PosixPath('input/gaussian_filtered_images/Moderate/be68322c7223.png'),\n",
       " PosixPath('input/gaussian_filtered_images/Moderate/49d69c4c6290.png'),\n",
       " PosixPath('input/gaussian_filtered_images/Moderate/2967e578939f.png'),\n",
       " PosixPath('input/gaussian_filtered_images/Moderate/a06e41bd2634.png'),\n",
       " PosixPath('input/gaussian_filtered_images/Moderate/ae8424cdb029.png'),\n",
       " PosixPath('input/gaussian_filtered_images/Moderate/7d8f67cadc29.png'),\n",
       " PosixPath('input/gaussian_filtered_images/Moderate/10eefba568dd.png'),\n",
       " PosixPath('input/gaussian_filtered_images/Moderate/cf0824f53dd9.png'),\n",
       " PosixPath('input/gaussian_filtered_images/Moderate/7e6e90a93aa5.png'),\n",
       " PosixPath('input/gaussian_filtered_images/Moderate/94a67ec0714f.png'),\n",
       " PosixPath('input/gaussian_filtered_images/Moderate/51d574513bcb.png'),\n",
       " PosixPath('input/gaussian_filtered_images/Moderate/94dcb491143f.png'),\n",
       " PosixPath('input/gaussian_filtered_images/Moderate/4f20f9a9a65b.png'),\n",
       " PosixPath('input/gaussian_filtered_images/Moderate/7f6ce40f306b.png'),\n",
       " PosixPath('input/gaussian_filtered_images/Moderate/aca88f566228.png'),\n",
       " PosixPath('input/gaussian_filtered_images/Moderate/86baef833ae0.png'),\n",
       " PosixPath('input/gaussian_filtered_images/Moderate/2f9b66784109.png'),\n",
       " PosixPath('input/gaussian_filtered_images/Moderate/c568e5245ea5.png'),\n",
       " PosixPath('input/gaussian_filtered_images/Moderate/cac40227d3b2.png'),\n",
       " PosixPath('input/gaussian_filtered_images/Moderate/b9127e38d9b9.png'),\n",
       " PosixPath('input/gaussian_filtered_images/Moderate/18f1f979d30d.png'),\n",
       " PosixPath('input/gaussian_filtered_images/Moderate/a3802934bad7.png'),\n",
       " PosixPath('input/gaussian_filtered_images/Moderate/b98f77098b9d.png'),\n",
       " PosixPath('input/gaussian_filtered_images/Moderate/4f46d7ee61ed.png'),\n",
       " PosixPath('input/gaussian_filtered_images/Moderate/e756495c11cb.png'),\n",
       " PosixPath('input/gaussian_filtered_images/Moderate/3402124408ea.png'),\n",
       " PosixPath('input/gaussian_filtered_images/Moderate/be7bc89f5fec.png'),\n",
       " PosixPath('input/gaussian_filtered_images/Moderate/c80f79579fed.png'),\n",
       " PosixPath('input/gaussian_filtered_images/Moderate/0d0a21fd354f.png'),\n",
       " PosixPath('input/gaussian_filtered_images/Moderate/9a7bd084395e.png'),\n",
       " PosixPath('input/gaussian_filtered_images/Moderate/e03e70bc8bba.png'),\n",
       " PosixPath('input/gaussian_filtered_images/Moderate/a62ea0043aa7.png'),\n",
       " PosixPath('input/gaussian_filtered_images/Moderate/d4be0403e6ab.png'),\n",
       " PosixPath('input/gaussian_filtered_images/Moderate/c68dfa021d62.png'),\n",
       " PosixPath('input/gaussian_filtered_images/Moderate/57469423a012.png'),\n",
       " PosixPath('input/gaussian_filtered_images/Moderate/932181b93b2f.png'),\n",
       " PosixPath('input/gaussian_filtered_images/Moderate/2c1d5be654dd.png'),\n",
       " PosixPath('input/gaussian_filtered_images/Moderate/547b37da9223.png'),\n",
       " PosixPath('input/gaussian_filtered_images/Moderate/9a28d4e8aef0.png'),\n",
       " PosixPath('input/gaussian_filtered_images/Moderate/4289af3afbd2.png'),\n",
       " PosixPath('input/gaussian_filtered_images/Moderate/51cfeccaf40d.png'),\n",
       " PosixPath('input/gaussian_filtered_images/Moderate/ae1344610ebe.png'),\n",
       " PosixPath('input/gaussian_filtered_images/Moderate/1594ca6c30d3.png'),\n",
       " PosixPath('input/gaussian_filtered_images/Moderate/e811f39a1243.png'),\n",
       " PosixPath('input/gaussian_filtered_images/Moderate/c3e02d4a1798.png'),\n",
       " PosixPath('input/gaussian_filtered_images/Moderate/f69400b316a7.png'),\n",
       " PosixPath('input/gaussian_filtered_images/Moderate/2c2aa057afc5.png'),\n",
       " PosixPath('input/gaussian_filtered_images/Moderate/8acffaf1f4b9.png'),\n",
       " PosixPath('input/gaussian_filtered_images/Moderate/39b5b05d6cd9.png'),\n",
       " PosixPath('input/gaussian_filtered_images/Moderate/86e7f98f73f1.png'),\n",
       " PosixPath('input/gaussian_filtered_images/Moderate/236f56771ec6.png'),\n",
       " PosixPath('input/gaussian_filtered_images/Moderate/3b9c1f42c2f2.png'),\n",
       " PosixPath('input/gaussian_filtered_images/Moderate/272d9c043c81.png'),\n",
       " PosixPath('input/gaussian_filtered_images/Moderate/ccd34029493d.png'),\n",
       " PosixPath('input/gaussian_filtered_images/Moderate/da0a1043abf7.png'),\n",
       " PosixPath('input/gaussian_filtered_images/Moderate/1e1fb019710d.png'),\n",
       " PosixPath('input/gaussian_filtered_images/Moderate/d9311f7497cb.png'),\n",
       " PosixPath('input/gaussian_filtered_images/Moderate/d952dbfb0fe4.png'),\n",
       " PosixPath('input/gaussian_filtered_images/Moderate/60e269e3e188.png'),\n",
       " PosixPath('input/gaussian_filtered_images/Moderate/2cceb07ff706.png'),\n",
       " PosixPath('input/gaussian_filtered_images/Moderate/3f8d5c940ba4.png'),\n",
       " PosixPath('input/gaussian_filtered_images/Moderate/97bf61736b86.png'),\n",
       " PosixPath('input/gaussian_filtered_images/Moderate/d264396d8d1a.png'),\n",
       " PosixPath('input/gaussian_filtered_images/Moderate/98104c8c67eb.png'),\n",
       " PosixPath('input/gaussian_filtered_images/Moderate/cbf0394039f8.png'),\n",
       " PosixPath('input/gaussian_filtered_images/Moderate/76cfe8967f7d.png'),\n",
       " PosixPath('input/gaussian_filtered_images/Moderate/6c315ad3d07f.png'),\n",
       " PosixPath('input/gaussian_filtered_images/Moderate/5e52c9fe676f.png'),\n",
       " PosixPath('input/gaussian_filtered_images/Moderate/f80118bbda18.png'),\n",
       " PosixPath('input/gaussian_filtered_images/Moderate/82deb07a6618.png'),\n",
       " PosixPath('input/gaussian_filtered_images/Moderate/d10d315f123f.png'),\n",
       " PosixPath('input/gaussian_filtered_images/Moderate/812d5adafaf2.png'),\n",
       " PosixPath('input/gaussian_filtered_images/Moderate/0180bfa26c0b.png'),\n",
       " PosixPath('input/gaussian_filtered_images/Moderate/8000a6b97a84.png'),\n",
       " PosixPath('input/gaussian_filtered_images/Moderate/5eb311bcb5f9.png'),\n",
       " PosixPath('input/gaussian_filtered_images/Moderate/ee6e39319b39.png'),\n",
       " PosixPath('input/gaussian_filtered_images/Moderate/78a577c3e0bf.png'),\n",
       " PosixPath('input/gaussian_filtered_images/Moderate/5e18af29d812.png'),\n",
       " PosixPath('input/gaussian_filtered_images/Moderate/1632c4311fc9.png'),\n",
       " PosixPath('input/gaussian_filtered_images/Moderate/6b7cf869622a.png'),\n",
       " PosixPath('input/gaussian_filtered_images/Moderate/9b95d6203406.png'),\n",
       " PosixPath('input/gaussian_filtered_images/Moderate/3e6bfc4d5c65.png'),\n",
       " PosixPath('input/gaussian_filtered_images/Moderate/69df7ade0575.png'),\n",
       " PosixPath('input/gaussian_filtered_images/Moderate/ff77e8e5b5f3.png'),\n",
       " PosixPath('input/gaussian_filtered_images/Moderate/3d3e288d490e.png'),\n",
       " PosixPath('input/gaussian_filtered_images/Moderate/9f436886e056.png'),\n",
       " PosixPath('input/gaussian_filtered_images/Moderate/663a923d5398.png'),\n",
       " PosixPath('input/gaussian_filtered_images/Moderate/a64273801bde.png'),\n",
       " PosixPath('input/gaussian_filtered_images/Moderate/2b21d293fdf2.png'),\n",
       " PosixPath('input/gaussian_filtered_images/Moderate/5173d54fc214.png'),\n",
       " PosixPath('input/gaussian_filtered_images/Moderate/04d029cfb612.png'),\n",
       " PosixPath('input/gaussian_filtered_images/Moderate/3ffa14d60b24.png'),\n",
       " PosixPath('input/gaussian_filtered_images/Moderate/3d663a6a50a3.png'),\n",
       " PosixPath('input/gaussian_filtered_images/Moderate/caec68f11c86.png'),\n",
       " PosixPath('input/gaussian_filtered_images/Moderate/49a4765f8822.png'),\n",
       " PosixPath('input/gaussian_filtered_images/Moderate/f999c6921e6d.png'),\n",
       " PosixPath('input/gaussian_filtered_images/Moderate/367c7049929c.png'),\n",
       " PosixPath('input/gaussian_filtered_images/Moderate/6f0463c1ff18.png'),\n",
       " PosixPath('input/gaussian_filtered_images/Moderate/38e111cac46f.png'),\n",
       " PosixPath('input/gaussian_filtered_images/Moderate/d94e10f42861.png'),\n",
       " PosixPath('input/gaussian_filtered_images/Moderate/1b8ad0afe9fb.png'),\n",
       " PosixPath('input/gaussian_filtered_images/Moderate/9a4f370d341b.png'),\n",
       " PosixPath('input/gaussian_filtered_images/Moderate/dbee04ae6426.png'),\n",
       " PosixPath('input/gaussian_filtered_images/Moderate/4e7694eebb91.png'),\n",
       " PosixPath('input/gaussian_filtered_images/Moderate/d473f6fafba0.png'),\n",
       " PosixPath('input/gaussian_filtered_images/Moderate/a87f53bc984a.png'),\n",
       " PosixPath('input/gaussian_filtered_images/Moderate/9041eb43456e.png'),\n",
       " PosixPath('input/gaussian_filtered_images/Moderate/e1e490773462.png'),\n",
       " PosixPath('input/gaussian_filtered_images/Moderate/f9ecf1795804.png'),\n",
       " PosixPath('input/gaussian_filtered_images/Moderate/23148a40ecb0.png'),\n",
       " PosixPath('input/gaussian_filtered_images/Moderate/6f4e0538d1e4.png'),\n",
       " PosixPath('input/gaussian_filtered_images/Moderate/a721efb1e049.png'),\n",
       " PosixPath('input/gaussian_filtered_images/Moderate/26999ebc21de.png'),\n",
       " PosixPath('input/gaussian_filtered_images/Moderate/3e1f8fecb06f.png'),\n",
       " PosixPath('input/gaussian_filtered_images/Moderate/ff0740cb484a.png'),\n",
       " PosixPath('input/gaussian_filtered_images/Moderate/052d9a3fe55a.png'),\n",
       " PosixPath('input/gaussian_filtered_images/Moderate/acc9f29538c4.png'),\n",
       " PosixPath('input/gaussian_filtered_images/Moderate/b402b18d99a5.png'),\n",
       " PosixPath('input/gaussian_filtered_images/Moderate/a6c9e96a10d7.png'),\n",
       " PosixPath('input/gaussian_filtered_images/Moderate/29f44aea93a4.png'),\n",
       " PosixPath('input/gaussian_filtered_images/Moderate/4d21ce39c905.png'),\n",
       " PosixPath('input/gaussian_filtered_images/Moderate/465c618f7b23.png'),\n",
       " PosixPath('input/gaussian_filtered_images/Moderate/ab50123abadb.png'),\n",
       " PosixPath('input/gaussian_filtered_images/Moderate/7c2f820a6425.png'),\n",
       " PosixPath('input/gaussian_filtered_images/Moderate/071435a218ec.png'),\n",
       " PosixPath('input/gaussian_filtered_images/Moderate/a9c7b83caf81.png'),\n",
       " PosixPath('input/gaussian_filtered_images/Moderate/86fbac86ed3e.png'),\n",
       " PosixPath('input/gaussian_filtered_images/Moderate/abf09c44d5f4.png'),\n",
       " PosixPath('input/gaussian_filtered_images/Moderate/ac2c814949f9.png'),\n",
       " PosixPath('input/gaussian_filtered_images/Moderate/962cf85e4f6d.png'),\n",
       " PosixPath('input/gaussian_filtered_images/Moderate/a47878630dc2.png'),\n",
       " PosixPath('input/gaussian_filtered_images/Moderate/e17507a4a1f5.png'),\n",
       " PosixPath('input/gaussian_filtered_images/Moderate/ac720570dd0f.png'),\n",
       " PosixPath('input/gaussian_filtered_images/Moderate/7663aba8d762.png'),\n",
       " PosixPath('input/gaussian_filtered_images/Moderate/b9b6ee2b9453.png'),\n",
       " PosixPath('input/gaussian_filtered_images/Moderate/98e8adcf085c.png'),\n",
       " PosixPath('input/gaussian_filtered_images/Moderate/82f2784ead76.png'),\n",
       " PosixPath('input/gaussian_filtered_images/Moderate/9a9b21215c55.png'),\n",
       " PosixPath('input/gaussian_filtered_images/Moderate/e868c3da340b.png'),\n",
       " PosixPath('input/gaussian_filtered_images/Moderate/9a3c03a5ad0f.png'),\n",
       " ...]"
      ]
     },
     "execution_count": 26,
     "metadata": {},
     "output_type": "execute_result"
    }
   ],
   "source": [
    "# globを使ってパス配下データ取得\n",
    "list(p.glob(\"*/*.png\"))"
   ]
  },
  {
   "cell_type": "markdown",
   "metadata": {},
   "source": [
    "#### - as_posix()"
   ]
  },
  {
   "cell_type": "code",
   "execution_count": 55,
   "metadata": {},
   "outputs": [
    {
     "data": {
      "text/plain": [
       "'input/gaussian_filtered_images/Mild/2d7666b8884f.png'"
      ]
     },
     "execution_count": 55,
     "metadata": {},
     "output_type": "execute_result"
    }
   ],
   "source": [
    "# as_posix()関数をコールして指定ファイルを文字列へ\n",
    "list(p.glob(\"*/*.png\"))[0].as_posix()"
   ]
  },
  {
   "cell_type": "markdown",
   "metadata": {},
   "source": [
    "### | osモジュールでpathをjoin・splitする"
   ]
  },
  {
   "cell_type": "code",
   "execution_count": 31,
   "metadata": {},
   "outputs": [
    {
     "name": "stdout",
     "output_type": "stream",
     "text": [
      "input/gaussian_filtered_images/Mild <class 'pathlib.PosixPath'>\n"
     ]
    }
   ],
   "source": [
    "p = Path(\"input/gaussian_filtered_images\") #インスタンス生成\n",
    "folder = list(p.iterdir())[1] #任意のフォルダ指定\n",
    "print(folder, type(folder))# folderはPathオブジェクトであることに留意"
   ]
  },
  {
   "cell_type": "code",
   "execution_count": 37,
   "metadata": {},
   "outputs": [
    {
     "name": "stdout",
     "output_type": "stream",
     "text": [
      "('input/gaussian_filtered_images', 'Mild')\n",
      "path:  input/gaussian_filtered_images/Mild/test.txt\n"
     ]
    }
   ],
   "source": [
    "split_list = os.path.split(folder)\n",
    "#print(split_list)\n",
    "\n",
    "file_path = os.path.join(folder, \"test.txt\")\n",
    "#print(\"path: \", file_path) # パスが生成できる"
   ]
  },
  {
   "cell_type": "markdown",
   "metadata": {},
   "source": [
    "### | ファイルの有無と作成"
   ]
  },
  {
   "cell_type": "markdown",
   "metadata": {},
   "source": [
    "#### - os.path.exists()\n",
    "> フォルダの有無を確認"
   ]
  },
  {
   "cell_type": "code",
   "execution_count": 43,
   "metadata": {},
   "outputs": [
    {
     "name": "stdout",
     "output_type": "stream",
     "text": [
      "input/gaussian_filtered_images/new_folder\n"
     ]
    }
   ],
   "source": [
    "p = Path(\"input/gaussian_filtered_images\")\n",
    "new_folder_name = \"new_folder\"\n",
    "new_folder_path = os.path.join(p, new_folder_name)\n",
    "# print(new_folder_path)"
   ]
  },
  {
   "cell_type": "code",
   "execution_count": 44,
   "metadata": {},
   "outputs": [
    {
     "data": {
      "text/plain": [
       "False"
      ]
     },
     "execution_count": 44,
     "metadata": {},
     "output_type": "execute_result"
    }
   ],
   "source": [
    "# 作成したPathの有無を確認\n",
    "os.path.exists(new_folder_path)"
   ]
  },
  {
   "cell_type": "markdown",
   "metadata": {},
   "source": [
    "#### - os.makedirs()\n",
    "> フォルダを作成する"
   ]
  },
  {
   "cell_type": "code",
   "execution_count": 45,
   "metadata": {},
   "outputs": [],
   "source": [
    "if os.path.exists(new_folder_path):\n",
    "    pass\n",
    "else:\n",
    "    os.makedirs(new_folder_path)"
   ]
  },
  {
   "cell_type": "markdown",
   "metadata": {},
   "source": [
    "## 32 multiprocessingでの並列処理\n",
    "> Pythonでは， `multiprocessing`というモジュールを使うことで超簡単に並列処理することができます．\n",
    "\n",
    ">     時間がかかるループを使う場合は，並列処理が使えるか検討しましょう．\n",
    ">     （というより使える形に無理やりでもして，並列処理しましょう笑"
   ]
  },
  {
   "cell_type": "markdown",
   "metadata": {},
   "source": [
    "### | 並列処理ってなに？\n",
    "> 複数のプロセッサを使用して一つのタスクを細分化して並列に処理すること\n",
    "\n",
    "    それぞれのプロセッサは並列に同時に処理するので，一つのプロセッサで処理した時に比べ当然早くなります．\n",
    "    プロセッサというのは処理を行う装置の総称ですが，Pythonで並列処理をする場合は(少なくとも本記事は)CPUを指します．\n",
    "    また，CPUには実際に処理をすることができるコアが複数入っています．\n",
    "    (昔は１つしかありませんでしたが今は複数コアが主流．つまり厳密にいうと「コア」がここでの「プロセッサ」になります．)"
   ]
  },
  {
   "cell_type": "markdown",
   "metadata": {},
   "source": [
    "### | Pythonで並列処理をするには？→multiprocessingモジュール"
   ]
  },
  {
   "cell_type": "markdown",
   "metadata": {},
   "source": [
    "#### - multiprocessingモジュールをインポート、Poolクラスを使用"
   ]
  },
  {
   "cell_type": "code",
   "execution_count": 46,
   "metadata": {},
   "outputs": [],
   "source": [
    "from multiprocessing import Pool"
   ]
  },
  {
   "cell_type": "code",
   "execution_count": 57,
   "metadata": {},
   "outputs": [
    {
     "name": "stdout",
     "output_type": "stream",
     "text": [
      "<multiprocessing.pool.Pool state=RUN pool_size=4>\n"
     ]
    }
   ],
   "source": [
    "#Poolオブジェクトのインスタンスを作る\n",
    "cpu_num = 4 # 便宜的にcpu_num、実際はコア数にあたる\n",
    "p = Pool(processes=cpu_num)\n",
    "print(p)"
   ]
  },
  {
   "cell_type": "markdown",
   "metadata": {},
   "source": [
    "#### - Macでコア数を確認\n",
    "> コアには`物理コア`と`論理コア`という考え方があります．\n",
    "\n",
    ">     単一のコアが複数のタスクを同時に処理する技術があるんですが(Hyper Threadingと言います)，\n",
    ">     もしコアが一つしかなくても二つのタスクを同時に処理できるなら，利用者からみたら「2つのコアがある」のと同じことですよね？\n",
    ">     この「物理的に存在するコア」のことを「物理コア」といい，Hyper Threadingを使った擬似的なコアのことを「論理コア」と言います．\n",
    ">     現在でも多くのCPUがHypyer Threadingの技術を用しており，大抵のコンピュータでは物理コア数と論理コア数が異なります．"
   ]
  },
  {
   "cell_type": "code",
   "execution_count": 47,
   "metadata": {},
   "outputs": [
    {
     "name": "stdout",
     "output_type": "stream",
     "text": [
      "4\n"
     ]
    }
   ],
   "source": [
    "# 物理コア数\n",
    "!sysctl -n hw.physicalcpu_max"
   ]
  },
  {
   "cell_type": "code",
   "execution_count": 48,
   "metadata": {},
   "outputs": [
    {
     "name": "stdout",
     "output_type": "stream",
     "text": [
      "8\n"
     ]
    }
   ],
   "source": [
    "# 論理コア数\n",
    "!sysctl -n hw.logicalcpu_max"
   ]
  },
  {
   "cell_type": "code",
   "execution_count": 49,
   "metadata": {},
   "outputs": [
    {
     "data": {
      "text/plain": [
       "8"
      ]
     },
     "execution_count": 49,
     "metadata": {},
     "output_type": "execute_result"
    }
   ],
   "source": [
    "# （他）コア数 論理コア含\n",
    "from multiprocessing import cpu_count\n",
    "cpu_count()"
   ]
  },
  {
   "cell_type": "code",
   "execution_count": 58,
   "metadata": {},
   "outputs": [
    {
     "name": "stdout",
     "output_type": "stream",
     "text": [
      "<multiprocessing.pool.Pool state=RUN pool_size=7>\n"
     ]
    }
   ],
   "source": [
    "# 組み合わせてパソコンに優しい設定ができる\n",
    "from multiprocessing import Pool, cpu_count\n",
    "p = Pool(processes=cpu_count()-1) # pインスタンス\n",
    "print(p)"
   ]
  },
  {
   "cell_type": "markdown",
   "metadata": {},
   "source": [
    "### | p.map(fun, iterable)がもっとも基本的な使い方"
   ]
  },
  {
   "cell_type": "markdown",
   "metadata": {},
   "source": [
    "#### - map()"
   ]
  },
  {
   "cell_type": "code",
   "execution_count": 54,
   "metadata": {},
   "outputs": [
    {
     "data": {
      "text/plain": [
       "[2, 4, 6, 8]"
      ]
     },
     "execution_count": 54,
     "metadata": {},
     "output_type": "execute_result"
    }
   ],
   "source": [
    "def double(n):\n",
    "    return 2 * n\n",
    "\n",
    "params = [1, 2, 3, 4]\n",
    "\n",
    "results = map(double, params)\n",
    "list(results)#resultsはイテレータなのでlist()に入れて中身を表示"
   ]
  },
  {
   "cell_type": "markdown",
   "metadata": {},
   "source": [
    "map() の返り値はイテレータなので，list()に入れて中身を表示"
   ]
  },
  {
   "cell_type": "markdown",
   "metadata": {},
   "source": [
    "#### - p.map()\n",
    "> 並列map処理"
   ]
  },
  {
   "cell_type": "markdown",
   "metadata": {},
   "source": [
    "```Python\n",
    "import cv2\n",
    "import numpy as np\n",
    "from tqdm import tqdm\n",
    "# NumPy Arrayをsaveするフォルダ\n",
    "save_base_path = 'gaussian_filtered_nparrays/'\n",
    "for p in tqdm(glob('gaussian_filtered_images/*/*.png')):\n",
    "    \n",
    "    #pngデータをopencvでロード\n",
    "    im = cv2.imread(p)\n",
    "    #pngのファイル名をそのまま.npyファイルのファイル名にする\n",
    "    file_name = p.split('/')[-1].split('.png')[0]\n",
    "    save_path = save_base_path + file_name\n",
    "    #全てのnpyファイルを同じフォルダに格納\n",
    "    np.save(save_path, im)\n",
    "```\n",
    "上記の大量データを.npyにする処理を、並列処理に書き換え"
   ]
  },
  {
   "cell_type": "code",
   "execution_count": null,
   "metadata": {},
   "outputs": [],
   "source": [
    "import os\n",
    "import numpy as np\n",
    "import cv2\n",
    "from multiprocessing import Pool, cpu_count\n",
    "from tqdm import tqdm\n",
    "from glob import glob\n",
    "\n",
    "p = Pool(processes=cpu_count()-1)\n",
    "# NumPy Arrayをsaveするフォルダ\n",
    "save_base_path = 'gaussian_filtered_nparrays_multi/'\n",
    "# フォルダ作成\n",
    "if not os.path.exists(save_base_path):\n",
    "    os.makedirs(save_base_path)\n",
    "    \n",
    "def save_npy(path):\n",
    "    \n",
    "    #pngデータをopencvでロード\n",
    "    im = cv2.imread(path)\n",
    "    #pngのファイル名をそのまま.npyファイルのファイル名にする\n",
    "    file_name = path.split('/')[-1].split('.png')[0]\n",
    "    save_path = save_base_path + file_name\n",
    "    #全てのnpyファイルを同じフォルダに格納\n",
    "    np.save(save_path, im)\n",
    "\n",
    "path_list = glob('gaussian_filtered_images/*/*.png')\n",
    "\n",
    "# 並列処理！.png -> .npyにする関数にパスリストをマッピング\n",
    "p.map(save_npy, path_list)\n",
    "\n",
    "# 並列処理が終わったら閉じます\n",
    "p.close()\n",
    "p.join()"
   ]
  },
  {
   "cell_type": "markdown",
   "metadata": {},
   "source": [
    "#### - p.imap()\n",
    ">     p.map()ではなくp.imap()を使う\n",
    ">     imapは他の処理が終わってなくても次の処理を進める事ができます．\n",
    ">     いわゆるnon-blocking処理というやつです．そのため速度も早くメモリ効率も上がります．\n",
    "\n",
    "```python\n",
    "# 先ほどのコードのp.map()の部分を以下のように書き換え\n",
    "list(tqdm(p.imap(save_npy, path_list), total=len(path_list)))\n",
    "```\n",
    ">     tqdmも合わせて,プログレスバーも見えるように。\n",
    ">     p.imapの返り値はイテレータなので，total引数を渡す事でデータの総数をtqdmに教えてあげましょう．"
   ]
  },
  {
   "cell_type": "markdown",
   "metadata": {},
   "source": [
    "### | 複数の引数を関数に渡す場合"
   ]
  },
  {
   "cell_type": "markdown",
   "metadata": {},
   "source": [
    "完成コード"
   ]
  },
  {
   "cell_type": "code",
   "execution_count": null,
   "metadata": {},
   "outputs": [],
   "source": [
    "import os\n",
    "import numpy as np\n",
    "import cv2\n",
    "from multiprocessing import Pool, cpu_count\n",
    "from tqdm import tqdm\n",
    "from glob import glob\n",
    "\n",
    "p = Pool(processes=cpu_count()-1)\n",
    "# NumPy Arrayをsaveするフォルダ\n",
    "save_base_path = 'gaussian_filtered_nparrays_multi_w_type/'\n",
    "# フォルダ作成\n",
    "if not os.path.exists(save_base_path):\n",
    "    os.makedirs(save_base_path)\n",
    "    \n",
    "\n",
    "def wrap_save_npy(args):\n",
    "    return save_npy(*args)\n",
    "    \n",
    "    \n",
    "def save_npy(path, type_name):\n",
    "    \n",
    "    #pngデータをopencvでロード\n",
    "    im = cv2.imread(path)\n",
    "    #pngのファイル名 + フォルダ名を.npyファイルのファイル名にする\n",
    "    file_name = path.split('/')[-1].split('.png')[0]\n",
    "    save_path = save_base_path + file_name + '_' + type_name\n",
    "    #全てのnpyファイルを同じフォルダに格納\n",
    "    np.save(save_path, im)\n",
    "\n",
    "path_list = glob('gaussian_filtered_images/*/*.png')\n",
    "job_args = [(path, path.split('/')[1]) for path in path_list]\n",
    "    \n",
    "list(tqdm(p.imap(wrap_save_npy, job_args), total=len(path_list)))\n",
    "p.close()\n",
    "p.join()"
   ]
  },
  {
   "cell_type": "code",
   "execution_count": null,
   "metadata": {},
   "outputs": [],
   "source": []
  },
  {
   "cell_type": "code",
   "execution_count": null,
   "metadata": {},
   "outputs": [],
   "source": []
  },
  {
   "cell_type": "code",
   "execution_count": null,
   "metadata": {},
   "outputs": [],
   "source": []
  },
  {
   "cell_type": "markdown",
   "metadata": {},
   "source": [
    "## 33 Pythonスクリプトを作ってJupyterから呼び出す"
   ]
  }
 ],
 "metadata": {
  "kernelspec": {
   "display_name": "Python 3",
   "language": "python",
   "name": "python3"
  },
  "language_info": {
   "codemirror_mode": {
    "name": "ipython",
    "version": 3
   },
   "file_extension": ".py",
   "mimetype": "text/x-python",
   "name": "python",
   "nbconvert_exporter": "python",
   "pygments_lexer": "ipython3",
   "version": "3.8.5"
  }
 },
 "nbformat": 4,
 "nbformat_minor": 4
}
