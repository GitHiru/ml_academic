{
 "cells": [
  {
   "cell_type": "code",
   "execution_count": null,
   "metadata": {},
   "outputs": [],
   "source": [
    "# Google Colaboratoryを使用する場合は、下記のコメントアウトを外し、実行してください"
   ]
  },
  {
   "cell_type": "code",
   "execution_count": null,
   "metadata": {},
   "outputs": [],
   "source": [
    "# # 下記セルを実行すると、authorization codeの入力を求められます。\n",
    "# # 出力されたリンク先をクリックし、Googleアカウントにログインし、\n",
    "# # authorization codeをコピーし、貼り付けをおこなってください。\n",
    "# import os\n",
    "# from google.colab import drive\n",
    "# drive.mount('/content/drive')"
   ]
  },
  {
   "cell_type": "code",
   "execution_count": null,
   "metadata": {},
   "outputs": [],
   "source": [
    "# working_dir = 'MLSys_100Knocks' #　※※自分で作成したフォルダパスが異なる場合こちらを変更してください。※※\n",
    "# path = f'/content/drive/MyDrive/{working_dir}/本章/1章'\n",
    "# os.chdir(path)"
   ]
  },
  {
   "cell_type": "markdown",
   "metadata": {},
   "source": [
    "# １章 分析に向けた準備を行う１０本ノック\n",
    "\n",
    "ここでは、あるピザチェーンの売上の推移を分析していきます。  \n",
    "データの中身を理解し、分析しやすい形に加工していくプロセスを学びます。"
   ]
  },
  {
   "cell_type": "markdown",
   "metadata": {},
   "source": [
    "### ノック１：データを全て読み込んでみよう\n",
    "\n",
    "> `cf.`\n",
    ">\n",
    "> + [マスタデータ、トランザクションデータとは｜データ分析用語を解説 - GiXo](https://www.gixo.jp/blog/12341/)"
   ]
  },
  {
   "cell_type": "code",
   "execution_count": 1,
   "metadata": {},
   "outputs": [],
   "source": [
    "import pandas as pd\n",
    "\n",
    "# マスタデータ\n",
    "df_area = pd.read_csv(\"input/m_area.csv\")\n",
    "df_store = pd.read_csv(\"input/m_store.csv\")\n",
    "\n",
    "# トランザクションデータ\n",
    "df_4 = pd.read_csv(\"input/tbl_order_202004.csv\")\n",
    "df_5 = pd.read_csv(\"input/tbl_order_202005.csv\")\n",
    "df_6 = pd.read_csv(\"input/tbl_order_202006.csv\")"
   ]
  },
  {
   "cell_type": "code",
   "execution_count": 2,
   "metadata": {},
   "outputs": [
    {
     "data": {
      "text/html": [
       "<div>\n",
       "<style scoped>\n",
       "    .dataframe tbody tr th:only-of-type {\n",
       "        vertical-align: middle;\n",
       "    }\n",
       "\n",
       "    .dataframe tbody tr th {\n",
       "        vertical-align: top;\n",
       "    }\n",
       "\n",
       "    .dataframe thead th {\n",
       "        text-align: right;\n",
       "    }\n",
       "</style>\n",
       "<table border=\"1\" class=\"dataframe\">\n",
       "  <thead>\n",
       "    <tr style=\"text-align: right;\">\n",
       "      <th></th>\n",
       "      <th>area_cd</th>\n",
       "      <th>wide_area</th>\n",
       "      <th>narrow_area</th>\n",
       "    </tr>\n",
       "  </thead>\n",
       "  <tbody>\n",
       "    <tr>\n",
       "      <th>0</th>\n",
       "      <td>TK</td>\n",
       "      <td>東京</td>\n",
       "      <td>東京</td>\n",
       "    </tr>\n",
       "    <tr>\n",
       "      <th>1</th>\n",
       "      <td>KN</td>\n",
       "      <td>神奈川</td>\n",
       "      <td>神奈川</td>\n",
       "    </tr>\n",
       "    <tr>\n",
       "      <th>2</th>\n",
       "      <td>CH</td>\n",
       "      <td>千葉</td>\n",
       "      <td>千葉</td>\n",
       "    </tr>\n",
       "  </tbody>\n",
       "</table>\n",
       "</div>"
      ],
      "text/plain": [
       "  area_cd wide_area narrow_area\n",
       "0      TK        東京          東京\n",
       "1      KN       神奈川         神奈川\n",
       "2      CH        千葉          千葉"
      ]
     },
     "execution_count": 2,
     "metadata": {},
     "output_type": "execute_result"
    }
   ],
   "source": [
    "df_area.head(3)"
   ]
  },
  {
   "cell_type": "code",
   "execution_count": 3,
   "metadata": {},
   "outputs": [
    {
     "data": {
      "text/html": [
       "<div>\n",
       "<style scoped>\n",
       "    .dataframe tbody tr th:only-of-type {\n",
       "        vertical-align: middle;\n",
       "    }\n",
       "\n",
       "    .dataframe tbody tr th {\n",
       "        vertical-align: top;\n",
       "    }\n",
       "\n",
       "    .dataframe thead th {\n",
       "        text-align: right;\n",
       "    }\n",
       "</style>\n",
       "<table border=\"1\" class=\"dataframe\">\n",
       "  <thead>\n",
       "    <tr style=\"text-align: right;\">\n",
       "      <th></th>\n",
       "      <th>order_id</th>\n",
       "      <th>store_id</th>\n",
       "      <th>customer_id</th>\n",
       "      <th>coupon_cd</th>\n",
       "      <th>sales_detail_id</th>\n",
       "      <th>order_accept_date</th>\n",
       "      <th>delivered_date</th>\n",
       "      <th>takeout_flag</th>\n",
       "      <th>total_amount</th>\n",
       "      <th>status</th>\n",
       "    </tr>\n",
       "  </thead>\n",
       "  <tbody>\n",
       "    <tr>\n",
       "      <th>0</th>\n",
       "      <td>79339111</td>\n",
       "      <td>49</td>\n",
       "      <td>C26387220</td>\n",
       "      <td>50</td>\n",
       "      <td>67393872</td>\n",
       "      <td>2020-04-01 11:00:00</td>\n",
       "      <td>2020-04-01 11:18:00</td>\n",
       "      <td>1</td>\n",
       "      <td>4144</td>\n",
       "      <td>1</td>\n",
       "    </tr>\n",
       "    <tr>\n",
       "      <th>1</th>\n",
       "      <td>18941733</td>\n",
       "      <td>85</td>\n",
       "      <td>C48773811</td>\n",
       "      <td>26</td>\n",
       "      <td>91834983</td>\n",
       "      <td>2020-04-01 11:00:00</td>\n",
       "      <td>2020-04-01 11:22:00</td>\n",
       "      <td>0</td>\n",
       "      <td>2877</td>\n",
       "      <td>2</td>\n",
       "    </tr>\n",
       "    <tr>\n",
       "      <th>2</th>\n",
       "      <td>56217880</td>\n",
       "      <td>76</td>\n",
       "      <td>C66287421</td>\n",
       "      <td>36</td>\n",
       "      <td>64409634</td>\n",
       "      <td>2020-04-01 11:00:00</td>\n",
       "      <td>2020-04-01 11:15:00</td>\n",
       "      <td>0</td>\n",
       "      <td>2603</td>\n",
       "      <td>2</td>\n",
       "    </tr>\n",
       "  </tbody>\n",
       "</table>\n",
       "</div>"
      ],
      "text/plain": [
       "   order_id  store_id customer_id  coupon_cd  sales_detail_id  \\\n",
       "0  79339111        49   C26387220         50         67393872   \n",
       "1  18941733        85   C48773811         26         91834983   \n",
       "2  56217880        76   C66287421         36         64409634   \n",
       "\n",
       "     order_accept_date       delivered_date  takeout_flag  total_amount  \\\n",
       "0  2020-04-01 11:00:00  2020-04-01 11:18:00             1          4144   \n",
       "1  2020-04-01 11:00:00  2020-04-01 11:22:00             0          2877   \n",
       "2  2020-04-01 11:00:00  2020-04-01 11:15:00             0          2603   \n",
       "\n",
       "   status  \n",
       "0       1  \n",
       "1       2  \n",
       "2       2  "
      ]
     },
     "execution_count": 3,
     "metadata": {},
     "output_type": "execute_result"
    }
   ],
   "source": [
    "df_4.head(3)"
   ]
  },
  {
   "cell_type": "code",
   "execution_count": 4,
   "metadata": {},
   "outputs": [
    {
     "name": "stdout",
     "output_type": "stream",
     "text": [
      "Columns are 10.  \n",
      "Index(['order_id', 'store_id', 'customer_id', 'coupon_cd', 'sales_detail_id',\n",
      "       'order_accept_date', 'delivered_date', 'takeout_flag', 'total_amount',\n",
      "       'status'],\n",
      "      dtype='object')\n"
     ]
    }
   ],
   "source": [
    "# カラムを確認\n",
    "print(\"Columns are {}.  \\n{}\".format(len(df_4.columns), df_4.columns))"
   ]
  },
  {
   "cell_type": "markdown",
   "metadata": {},
   "source": [
    "### ノック２：データを結合（ユニオン）してみよう\n",
    "\n",
    "> `cf.`\n",
    ">\n",
    "> + [<Python, pandas> concatで連結した時にindexを再度振り直す。 - ねこゆきのメモ](https://nekoyukimmm.hatenablog.com/entry/2015/10/20/161110)"
   ]
  },
  {
   "cell_type": "code",
   "execution_count": 5,
   "metadata": {},
   "outputs": [
    {
     "data": {
      "text/html": [
       "<div>\n",
       "<style scoped>\n",
       "    .dataframe tbody tr th:only-of-type {\n",
       "        vertical-align: middle;\n",
       "    }\n",
       "\n",
       "    .dataframe tbody tr th {\n",
       "        vertical-align: top;\n",
       "    }\n",
       "\n",
       "    .dataframe thead th {\n",
       "        text-align: right;\n",
       "    }\n",
       "</style>\n",
       "<table border=\"1\" class=\"dataframe\">\n",
       "  <thead>\n",
       "    <tr style=\"text-align: right;\">\n",
       "      <th></th>\n",
       "      <th>order_id</th>\n",
       "      <th>store_id</th>\n",
       "      <th>customer_id</th>\n",
       "      <th>coupon_cd</th>\n",
       "      <th>sales_detail_id</th>\n",
       "      <th>order_accept_date</th>\n",
       "      <th>delivered_date</th>\n",
       "      <th>takeout_flag</th>\n",
       "      <th>total_amount</th>\n",
       "      <th>status</th>\n",
       "    </tr>\n",
       "  </thead>\n",
       "  <tbody>\n",
       "    <tr>\n",
       "      <th>0</th>\n",
       "      <td>79339111</td>\n",
       "      <td>49</td>\n",
       "      <td>C26387220</td>\n",
       "      <td>50</td>\n",
       "      <td>67393872</td>\n",
       "      <td>2020-04-01 11:00:00</td>\n",
       "      <td>2020-04-01 11:18:00</td>\n",
       "      <td>1</td>\n",
       "      <td>4144</td>\n",
       "      <td>1</td>\n",
       "    </tr>\n",
       "    <tr>\n",
       "      <th>1</th>\n",
       "      <td>18941733</td>\n",
       "      <td>85</td>\n",
       "      <td>C48773811</td>\n",
       "      <td>26</td>\n",
       "      <td>91834983</td>\n",
       "      <td>2020-04-01 11:00:00</td>\n",
       "      <td>2020-04-01 11:22:00</td>\n",
       "      <td>0</td>\n",
       "      <td>2877</td>\n",
       "      <td>2</td>\n",
       "    </tr>\n",
       "    <tr>\n",
       "      <th>2</th>\n",
       "      <td>56217880</td>\n",
       "      <td>76</td>\n",
       "      <td>C66287421</td>\n",
       "      <td>36</td>\n",
       "      <td>64409634</td>\n",
       "      <td>2020-04-01 11:00:00</td>\n",
       "      <td>2020-04-01 11:15:00</td>\n",
       "      <td>0</td>\n",
       "      <td>2603</td>\n",
       "      <td>2</td>\n",
       "    </tr>\n",
       "    <tr>\n",
       "      <th>3</th>\n",
       "      <td>28447783</td>\n",
       "      <td>190</td>\n",
       "      <td>C41156423</td>\n",
       "      <td>19</td>\n",
       "      <td>73032165</td>\n",
       "      <td>2020-04-01 11:00:00</td>\n",
       "      <td>2020-04-01 11:16:00</td>\n",
       "      <td>0</td>\n",
       "      <td>2732</td>\n",
       "      <td>2</td>\n",
       "    </tr>\n",
       "    <tr>\n",
       "      <th>4</th>\n",
       "      <td>32576156</td>\n",
       "      <td>191</td>\n",
       "      <td>C54568117</td>\n",
       "      <td>71</td>\n",
       "      <td>23281182</td>\n",
       "      <td>2020-04-01 11:00:00</td>\n",
       "      <td>2020-04-01 11:53:00</td>\n",
       "      <td>0</td>\n",
       "      <td>2987</td>\n",
       "      <td>2</td>\n",
       "    </tr>\n",
       "    <tr>\n",
       "      <th>...</th>\n",
       "      <td>...</td>\n",
       "      <td>...</td>\n",
       "      <td>...</td>\n",
       "      <td>...</td>\n",
       "      <td>...</td>\n",
       "      <td>...</td>\n",
       "      <td>...</td>\n",
       "      <td>...</td>\n",
       "      <td>...</td>\n",
       "      <td>...</td>\n",
       "    </tr>\n",
       "    <tr>\n",
       "      <th>707695</th>\n",
       "      <td>90872494</td>\n",
       "      <td>191</td>\n",
       "      <td>C35992970</td>\n",
       "      <td>46</td>\n",
       "      <td>51884378</td>\n",
       "      <td>2020-06-30 21:58:58</td>\n",
       "      <td>2020-06-30 22:43:58</td>\n",
       "      <td>1</td>\n",
       "      <td>2112</td>\n",
       "      <td>1</td>\n",
       "    </tr>\n",
       "    <tr>\n",
       "      <th>707696</th>\n",
       "      <td>30167637</td>\n",
       "      <td>35</td>\n",
       "      <td>C53126526</td>\n",
       "      <td>88</td>\n",
       "      <td>6295273</td>\n",
       "      <td>2020-06-30 21:58:58</td>\n",
       "      <td>2020-06-30 22:36:58</td>\n",
       "      <td>0</td>\n",
       "      <td>4462</td>\n",
       "      <td>2</td>\n",
       "    </tr>\n",
       "    <tr>\n",
       "      <th>707697</th>\n",
       "      <td>85345862</td>\n",
       "      <td>118</td>\n",
       "      <td>C25099070</td>\n",
       "      <td>32</td>\n",
       "      <td>15733308</td>\n",
       "      <td>2020-06-30 21:58:58</td>\n",
       "      <td>2020-06-30 22:42:58</td>\n",
       "      <td>0</td>\n",
       "      <td>3865</td>\n",
       "      <td>2</td>\n",
       "    </tr>\n",
       "    <tr>\n",
       "      <th>707698</th>\n",
       "      <td>73038887</td>\n",
       "      <td>100</td>\n",
       "      <td>C27421314</td>\n",
       "      <td>84</td>\n",
       "      <td>67608099</td>\n",
       "      <td>2020-06-30 21:58:58</td>\n",
       "      <td>2020-06-30 22:21:58</td>\n",
       "      <td>0</td>\n",
       "      <td>3319</td>\n",
       "      <td>2</td>\n",
       "    </tr>\n",
       "    <tr>\n",
       "      <th>707699</th>\n",
       "      <td>14799648</td>\n",
       "      <td>39</td>\n",
       "      <td>C90614204</td>\n",
       "      <td>5</td>\n",
       "      <td>13300147</td>\n",
       "      <td>2020-06-30 21:58:58</td>\n",
       "      <td>2020-06-30 22:38:58</td>\n",
       "      <td>0</td>\n",
       "      <td>2064</td>\n",
       "      <td>2</td>\n",
       "    </tr>\n",
       "  </tbody>\n",
       "</table>\n",
       "<p>707700 rows × 10 columns</p>\n",
       "</div>"
      ],
      "text/plain": [
       "        order_id  store_id customer_id  coupon_cd  sales_detail_id  \\\n",
       "0       79339111        49   C26387220         50         67393872   \n",
       "1       18941733        85   C48773811         26         91834983   \n",
       "2       56217880        76   C66287421         36         64409634   \n",
       "3       28447783       190   C41156423         19         73032165   \n",
       "4       32576156       191   C54568117         71         23281182   \n",
       "...          ...       ...         ...        ...              ...   \n",
       "707695  90872494       191   C35992970         46         51884378   \n",
       "707696  30167637        35   C53126526         88          6295273   \n",
       "707697  85345862       118   C25099070         32         15733308   \n",
       "707698  73038887       100   C27421314         84         67608099   \n",
       "707699  14799648        39   C90614204          5         13300147   \n",
       "\n",
       "          order_accept_date       delivered_date  takeout_flag  total_amount  \\\n",
       "0       2020-04-01 11:00:00  2020-04-01 11:18:00             1          4144   \n",
       "1       2020-04-01 11:00:00  2020-04-01 11:22:00             0          2877   \n",
       "2       2020-04-01 11:00:00  2020-04-01 11:15:00             0          2603   \n",
       "3       2020-04-01 11:00:00  2020-04-01 11:16:00             0          2732   \n",
       "4       2020-04-01 11:00:00  2020-04-01 11:53:00             0          2987   \n",
       "...                     ...                  ...           ...           ...   \n",
       "707695  2020-06-30 21:58:58  2020-06-30 22:43:58             1          2112   \n",
       "707696  2020-06-30 21:58:58  2020-06-30 22:36:58             0          4462   \n",
       "707697  2020-06-30 21:58:58  2020-06-30 22:42:58             0          3865   \n",
       "707698  2020-06-30 21:58:58  2020-06-30 22:21:58             0          3319   \n",
       "707699  2020-06-30 21:58:58  2020-06-30 22:38:58             0          2064   \n",
       "\n",
       "        status  \n",
       "0            1  \n",
       "1            2  \n",
       "2            2  \n",
       "3            2  \n",
       "4            2  \n",
       "...        ...  \n",
       "707695       1  \n",
       "707696       2  \n",
       "707697       2  \n",
       "707698       2  \n",
       "707699       2  \n",
       "\n",
       "[707700 rows x 10 columns]"
      ]
     },
     "execution_count": 5,
     "metadata": {},
     "output_type": "execute_result"
    }
   ],
   "source": [
    "df_all = pd.concat([df_4, df_5, df_6], ignore_index=True)\n",
    "df_all"
   ]
  },
  {
   "cell_type": "code",
   "execution_count": 6,
   "metadata": {},
   "outputs": [
    {
     "data": {
      "text/plain": [
       "True"
      ]
     },
     "execution_count": 6,
     "metadata": {},
     "output_type": "execute_result"
    }
   ],
   "source": [
    "# ユニオン結果の検証\n",
    "len(df_all) == len(df_4) +len(df_5) + len(df_6)"
   ]
  },
  {
   "cell_type": "markdown",
   "metadata": {},
   "source": [
    "### ノック３：フォルダ内のファイル名を一覧化してみよう"
   ]
  },
  {
   "cell_type": "code",
   "execution_count": 7,
   "metadata": {},
   "outputs": [
    {
     "data": {
      "text/plain": [
       "'/Users/t/Documents/JupyterLab/ml_academic/various/offline/books/MLSys_100Knocks/本章/1章'"
      ]
     },
     "execution_count": 7,
     "metadata": {},
     "output_type": "execute_result"
    }
   ],
   "source": [
    "import os\n",
    "\n",
    "# カレントディレクトリを取得\n",
    "current_dir = os.getcwd()\n",
    "current_dir"
   ]
  },
  {
   "cell_type": "code",
   "execution_count": 8,
   "metadata": {},
   "outputs": [
    {
     "data": {
      "text/plain": [
       "['.DS_Store',\n",
       " 'input',\n",
       " '1章_分析に向けた準備を行う10本ノック_answer.ipynb',\n",
       " '.ipynb_checkpoints',\n",
       " '1章_分析に向けた準備を行う10本ノック.ipynb']"
      ]
     },
     "execution_count": 8,
     "metadata": {},
     "output_type": "execute_result"
    }
   ],
   "source": [
    "# ディレクトリ内一覧取得\n",
    "os.listdir(current_dir)"
   ]
  },
  {
   "cell_type": "code",
   "execution_count": 10,
   "metadata": {},
   "outputs": [
    {
     "data": {
      "text/plain": [
       "'/Users/t/Documents/JupyterLab/ml_academic/various/offline/books/MLSys_100Knocks/本章/1章/input/tbl_order_*.csv'"
      ]
     },
     "execution_count": 10,
     "metadata": {},
     "output_type": "execute_result"
    }
   ],
   "source": [
    "# tbl_orderに限って取得用のKey作成\n",
    "tbl_order_file = os.path.join(current_dir, \"input/tbl_order_*.csv\")\n",
    "tbl_order_file"
   ]
  },
  {
   "cell_type": "code",
   "execution_count": 11,
   "metadata": {},
   "outputs": [
    {
     "data": {
      "text/plain": [
       "['/Users/t/Documents/JupyterLab/ml_academic/various/offline/books/MLSys_100Knocks/本章/1章/input/tbl_order_202006.csv',\n",
       " '/Users/t/Documents/JupyterLab/ml_academic/various/offline/books/MLSys_100Knocks/本章/1章/input/tbl_order_202004.csv',\n",
       " '/Users/t/Documents/JupyterLab/ml_academic/various/offline/books/MLSys_100Knocks/本章/1章/input/tbl_order_202005.csv']"
      ]
     },
     "execution_count": 11,
     "metadata": {},
     "output_type": "execute_result"
    }
   ],
   "source": [
    "# Keyを起点にフルパスを取得\n",
    "import glob\n",
    "tbl_order_files = glob.glob(tbl_order_file)\n",
    "tbl_order_files"
   ]
  },
  {
   "cell_type": "markdown",
   "metadata": {},
   "source": [
    "### ノック４：複数データを結合（ユニオン）してみよう"
   ]
  },
  {
   "cell_type": "code",
   "execution_count": 12,
   "metadata": {},
   "outputs": [
    {
     "name": "stdout",
     "output_type": "stream",
     "text": [
      "tbl_order_202006.csv: 233301\n"
     ]
    },
    {
     "data": {
      "text/html": [
       "<div>\n",
       "<style scoped>\n",
       "    .dataframe tbody tr th:only-of-type {\n",
       "        vertical-align: middle;\n",
       "    }\n",
       "\n",
       "    .dataframe tbody tr th {\n",
       "        vertical-align: top;\n",
       "    }\n",
       "\n",
       "    .dataframe thead th {\n",
       "        text-align: right;\n",
       "    }\n",
       "</style>\n",
       "<table border=\"1\" class=\"dataframe\">\n",
       "  <thead>\n",
       "    <tr style=\"text-align: right;\">\n",
       "      <th></th>\n",
       "      <th>order_id</th>\n",
       "      <th>store_id</th>\n",
       "      <th>customer_id</th>\n",
       "      <th>coupon_cd</th>\n",
       "      <th>sales_detail_id</th>\n",
       "      <th>order_accept_date</th>\n",
       "      <th>delivered_date</th>\n",
       "      <th>takeout_flag</th>\n",
       "      <th>total_amount</th>\n",
       "      <th>status</th>\n",
       "    </tr>\n",
       "  </thead>\n",
       "  <tbody>\n",
       "    <tr>\n",
       "      <th>0</th>\n",
       "      <td>16514392</td>\n",
       "      <td>64</td>\n",
       "      <td>C44271355</td>\n",
       "      <td>49</td>\n",
       "      <td>56527968</td>\n",
       "      <td>2020-06-01 11:00:00</td>\n",
       "      <td>2020-06-01 11:55:00</td>\n",
       "      <td>0</td>\n",
       "      <td>2732</td>\n",
       "      <td>2</td>\n",
       "    </tr>\n",
       "    <tr>\n",
       "      <th>1</th>\n",
       "      <td>28342394</td>\n",
       "      <td>12</td>\n",
       "      <td>C98307866</td>\n",
       "      <td>98</td>\n",
       "      <td>46924304</td>\n",
       "      <td>2020-06-01 11:00:00</td>\n",
       "      <td>2020-06-01 11:52:00</td>\n",
       "      <td>0</td>\n",
       "      <td>2064</td>\n",
       "      <td>2</td>\n",
       "    </tr>\n",
       "    <tr>\n",
       "      <th>2</th>\n",
       "      <td>29799587</td>\n",
       "      <td>174</td>\n",
       "      <td>C59484037</td>\n",
       "      <td>45</td>\n",
       "      <td>47054474</td>\n",
       "      <td>2020-06-01 11:00:00</td>\n",
       "      <td>2020-06-01 11:25:00</td>\n",
       "      <td>0</td>\n",
       "      <td>3900</td>\n",
       "      <td>2</td>\n",
       "    </tr>\n",
       "  </tbody>\n",
       "</table>\n",
       "</div>"
      ],
      "text/plain": [
       "   order_id  store_id customer_id  coupon_cd  sales_detail_id  \\\n",
       "0  16514392        64   C44271355         49         56527968   \n",
       "1  28342394        12   C98307866         98         46924304   \n",
       "2  29799587       174   C59484037         45         47054474   \n",
       "\n",
       "     order_accept_date       delivered_date  takeout_flag  total_amount  \\\n",
       "0  2020-06-01 11:00:00  2020-06-01 11:55:00             0          2732   \n",
       "1  2020-06-01 11:00:00  2020-06-01 11:52:00             0          2064   \n",
       "2  2020-06-01 11:00:00  2020-06-01 11:25:00             0          3900   \n",
       "\n",
       "   status  \n",
       "0       2  \n",
       "1       2  \n",
       "2       2  "
      ]
     },
     "execution_count": 12,
     "metadata": {},
     "output_type": "execute_result"
    }
   ],
   "source": [
    "# 先ずは1行から！\n",
    "order_all = pd.DataFrame()\n",
    "\n",
    "file = tbl_order_files[0]\n",
    "file_name = file.split(\"/\")[-1]\n",
    "order_data = pd.read_csv(file)\n",
    "print(f\"{file_name}: {len(order_data)}\")\n",
    "\n",
    "order_all = pd.concat([order_all, order_data], ignore_index=True)\n",
    "order_all.head(3)"
   ]
  },
  {
   "cell_type": "code",
   "execution_count": 13,
   "metadata": {},
   "outputs": [
    {
     "name": "stdout",
     "output_type": "stream",
     "text": [
      "tbl_order_202006.csv: 233301\n",
      "tbl_order_202004.csv: 233260\n",
      "tbl_order_202005.csv: 241139\n"
     ]
    }
   ],
   "source": [
    "# For文で繰返し処理\n",
    "order_all = pd.DataFrame()\n",
    "\n",
    "for file in tbl_order_files:\n",
    "    file_name = file.split(\"/\")[-1]\n",
    "    order_data = pd.read_csv(file)\n",
    "    print(f\"{file_name}: {len(order_data)}\")\n",
    "\n",
    "    order_all = pd.concat([order_all, order_data], ignore_index=True)"
   ]
  },
  {
   "cell_type": "code",
   "execution_count": 14,
   "metadata": {},
   "outputs": [
    {
     "data": {
      "text/html": [
       "<div>\n",
       "<style scoped>\n",
       "    .dataframe tbody tr th:only-of-type {\n",
       "        vertical-align: middle;\n",
       "    }\n",
       "\n",
       "    .dataframe tbody tr th {\n",
       "        vertical-align: top;\n",
       "    }\n",
       "\n",
       "    .dataframe thead th {\n",
       "        text-align: right;\n",
       "    }\n",
       "</style>\n",
       "<table border=\"1\" class=\"dataframe\">\n",
       "  <thead>\n",
       "    <tr style=\"text-align: right;\">\n",
       "      <th></th>\n",
       "      <th>order_id</th>\n",
       "      <th>store_id</th>\n",
       "      <th>customer_id</th>\n",
       "      <th>coupon_cd</th>\n",
       "      <th>sales_detail_id</th>\n",
       "      <th>order_accept_date</th>\n",
       "      <th>delivered_date</th>\n",
       "      <th>takeout_flag</th>\n",
       "      <th>total_amount</th>\n",
       "      <th>status</th>\n",
       "    </tr>\n",
       "  </thead>\n",
       "  <tbody>\n",
       "    <tr>\n",
       "      <th>0</th>\n",
       "      <td>16514392</td>\n",
       "      <td>64</td>\n",
       "      <td>C44271355</td>\n",
       "      <td>49</td>\n",
       "      <td>56527968</td>\n",
       "      <td>2020-06-01 11:00:00</td>\n",
       "      <td>2020-06-01 11:55:00</td>\n",
       "      <td>0</td>\n",
       "      <td>2732</td>\n",
       "      <td>2</td>\n",
       "    </tr>\n",
       "    <tr>\n",
       "      <th>1</th>\n",
       "      <td>28342394</td>\n",
       "      <td>12</td>\n",
       "      <td>C98307866</td>\n",
       "      <td>98</td>\n",
       "      <td>46924304</td>\n",
       "      <td>2020-06-01 11:00:00</td>\n",
       "      <td>2020-06-01 11:52:00</td>\n",
       "      <td>0</td>\n",
       "      <td>2064</td>\n",
       "      <td>2</td>\n",
       "    </tr>\n",
       "    <tr>\n",
       "      <th>2</th>\n",
       "      <td>29799587</td>\n",
       "      <td>174</td>\n",
       "      <td>C59484037</td>\n",
       "      <td>45</td>\n",
       "      <td>47054474</td>\n",
       "      <td>2020-06-01 11:00:00</td>\n",
       "      <td>2020-06-01 11:25:00</td>\n",
       "      <td>0</td>\n",
       "      <td>3900</td>\n",
       "      <td>2</td>\n",
       "    </tr>\n",
       "    <tr>\n",
       "      <th>3</th>\n",
       "      <td>96960753</td>\n",
       "      <td>23</td>\n",
       "      <td>C57278332</td>\n",
       "      <td>70</td>\n",
       "      <td>60848267</td>\n",
       "      <td>2020-06-01 11:00:00</td>\n",
       "      <td>2020-06-01 11:45:00</td>\n",
       "      <td>0</td>\n",
       "      <td>2750</td>\n",
       "      <td>2</td>\n",
       "    </tr>\n",
       "    <tr>\n",
       "      <th>4</th>\n",
       "      <td>52147209</td>\n",
       "      <td>7</td>\n",
       "      <td>C36890849</td>\n",
       "      <td>80</td>\n",
       "      <td>20633593</td>\n",
       "      <td>2020-06-01 11:00:00</td>\n",
       "      <td>2020-06-01 11:23:00</td>\n",
       "      <td>0</td>\n",
       "      <td>2328</td>\n",
       "      <td>2</td>\n",
       "    </tr>\n",
       "    <tr>\n",
       "      <th>...</th>\n",
       "      <td>...</td>\n",
       "      <td>...</td>\n",
       "      <td>...</td>\n",
       "      <td>...</td>\n",
       "      <td>...</td>\n",
       "      <td>...</td>\n",
       "      <td>...</td>\n",
       "      <td>...</td>\n",
       "      <td>...</td>\n",
       "      <td>...</td>\n",
       "    </tr>\n",
       "    <tr>\n",
       "      <th>707695</th>\n",
       "      <td>47039360</td>\n",
       "      <td>154</td>\n",
       "      <td>C39765066</td>\n",
       "      <td>90</td>\n",
       "      <td>27121351</td>\n",
       "      <td>2020-05-31 21:58:58</td>\n",
       "      <td>2020-05-31 22:42:58</td>\n",
       "      <td>1</td>\n",
       "      <td>2363</td>\n",
       "      <td>1</td>\n",
       "    </tr>\n",
       "    <tr>\n",
       "      <th>707696</th>\n",
       "      <td>61054188</td>\n",
       "      <td>94</td>\n",
       "      <td>C19465010</td>\n",
       "      <td>41</td>\n",
       "      <td>61513298</td>\n",
       "      <td>2020-05-31 21:58:58</td>\n",
       "      <td>2020-05-31 22:40:58</td>\n",
       "      <td>0</td>\n",
       "      <td>2112</td>\n",
       "      <td>2</td>\n",
       "    </tr>\n",
       "    <tr>\n",
       "      <th>707697</th>\n",
       "      <td>45288914</td>\n",
       "      <td>11</td>\n",
       "      <td>C23883838</td>\n",
       "      <td>40</td>\n",
       "      <td>65359139</td>\n",
       "      <td>2020-05-31 21:58:58</td>\n",
       "      <td>2020-05-31 22:38:58</td>\n",
       "      <td>0</td>\n",
       "      <td>3838</td>\n",
       "      <td>2</td>\n",
       "    </tr>\n",
       "    <tr>\n",
       "      <th>707698</th>\n",
       "      <td>41608372</td>\n",
       "      <td>149</td>\n",
       "      <td>C48350551</td>\n",
       "      <td>43</td>\n",
       "      <td>42138977</td>\n",
       "      <td>2020-05-31 21:58:58</td>\n",
       "      <td>2020-05-31 22:52:58</td>\n",
       "      <td>0</td>\n",
       "      <td>1899</td>\n",
       "      <td>2</td>\n",
       "    </tr>\n",
       "    <tr>\n",
       "      <th>707699</th>\n",
       "      <td>40316733</td>\n",
       "      <td>169</td>\n",
       "      <td>C49087342</td>\n",
       "      <td>61</td>\n",
       "      <td>59737067</td>\n",
       "      <td>2020-05-31 21:58:58</td>\n",
       "      <td>2020-05-31 22:08:58</td>\n",
       "      <td>0</td>\n",
       "      <td>3901</td>\n",
       "      <td>2</td>\n",
       "    </tr>\n",
       "  </tbody>\n",
       "</table>\n",
       "<p>707700 rows × 10 columns</p>\n",
       "</div>"
      ],
      "text/plain": [
       "        order_id  store_id customer_id  coupon_cd  sales_detail_id  \\\n",
       "0       16514392        64   C44271355         49         56527968   \n",
       "1       28342394        12   C98307866         98         46924304   \n",
       "2       29799587       174   C59484037         45         47054474   \n",
       "3       96960753        23   C57278332         70         60848267   \n",
       "4       52147209         7   C36890849         80         20633593   \n",
       "...          ...       ...         ...        ...              ...   \n",
       "707695  47039360       154   C39765066         90         27121351   \n",
       "707696  61054188        94   C19465010         41         61513298   \n",
       "707697  45288914        11   C23883838         40         65359139   \n",
       "707698  41608372       149   C48350551         43         42138977   \n",
       "707699  40316733       169   C49087342         61         59737067   \n",
       "\n",
       "          order_accept_date       delivered_date  takeout_flag  total_amount  \\\n",
       "0       2020-06-01 11:00:00  2020-06-01 11:55:00             0          2732   \n",
       "1       2020-06-01 11:00:00  2020-06-01 11:52:00             0          2064   \n",
       "2       2020-06-01 11:00:00  2020-06-01 11:25:00             0          3900   \n",
       "3       2020-06-01 11:00:00  2020-06-01 11:45:00             0          2750   \n",
       "4       2020-06-01 11:00:00  2020-06-01 11:23:00             0          2328   \n",
       "...                     ...                  ...           ...           ...   \n",
       "707695  2020-05-31 21:58:58  2020-05-31 22:42:58             1          2363   \n",
       "707696  2020-05-31 21:58:58  2020-05-31 22:40:58             0          2112   \n",
       "707697  2020-05-31 21:58:58  2020-05-31 22:38:58             0          3838   \n",
       "707698  2020-05-31 21:58:58  2020-05-31 22:52:58             0          1899   \n",
       "707699  2020-05-31 21:58:58  2020-05-31 22:08:58             0          3901   \n",
       "\n",
       "        status  \n",
       "0            2  \n",
       "1            2  \n",
       "2            2  \n",
       "3            2  \n",
       "4            2  \n",
       "...        ...  \n",
       "707695       1  \n",
       "707696       2  \n",
       "707697       2  \n",
       "707698       2  \n",
       "707699       2  \n",
       "\n",
       "[707700 rows x 10 columns]"
      ]
     },
     "execution_count": 14,
     "metadata": {},
     "output_type": "execute_result"
    }
   ],
   "source": [
    "order_all"
   ]
  },
  {
   "cell_type": "markdown",
   "metadata": {},
   "source": [
    "### ノック５：データの統計量を確認しよう"
   ]
  },
  {
   "cell_type": "code",
   "execution_count": null,
   "metadata": {},
   "outputs": [],
   "source": []
  },
  {
   "cell_type": "code",
   "execution_count": null,
   "metadata": {},
   "outputs": [],
   "source": []
  },
  {
   "cell_type": "markdown",
   "metadata": {},
   "source": [
    "### ノック６：不要なデータを除外しよう"
   ]
  },
  {
   "cell_type": "code",
   "execution_count": null,
   "metadata": {},
   "outputs": [],
   "source": []
  },
  {
   "cell_type": "code",
   "execution_count": null,
   "metadata": {},
   "outputs": [],
   "source": []
  },
  {
   "cell_type": "markdown",
   "metadata": {},
   "source": [
    "### ノック７：マスタデータを結合（ジョイン）してみよう"
   ]
  },
  {
   "cell_type": "code",
   "execution_count": null,
   "metadata": {},
   "outputs": [],
   "source": []
  },
  {
   "cell_type": "code",
   "execution_count": null,
   "metadata": {},
   "outputs": [],
   "source": []
  },
  {
   "cell_type": "markdown",
   "metadata": {},
   "source": [
    "### ノック８：マスタが存在しないコードに名称を設定しよう"
   ]
  },
  {
   "cell_type": "code",
   "execution_count": null,
   "metadata": {},
   "outputs": [],
   "source": []
  },
  {
   "cell_type": "code",
   "execution_count": null,
   "metadata": {},
   "outputs": [],
   "source": []
  },
  {
   "cell_type": "markdown",
   "metadata": {},
   "source": [
    "### ノック９：分析基礎テーブルを出力してみよう"
   ]
  },
  {
   "cell_type": "code",
   "execution_count": null,
   "metadata": {},
   "outputs": [],
   "source": []
  },
  {
   "cell_type": "code",
   "execution_count": null,
   "metadata": {},
   "outputs": [],
   "source": []
  },
  {
   "cell_type": "markdown",
   "metadata": {},
   "source": [
    "### ノック１０：セルを整理して使いやすくしよう"
   ]
  },
  {
   "cell_type": "code",
   "execution_count": null,
   "metadata": {},
   "outputs": [],
   "source": []
  },
  {
   "cell_type": "code",
   "execution_count": null,
   "metadata": {},
   "outputs": [],
   "source": []
  }
 ],
 "metadata": {
  "kernelspec": {
   "display_name": "Python 3",
   "language": "python",
   "name": "python3"
  },
  "language_info": {
   "codemirror_mode": {
    "name": "ipython",
    "version": 3
   },
   "file_extension": ".py",
   "mimetype": "text/x-python",
   "name": "python",
   "nbconvert_exporter": "python",
   "pygments_lexer": "ipython3",
   "version": "3.8.5"
  }
 },
 "nbformat": 4,
 "nbformat_minor": 4
}
