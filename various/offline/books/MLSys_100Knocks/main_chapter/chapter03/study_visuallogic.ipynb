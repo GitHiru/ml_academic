{
 "cells": [
  {
   "cell_type": "code",
   "execution_count": null,
   "metadata": {},
   "outputs": [],
   "source": [
    "# Google Colaboratoryを使用する場合は、下記のコメントアウトを外し、実行してください"
   ]
  },
  {
   "cell_type": "code",
   "execution_count": null,
   "metadata": {},
   "outputs": [],
   "source": [
    "# # 下記セルを実行すると、authorization codeの入力を求められます。\n",
    "# # 出力されたリンク先をクリックし、Googleアカウントにログインし、\n",
    "# # authorization codeをコピーし、貼り付けをおこなってください。\n",
    "# import os\n",
    "# from google.colab import drive\n",
    "# drive.mount('/content/drive')"
   ]
  },
  {
   "cell_type": "code",
   "execution_count": null,
   "metadata": {},
   "outputs": [],
   "source": [
    "# working_dir = 'MLSys_100Knocks' #　※※自分で作成したフォルダパスが異なる場合こちらを変更してください。※※\n",
    "# path = f'/content/drive/MyDrive/{working_dir}/本章/3章'\n",
    "# os.chdir(path)\n",
    "# ! pip install japanize-matplotlib"
   ]
  },
  {
   "cell_type": "markdown",
   "metadata": {},
   "source": [
    "# ３章　可視化の仕組みを構築する１０本ノック"
   ]
  },
  {
   "cell_type": "code",
   "execution_count": 1,
   "metadata": {},
   "outputs": [],
   "source": [
    "import pandas as pd\n",
    "\n",
    "# master data\n",
    "m_store = pd.read_csv(\"../chapter01/input/m_store.csv\")\n",
    "m_area = pd.read_csv(\"../chapter01/input/m_area.csv\")\n",
    "# transacion data\n",
    "order_data = pd.read_csv(\"../chapter01/input/tbl_order_202004.csv\")"
   ]
  },
  {
   "cell_type": "code",
   "execution_count": 2,
   "metadata": {},
   "outputs": [],
   "source": [
    "order_data = pd.merge(order_data, m_store, on=\"store_id\", how=\"left\")\n",
    "order_data = pd.merge(order_data, m_area, on=\"area_cd\", how=\"left\")"
   ]
  },
  {
   "cell_type": "code",
   "execution_count": 3,
   "metadata": {},
   "outputs": [],
   "source": [
    "order_data.loc[order_data[\"takeout_flag\"] == 0, \"takeout_name\"] = \"delivery\"\n",
    "order_data.loc[order_data[\"takeout_flag\"] == 1, \"takeout_name\"] = \"takeaway\"\n",
    "order_data.loc[order_data[\"status\"] == 0, \"status_name\"] = \"recept\"\n",
    "order_data.loc[order_data[\"status\"] == 1, \"status_name\"] = \"paid\"\n",
    "order_data.loc[order_data[\"status\"] == 2, \"status_name\"] = \"passed\"\n",
    "order_data.loc[order_data[\"status\"] == 9, \"status_name\"] = \"cancel\""
   ]
  },
  {
   "cell_type": "code",
   "execution_count": 4,
   "metadata": {},
   "outputs": [
    {
     "data": {
      "text/html": [
       "<div>\n",
       "<style scoped>\n",
       "    .dataframe tbody tr th:only-of-type {\n",
       "        vertical-align: middle;\n",
       "    }\n",
       "\n",
       "    .dataframe tbody tr th {\n",
       "        vertical-align: top;\n",
       "    }\n",
       "\n",
       "    .dataframe thead th {\n",
       "        text-align: right;\n",
       "    }\n",
       "</style>\n",
       "<table border=\"1\" class=\"dataframe\">\n",
       "  <thead>\n",
       "    <tr style=\"text-align: right;\">\n",
       "      <th></th>\n",
       "      <th>order_id</th>\n",
       "      <th>store_id</th>\n",
       "      <th>customer_id</th>\n",
       "      <th>coupon_cd</th>\n",
       "      <th>sales_detail_id</th>\n",
       "      <th>order_accept_date</th>\n",
       "      <th>delivered_date</th>\n",
       "      <th>takeout_flag</th>\n",
       "      <th>total_amount</th>\n",
       "      <th>status</th>\n",
       "      <th>store_name</th>\n",
       "      <th>area_cd</th>\n",
       "      <th>wide_area</th>\n",
       "      <th>narrow_area</th>\n",
       "      <th>takeout_name</th>\n",
       "      <th>status_name</th>\n",
       "    </tr>\n",
       "  </thead>\n",
       "  <tbody>\n",
       "    <tr>\n",
       "      <th>0</th>\n",
       "      <td>79339111</td>\n",
       "      <td>49</td>\n",
       "      <td>C26387220</td>\n",
       "      <td>50</td>\n",
       "      <td>67393872</td>\n",
       "      <td>2020-04-01 11:00:00</td>\n",
       "      <td>2020-04-01 11:18:00</td>\n",
       "      <td>1</td>\n",
       "      <td>4144</td>\n",
       "      <td>1</td>\n",
       "      <td>浅草店</td>\n",
       "      <td>TK</td>\n",
       "      <td>東京</td>\n",
       "      <td>東京</td>\n",
       "      <td>takeaway</td>\n",
       "      <td>paid</td>\n",
       "    </tr>\n",
       "    <tr>\n",
       "      <th>1</th>\n",
       "      <td>18941733</td>\n",
       "      <td>85</td>\n",
       "      <td>C48773811</td>\n",
       "      <td>26</td>\n",
       "      <td>91834983</td>\n",
       "      <td>2020-04-01 11:00:00</td>\n",
       "      <td>2020-04-01 11:22:00</td>\n",
       "      <td>0</td>\n",
       "      <td>2877</td>\n",
       "      <td>2</td>\n",
       "      <td>目黒店</td>\n",
       "      <td>TK</td>\n",
       "      <td>東京</td>\n",
       "      <td>東京</td>\n",
       "      <td>delivery</td>\n",
       "      <td>passed</td>\n",
       "    </tr>\n",
       "    <tr>\n",
       "      <th>2</th>\n",
       "      <td>56217880</td>\n",
       "      <td>76</td>\n",
       "      <td>C66287421</td>\n",
       "      <td>36</td>\n",
       "      <td>64409634</td>\n",
       "      <td>2020-04-01 11:00:00</td>\n",
       "      <td>2020-04-01 11:15:00</td>\n",
       "      <td>0</td>\n",
       "      <td>2603</td>\n",
       "      <td>2</td>\n",
       "      <td>本郷店</td>\n",
       "      <td>TK</td>\n",
       "      <td>東京</td>\n",
       "      <td>東京</td>\n",
       "      <td>delivery</td>\n",
       "      <td>passed</td>\n",
       "    </tr>\n",
       "    <tr>\n",
       "      <th>3</th>\n",
       "      <td>28447783</td>\n",
       "      <td>190</td>\n",
       "      <td>C41156423</td>\n",
       "      <td>19</td>\n",
       "      <td>73032165</td>\n",
       "      <td>2020-04-01 11:00:00</td>\n",
       "      <td>2020-04-01 11:16:00</td>\n",
       "      <td>0</td>\n",
       "      <td>2732</td>\n",
       "      <td>2</td>\n",
       "      <td>栃木店</td>\n",
       "      <td>TO</td>\n",
       "      <td>北関東</td>\n",
       "      <td>栃木</td>\n",
       "      <td>delivery</td>\n",
       "      <td>passed</td>\n",
       "    </tr>\n",
       "    <tr>\n",
       "      <th>4</th>\n",
       "      <td>32576156</td>\n",
       "      <td>191</td>\n",
       "      <td>C54568117</td>\n",
       "      <td>71</td>\n",
       "      <td>23281182</td>\n",
       "      <td>2020-04-01 11:00:00</td>\n",
       "      <td>2020-04-01 11:53:00</td>\n",
       "      <td>0</td>\n",
       "      <td>2987</td>\n",
       "      <td>2</td>\n",
       "      <td>伊勢崎店</td>\n",
       "      <td>GU</td>\n",
       "      <td>北関東</td>\n",
       "      <td>群馬</td>\n",
       "      <td>delivery</td>\n",
       "      <td>passed</td>\n",
       "    </tr>\n",
       "  </tbody>\n",
       "</table>\n",
       "</div>"
      ],
      "text/plain": [
       "   order_id  store_id customer_id  coupon_cd  sales_detail_id  \\\n",
       "0  79339111        49   C26387220         50         67393872   \n",
       "1  18941733        85   C48773811         26         91834983   \n",
       "2  56217880        76   C66287421         36         64409634   \n",
       "3  28447783       190   C41156423         19         73032165   \n",
       "4  32576156       191   C54568117         71         23281182   \n",
       "\n",
       "     order_accept_date       delivered_date  takeout_flag  total_amount  \\\n",
       "0  2020-04-01 11:00:00  2020-04-01 11:18:00             1          4144   \n",
       "1  2020-04-01 11:00:00  2020-04-01 11:22:00             0          2877   \n",
       "2  2020-04-01 11:00:00  2020-04-01 11:15:00             0          2603   \n",
       "3  2020-04-01 11:00:00  2020-04-01 11:16:00             0          2732   \n",
       "4  2020-04-01 11:00:00  2020-04-01 11:53:00             0          2987   \n",
       "\n",
       "   status store_name area_cd wide_area narrow_area takeout_name status_name  \n",
       "0       1        浅草店      TK        東京          東京     takeaway        paid  \n",
       "1       2        目黒店      TK        東京          東京     delivery      passed  \n",
       "2       2        本郷店      TK        東京          東京     delivery      passed  \n",
       "3       2        栃木店      TO       北関東          栃木     delivery      passed  \n",
       "4       2       伊勢崎店      GU       北関東          群馬     delivery      passed  "
      ]
     },
     "execution_count": 4,
     "metadata": {},
     "output_type": "execute_result"
    }
   ],
   "source": [
    "order_data.head()"
   ]
  },
  {
   "cell_type": "markdown",
   "metadata": {},
   "source": [
    "### ノック２１：店舗を絞り込んで可視化できるようにしてみよう\n",
    "\n",
    "> `cf.`\n",
    ">\n",
    "> + []()\n",
    "\n",
    "`observe()`"
   ]
  },
  {
   "cell_type": "code",
   "execution_count": 5,
   "metadata": {},
   "outputs": [
    {
     "data": {
      "application/vnd.jupyter.widget-view+json": {
       "model_id": "4f648e7036cf4498bf6cb4d68ac5cdbb",
       "version_major": 2,
       "version_minor": 0
      },
      "text/plain": [
       "Dropdown(options=('昭島店', 'あきる野店', '足立店', '北千住店', '綾瀬店', '荒川店', '東尾久店', '板橋店', '高島平店', '稲城店', '江戸川店', '西葛西店', '…"
      ]
     },
     "metadata": {},
     "output_type": "display_data"
    }
   ],
   "source": [
    "from IPython.display import display, clear_output\n",
    "from ipywidgets import Dropdown\n",
    "\n",
    "\n",
    "def order_by_store(val):\n",
    "    '''\n",
    "    この関数の処理はまず、\n",
    "    　1. 結果エリアのクリア\n",
    "       2. ドロップダウンの再描画\n",
    "       3. 選択された店舗名に該当する注文データを抽出\n",
    "       （ステータスコードが「paid(1)、passed(2)」を条件に付与。∵実際に売上として計上してよいデータに限定するため）\n",
    "       4. 画面上に表示\n",
    "    '''\n",
    "    clear_output()\n",
    "    display(dropdown)\n",
    "    pick_data = order_data.loc[(order_data[\"store_name\"] == val[\"new\"]) & (order_data[\"status\"].isin([1, 2]))]\n",
    "    display(pick_data.head())\n",
    "\n",
    "    \n",
    "store_list = m_store[\"store_name\"].tolist()\n",
    "dropdown = Dropdown(options=store_list) #ドロップダウンオブジェクト生成\n",
    "dropdown.observe(order_by_store, names=\"value\") #ドロップダウンオブジェクト生成変化を検知したら関数実行\n",
    "display(dropdown)"
   ]
  },
  {
   "cell_type": "code",
   "execution_count": 6,
   "metadata": {},
   "outputs": [
    {
     "data": {
      "application/vnd.jupyter.widget-view+json": {
       "model_id": "6763d1b3ff464364b77427c42113636c",
       "version_major": 2,
       "version_minor": 0
      },
      "text/plain": [
       "Dropdown(options=('昭島店', 'あきる野店', '足立店', '北千住店', '綾瀬店', '荒川店', '東尾久店', '板橋店', '高島平店', '稲城店', '江戸川店', '西葛西店', '…"
      ]
     },
     "metadata": {},
     "output_type": "display_data"
    }
   ],
   "source": [
    "%matplotlib inline\n",
    "import matplotlib.pyplot as plt\n",
    "import japanize_matplotlib\n",
    "\n",
    "\n",
    "def graph_by_store(val):\n",
    "    '''\n",
    "    この関数の処理はまず、\n",
    "    　1~3. order_by_storeと同様\n",
    "       4. 描画用に一時的なデータフレームをコピー\n",
    "       5. 日付型に再定義（object型→datetime型）\n",
    "       6. 日付型のカラムをインデックス化（∵日時等でリサンプリング(再集計)を行うため）\n",
    "       7. 「D」日を意味し、日単位でリサンプリングを行った結果を描画\n",
    "    '''\n",
    "    clear_output()\n",
    "    display(dropdown2)\n",
    "    pick_data = order_data.loc[(order_data[\"store_name\"] == val[\"new\"]) & (order_data[\"status\"].isin([1, 2]))]\n",
    "    temp = pick_data[[\"order_accept_date\", \"total_amount\"]].copy()\n",
    "    temp.loc[:, \"order_accept_date\"] = pd.to_datetime(temp[\"order_accept_date\"])\n",
    "    temp.set_index(\"order_accept_date\", inplace=True)\n",
    "    temp.resample(\"D\").sum().plot()\n",
    "\n",
    "    \n",
    "dropdown2 = Dropdown(options=store_list)\n",
    "dropdown2.observe(graph_by_store, names=\"value\")\n",
    "display(dropdown2)"
   ]
  },
  {
   "cell_type": "markdown",
   "metadata": {},
   "source": [
    "##### - reverse engineering"
   ]
  },
  {
   "cell_type": "code",
   "execution_count": null,
   "metadata": {},
   "outputs": [],
   "source": [
    "pick_data = order_data.loc[(order_data[\"store_name\"] == \"あきる野店\") & (order_data[\"status\"].isin([1, 2]))] \n",
    "pick_data.head()"
   ]
  },
  {
   "cell_type": "code",
   "execution_count": null,
   "metadata": {},
   "outputs": [],
   "source": [
    "temp = pick_data[[\"order_accept_date\", \"total_amount\"]].copy()\n",
    "temp.iloc[:, 0]= pd.to_datetime(temp[\"order_accept_date\"])\n",
    "temp.dtypes"
   ]
  },
  {
   "cell_type": "code",
   "execution_count": null,
   "metadata": {},
   "outputs": [],
   "source": [
    "temp.set_index(\"order_accept_date\").head()"
   ]
  },
  {
   "cell_type": "markdown",
   "metadata": {},
   "source": [
    "### ノック２２：複数店舗の詳細を可視化できるようにしてみよう"
   ]
  },
  {
   "cell_type": "code",
   "execution_count": 12,
   "metadata": {},
   "outputs": [
    {
     "data": {
      "application/vnd.jupyter.widget-view+json": {
       "model_id": "316306f200f64922979abfd59aa4a349",
       "version_major": 2,
       "version_minor": 0
      },
      "text/plain": [
       "SelectMultiple(options=('昭島店', 'あきる野店', '足立店', '北千住店', '綾瀬店', '荒川店', '東尾久店', '板橋店', '高島平店', '稲城店', '江戸川店', '西葛…"
      ]
     },
     "metadata": {},
     "output_type": "display_data"
    }
   ],
   "source": [
    "from ipywidgets import SelectMultiple\n",
    "\n",
    "def order_by_multi(val):\n",
    "    '''\n",
    "    この関数の処理\n",
    "    1. 結果エリアのクリア\n",
    "    2. セレクトエリアの再描画\n",
    "    3. .isin(val[\"new\"])関数を用いて、選択された複数を取得\n",
    "    4. 画面上に表示\n",
    "    '''\n",
    "    clear_output()\n",
    "    display(select)\n",
    "    pick_data = order_data.loc[(order_data[\"store_name\"].isin(val[\"new\"])) & (order_data[\"status\"].isin([1, 2]))]\n",
    "    display(pick_data.head())\n",
    "\n",
    "    \n",
    "# 複数の店舗を選ぶときは、ShiftキーやCt rlキーを押しながらクリック\n",
    "select = SelectMultiple(options=store_list) #マルチセレクトオブジェクト生成\n",
    "select.observe(order_by_multi, names=\"value\")\n",
    "display(select)"
   ]
  },
  {
   "cell_type": "code",
   "execution_count": 13,
   "metadata": {},
   "outputs": [
    {
     "data": {
      "application/vnd.jupyter.widget-view+json": {
       "model_id": "bec2ebd7ac7c439aadadd10709b0b347",
       "version_major": 2,
       "version_minor": 0
      },
      "text/plain": [
       "SelectMultiple(options=('昭島店', 'あきる野店', '足立店', '北千住店', '綾瀬店', '荒川店', '東尾久店', '板橋店', '高島平店', '稲城店', '江戸川店', '西葛…"
      ]
     },
     "metadata": {},
     "output_type": "display_data"
    }
   ],
   "source": [
    "def graph_by_multi(val):\n",
    "    clear_output()\n",
    "    display(select2)\n",
    "    fig = plt.figure(figsize=(17, 4))\n",
    "    plt.subplots_adjust(wspace=0.25, hspace=0.6)\n",
    "    \n",
    "    i = 0\n",
    "    \n",
    "    for trg in val[\"new\"]:\n",
    "        pick_data = order_data.loc[(order_data[\"store_name\"] == trg)&(order_data[\"status\"].isin([1, 2]))]\n",
    "        temp = order_data[[\"order_accept_date\", \"total_amount\", \"store_name\"]].copy()\n",
    "        temp.loc[:, \"order_accept_date\"] = pd.to_datetime(temp[\"order_accept_date\"])\n",
    "        temp.set_index(\"order_accept_date\", inplace=True)\n",
    "        i += 1\n",
    "        ax = fig.add_subplot(1, len(val[\"new\"]), i)\n",
    "        ax.plot(temp.resample(\"D\").sum())\n",
    "        ax.set_title(trg)\n",
    "        \n",
    "\n",
    "select2 = SelectMultiple(options=store_list)\n",
    "select2.observe(graph_by_multi, names=\"value\")\n",
    "display(select2)"
   ]
  },
  {
   "cell_type": "markdown",
   "metadata": {},
   "source": [
    "### ノック２３：スライドバーを用いてオーダー件数を調べてみよう"
   ]
  },
  {
   "cell_type": "code",
   "execution_count": null,
   "metadata": {},
   "outputs": [],
   "source": []
  },
  {
   "cell_type": "code",
   "execution_count": null,
   "metadata": {},
   "outputs": [],
   "source": []
  },
  {
   "cell_type": "markdown",
   "metadata": {},
   "source": [
    "### ノック２４：トグルボタンで地域データを抽出しよう"
   ]
  },
  {
   "cell_type": "code",
   "execution_count": null,
   "metadata": {},
   "outputs": [],
   "source": []
  },
  {
   "cell_type": "code",
   "execution_count": null,
   "metadata": {},
   "outputs": [],
   "source": []
  },
  {
   "cell_type": "markdown",
   "metadata": {},
   "source": [
    "### ノック２５：日付を指定してデータを抽出してみよう"
   ]
  },
  {
   "cell_type": "code",
   "execution_count": null,
   "metadata": {},
   "outputs": [],
   "source": []
  },
  {
   "cell_type": "code",
   "execution_count": null,
   "metadata": {},
   "outputs": [],
   "source": []
  },
  {
   "cell_type": "markdown",
   "metadata": {},
   "source": [
    "### ノック２６：ストーリーを考えてデータを構築しよう"
   ]
  },
  {
   "cell_type": "code",
   "execution_count": null,
   "metadata": {},
   "outputs": [],
   "source": []
  },
  {
   "cell_type": "code",
   "execution_count": null,
   "metadata": {},
   "outputs": [],
   "source": []
  },
  {
   "cell_type": "markdown",
   "metadata": {},
   "source": [
    "### ノック２７：キャンセルの理由を分析してみよう"
   ]
  },
  {
   "cell_type": "code",
   "execution_count": null,
   "metadata": {},
   "outputs": [],
   "source": []
  },
  {
   "cell_type": "code",
   "execution_count": null,
   "metadata": {},
   "outputs": [],
   "source": []
  },
  {
   "cell_type": "markdown",
   "metadata": {},
   "source": [
    "### ノック２８：仮説を検証してみよう"
   ]
  },
  {
   "cell_type": "code",
   "execution_count": null,
   "metadata": {},
   "outputs": [],
   "source": []
  },
  {
   "cell_type": "code",
   "execution_count": null,
   "metadata": {},
   "outputs": [],
   "source": []
  },
  {
   "cell_type": "markdown",
   "metadata": {},
   "source": [
    "### ノック２９：ストーリーをもとにパーツやデータを組み合わせてダッシュボードを作ろう"
   ]
  },
  {
   "cell_type": "code",
   "execution_count": null,
   "metadata": {},
   "outputs": [],
   "source": []
  },
  {
   "cell_type": "code",
   "execution_count": null,
   "metadata": {},
   "outputs": [],
   "source": []
  },
  {
   "cell_type": "markdown",
   "metadata": {},
   "source": [
    "### ノック３０：ダッシュボードを改善しよう"
   ]
  },
  {
   "cell_type": "code",
   "execution_count": null,
   "metadata": {},
   "outputs": [],
   "source": []
  },
  {
   "cell_type": "code",
   "execution_count": null,
   "metadata": {},
   "outputs": [],
   "source": []
  }
 ],
 "metadata": {
  "kernelspec": {
   "display_name": "Python 3",
   "language": "python",
   "name": "python3"
  },
  "language_info": {
   "codemirror_mode": {
    "name": "ipython",
    "version": 3
   },
   "file_extension": ".py",
   "mimetype": "text/x-python",
   "name": "python",
   "nbconvert_exporter": "python",
   "pygments_lexer": "ipython3",
   "version": "3.8.5"
  }
 },
 "nbformat": 4,
 "nbformat_minor": 4
}
