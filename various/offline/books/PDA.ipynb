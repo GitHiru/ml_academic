{
 "cells": [
  {
   "cell_type": "code",
   "execution_count": 1,
   "metadata": {},
   "outputs": [],
   "source": [
    "import numpy as np"
   ]
  },
  {
   "cell_type": "code",
   "execution_count": 2,
   "metadata": {},
   "outputs": [
    {
     "data": {
      "text/plain": [
       "'/Users/t/.pyenv/versions/3.8.5/lib/python3.8/site-packages/numpy/__init__.py'"
      ]
     },
     "execution_count": 2,
     "metadata": {},
     "output_type": "execute_result"
    }
   ],
   "source": [
    "np.__file__"
   ]
  },
  {
   "cell_type": "code",
   "execution_count": 3,
   "metadata": {},
   "outputs": [
    {
     "data": {
      "text/plain": [
       "<module 'numpy.version' from '/Users/t/.pyenv/versions/3.8.5/lib/python3.8/site-packages/numpy/version.py'>"
      ]
     },
     "execution_count": 3,
     "metadata": {},
     "output_type": "execute_result"
    }
   ],
   "source": [
    "np.version"
   ]
  },
  {
   "cell_type": "code",
   "execution_count": 4,
   "metadata": {},
   "outputs": [
    {
     "data": {
      "text/plain": [
       "'1.19.4'"
      ]
     },
     "execution_count": 4,
     "metadata": {},
     "output_type": "execute_result"
    }
   ],
   "source": [
    "np.version.full_version"
   ]
  },
  {
   "cell_type": "markdown",
   "metadata": {},
   "source": [
    "#### 一次元配列"
   ]
  },
  {
   "cell_type": "code",
   "execution_count": 5,
   "metadata": {},
   "outputs": [
    {
     "data": {
      "text/plain": [
       "array([1, 2, 3])"
      ]
     },
     "execution_count": 5,
     "metadata": {},
     "output_type": "execute_result"
    }
   ],
   "source": [
    "a = np.array([1, 2, 3])\n",
    "a"
   ]
  },
  {
   "cell_type": "code",
   "execution_count": 6,
   "metadata": {},
   "outputs": [
    {
     "name": "stdout",
     "output_type": "stream",
     "text": [
      "[1 2 3]\n"
     ]
    }
   ],
   "source": [
    "print(a)"
   ]
  },
  {
   "cell_type": "code",
   "execution_count": 7,
   "metadata": {},
   "outputs": [
    {
     "data": {
      "text/plain": [
       "numpy.ndarray"
      ]
     },
     "execution_count": 7,
     "metadata": {},
     "output_type": "execute_result"
    }
   ],
   "source": [
    "type(a)"
   ]
  },
  {
   "cell_type": "code",
   "execution_count": null,
   "metadata": {},
   "outputs": [],
   "source": [
    "a.shape #１次元配列３要素"
   ]
  },
  {
   "cell_type": "markdown",
   "metadata": {},
   "source": [
    "#### 二次元配列"
   ]
  },
  {
   "cell_type": "code",
   "execution_count": 8,
   "metadata": {},
   "outputs": [
    {
     "data": {
      "text/plain": [
       "array([[1, 2, 3],\n",
       "       [4, 5, 6]])"
      ]
     },
     "execution_count": 8,
     "metadata": {},
     "output_type": "execute_result"
    }
   ],
   "source": [
    "b = np.array([ [1, 2, 3], [4, 5, 6] ])\n",
    "b"
   ]
  },
  {
   "cell_type": "code",
   "execution_count": 9,
   "metadata": {},
   "outputs": [
    {
     "data": {
      "text/plain": [
       "(2, 3)"
      ]
     },
     "execution_count": 9,
     "metadata": {},
     "output_type": "execute_result"
    }
   ],
   "source": [
    "b.shape # ２次元配列３要素"
   ]
  },
  {
   "cell_type": "markdown",
   "metadata": {},
   "source": [
    "#### 変形"
   ]
  },
  {
   "cell_type": "code",
   "execution_count": 11,
   "metadata": {},
   "outputs": [],
   "source": [
    "c = np.array([1, 2, 3, 4, 5, 6]) #1d"
   ]
  },
  {
   "cell_type": "code",
   "execution_count": 12,
   "metadata": {},
   "outputs": [
    {
     "data": {
      "text/plain": [
       "(6,)"
      ]
     },
     "execution_count": 12,
     "metadata": {},
     "output_type": "execute_result"
    }
   ],
   "source": [
    "c.shape"
   ]
  },
  {
   "cell_type": "code",
   "execution_count": 13,
   "metadata": {},
   "outputs": [
    {
     "data": {
      "text/plain": [
       "array([[1, 2, 3],\n",
       "       [4, 5, 6]])"
      ]
     },
     "execution_count": 13,
     "metadata": {},
     "output_type": "execute_result"
    }
   ],
   "source": [
    "c.reshape(2, 3) # 2d"
   ]
  },
  {
   "cell_type": "code",
   "execution_count": 14,
   "metadata": {},
   "outputs": [
    {
     "data": {
      "text/plain": [
       "array([1, 2, 3, 4, 5, 6])"
      ]
     },
     "execution_count": 14,
     "metadata": {},
     "output_type": "execute_result"
    }
   ],
   "source": [
    "c "
   ]
  },
  {
   "cell_type": "code",
   "execution_count": 15,
   "metadata": {},
   "outputs": [
    {
     "data": {
      "text/plain": [
       "array([[1, 2, 3],\n",
       "       [4, 5, 6]])"
      ]
     },
     "execution_count": 15,
     "metadata": {},
     "output_type": "execute_result"
    }
   ],
   "source": [
    "c1 = c.reshape(2, 3) #2d更新\n",
    "c1"
   ]
  },
  {
   "cell_type": "code",
   "execution_count": 16,
   "metadata": {},
   "outputs": [
    {
     "data": {
      "text/plain": [
       "array([1, 2, 3, 4, 5, 6])"
      ]
     },
     "execution_count": 16,
     "metadata": {},
     "output_type": "execute_result"
    }
   ],
   "source": [
    "c2 = c1.ravel() # 1d更新（参照渡し）\n",
    "c2"
   ]
  },
  {
   "cell_type": "code",
   "execution_count": 17,
   "metadata": {},
   "outputs": [
    {
     "data": {
      "text/plain": [
       "array([1, 2, 3, 4, 5, 6])"
      ]
     },
     "execution_count": 17,
     "metadata": {},
     "output_type": "execute_result"
    }
   ],
   "source": [
    "c3 = c1.flatten() #1d更新（コピーを返す）\n",
    "c3"
   ]
  },
  {
   "cell_type": "code",
   "execution_count": 20,
   "metadata": {},
   "outputs": [
    {
     "name": "stdout",
     "output_type": "stream",
     "text": [
      "c1: id4391424128 val\n",
      "[[1 2 3]\n",
      " [4 5 6]]\n",
      "c2: id4342961456 val[1 2 3 4 5 6]\n",
      "c3: id4391316176 val[1 2 3 4 5 6]\n"
     ]
    }
   ],
   "source": [
    "print(\"c1: id{} val\\n{}\\nc2: id{} val{}\\nc3: id{} val{}\".format(id(c1), c1,  id(c2), c2, id(c3), c3))"
   ]
  },
  {
   "cell_type": "code",
   "execution_count": 21,
   "metadata": {},
   "outputs": [
    {
     "data": {
      "text/plain": [
       "dtype('int64')"
      ]
     },
     "execution_count": 21,
     "metadata": {},
     "output_type": "execute_result"
    }
   ],
   "source": [
    "a.dtype"
   ]
  },
  {
   "cell_type": "code",
   "execution_count": 22,
   "metadata": {},
   "outputs": [
    {
     "data": {
      "text/plain": [
       "dtype('int64')"
      ]
     },
     "execution_count": 22,
     "metadata": {},
     "output_type": "execute_result"
    }
   ],
   "source": [
    "c.dtype"
   ]
  },
  {
   "cell_type": "markdown",
   "metadata": {},
   "source": [
    "参照渡し"
   ]
  },
  {
   "cell_type": "code",
   "execution_count": 23,
   "metadata": {},
   "outputs": [
    {
     "data": {
      "text/plain": [
       "array([1, 2, 3])"
      ]
     },
     "execution_count": 23,
     "metadata": {},
     "output_type": "execute_result"
    }
   ],
   "source": [
    "a"
   ]
  },
  {
   "cell_type": "code",
   "execution_count": 25,
   "metadata": {},
   "outputs": [
    {
     "data": {
      "text/plain": [
       "array([1, 5, 3])"
      ]
     },
     "execution_count": 25,
     "metadata": {},
     "output_type": "execute_result"
    }
   ],
   "source": [
    "a1 = a #a1に上書き（a1はaを参照している）\n",
    "a1[1] = 5 # a1変更\n",
    "a1"
   ]
  },
  {
   "cell_type": "code",
   "execution_count": 26,
   "metadata": {},
   "outputs": [
    {
     "data": {
      "text/plain": [
       "array([1, 5, 3])"
      ]
     },
     "execution_count": 26,
     "metadata": {},
     "output_type": "execute_result"
    }
   ],
   "source": [
    "a"
   ]
  },
  {
   "cell_type": "markdown",
   "metadata": {},
   "source": [
    "値渡し"
   ]
  },
  {
   "cell_type": "code",
   "execution_count": 28,
   "metadata": {},
   "outputs": [
    {
     "data": {
      "text/plain": [
       "array([7, 5, 3])"
      ]
     },
     "execution_count": 28,
     "metadata": {},
     "output_type": "execute_result"
    }
   ],
   "source": [
    "a2 = a.copy()\n",
    "a2[0] = 7\n",
    "a2"
   ]
  },
  {
   "cell_type": "code",
   "execution_count": 29,
   "metadata": {},
   "outputs": [
    {
     "data": {
      "text/plain": [
       "array([1, 5, 3])"
      ]
     },
     "execution_count": 29,
     "metadata": {},
     "output_type": "execute_result"
    }
   ],
   "source": [
    "a"
   ]
  },
  {
   "cell_type": "code",
   "execution_count": 30,
   "metadata": {},
   "outputs": [
    {
     "name": "stdout",
     "output_type": "stream",
     "text": [
      "[0, 1]\n",
      "[2, 1]\n"
     ]
    }
   ],
   "source": [
    "py_list1 = [0, 1] # Python list\n",
    "py_list2 = py_list1[:]\n",
    "py_list2[0] = 2\n",
    "print(py_list1)\n",
    "print(py_list2)"
   ]
  },
  {
   "cell_type": "code",
   "execution_count": 32,
   "metadata": {},
   "outputs": [
    {
     "name": "stdout",
     "output_type": "stream",
     "text": [
      "[2 1]\n",
      "[2 1]\n"
     ]
    }
   ],
   "source": [
    "np_array1 = np.array([0, 1]) # NumPy array\n",
    "np_array2 = np_array1[:]\n",
    "np_array2[0] = 2\n",
    "print(np_array1)\n",
    "print(np_array2)"
   ]
  },
  {
   "cell_type": "code",
   "execution_count": 2,
   "metadata": {},
   "outputs": [
    {
     "data": {
      "text/plain": [
       "array([0., 0., 0.])"
      ]
     },
     "execution_count": 2,
     "metadata": {},
     "output_type": "execute_result"
    }
   ],
   "source": [
    "import numpy as np\n",
    "np.zeros(3)"
   ]
  },
  {
   "cell_type": "code",
   "execution_count": 4,
   "metadata": {},
   "outputs": [
    {
     "data": {
      "text/plain": [
       "array([[0., 0., 0.],\n",
       "       [0., 0., 0.]])"
      ]
     },
     "execution_count": 4,
     "metadata": {},
     "output_type": "execute_result"
    }
   ],
   "source": [
    "np.zeros((2, 3))"
   ]
  },
  {
   "cell_type": "code",
   "execution_count": 6,
   "metadata": {},
   "outputs": [
    {
     "data": {
      "text/plain": [
       "array([1., 1.])"
      ]
     },
     "execution_count": 6,
     "metadata": {},
     "output_type": "execute_result"
    }
   ],
   "source": [
    "np.ones(2)"
   ]
  },
  {
   "cell_type": "code",
   "execution_count": 7,
   "metadata": {},
   "outputs": [
    {
     "data": {
      "text/plain": [
       "array([[1., 1., 1., 1.],\n",
       "       [1., 1., 1., 1.],\n",
       "       [1., 1., 1., 1.]])"
      ]
     },
     "execution_count": 7,
     "metadata": {},
     "output_type": "execute_result"
    }
   ],
   "source": [
    "np.ones((3, 4))"
   ]
  },
  {
   "cell_type": "code",
   "execution_count": 8,
   "metadata": {},
   "outputs": [
    {
     "data": {
      "text/plain": [
       "array([[1., 0., 0.],\n",
       "       [0., 1., 0.],\n",
       "       [0., 0., 1.]])"
      ]
     },
     "execution_count": 8,
     "metadata": {},
     "output_type": "execute_result"
    }
   ],
   "source": [
    "np.eye(3)"
   ]
  },
  {
   "cell_type": "code",
   "execution_count": 9,
   "metadata": {},
   "outputs": [
    {
     "data": {
      "text/plain": [
       "array([3.14, 3.14, 3.14])"
      ]
     },
     "execution_count": 9,
     "metadata": {},
     "output_type": "execute_result"
    }
   ],
   "source": [
    "np.full(3, 3.14)"
   ]
  },
  {
   "cell_type": "code",
   "execution_count": 10,
   "metadata": {},
   "outputs": [
    {
     "data": {
      "text/plain": [
       "array([[3.14159265, 3.14159265],\n",
       "       [3.14159265, 3.14159265],\n",
       "       [3.14159265, 3.14159265]])"
      ]
     },
     "execution_count": 10,
     "metadata": {},
     "output_type": "execute_result"
    }
   ],
   "source": [
    "np.full((3, 2), np.pi)"
   ]
  },
  {
   "cell_type": "code",
   "execution_count": 11,
   "metadata": {},
   "outputs": [
    {
     "data": {
      "text/plain": [
       "array([[2.71828183, 2.71828183],\n",
       "       [2.71828183, 2.71828183],\n",
       "       [2.71828183, 2.71828183]])"
      ]
     },
     "execution_count": 11,
     "metadata": {},
     "output_type": "execute_result"
    }
   ],
   "source": [
    "np.full((3, 2), np.e)"
   ]
  },
  {
   "cell_type": "code",
   "execution_count": 12,
   "metadata": {},
   "outputs": [
    {
     "data": {
      "text/plain": [
       "nan"
      ]
     },
     "execution_count": 12,
     "metadata": {},
     "output_type": "execute_result"
    }
   ],
   "source": [
    "np.nan"
   ]
  },
  {
   "cell_type": "code",
   "execution_count": 13,
   "metadata": {},
   "outputs": [
    {
     "data": {
      "text/plain": [
       "array([ 1.,  2., nan])"
      ]
     },
     "execution_count": 13,
     "metadata": {},
     "output_type": "execute_result"
    }
   ],
   "source": [
    "np.array([1, 2, np.nan])"
   ]
  },
  {
   "cell_type": "code",
   "execution_count": 14,
   "metadata": {},
   "outputs": [
    {
     "data": {
      "text/plain": [
       "array([0.  , 0.25, 0.5 , 0.75, 1.  ])"
      ]
     },
     "execution_count": 14,
     "metadata": {},
     "output_type": "execute_result"
    }
   ],
   "source": [
    "np.linspace(0, 1, 5)"
   ]
  },
  {
   "cell_type": "code",
   "execution_count": 15,
   "metadata": {},
   "outputs": [
    {
     "data": {
      "text/plain": [
       "array([0.        , 0.15707963, 0.31415927, 0.4712389 , 0.62831853,\n",
       "       0.78539816, 0.9424778 , 1.09955743, 1.25663706, 1.41371669,\n",
       "       1.57079633, 1.72787596, 1.88495559, 2.04203522, 2.19911486,\n",
       "       2.35619449, 2.51327412, 2.67035376, 2.82743339, 2.98451302,\n",
       "       3.14159265])"
      ]
     },
     "execution_count": 15,
     "metadata": {},
     "output_type": "execute_result"
    }
   ],
   "source": [
    "np.linspace(0, np.pi, 21)"
   ]
  },
  {
   "cell_type": "code",
   "execution_count": 18,
   "metadata": {},
   "outputs": [
    {
     "data": {
      "text/plain": [
       "array([ 1,  5, -2,  1,  2])"
      ]
     },
     "execution_count": 18,
     "metadata": {},
     "output_type": "execute_result"
    }
   ],
   "source": [
    "l = np.array([2, 3, 8, 6, 7, 9])\n",
    "l_diff = np.diff(l)\n",
    "l_diff"
   ]
  },
  {
   "cell_type": "code",
   "execution_count": 24,
   "metadata": {},
   "outputs": [
    {
     "data": {
      "text/plain": [
       "array([ 1,  5, -2,  1,  0])"
      ]
     },
     "execution_count": 24,
     "metadata": {},
     "output_type": "execute_result"
    }
   ],
   "source": [
    "l_diff[-1] = 0\n",
    "l_diff"
   ]
  },
  {
   "cell_type": "code",
   "execution_count": 25,
   "metadata": {},
   "outputs": [
    {
     "ename": "AxisError",
     "evalue": "axis 1 is out of bounds for array of dimension 1",
     "output_type": "error",
     "traceback": [
      "\u001b[0;31m-------------------------------------\u001b[0m",
      "\u001b[0;31mAxisError\u001b[0mTraceback (most recent call last)",
      "\u001b[0;32m<ipython-input-25-d1958aca7d4b>\u001b[0m in \u001b[0;36m<module>\u001b[0;34m\u001b[0m\n\u001b[0;32m----> 1\u001b[0;31m \u001b[0mnp\u001b[0m\u001b[0;34m.\u001b[0m\u001b[0mconcatenate\u001b[0m\u001b[0;34m(\u001b[0m\u001b[0;34m[\u001b[0m\u001b[0ml\u001b[0m\u001b[0;34m,\u001b[0m \u001b[0ml_diff\u001b[0m\u001b[0;34m]\u001b[0m\u001b[0;34m,\u001b[0m \u001b[0maxis\u001b[0m\u001b[0;34m=\u001b[0m\u001b[0;36m1\u001b[0m\u001b[0;34m)\u001b[0m\u001b[0;34m\u001b[0m\u001b[0;34m\u001b[0m\u001b[0m\n\u001b[0m",
      "\u001b[0;32m<__array_function__ internals>\u001b[0m in \u001b[0;36mconcatenate\u001b[0;34m(*args, **kwargs)\u001b[0m\n",
      "\u001b[0;31mAxisError\u001b[0m: axis 1 is out of bounds for array of dimension 1"
     ]
    }
   ],
   "source": [
    "np.concatenate([l, l_diff], axis=1)"
   ]
  },
  {
   "cell_type": "code",
   "execution_count": 32,
   "metadata": {},
   "outputs": [
    {
     "data": {
      "text/plain": [
       "array([ 2,  3,  8,  6,  7,  9,  1,  5, -2,  1,  0])"
      ]
     },
     "execution_count": 32,
     "metadata": {},
     "output_type": "execute_result"
    }
   ],
   "source": [
    "c = np.hstack([l, l_diff])\n",
    "c"
   ]
  },
  {
   "cell_type": "code",
   "execution_count": 27,
   "metadata": {},
   "outputs": [
    {
     "ename": "ValueError",
     "evalue": "all the input array dimensions for the concatenation axis must match exactly, but along dimension 1, the array at index 0 has size 6 and the array at index 1 has size 5",
     "output_type": "error",
     "traceback": [
      "\u001b[0;31m-------------------------------------\u001b[0m",
      "\u001b[0;31mValueError\u001b[0mTraceback (most recent call last)",
      "\u001b[0;32m<ipython-input-27-08818ec5188d>\u001b[0m in \u001b[0;36m<module>\u001b[0;34m\u001b[0m\n\u001b[0;32m----> 1\u001b[0;31m \u001b[0mnp\u001b[0m\u001b[0;34m.\u001b[0m\u001b[0mvstack\u001b[0m\u001b[0;34m(\u001b[0m\u001b[0;34m[\u001b[0m\u001b[0ml\u001b[0m\u001b[0;34m,\u001b[0m \u001b[0ml_diff\u001b[0m\u001b[0;34m]\u001b[0m\u001b[0;34m)\u001b[0m\u001b[0;34m\u001b[0m\u001b[0;34m\u001b[0m\u001b[0m\n\u001b[0m",
      "\u001b[0;32m<__array_function__ internals>\u001b[0m in \u001b[0;36mvstack\u001b[0;34m(*args, **kwargs)\u001b[0m\n",
      "\u001b[0;32m~/.pyenv/versions/3.8.5/lib/python3.8/site-packages/numpy/core/shape_base.py\u001b[0m in \u001b[0;36mvstack\u001b[0;34m(tup)\u001b[0m\n\u001b[1;32m    281\u001b[0m     \u001b[0;32mif\u001b[0m \u001b[0;32mnot\u001b[0m \u001b[0misinstance\u001b[0m\u001b[0;34m(\u001b[0m\u001b[0marrs\u001b[0m\u001b[0;34m,\u001b[0m \u001b[0mlist\u001b[0m\u001b[0;34m)\u001b[0m\u001b[0;34m:\u001b[0m\u001b[0;34m\u001b[0m\u001b[0;34m\u001b[0m\u001b[0m\n\u001b[1;32m    282\u001b[0m         \u001b[0marrs\u001b[0m \u001b[0;34m=\u001b[0m \u001b[0;34m[\u001b[0m\u001b[0marrs\u001b[0m\u001b[0;34m]\u001b[0m\u001b[0;34m\u001b[0m\u001b[0;34m\u001b[0m\u001b[0m\n\u001b[0;32m--> 283\u001b[0;31m     \u001b[0;32mreturn\u001b[0m \u001b[0m_nx\u001b[0m\u001b[0;34m.\u001b[0m\u001b[0mconcatenate\u001b[0m\u001b[0;34m(\u001b[0m\u001b[0marrs\u001b[0m\u001b[0;34m,\u001b[0m \u001b[0;36m0\u001b[0m\u001b[0;34m)\u001b[0m\u001b[0;34m\u001b[0m\u001b[0;34m\u001b[0m\u001b[0m\n\u001b[0m\u001b[1;32m    284\u001b[0m \u001b[0;34m\u001b[0m\u001b[0m\n\u001b[1;32m    285\u001b[0m \u001b[0;34m\u001b[0m\u001b[0m\n",
      "\u001b[0;32m<__array_function__ internals>\u001b[0m in \u001b[0;36mconcatenate\u001b[0;34m(*args, **kwargs)\u001b[0m\n",
      "\u001b[0;31mValueError\u001b[0m: all the input array dimensions for the concatenation axis must match exactly, but along dimension 1, the array at index 0 has size 6 and the array at index 1 has size 5"
     ]
    }
   ],
   "source": [
    "np.vstack([l, l_diff])"
   ]
  },
  {
   "cell_type": "code",
   "execution_count": 31,
   "metadata": {},
   "outputs": [
    {
     "data": {
      "text/plain": [
       "(2, 1)"
      ]
     },
     "execution_count": 31,
     "metadata": {},
     "output_type": "execute_result"
    }
   ],
   "source": [
    "b = np.array([[10], [20]])\n",
    "b.shape"
   ]
  },
  {
   "cell_type": "code",
   "execution_count": 35,
   "metadata": {},
   "outputs": [
    {
     "data": {
      "text/plain": [
       "array([ 2,  3,  8,  6,  7,  9,  1,  5, -2,  1,  0])"
      ]
     },
     "execution_count": 35,
     "metadata": {},
     "output_type": "execute_result"
    }
   ],
   "source": [
    "c"
   ]
  },
  {
   "cell_type": "code",
   "execution_count": 37,
   "metadata": {},
   "outputs": [],
   "source": [
    "first, second = np.hsplit(c, [4])"
   ]
  },
  {
   "cell_type": "code",
   "execution_count": 38,
   "metadata": {},
   "outputs": [
    {
     "data": {
      "text/plain": [
       "array([2, 3, 8, 6])"
      ]
     },
     "execution_count": 38,
     "metadata": {},
     "output_type": "execute_result"
    }
   ],
   "source": [
    "first"
   ]
  },
  {
   "cell_type": "code",
   "execution_count": 39,
   "metadata": {},
   "outputs": [
    {
     "data": {
      "text/plain": [
       "array([ 7,  9,  1,  5, -2,  1,  0])"
      ]
     },
     "execution_count": 39,
     "metadata": {},
     "output_type": "execute_result"
    }
   ],
   "source": [
    "second"
   ]
  },
  {
   "cell_type": "code",
   "execution_count": 48,
   "metadata": {},
   "outputs": [],
   "source": [
    "import pandas as pd\n",
    "\n",
    "url = \"https://ja.wikipedia.org/wiki/%E3%83%88%E3%83%83%E3%83%97%E3%83%AC%E3%83%99%E3%83%AB%E3%83%89%E3%83%A1%E3%82%A4%E3%83%B3%E4%B8%80%E8%A6%A7\"\n",
    "tables = pd.read_html(url)"
   ]
  },
  {
   "cell_type": "code",
   "execution_count": 49,
   "metadata": {},
   "outputs": [
    {
     "data": {
      "text/plain": [
       "43"
      ]
     },
     "execution_count": 49,
     "metadata": {},
     "output_type": "execute_result"
    }
   ],
   "source": [
    "len(tables)"
   ]
  },
  {
   "cell_type": "code",
   "execution_count": 50,
   "metadata": {},
   "outputs": [
    {
     "data": {
      "text/plain": [
       "[    0                                                  1\n",
       " 0 NaN  この記事の一部（New TLDs: https://newgtlds.icann.org/e...,\n",
       "    Name               Entity                     Administrator[6]  \\\n",
       " 0  .com       商用(commercial)                                ベリサイン   \n",
       " 1  .org     団体(organization)        Public Interest Registry（英語版）   \n",
       " 2  .net  ネットワークインフラ(network)                                ベリサイン   \n",
       " 3  .int                 国際機関  Internet Assigned Numbers Authority   \n",
       " 4  .edu      アメリカ合衆国内の高等教育機関              Educause（英語版）（ベリサインが代行)   \n",
       " 5  .gov          アメリカ合衆国連邦政府          アメリカ合衆国一般調達局（英語版）（ベリサインが代行)   \n",
       " 6  .mil         アメリカ合衆国の軍事機関                          アメリカ合衆国国防総省   \n",
       " \n",
       "                                                Notes  IDN DNSSEC  \n",
       " 0  一般に開かれたドメインである。どんな個人や団体でも登録することを許される。当初は営利目的の企...  Yes    Yes  \n",
       " 1  一般に開かれたドメインである。どんな個人や団体でも登録することを許される。当初は非営利団体に...  Yes    Yes  \n",
       " 2  一般に開かれたドメインである。どんな個人や団体でも登録することを許される。当初は、コンピュー...  Yes    Yes  \n",
       " 3  .int ドメインは、2つ以上の国の間の条約によって設立された組織・機関・運動のみに利用が厳...   No     No  \n",
       " 4  .edu ドメインは、小学校(primary school)、中学校(middle scho...   No    Yes  \n",
       " 5  .gov ドメインは、アメリカ合衆国の政府機関および州・郡・地方自治体機関に利用が限定されている。   No    Yes  \n",
       " 6                        .mil ドメインはアメリカ軍に利用が限定されている。   No    Yes  ,\n",
       "   Infrastructure                                Entity  \\\n",
       " 0          .arpa  \"Address and Routing Parameter Area\"   \n",
       " \n",
       "                                                Notes IDN DNSSEC  \n",
       " 0  初期のインターネットにおいて高等研究計画局(ARPA)に割り当てられていた。現在ではDNSの...  No    Yes  ,\n",
       "              0                                                  1\n",
       " 0           凡例                                                 凡例\n",
       " 1         Name  国別コードトップレベルドメイン。ISO 3166-1 alpha-2に基づいているが、いくつ...\n",
       " 2       Entity                                               国・地域\n",
       " 3  Explanation                                           国・地域の現地名\n",
       " 4        Notes                                                 説明\n",
       " 5          IDN                                    国際化ドメイン名(IDN)対応\n",
       " 6       DNSSEC                  DNS Security ExtensionsのDSレコードに存在\n",
       " 7          SLD                            セカンドレベルドメインの登録が許可されているか\n",
       " 8         IPv6                           レジストリがIPv6アクセスに完全対応しているか,\n",
       "     Name        Entity          Explanation  \\\n",
       " 0    .ac       アセンション島                  NaN   \n",
       " 1    .ad          アンドラ                  NaN   \n",
       " 2    .ae      アラブ首長国連邦                  NaN   \n",
       " 3    .af       アフガニスタン                  NaN   \n",
       " 4    .ag  アンティグア・バーブーダ                  NaN   \n",
       " ..   ...           ...                  ...   \n",
       " 248  .ye          イエメン                  NaN   \n",
       " 249  .yt         マヨット島                  NaN   \n",
       " 250  .za         南アフリカ  Zuid-Afrika (オランダ語)   \n",
       " 251  .zm          ザンビア                  NaN   \n",
       " 252  .zw         ジンバブエ                  NaN   \n",
       " \n",
       "                                                  Notes            IDN DNSSEC  \\\n",
       " 0    広く学術的なサイト（大学など）のために用いられる。アセンション島はイギリス領であるが、イギリ...            Yes    Yes   \n",
       " 1                        アンドラにおける商標または市民権が必要となる[7][8]。            NaN    Yes   \n",
       " 2                                                  NaN            NaN     No   \n",
       " 3                                                  NaN            NaN    Yes   \n",
       " 4    AGがドイツの株式会社(Aktiengesellschaft)の略称であることから、非公式に...            NaN    Yes   \n",
       " ..                                                 ...            ...    ...   \n",
       " 248                                                NaN            NaN     No   \n",
       " 249  欧州連合・スイス・ノルウェー・アイスランド・リヒテンシュタインの個人・企業に限る[cctld...  Yes[cctld 12]    Yes   \n",
       " 250                                                NaN            NaN     No   \n",
       " 251                                                NaN            NaN    Yes   \n",
       " 252                                                NaN            NaN     No   \n",
       " \n",
       "                SLD IPv6  \n",
       " 0              Yes  Yes  \n",
       " 1              Yes  NaN  \n",
       " 2              Yes  NaN  \n",
       " 3              Yes  NaN  \n",
       " 4              Yes  NaN  \n",
       " ..             ...  ...  \n",
       " 248             No  NaN  \n",
       " 249            Yes  NaN  \n",
       " 250             No  NaN  \n",
       " 251  Yes[cctld 28]  NaN  \n",
       " 252             No  NaN  \n",
       " \n",
       " [253 rows x 8 columns],\n",
       "                      ドメイン名     IDN ccTLD         国       言語              文字  \\\n",
       " 0          xn--lgbbat1ad8j      الجزائر.    アルジェリア    アラビア語          アラビア文字   \n",
       " 1               xn--y9a3aq          .հայ     アルメニア   アルメニア語         アルメニア文字   \n",
       " 2           xn--54b7fta0cc        .বাংলা   バングラデシュ    ベンガル語          ベンガル文字   \n",
       " 3                xn--90ais          .бел     ベラルーシ   ベラルーシ語           キリル文字   \n",
       " 4                 xn--90ae       .бг[37]     ブルガリア   ブルガリア語           キリル文字   \n",
       " 5               xn--fiqs8s           .中国        中国      中国語         漢字（簡体字）   \n",
       " 6               xn--fiqz9s           .中國        中国      中国語        漢字 （繁体字）   \n",
       " 7               xn--wgbh1c          مصر.      エジプト    アラビア語          アラビア文字   \n",
       " 8                xn--e1a4c           .ею      欧州連合   ブルガリア語           キリル文字   \n",
       " 9                 xn--node           .გე     ジョージア    グルジア語   グルジア文字（ムヘドルリ）   \n",
       " 10                xn--qxam       .ελ[37]      ギリシャ    ギリシア語          ギリシア文字   \n",
       " 11             xn--j6w193g           .香港        香港      中国語    漢字 （簡体字・繁体字）   \n",
       " 12             xn--h2brj9c         .भारत       インド   ヒンディー語       デーヴァナーガリー   \n",
       " 13          xn--mgbbh1a71e        بھارت.       インド   ウルドゥー語         ウルドゥー文字   \n",
       " 14           xn--fpcrj9c3d        .భారత్       インド     テルグ語           テルグ文字   \n",
       " 15             xn--gecrj9c         .ભારત       インド  グジャラート語      グジャラーティー文字   \n",
       " 16             xn--s9brj9c         .ਭਾਰਤ       インド  パンジャーブ語         グルムキー文字   \n",
       " 17       xn--xkc2dl3a5ee0h      .இந்தியா       インド     タミル語           タミル文字   \n",
       " 18             xn--45brj9c         .ভারত       インド    ベンガル語          ベンガル文字   \n",
       " 19         xn--mgba3a4f16a        ایران.       イラン    ペルシア語          ペルシア文字   \n",
       " 20             xn--mgbtx2b         عراق.       イラク    アラビア語          アラビア文字   \n",
       " 21          xn--mgbayh7gpa       الاردن.      ヨルダン    アラビア語          アラビア文字   \n",
       " 22             xn--80ao21a          .қаз    カザフスタン     カザフ語           キリル文字   \n",
       " 23             xn--mix082f           .澳门       マカオ      中国語         漢字（簡体字）   \n",
       " 24             xn--mix891f           .澳門       マカオ      中国語         漢字（繁体字）   \n",
       " 25               xn--d1alf          .мкд    北マケドニア   マケドニア語           キリル文字   \n",
       " 26          xn--mgbx4cd0ab       مليسيا.     マレーシア     マレー語  アラビア文字（ジャウィ文字）   \n",
       " 27               xn--l1acc          .мон      モンゴル    モンゴル語           キリル文字   \n",
       " 28         xn--mgbc0a9azcg       المغرب.      モロッコ    アラビア語          アラビア文字   \n",
       " 29            xn--mgb9awbf         عمان.      オマーン    アラビア語          アラビア文字   \n",
       " 30       xn--mgbai9azgqp6j      پاکستان.     パキスタン   ウルドゥー語         ウルドゥー文字   \n",
       " 31           xn--ygbi2ammx       فلسطين.     パレスチナ    アラビア語          アラビア文字   \n",
       " 32              xn--wgbl6a          قطر.      カタール    アラビア語          アラビア文字   \n",
       " 33                xn--p1ai           .рф       ロシア     ロシア語           キリル文字   \n",
       " 34       xn--mgberp4a5d4ar     السعودية.   サウジアラビア    アラビア語          アラビア文字   \n",
       " 35              xn--90a3ac          .срб      セルビア    セルビア語           キリル文字   \n",
       " 36           xn--yfro4i67o          .新加坡    シンガポール      中国語    漢字 （簡体字・繁体字）   \n",
       " 37  xn--clchc0ea0b2g2a9gcd  .சிங்கப்பூர்    シンガポール     タミル語           タミル文字   \n",
       " 38            xn--3e0b707e           .한국        韓国      韓国語            ハングル   \n",
       " 39           xn--fzc2c9e2c         .ලංකා     スリランカ    シンハラ語          シンハラ文字   \n",
       " 40        xn--xkc2al3hye2a       .இலங்கை     スリランカ     タミル語           タミル文字   \n",
       " 41            xn--mgbpl2fh        سودان.      スーダン    アラビア語          アラビア文字   \n",
       " 42            xn--ogbpf8fl        سورية.       シリア    アラビア語          アラビア文字   \n",
       " 43             xn--kprw13d           .台湾      中華民国      中国語         漢字（簡体字）   \n",
       " 44             xn--kpry57d           .台灣      中華民国      中国語         漢字（繁体字）   \n",
       " 45              xn--o3cw4h          .ไทย        タイ      タイ語            タイ文字   \n",
       " 46             xn--pgbs0dh         تونس.     チュニジア    アラビア語          アラビア文字   \n",
       " 47               xn--j1amh          .укр     ウクライナ   ウクライナ語           キリル文字   \n",
       " 48          xn--mgbaam7a8h       امارات.  アラブ首長国連邦    アラビア語          アラビア文字   \n",
       " 49            xn--mgb2ddes        اليمن.      イエメン    アラビア語          アラビア文字   \n",
       " \n",
       "                           転記                     備考 他のccTLD   DNSSEC  \n",
       " 0                 al Jaza'ir                    NaN     .dz       No  \n",
       " 1                        hay                    未使用     .am      Yes  \n",
       " 2                     Bangla                    未委任     .bd       No  \n",
       " 3                        bel                    NaN     .by       No  \n",
       " 4                         bg                    未委任     .bg       No  \n",
       " 5                   Zhōngguó                    NaN     .cn      Yes  \n",
       " 6                   Zhōngguó                    NaN     .cn      Yes  \n",
       " 7                  Masr [38]                    NaN     .eg      Yes  \n",
       " 8                        eyu                    未委任     .eu       No  \n",
       " 9                         GE                    未使用     .ge       No  \n",
       " 10                        el                    未使用     .gr       No  \n",
       " 11  Hoeng1 gong2 / Xiānggǎng                    NaN     .hk       No  \n",
       " 12                    Bhārat   2014年8月27日より利用可能[39]     .in      Yes  \n",
       " 13                    Bhārat                    未使用     .in      Yes  \n",
       " 14                   Bhārata                    未使用     .in      Yes  \n",
       " 15                    Bhārat                    未使用     .in      Yes  \n",
       " 16                    Bhārat                    未使用     .in      Yes  \n",
       " 17                    Intiyā  Became available 2015     .in      Yes  \n",
       " 18                    Bharôt                    未使用     .in      Yes  \n",
       " 19                      Īrān                    NaN     .ir       No  \n",
       " 20                      Iraq                    未使用     .iq       No  \n",
       " 21                 al 'Urdun                    NaN     .jo       No  \n",
       " 22                       qaz                    NaN     .kz       No  \n",
       " 23          Ou3 mun4 / Àomén                    未委任     .mo       No  \n",
       " 24          Ou3 mun4 / Àomén                    未委任     .mo       No  \n",
       " 25                       mkd                    NaN     .mk       No  \n",
       " 26                  Malaysia                    NaN     .my      Yes  \n",
       " 27                       mon                    NaN     .mn      Yes  \n",
       " 28                al Maghrib                    NaN     .ma       No  \n",
       " 29                      Oman                    NaN     .om       No  \n",
       " 30                  Pakistan                    未委任     .pk       No  \n",
       " 31                  Filastīn                    NaN     .ps       No  \n",
       " 32                     Qatar                    NaN     .qa       No  \n",
       " 33                        rf                    NaN     .ru      Yes  \n",
       " 34             as-Sa'ūdiyyah                    NaN     .sa       No  \n",
       " 35                       srb                    NaN     .rs       No  \n",
       " 36                  Xīnjiāpō                    NaN     .sg       No  \n",
       " 37                 Cinkappūr                    NaN     .sg       No  \n",
       " 38                   Han-guk                    NaN     .kr      Yes  \n",
       " 39                     Lanka                    NaN     .lk  部分的[22]  \n",
       " 40                   Ilangai                    NaN     .lk  部分的[22]  \n",
       " 41                     Sudan                    NaN     .sd       No  \n",
       " 42                     Sūryā                    NaN     .sy       No  \n",
       " 43                    Táiwān                    NaN     .tw      Yes  \n",
       " 44                    Táiwān                    NaN     .tw      Yes  \n",
       " 45                      Thai                    NaN     .th      Yes  \n",
       " 46                     Tūnis                    NaN     .tn      Yes  \n",
       " 47                       ukr                    NaN     .ua       No  \n",
       " 48                    Imārāt                    NaN     .ae       No  \n",
       " 49                  al Yemen                    未委任     .ye       No  ,\n",
       "              Name                      Target market  \\\n",
       " 0        .academy                academic institutes   \n",
       " 1     .accountant   accountants and accounting firms   \n",
       " 2    .accountants   accountants and accounting firms   \n",
       " 3         .active                            general   \n",
       " 4          .actor                             actors   \n",
       " ..            ...                                ...   \n",
       " 342          .wtf                            general   \n",
       " 343          .xxx  adult entertainment (pornography)   \n",
       " 344          .xyz                            general   \n",
       " 345         .yoga                                 ヨガ   \n",
       " 346         .zone                            general   \n",
       " \n",
       "                                           Restrictions      Operator/Registry  \\\n",
       " 0                                                    —         ドーナツ[donuts 1]   \n",
       " 1                                                    —      Famous Four Media   \n",
       " 2                                                    —         ドーナツ[donuts 2]   \n",
       " 3                                                    —     The Active Network   \n",
       " 4                                                    —   Rightside Group[n 1]   \n",
       " ..                                                 ...                    ...   \n",
       " 342                                                  —                   ドーナツ   \n",
       " 343  For sites providing sexually explicit content,...                    NaN   \n",
       " 344                                                  —                XYZ.com   \n",
       " 345                                                  —  Minds + Machines[n 3]   \n",
       " 346                                                  —                   ドーナツ   \n",
       " \n",
       "          IDN DNSSEC  \n",
       " 0        Yes    Yes  \n",
       " 1         不明    Yes  \n",
       " 2        Yes    Yes  \n",
       " 3         不明    Yes  \n",
       " 4        Yes    Yes  \n",
       " ..       ...    ...  \n",
       " 342      Yes    Yes  \n",
       " 343      Yes    Yes  \n",
       " 344  Yes[83]    Yes  \n",
       " 345      Yes    Yes  \n",
       " 346      Yes    Yes  \n",
       " \n",
       " [347 rows x 6 columns],\n",
       "       Name Translation Restrictions          Operator  \\\n",
       " 0  .maison     \"house\"            —  ドーナツ[donuts 122]   \n",
       " \n",
       "                                     IDN DNSSEC  \n",
       " 0  Chinese, French, German, Spanish[84]    Yes  ,\n",
       "        Name                                        Translation  \\\n",
       " 0  .abogado                                           \"lawyer\"   \n",
       " 1   .gratis                                             \"free\"   \n",
       " 2   .futbol                                               サッカー   \n",
       " 3   .juegos                                            \"games\"   \n",
       " 4      .soy  \"I am\"Also refers to the 大豆 and its food deriv...   \n",
       " 5   .tienda                                    \"shop\", \"store\"   \n",
       " 6      .uno     \"one\", for websites targeting Latino consumers   \n",
       " 7   .viajes                                           \"travel\"   \n",
       " \n",
       "                                         Restrictions               Operator  \\\n",
       " 0  To be restricted to licensed lawyers or law fi...  Minds + Machines[n 3]   \n",
       " 1                                                  —       ドーナツ[donuts 123]   \n",
       " 2                                                  —   Rightside Group[n 1]   \n",
       " 3                                                  —            Uniregistry   \n",
       " 4                                                  —            Google[n 2]   \n",
       " 5                                                  —                   ドーナツ   \n",
       " 6                                                  —                    NaN   \n",
       " 7                                                  —                   ドーナツ   \n",
       " \n",
       "               IDN DNSSEC  \n",
       " 0              不明    Yes  \n",
       " 1             Yes    Yes  \n",
       " 2             Yes    Yes  \n",
       " 3         Yes[43]    Yes  \n",
       " 4  ラテン文字, 日本語[86]    Yes  \n",
       " 5         Spanish    Yes  \n",
       " 6         Spanish    Yes  \n",
       " 7         Spanish    Yes  ,\n",
       "             Name    Translation  \\\n",
       " 0          .haus        \"house\"   \n",
       " 1    .immobilien  \"real estate\"   \n",
       " 2         .jetzt          \"now\"   \n",
       " 3        .kaufen          \"buy\"   \n",
       " 4         .reise       \"travel\"   \n",
       " 5        .reisen    \"traveling\"   \n",
       " 6        .schule       \"school\"   \n",
       " 7  .versicherung    \"insurance\"   \n",
       " \n",
       "                                         Restrictions              Operator  \\\n",
       " 0                                                  —  Rightside Group[n 1]   \n",
       " 1                                                  —  Rightside Group[n 1]   \n",
       " 2                                                  —       New TLD Company   \n",
       " 3                                                  —  Rightside Group[n 1]   \n",
       " 4  Must be an eligible member of the travel busin...              dotreise   \n",
       " 5                                                  —      ドーナツ[donuts 124]   \n",
       " 6                                                  —      ドーナツ[donuts 125]   \n",
       " 7                                                  —                   NaN   \n",
       " \n",
       "           IDN DNSSEC  \n",
       " 0         Yes    Yes  \n",
       " 1  German[10]    Yes  \n",
       " 2         Yes    Yes  \n",
       " 3  German[10]    Yes  \n",
       " 4   ラテン文字[10]    Yes  \n",
       " 5  German[10]    Yes  \n",
       " 6         Yes    Yes  \n",
       " 7   ラテン文字[10]    Yes  ,\n",
       "        Name                    Translation Restrictions       Operator IDN  \\\n",
       " 0     .desi  ヒンディー語で、南アジアの人々や文化を指す言葉デシを参照。            —  Desi Networks  不明   \n",
       " 1  .shiksha                    ヒンディー語で「教育」            —        Afilias  不明   \n",
       " \n",
       "   DNSSEC  \n",
       " 0    Yes  \n",
       " 1    Yes  ,\n",
       "     Name                                        翻訳  \\\n",
       " 0  .casa                                       \"家\"   \n",
       " 1  .cafe                         カフェ・コーヒーショップ・コーヒー   \n",
       " 2  .immo              フランス語・ドイツ語・オランダ語・イタリア語で「不動産」   \n",
       " 3  .moda                                  \"ファッション\"   \n",
       " 4  .voto  \"投票\", for election and campaign websites   \n",
       " \n",
       "                                         Restrictions               Operator  \\\n",
       " 0                                                  —  Minds + Machines[n 3]   \n",
       " 1                                                  —                   ドーナツ   \n",
       " 2                                                  —       ドーナツ[donuts 126]   \n",
       " 3                                                  —   Rightside Group[n 1]   \n",
       " 4  Must use the domain in connection with a \"clea...                Afilias   \n",
       " \n",
       "            IDN DNSSEC  \n",
       " 0          Yes    Yes  \n",
       " 1          Yes    Yes  \n",
       " 2          Yes    Yes  \n",
       " 3  Spanish[10]    Yes  \n",
       " 4           不明    Yes  ,\n",
       "             Name                        Entity Type  \\\n",
       " 0           .bar                              バーとパブ   \n",
       " 1          .bank                                 銀行   \n",
       " 2          .coop                               協同組合   \n",
       " 3   .enterprises              business associations   \n",
       " 4    .industries              industrial businesses   \n",
       " 5     .institute  Established business associations   \n",
       " 6          .ltda                           南アメリカの企業   \n",
       " 7           .pub                              バーとパブ   \n",
       " 8       .realtor                            不動産仲買業者   \n",
       " 9          .reit                      REIT（不動産投資信託）   \n",
       " 10         .rest                              レストラン   \n",
       " 11   .restaurant                              レストラン   \n",
       " 12         .sarl              有限会社, Francophone LLC   \n",
       " 13     .ventures              funding for start-ups   \n",
       " \n",
       "                                          Restrictions  \\\n",
       " 0                                                   —   \n",
       " 1        Restricted to banks and savings associations   \n",
       " 2                              ロッチデール原則で定義される協同組合に限定。   \n",
       " 3                                                   —   \n",
       " 4                                                   —   \n",
       " 5                                                   —   \n",
       " 6          ブラジル・コロンビア・チリ・エクアドルのLTDA（LLCのような物）に限定[90]。   \n",
       " 7                                                   —   \n",
       " 8   全米リアルター協会（英語版）とカナダ不動産協会（英語版）およびそれらに関連する団体の会員に限...   \n",
       " 9   Restricted to REITs, as determined by national...   \n",
       " 10                                                  —   \n",
       " 11                                                  —   \n",
       " 12                                                  —   \n",
       " 13                                                  —   \n",
       " \n",
       "                                              Operator      IDN DNSSEC  \n",
       " 0                                          Punto 2012      Yes    Yes  \n",
       " 1                                                 NaN       不明    Yes  \n",
       " 2                                      DotCooperation       No     No  \n",
       " 3                                    ドーナツ[donuts 127]      Yes    Yes  \n",
       " 4                                    ドーナツ[donuts 128]      Yes    Yes  \n",
       " 5                                    ドーナツ[donuts 129]      Yes    Yes  \n",
       " 6                                           InterNetX       不明    Yes  \n",
       " 7                                Rightside Group[n 1]      Yes    Yes  \n",
       " 8                                 Real Estate Domains       不明    Yes  \n",
       " 9   National Association of Real Estate Investment...       不明    Yes  \n",
       " 10                                         Punto 2012  Yes[93]    Yes  \n",
       " 11                                   ドーナツ[donuts 130]      Yes    Yes  \n",
       " 12                                   ドーナツ[donuts 131]      Yes    Yes  \n",
       " 13                                               ドーナツ      Yes    Yes  ,\n",
       "                   ドメイン名      IDN      言語            文字             転記  \\\n",
       " 0        xn--4gbrim[94]    موقع.   アラビア語        アラビア文字         mawqiʿ   \n",
       " 1      xn--ngbc5azd[94]    شبكة.   アラビア語        アラビア文字        shabaka   \n",
       " 2      xn--mgbab2bd[94]   بازار.   ペルシア語        アラビア文字          bâzâr   \n",
       " 3       xn--q9jyb4c[94]     .みんな     日本語           平仮名          minna   \n",
       " 4       xn--3ds443g[94]      .在线     中国語       漢字（簡体字）        zàixiàn   \n",
       " 5    xn--fiq228c5hs[94]     .中文网     中国語       漢字（簡体字）  Zhōngwén wǎng   \n",
       " 6       xn--6frz82g[94]      .移动     中国語       漢字（簡体字）         yídòng   \n",
       " 7       xn--ses554g[94]      .网址     中国語       漢字（簡体字）        wǎngzhǐ   \n",
       " 8        xn--io0a7i[94]      .网络     中国語       漢字（簡体字）        wǎngluò   \n",
       " 9        xn--55qx5d[94]      .公司     中国語   漢字（簡体字・繁体字）         gōngsī   \n",
       " 10       xn--czru2d[94]      .商城     中国語   漢字（簡体字・繁体字）     shāngchéng   \n",
       " 11        xn--nqv7f[94]      .机构     中国語       漢字（簡体字）          jīgòu   \n",
       " 12   xn--6qq986b3xl[94]     .我爱你     中国語       漢字（簡体字）       wǒ ài nǐ   \n",
       " 13      xn--czr694b[94]      .商标     中国語       漢字（簡体字）      shāngbiāo   \n",
       " 14      xn--rhqv96g[94]      .世界     中国語  漢字 （簡体字・繁体字）         shìjiè   \n",
       " 15      xn--3bst00m[94]      .集团     中国語       漢字（簡体字）         jítuán   \n",
       " 16      xn--d1acj3b[94]    .дети    ロシア語         キリル文字          dyeti   \n",
       " 17     xn--80asehdb[94]  .онлайн    ロシア語         キリル文字         onlain   \n",
       " 18        xn--c1avg[94]     .орг    ロシア語         キリル文字            org   \n",
       " 19       xn--80aswg[94]    .сайт    ロシア語         キリル文字           sait   \n",
       " 20  xn--i1b6b1a6a2e[94]   .संगठन  ヒンディー語     デーヴァナーガリー     saṅgaṭhana   \n",
       " \n",
       "                                         翻訳  \\\n",
       " 0                     \"site\" or \"location\"   \n",
       " 1                                \"network\"   \n",
       " 2                     \"market\" or \"bazaar\"   \n",
       " 3                               \"everyone\"   \n",
       " 4                                 \"online\"   \n",
       " 5   \"(written) Chinese (language) network\"   \n",
       " 6                   \"movement\" or \"mobile\"   \n",
       " 7           \"network address\" or \"website\"   \n",
       " 8                                \"network\"   \n",
       " 9     \"business organization\" or \"company\"   \n",
       " 10                                  \"mall\"   \n",
       " 11                                \"agency\"   \n",
       " 12                            \"I love you\"   \n",
       " 13                             \"trademark\"   \n",
       " 14                                 \"world\"   \n",
       " 15                          \"conglomerate\"   \n",
       " 16                    \"kids\" or \"children\"   \n",
       " 17                                \"online\"   \n",
       " 18                 \"org\" or \"organization\"   \n",
       " 19                                  \"site\"   \n",
       " 20                          \"organization\"   \n",
       " \n",
       "                                                 Notes DNSSEC  \n",
       " 0                                            Open TLD    Yes  \n",
       " 1                                            Open TLD    Yes  \n",
       " 2                                            Open TLD    Yes  \n",
       " 3                                       Open TLD [95]    Yes  \n",
       " 4   Open TLD.The Chinese Government quickly bought...    Yes  \n",
       " 5   Open TLD.The Chinese Government quickly bought...    Yes  \n",
       " 6                                            Open TLD    Yes  \n",
       " 7                                            Open TLD    Yes  \n",
       " 8                                            Open TLD    Yes  \n",
       " 9                                            Open TLD    Yes  \n",
       " 10                                           Open TLD    Yes  \n",
       " 11                                           Open TLD    Yes  \n",
       " 12                                           Open TLD    Yes  \n",
       " 13                                           Open TLD    Yes  \n",
       " 14                                           Open TLD    Yes  \n",
       " 15                                           Open TLD    Yes  \n",
       " 16                                           Open TLD    Yes  \n",
       " 17                                           Open TLD    Yes  \n",
       " 18                                           Open TLD    Yes  \n",
       " 19                                           Open TLD    Yes  \n",
       " 20                                           Open TLD    Yes  ,\n",
       "         Name   Entity Notes IDN DNSSEC\n",
       " 0  .capetown   ケープタウン  [97]  不明    Yes\n",
       " 1    .durban     ダーバン  [98]  不明    Yes\n",
       " 2    .joburg  ヨハネスブルグ  [99]  不明    Yes,\n",
       "          Name      Entity                                              Notes  \\\n",
       " 0       .asia    アジア太平洋地域                 アジア・オーストラリア・太平洋地域の企業・団体・個人のためのドメイン   \n",
       " 1        .krd   クルディスタン地域               クルディスタン地域の企業・団体・個人のためのドメイン[100][101]   \n",
       " 2      .kyoto      日本・京都府                                              [102]   \n",
       " 3     .nagoya     日本・名古屋市                                              [103]   \n",
       " 4    .okinawa      日本・沖縄県                                                NaN   \n",
       " 5     .ryukyu     日本・琉球諸島                                              [104]   \n",
       " 6     .taipei      台湾・台北市                                              [105]   \n",
       " 7      .tatar  タタール人および地域  タタールスタン共和国はロシア連邦の一部であるが、このドメイン名はより広い「タタール」全体のこ...   \n",
       " 8      .tokyo      日本・東京都                                              [107]   \n",
       " 9   .yokohama      日本・横浜市                                              [108]   \n",
       " 10     .osaka      日本・大阪府                                              [109]   \n",
       " \n",
       "                 IDN DNSSEC  \n",
       " 0   中国語・日本語・韓国語[10]    Yes  \n",
       " 1              クルド語    Yes  \n",
       " 2               NaN    NaN  \n",
       " 3           日本語[10]    Yes  \n",
       " 4               日本語    Yes  \n",
       " 5                不明    Yes  \n",
       " 6                不明    Yes  \n",
       " 7                不明    Yes  \n",
       " 8               Yes    Yes  \n",
       " 9          Japanese    Yes  \n",
       " 10               不明     不明  ,\n",
       "            Name                          Entity  \\\n",
       " 0       .alsace                    フランス・アルザス地域圏   \n",
       " 1    .amsterdam                    オランダ・アムステルダム   \n",
       " 2    .barcelona                      スペイン・バルセロナ   \n",
       " 3       .bayern                      ドイツ・バイエルン州   \n",
       " 4       .berlin                        ドイツ・ベルリン   \n",
       " 5     .brussels                     ベルギー・ブリュッセル   \n",
       " 6     .budapest                     ハンガリー・ブダペスト   \n",
       " 7          .bzh                  フランス・ブルターニュ地域圏   \n",
       " 8          .cat  カタルーニャ州; カタルーニャ語話者およびカタルーニャ文化圏   \n",
       " 9      .cologne                         ドイツ・ケルン   \n",
       " 10     .corsica                      フランス・コルシカ島   \n",
       " 11       .cymru                           ウェールズ   \n",
       " 12         .eus                           バスク地方   \n",
       " 13         .frl                        フリースラント州   \n",
       " 14         .gal                      スペイン・ガリシア州   \n",
       " 15        .gent                        ベルギー・ヘント   \n",
       " 16     .hamburg                       ドイツ・ハンブルク   \n",
       " 17       .irish              アイルランドおよびアイルランド文化圏   \n",
       " 18       .koeln                         ドイツ・ケルン   \n",
       " 19      .london                       イギリス・ロンドン   \n",
       " 20      .madrid                      スペイン・マドリード   \n",
       " 21      .moscow                        ロシア・モスクワ   \n",
       " 22         .nrw           ドイツ・ノルトライン＝ヴェストファーレン州   \n",
       " 23       .paris                         フランス・パリ   \n",
       " 24        .ruhr                       ドイツ・ルール地方   \n",
       " 25    .saarland                    ドイツ・ ザールラント州   \n",
       " 26        .scot                         スコットランド   \n",
       " 27       .tirol             チロル（オーストリアとイタリアに跨る）   \n",
       " 28  .vlaanderen                      ベルギー・フランドル   \n",
       " 29       .wales                           ウェールズ   \n",
       " 30        .wien                     オーストリア・ウィーン   \n",
       " 31     .zuerich                      スイス・チューリッヒ   \n",
       " \n",
       "                                                 Notes              IDN DNSSEC  \n",
       " 0                                               [110]               不明    Yes  \n",
       " 1                                               [111]               不明    Yes  \n",
       " 2                                                 NaN               不明    Yes  \n",
       " 3                                               [112]              Yes    Yes  \n",
       " 4                                               [113]  ラテン文字・キリル文字[10]    Yes  \n",
       " 5                                               [114]        ラテン文字[10]    Yes  \n",
       " 6                                               [115]               不明    Yes  \n",
       " 7                                   ブルトン語でBreizh[116]        フランス語[10]    Yes  \n",
       " 8          カタルーニャ語を使用しているか、カタルーニャ文化に関連するWebサイトのみ[117]      Catalan[10]    Yes  \n",
       " 9                                               [118]              Yes    Yes  \n",
       " 10                    TLD Related to Corsican Culture               不明    Yes  \n",
       " 11                                              [119]        Welsh[10]    Yes  \n",
       " 12  バスク語でEuskal Herria。バスク語を使用しているサイトに限られ、定期的にチェック...               不明    Yes  \n",
       " 13                              （西）フリジア語でFryslân[121]               不明    Yes  \n",
       " 14             ガリシア語を使用しているか、ガリシア文化に関連するWebサイトのみ[122]               不明    Yes  \n",
       " 15                                              [123]               不明    Yes  \n",
       " 16                                                NaN        ラテン文字[10]    Yes  \n",
       " 17                                                NaN               不明    Yes  \n",
       " 18                                              [124]              Yes    Yes  \n",
       " 19                                              [125]              Yes    Yes  \n",
       " 20                                              [126]               不明    Yes  \n",
       " 21                                              [127]              Yes    Yes  \n",
       " 22                                              [128]              Yes    Yes  \n",
       " 23                                              [129]       French[10]    Yes  \n",
       " 24                                              [130]       German[10]    Yes  \n",
       " 25                                              [131]               不明    Yes  \n",
       " 26                                              [132]               不明    Yes  \n",
       " 27                                              [133]          Yes[10]    Yes  \n",
       " 28                                              [134]        ラテン文字[10]    Yes  \n",
       " 29                                              [119]        Welsh[10]    Yes  \n",
       " 30                                              [135]        ラテン文字[10]    Yes  \n",
       " 31                                              [136]               不明    Yes  ,\n",
       "       Name          Entity  Notes          IDN DNSSEC\n",
       " 0   .miami       アメリカ・マイアミ  [137]           不明    Yes\n",
       " 1     .nyc    アメリカ・ニューヨーク市  [138]  Spanish[10]    Yes\n",
       " 2  .quebec       カナダ・ケベック州  [139]           不明    Yes\n",
       " 3   .vegas  アメリカ・ラスベガス・バレー  [140]          Yes    Yes,\n",
       "          Name              Entity  Notes        IDN DNSSEC\n",
       " 0       .kiwi  ニュージーランド人（別名 キーウィ）  [141]  ラテン文字[10]    Yes\n",
       " 1  .melbourne       オーストラリア・メルボルン  [142]         不明    Yes\n",
       " 2     .sydney        オーストラリア・シドニー  [143]         不明    Yes,\n",
       "    Name         Entity  Notes         IDN DNSSEC\n",
       " 0  .lat        ラテンアメリカ  [144]  スペイン語[145]    Yes\n",
       " 1  .rio  ブラジル・リオデジャネイロ  [146]          不明    Yes,\n",
       "        DNS name      IDN    Entity Language Script Transliteration  Notes  \\\n",
       " 0   xn--1qqw23a      .佛山    中国・仏山市      中国語     漢字          fóshān  [147]   \n",
       " 1  xn--80adxhks  .москва  ロシア・モスクワ     ロシア語  キリル文字          moskva  [148]   \n",
       " \n",
       "   Other TLD     IDN.1 DNSSEC  \n",
       " 0       NaN       Yes    Yes  \n",
       " 1   .moscow  ロシア語[10]    Yes  ,\n",
       "             Name                                             Entity  Notes  \\\n",
       " 0     .allfinanz  Allfinanz Deutsche Vermögensberatung Aktienges...  [149]   \n",
       " 1       .android                                   Google (Android)  [150]   \n",
       " 2     .aquarelle                                      Aquarelle.com  [151]   \n",
       " 3           .axa                                                アクサ  [152]   \n",
       " 4      .barclays                                             バークレイズ  [153]   \n",
       " ..           ...                                                ...    ...   \n",
       " 61  .williamhill                                            ウィリアムヒル  [210]   \n",
       " 62          .wme                         ウィリアム・モリス・エンデヴァー・エンターテイメント  [211]   \n",
       " 63          .wtc                                ワールドトレードセンター協会（英語版）  [212]   \n",
       " 64       .yandex                                             ヤンデックス  [213]   \n",
       " 65      .youtube                                   Google (YouTube)  [214]   \n",
       " \n",
       "         IDN DNSSEC  \n",
       " 0        不明    Yes  \n",
       " 1        不明    Yes  \n",
       " 2        不明    Yes  \n",
       " 3   Yes[10]    Yes  \n",
       " 4        不明    Yes  \n",
       " ..      ...    ...  \n",
       " 61       不明    Yes  \n",
       " 62       不明    Yes  \n",
       " 63       不明    Yes  \n",
       " 64       不明    Yes  \n",
       " 65       不明    Yes  \n",
       " \n",
       " [66 rows x 5 columns],\n",
       "                       ドメイン名             IDN TLD  \\\n",
       " 0                xn--fiq64b                 .中信   \n",
       " 1   xn--vermgensberater-ctb   .vermögensberater   \n",
       " 2  xn--vermgensberatung-pwb  .vermögensberatung   \n",
       " 3              xn--qcka1pmc               .グーグル   \n",
       " 4               xn--flw351e                 .谷歌   \n",
       " 5                xn--cg4bki                 .삼성   \n",
       " \n",
       "                                           Entity  Script Transliteration  \\\n",
       " 0                                      中国中信（英語版）      漢字        zhōngxìn   \n",
       " 1  Deutsche Vermögensberatung Aktiengesellschaft   Latin             NaN   \n",
       " 2  Deutsche Vermögensberatung Aktiengesellschaft   Latin             NaN   \n",
       " 3                                         Google     片仮名          gūguru   \n",
       " 4                                         Google  漢字（簡体）            gǔgē   \n",
       " 5                                           サムスン    ハングル        samseong   \n",
       " \n",
       "   Comments DNSSEC  \n",
       " 0    [215]    Yes  \n",
       " 1    [216]    Yes  \n",
       " 2    [217]    Yes  \n",
       " 3    [218]    Yes  \n",
       " 4    [219]    Yes  \n",
       " 5    [220]    Yes  ,\n",
       "               DNS Name         IDN          転記       言語         文字  \\\n",
       " 0         xn--kgbechtv     إختبار.   ik͡htibār    アラビア語     アラビア文字   \n",
       " 1   xn--hgbk6aj7f53bba    آزمایشی.   ậzmạy̰sẖy    ペルシア語     ペルシア文字   \n",
       " 2          xn--0zwm56d         .测试       cèshì      中国語        簡体字   \n",
       " 3          xn--g6w251d         .測試       cèshì      中国語        繁体字   \n",
       " 4     xn--80akhbyknj4f  .испытание  ispytánije     ロシア語      キリル文字   \n",
       " 5    xn--11b5bs3a9aj6g    .परीक्षा     parīkṣā   ヒンディー語  デーヴァナーガリー   \n",
       " 6         xn--jxalpdlp     .δοκιμή      dokimé    ギリシア語     ギリシア文字   \n",
       " 7       xn--9t4b11yi5a        .테스트    teseuteu      韓国語       ハングル   \n",
       " 8          xn--deba0ad       טעסט.        test  イディッシュ語     ヘブライ文字   \n",
       " 9           xn--zckzah        .テスト      tesuto      日本語   片仮名[224]   \n",
       " 10  xn--hlcj6aya9esc7a    .பரிட்சை    pariṭcai     タミル語      タミル文字   \n",
       " \n",
       "                  テスト用サイトのURL  \n",
       " 0         http://مثال.إختبار  \n",
       " 1        http://مثال.آزمایشی  \n",
       " 2               http://例子.测试  \n",
       " 3               http://例子.測試  \n",
       " 4    http://пример.испытание  \n",
       " 5      http://उदाहरण.परीक्षा  \n",
       " 6   http://παράδειγμα.δοκιμή  \n",
       " 7              http://실례.테스트  \n",
       " 8       http://בײַשפּיל.טעסט  \n",
       " 9              http://例え.テスト  \n",
       " 10    http://உதாரணம்.பரிட்சை  ,\n",
       "           0\n",
       " 0  [脚注の使い方],\n",
       "                                                     0  \\\n",
       " 0   表話編歴ジェネリックトップレベルドメイン 現行 （この他にも1000以上のドメインが存在する...   \n",
       " 1                                表話編歴ジェネリックトップレベルドメイン   \n",
       " 2   現行 （この他にも1000以上のドメインが存在する。一部のみを掲載している。） 一般 .bi...   \n",
       " 3             現行 （この他にも1000以上のドメインが存在する。一部のみを掲載している。）   \n",
       " 4   一般 .biz .com .info .moe .name .net .org .pro ....   \n",
       " 5                                                  一般   \n",
       " 6                                             スポンサー付き   \n",
       " 7                                                 地理的   \n",
       " 8                                                インフラ   \n",
       " 9                                               削除・廃止   \n",
       " 10                                               特殊用途   \n",
       " 11  提案中（英語版） 言語・国籍 .eng .sic 技術的 .geo .mail .web そ...   \n",
       " 12                                           提案中（英語版）   \n",
       " 13  言語・国籍 .eng .sic 技術的 .geo .mail .web その他 .kid ....   \n",
       " 14                                              言語・国籍   \n",
       " 15                                                技術的   \n",
       " 16                                                その他   \n",
       " 17                                    国別コードトップレベルドメイン   \n",
       " \n",
       "                                                     1  \n",
       " 0                                                 NaN  \n",
       " 1                                表話編歴ジェネリックトップレベルドメイン  \n",
       " 2                                                 NaN  \n",
       " 3             現行 （この他にも1000以上のドメインが存在する。一部のみを掲載している。）  \n",
       " 4   一般 .biz .com .info .moe .name .net .org .pro ....  \n",
       " 5   .biz .com .info .moe .name .net .org .pro .wik...  \n",
       " 6   .aero .app .asia .cat .coop .edu .gov .int .jo...  \n",
       " 7                                      .taipei .tokyo  \n",
       " 8                                               .arpa  \n",
       " 9                                               .nato  \n",
       " 10  .example .bitnet .invalid .local .localhost .o...  \n",
       " 11                                                NaN  \n",
       " 12                                           提案中（英語版）  \n",
       " 13  言語・国籍 .eng .sic 技術的 .geo .mail .web その他 .kid ....  \n",
       " 14                                          .eng .sic  \n",
       " 15                                    .geo .mail .web  \n",
       " 16                                  .kid .kids .music  \n",
       " 17                                    国別コードトップレベルドメイン  ,\n",
       "                                  表話編歴ジェネリックトップレベルドメイン  \\\n",
       " 0   現行 （この他にも1000以上のドメインが存在する。一部のみを掲載している。） 一般 .bi...   \n",
       " 1             現行 （この他にも1000以上のドメインが存在する。一部のみを掲載している。）   \n",
       " 2   一般 .biz .com .info .moe .name .net .org .pro ....   \n",
       " 3                                                  一般   \n",
       " 4                                             スポンサー付き   \n",
       " 5                                                 地理的   \n",
       " 6                                                インフラ   \n",
       " 7                                               削除・廃止   \n",
       " 8                                                特殊用途   \n",
       " 9   提案中（英語版） 言語・国籍 .eng .sic 技術的 .geo .mail .web そ...   \n",
       " 10                                           提案中（英語版）   \n",
       " 11  言語・国籍 .eng .sic 技術的 .geo .mail .web その他 .kid ....   \n",
       " 12                                              言語・国籍   \n",
       " 13                                                技術的   \n",
       " 14                                                その他   \n",
       " 15                                    国別コードトップレベルドメイン   \n",
       " \n",
       "                                表話編歴ジェネリックトップレベルドメイン.1  \n",
       " 0                                                 NaN  \n",
       " 1             現行 （この他にも1000以上のドメインが存在する。一部のみを掲載している。）  \n",
       " 2   一般 .biz .com .info .moe .name .net .org .pro ....  \n",
       " 3   .biz .com .info .moe .name .net .org .pro .wik...  \n",
       " 4   .aero .app .asia .cat .coop .edu .gov .int .jo...  \n",
       " 5                                      .taipei .tokyo  \n",
       " 6                                               .arpa  \n",
       " 7                                               .nato  \n",
       " 8   .example .bitnet .invalid .local .localhost .o...  \n",
       " 9                                                 NaN  \n",
       " 10                                           提案中（英語版）  \n",
       " 11  言語・国籍 .eng .sic 技術的 .geo .mail .web その他 .kid ....  \n",
       " 12                                          .eng .sic  \n",
       " 13                                    .geo .mail .web  \n",
       " 14                                  .kid .kids .music  \n",
       " 15                                    国別コードトップレベルドメイン  ,\n",
       "              現行 （この他にも1000以上のドメインが存在する。一部のみを掲載している。）  \\\n",
       " 0  一般 .biz .com .info .moe .name .net .org .pro ....   \n",
       " 1                                                 一般   \n",
       " 2                                            スポンサー付き   \n",
       " 3                                                地理的   \n",
       " 4                                               インフラ   \n",
       " 5                                              削除・廃止   \n",
       " 6                                               特殊用途   \n",
       " \n",
       "            現行 （この他にも1000以上のドメインが存在する。一部のみを掲載している。）.1  \n",
       " 0  一般 .biz .com .info .moe .name .net .org .pro ....  \n",
       " 1  .biz .com .info .moe .name .net .org .pro .wik...  \n",
       " 2  .aero .app .asia .cat .coop .edu .gov .int .jo...  \n",
       " 3                                     .taipei .tokyo  \n",
       " 4                                              .arpa  \n",
       " 5                                              .nato  \n",
       " 6  .example .bitnet .invalid .local .localhost .o...  ,\n",
       "          0                                                  1\n",
       " 0       一般  .biz .com .info .moe .name .net .org .pro .wik...\n",
       " 1  スポンサー付き  .aero .app .asia .cat .coop .edu .gov .int .jo...\n",
       " 2      地理的                                     .taipei .tokyo\n",
       " 3     インフラ                                              .arpa\n",
       " 4    削除・廃止                                              .nato\n",
       " 5     特殊用途  .example .bitnet .invalid .local .localhost .o...,\n",
       "                                             提案中（英語版）  \\\n",
       " 0  言語・国籍 .eng .sic 技術的 .geo .mail .web その他 .kid ....   \n",
       " 1                                              言語・国籍   \n",
       " 2                                                技術的   \n",
       " 3                                                その他   \n",
       " \n",
       "                                           提案中（英語版）.1  \n",
       " 0  言語・国籍 .eng .sic 技術的 .geo .mail .web その他 .kid ....  \n",
       " 1                                          .eng .sic  \n",
       " 2                                    .geo .mail .web  \n",
       " 3                                  .kid .kids .music  ,\n",
       "        0                  1\n",
       " 0  言語・国籍          .eng .sic\n",
       " 1    技術的    .geo .mail .web\n",
       " 2    その他  .kid .kids .music,\n",
       "                                                     0  \\\n",
       " 0   表話編歴国別コードトップレベルドメイン (ccTLD) ISO 3166-1 A .ac ....   \n",
       " 1                         表話編歴国別コードトップレベルドメイン (ccTLD)   \n",
       " 2   ISO 3166-1 A .ac .ad .ae .af .ag .ai .al .am ....   \n",
       " 3                                          ISO 3166-1   \n",
       " 4   A .ac .ad .ae .af .ag .ai .al .am .ao .aq .ar ...   \n",
       " 5   国際化(IDN) ccTLD キリル文字アラビア文字ブラーフミー系文字漢字その他の文字 .б...   \n",
       " 6                                      国際化(IDN) ccTLD   \n",
       " 7   キリル文字アラビア文字ブラーフミー系文字漢字その他の文字 .бг (bg, ブルガリア) ....   \n",
       " 8   キリル文字アラビア文字ブラーフミー系文字漢字その他の文字 .бг (bg, ブルガリア) ....   \n",
       " 9                                               キリル文字   \n",
       " 10  .бг (bg, ブルガリア) .бел (bel, ベラルーシ) .қаз (qaz, カ...   \n",
       " 11                       提案中  .κπ (kp, キプロス) .日本 (日本)   \n",
       " 12                                                提案中   \n",
       " 13                            .κπ (kp, キプロス) .日本 (日本)   \n",
       " 14                            .κπ (kp, キプロス) .日本 (日本)   \n",
       " 15                                                NaN   \n",
       " 16  その他 予約済 / 未割当割当済 / 未使用段階的廃止 / ISO 3166-1から削除削除...   \n",
       " 17                                                その他   \n",
       " 18  予約済 / 未割当割当済 / 未使用段階的廃止 / ISO 3166-1から削除削除 / 撤...   \n",
       " 19  予約済 / 未割当割当済 / 未使用段階的廃止 / ISO 3166-1から削除削除 / 撤...   \n",
       " 20                                          予約済 / 未割当   \n",
       " 21                                    .bl .bq .eh .mf   \n",
       " 22                    関連項目 - ジェネリックトップレベルドメイン - 国名コード   \n",
       " \n",
       "                                                     1  \\\n",
       " 0                                                 NaN   \n",
       " 1                         表話編歴国別コードトップレベルドメイン (ccTLD)   \n",
       " 2                                                 NaN   \n",
       " 3                                          ISO 3166-1   \n",
       " 4   A .ac .ad .ae .af .ag .ai .al .am .ao .aq .ar ...   \n",
       " 5                                                 NaN   \n",
       " 6                                      国際化(IDN) ccTLD   \n",
       " 7   キリル文字アラビア文字ブラーフミー系文字漢字その他の文字 .бг (bg, ブルガリア) ....   \n",
       " 8   キリル文字アラビア文字ブラーフミー系文字漢字その他の文字 .бг (bg, ブルガリア) ....   \n",
       " 9                                              アラビア文字   \n",
       " 10  الجزائر. (al-Jazā’ir, アルジェリア) مصر. (Masr, エジプト...   \n",
       " 11                                                NaN   \n",
       " 12                                                提案中   \n",
       " 13                            .κπ (kp, キプロス) .日本 (日本)   \n",
       " 14                            .κπ (kp, キプロス) .日本 (日本)   \n",
       " 15                            .κπ (kp, キプロス) .日本 (日本)   \n",
       " 16                                                NaN   \n",
       " 17                                                その他   \n",
       " 18  予約済 / 未割当割当済 / 未使用段階的廃止 / ISO 3166-1から削除削除 / 撤...   \n",
       " 19  予約済 / 未割当割当済 / 未使用段階的廃止 / ISO 3166-1から削除削除 / 撤...   \n",
       " 20                                          割当済 / 未使用   \n",
       " 21                                        .bv .gb .sj   \n",
       " 22                    関連項目 - ジェネリックトップレベルドメイン - 国名コード   \n",
       " \n",
       "                                                     2  \\\n",
       " 0                                                 NaN   \n",
       " 1                                                 NaN   \n",
       " 2                                                 NaN   \n",
       " 3                                                 NaN   \n",
       " 4                                                 NaN   \n",
       " 5                                                 NaN   \n",
       " 6                                                 NaN   \n",
       " 7                                                 NaN   \n",
       " 8                                                 NaN   \n",
       " 9                                           ブラーフミー系文字   \n",
       " 10  .বাংলা (Bangla, バングラデシュ) .ভাৰত (Bharôt, インド) ....   \n",
       " 11                                                NaN   \n",
       " 12                                                NaN   \n",
       " 13                                                NaN   \n",
       " 14                                                NaN   \n",
       " 15                                                NaN   \n",
       " 16                                                NaN   \n",
       " 17                                                NaN   \n",
       " 18                                                NaN   \n",
       " 19                                                NaN   \n",
       " 20                             段階的廃止 / ISO 3166-1から削除   \n",
       " 21                                                .su   \n",
       " 22                                                NaN   \n",
       " \n",
       "                                                     3  \\\n",
       " 0                                                 NaN   \n",
       " 1                                                 NaN   \n",
       " 2                                                 NaN   \n",
       " 3                                                 NaN   \n",
       " 4                                                 NaN   \n",
       " 5                                                 NaN   \n",
       " 6                                                 NaN   \n",
       " 7                                                 NaN   \n",
       " 8                                                 NaN   \n",
       " 9                                                  漢字   \n",
       " 10  .中国 (中国) .中國 (中国) .香港 (香港) .台灣 (台湾) .台湾 (台湾) ....   \n",
       " 11                                                NaN   \n",
       " 12                                                NaN   \n",
       " 13                                                NaN   \n",
       " 14                                                NaN   \n",
       " 15                                                NaN   \n",
       " 16                                                NaN   \n",
       " 17                                                NaN   \n",
       " 18                                                NaN   \n",
       " 19                                                NaN   \n",
       " 20                                            削除 / 撤退   \n",
       " 21                    .an .bu .cs .dd .tp .um .yu .zr   \n",
       " 22                                                NaN   \n",
       " \n",
       "                                                     4  \n",
       " 0                                                 NaN  \n",
       " 1                                                 NaN  \n",
       " 2                                                 NaN  \n",
       " 3                                                 NaN  \n",
       " 4                                                 NaN  \n",
       " 5                                                 NaN  \n",
       " 6                                                 NaN  \n",
       " 7                                                 NaN  \n",
       " 8                                                 NaN  \n",
       " 9                                              その他の文字  \n",
       " 10  .გე (ge, ジョージア) .ελ (el, ギリシャ) .한국 (韓国) .հայ (...  \n",
       " 11                                                NaN  \n",
       " 12                                                NaN  \n",
       " 13                                                NaN  \n",
       " 14                                                NaN  \n",
       " 15                                                NaN  \n",
       " 16                                                NaN  \n",
       " 17                                                NaN  \n",
       " 18                                                NaN  \n",
       " 19                                                NaN  \n",
       " 20                                                NaN  \n",
       " 21                                                NaN  \n",
       " 22                                                NaN  ,\n",
       "                           表話編歴国別コードトップレベルドメイン (ccTLD)  \\\n",
       " 0   ISO 3166-1 A .ac .ad .ae .af .ag .ai .al .am ....   \n",
       " 1                                          ISO 3166-1   \n",
       " 2   A .ac .ad .ae .af .ag .ai .al .am .ao .aq .ar ...   \n",
       " 3   国際化(IDN) ccTLD キリル文字アラビア文字ブラーフミー系文字漢字その他の文字 .б...   \n",
       " 4                                      国際化(IDN) ccTLD   \n",
       " 5   キリル文字アラビア文字ブラーフミー系文字漢字その他の文字 .бг (bg, ブルガリア) ....   \n",
       " 6   キリル文字アラビア文字ブラーフミー系文字漢字その他の文字 .бг (bg, ブルガリア) ....   \n",
       " 7                                               キリル文字   \n",
       " 8   .бг (bg, ブルガリア) .бел (bel, ベラルーシ) .қаз (qaz, カ...   \n",
       " 9                        提案中  .κπ (kp, キプロス) .日本 (日本)   \n",
       " 10                                                提案中   \n",
       " 11                            .κπ (kp, キプロス) .日本 (日本)   \n",
       " 12                            .κπ (kp, キプロス) .日本 (日本)   \n",
       " 13                                                NaN   \n",
       " 14  その他 予約済 / 未割当割当済 / 未使用段階的廃止 / ISO 3166-1から削除削除...   \n",
       " 15                                                その他   \n",
       " 16  予約済 / 未割当割当済 / 未使用段階的廃止 / ISO 3166-1から削除削除 / 撤...   \n",
       " 17  予約済 / 未割当割当済 / 未使用段階的廃止 / ISO 3166-1から削除削除 / 撤...   \n",
       " 18                                          予約済 / 未割当   \n",
       " 19                                    .bl .bq .eh .mf   \n",
       " 20                    関連項目 - ジェネリックトップレベルドメイン - 国名コード   \n",
       " \n",
       "                         表話編歴国別コードトップレベルドメイン (ccTLD).1  \\\n",
       " 0                                                 NaN   \n",
       " 1                                          ISO 3166-1   \n",
       " 2   A .ac .ad .ae .af .ag .ai .al .am .ao .aq .ar ...   \n",
       " 3                                                 NaN   \n",
       " 4                                      国際化(IDN) ccTLD   \n",
       " 5   キリル文字アラビア文字ブラーフミー系文字漢字その他の文字 .бг (bg, ブルガリア) ....   \n",
       " 6   キリル文字アラビア文字ブラーフミー系文字漢字その他の文字 .бг (bg, ブルガリア) ....   \n",
       " 7                                              アラビア文字   \n",
       " 8   الجزائر. (al-Jazā’ir, アルジェリア) مصر. (Masr, エジプト...   \n",
       " 9                                                 NaN   \n",
       " 10                                                提案中   \n",
       " 11                            .κπ (kp, キプロス) .日本 (日本)   \n",
       " 12                            .κπ (kp, キプロス) .日本 (日本)   \n",
       " 13                            .κπ (kp, キプロス) .日本 (日本)   \n",
       " 14                                                NaN   \n",
       " 15                                                その他   \n",
       " 16  予約済 / 未割当割当済 / 未使用段階的廃止 / ISO 3166-1から削除削除 / 撤...   \n",
       " 17  予約済 / 未割当割当済 / 未使用段階的廃止 / ISO 3166-1から削除削除 / 撤...   \n",
       " 18                                          割当済 / 未使用   \n",
       " 19                                        .bv .gb .sj   \n",
       " 20                    関連項目 - ジェネリックトップレベルドメイン - 国名コード   \n",
       " \n",
       "                                            Unnamed: 2  \\\n",
       " 0                                                 NaN   \n",
       " 1                                                 NaN   \n",
       " 2                                                 NaN   \n",
       " 3                                                 NaN   \n",
       " 4                                                 NaN   \n",
       " 5                                                 NaN   \n",
       " 6                                                 NaN   \n",
       " 7                                           ブラーフミー系文字   \n",
       " 8   .বাংলা (Bangla, バングラデシュ) .ভাৰত (Bharôt, インド) ....   \n",
       " 9                                                 NaN   \n",
       " 10                                                NaN   \n",
       " 11                                                NaN   \n",
       " 12                                                NaN   \n",
       " 13                                                NaN   \n",
       " 14                                                NaN   \n",
       " 15                                                NaN   \n",
       " 16                                                NaN   \n",
       " 17                                                NaN   \n",
       " 18                             段階的廃止 / ISO 3166-1から削除   \n",
       " 19                                                .su   \n",
       " 20                                                NaN   \n",
       " \n",
       "                                            Unnamed: 3  \\\n",
       " 0                                                 NaN   \n",
       " 1                                                 NaN   \n",
       " 2                                                 NaN   \n",
       " 3                                                 NaN   \n",
       " 4                                                 NaN   \n",
       " 5                                                 NaN   \n",
       " 6                                                 NaN   \n",
       " 7                                                  漢字   \n",
       " 8   .中国 (中国) .中國 (中国) .香港 (香港) .台灣 (台湾) .台湾 (台湾) ....   \n",
       " 9                                                 NaN   \n",
       " 10                                                NaN   \n",
       " 11                                                NaN   \n",
       " 12                                                NaN   \n",
       " 13                                                NaN   \n",
       " 14                                                NaN   \n",
       " 15                                                NaN   \n",
       " 16                                                NaN   \n",
       " 17                                                NaN   \n",
       " 18                                            削除 / 撤退   \n",
       " 19                    .an .bu .cs .dd .tp .um .yu .zr   \n",
       " 20                                                NaN   \n",
       " \n",
       "                                            Unnamed: 4  \n",
       " 0                                                 NaN  \n",
       " 1                                                 NaN  \n",
       " 2                                                 NaN  \n",
       " 3                                                 NaN  \n",
       " 4                                                 NaN  \n",
       " 5                                                 NaN  \n",
       " 6                                                 NaN  \n",
       " 7                                              その他の文字  \n",
       " 8   .გე (ge, ジョージア) .ελ (el, ギリシャ) .한국 (韓国) .հայ (...  \n",
       " 9                                                 NaN  \n",
       " 10                                                NaN  \n",
       " 11                                                NaN  \n",
       " 12                                                NaN  \n",
       " 13                                                NaN  \n",
       " 14                                                NaN  \n",
       " 15                                                NaN  \n",
       " 16                                                NaN  \n",
       " 17                                                NaN  \n",
       " 18                                                NaN  \n",
       " 19                                                NaN  \n",
       " 20                                                NaN  ,\n",
       "                                           ISO 3166-1  \\\n",
       " 0  A .ac .ad .ae .af .ag .ai .al .am .ao .aq .ar ...   \n",
       " \n",
       "                                         ISO 3166-1.1  \n",
       " 0  A .ac .ad .ae .af .ag .ai .al .am .ao .aq .ar ...  ,\n",
       "                                       国際化(IDN) ccTLD  \\\n",
       " 0  キリル文字アラビア文字ブラーフミー系文字漢字その他の文字 .бг (bg, ブルガリア) ....   \n",
       " 1  キリル文字アラビア文字ブラーフミー系文字漢字その他の文字 .бг (bg, ブルガリア) ....   \n",
       " 2                                              キリル文字   \n",
       " 3  .бг (bg, ブルガリア) .бел (bel, ベラルーシ) .қаз (qaz, カ...   \n",
       " \n",
       "                                     国際化(IDN) ccTLD.1  \\\n",
       " 0  キリル文字アラビア文字ブラーフミー系文字漢字その他の文字 .бг (bg, ブルガリア) ....   \n",
       " 1  キリル文字アラビア文字ブラーフミー系文字漢字その他の文字 .бг (bg, ブルガリア) ....   \n",
       " 2                                             アラビア文字   \n",
       " 3  الجزائر. (al-Jazā’ir, アルジェリア) مصر. (Masr, エジプト...   \n",
       " \n",
       "                                           Unnamed: 2  \\\n",
       " 0                                                NaN   \n",
       " 1                                                NaN   \n",
       " 2                                          ブラーフミー系文字   \n",
       " 3  .বাংলা (Bangla, バングラデシュ) .ভাৰত (Bharôt, インド) ....   \n",
       " \n",
       "                                           Unnamed: 3  \\\n",
       " 0                                                NaN   \n",
       " 1                                                NaN   \n",
       " 2                                                 漢字   \n",
       " 3  .中国 (中国) .中國 (中国) .香港 (香港) .台灣 (台湾) .台湾 (台湾) ....   \n",
       " \n",
       "                                           Unnamed: 4  \n",
       " 0                                                NaN  \n",
       " 1                                                NaN  \n",
       " 2                                             その他の文字  \n",
       " 3  .გე (ge, ジョージア) .ελ (el, ギリシャ) .한국 (韓国) .հայ (...  ,\n",
       "                                                    0  \\\n",
       " 0  キリル文字アラビア文字ブラーフミー系文字漢字その他の文字 .бг (bg, ブルガリア) ....   \n",
       " 1                                              キリル文字   \n",
       " 2  .бг (bg, ブルガリア) .бел (bel, ベラルーシ) .қаз (qaz, カ...   \n",
       " \n",
       "                                                    1  \\\n",
       " 0  キリル文字アラビア文字ブラーフミー系文字漢字その他の文字 .бг (bg, ブルガリア) ....   \n",
       " 1                                             アラビア文字   \n",
       " 2  الجزائر. (al-Jazā’ir, アルジェリア) مصر. (Masr, エジプト...   \n",
       " \n",
       "                                                    2  \\\n",
       " 0                                                NaN   \n",
       " 1                                          ブラーフミー系文字   \n",
       " 2  .বাংলা (Bangla, バングラデシュ) .ভাৰত (Bharôt, インド) ....   \n",
       " \n",
       "                                                    3  \\\n",
       " 0                                                NaN   \n",
       " 1                                                 漢字   \n",
       " 2  .中国 (中国) .中國 (中国) .香港 (香港) .台灣 (台湾) .台湾 (台湾) ....   \n",
       " \n",
       "                                                    4  \n",
       " 0                                                NaN  \n",
       " 1                                             その他の文字  \n",
       " 2  .გე (ge, ジョージア) .ελ (el, ギリシャ) .한국 (韓国) .հայ (...  ,\n",
       "                                                    0  \\\n",
       " 0                                              キリル文字   \n",
       " 1  .бг (bg, ブルガリア) .бел (bel, ベラルーシ) .қаз (qaz, カ...   \n",
       " \n",
       "                                                    1  \\\n",
       " 0                                             アラビア文字   \n",
       " 1  الجزائر. (al-Jazā’ir, アルジェリア) مصر. (Masr, エジプト...   \n",
       " \n",
       "                                                    2  \\\n",
       " 0                                          ブラーフミー系文字   \n",
       " 1  .বাংলা (Bangla, バングラデシュ) .ভাৰত (Bharôt, インド) ....   \n",
       " \n",
       "                                                    3  \\\n",
       " 0                                                 漢字   \n",
       " 1  .中国 (中国) .中國 (中国) .香港 (香港) .台灣 (台湾) .台湾 (台湾) ....   \n",
       " \n",
       "                                                    4  \n",
       " 0                                             その他の文字  \n",
       " 1  .გე (ge, ジョージア) .ελ (el, ギリシャ) .한국 (韓国) .հայ (...  ,\n",
       "                        提案中                    提案中.1\n",
       " 0  .κπ (kp, キプロス) .日本 (日本)  .κπ (kp, キプロス) .日本 (日本)\n",
       " 1  .κπ (kp, キプロス) .日本 (日本)  .κπ (kp, キプロス) .日本 (日本)\n",
       " 2                      NaN  .κπ (kp, キプロス) .日本 (日本),\n",
       "                          0                        1\n",
       " 0  .κπ (kp, キプロス) .日本 (日本)  .κπ (kp, キプロス) .日本 (日本)\n",
       " 1                      NaN  .κπ (kp, キプロス) .日本 (日本),\n",
       "     0                        1\n",
       " 0 NaN  .κπ (kp, キプロス) .日本 (日本),\n",
       "                                                  その他  \\\n",
       " 0  予約済 / 未割当割当済 / 未使用段階的廃止 / ISO 3166-1から削除削除 / 撤...   \n",
       " 1  予約済 / 未割当割当済 / 未使用段階的廃止 / ISO 3166-1から削除削除 / 撤...   \n",
       " 2                                          予約済 / 未割当   \n",
       " 3                                    .bl .bq .eh .mf   \n",
       " \n",
       "                                                その他.1              Unnamed: 2  \\\n",
       " 0  予約済 / 未割当割当済 / 未使用段階的廃止 / ISO 3166-1から削除削除 / 撤...                     NaN   \n",
       " 1  予約済 / 未割当割当済 / 未使用段階的廃止 / ISO 3166-1から削除削除 / 撤...                     NaN   \n",
       " 2                                          割当済 / 未使用  段階的廃止 / ISO 3166-1から削除   \n",
       " 3                                        .bv .gb .sj                     .su   \n",
       " \n",
       "                         Unnamed: 3  \n",
       " 0                              NaN  \n",
       " 1                              NaN  \n",
       " 2                          削除 / 撤退  \n",
       " 3  .an .bu .cs .dd .tp .um .yu .zr  ,\n",
       "                                                    0  \\\n",
       " 0  予約済 / 未割当割当済 / 未使用段階的廃止 / ISO 3166-1から削除削除 / 撤...   \n",
       " 1                                          予約済 / 未割当   \n",
       " 2                                    .bl .bq .eh .mf   \n",
       " \n",
       "                                                    1                       2  \\\n",
       " 0  予約済 / 未割当割当済 / 未使用段階的廃止 / ISO 3166-1から削除削除 / 撤...                     NaN   \n",
       " 1                                          割当済 / 未使用  段階的廃止 / ISO 3166-1から削除   \n",
       " 2                                        .bv .gb .sj                     .su   \n",
       " \n",
       "                                  3  \n",
       " 0                              NaN  \n",
       " 1                          削除 / 撤退  \n",
       " 2  .an .bu .cs .dd .tp .um .yu .zr  ,\n",
       "                  0            1                       2  \\\n",
       " 0        予約済 / 未割当    割当済 / 未使用  段階的廃止 / ISO 3166-1から削除   \n",
       " 1  .bl .bq .eh .mf  .bv .gb .sj                     .su   \n",
       " \n",
       "                                  3  \n",
       " 0                          削除 / 撤退  \n",
       " 1  .an .bu .cs .dd .tp .um .yu .zr  ]"
      ]
     },
     "execution_count": 50,
     "metadata": {},
     "output_type": "execute_result"
    }
   ],
   "source": [
    "tables"
   ]
  },
  {
   "cell_type": "code",
   "execution_count": 52,
   "metadata": {},
   "outputs": [
    {
     "data": {
      "text/html": [
       "<div>\n",
       "<style scoped>\n",
       "    .dataframe tbody tr th:only-of-type {\n",
       "        vertical-align: middle;\n",
       "    }\n",
       "\n",
       "    .dataframe tbody tr th {\n",
       "        vertical-align: top;\n",
       "    }\n",
       "\n",
       "    .dataframe thead th {\n",
       "        text-align: right;\n",
       "    }\n",
       "</style>\n",
       "<table border=\"1\" class=\"dataframe\">\n",
       "  <thead>\n",
       "    <tr style=\"text-align: right;\">\n",
       "      <th></th>\n",
       "      <th>Name</th>\n",
       "      <th>Entity</th>\n",
       "      <th>Explanation</th>\n",
       "      <th>Notes</th>\n",
       "      <th>IDN</th>\n",
       "      <th>DNSSEC</th>\n",
       "      <th>SLD</th>\n",
       "      <th>IPv6</th>\n",
       "    </tr>\n",
       "  </thead>\n",
       "  <tbody>\n",
       "    <tr>\n",
       "      <th>0</th>\n",
       "      <td>.ac</td>\n",
       "      <td>アセンション島</td>\n",
       "      <td>NaN</td>\n",
       "      <td>広く学術的なサイト（大学など）のために用いられる。アセンション島はイギリス領であるが、イギリ...</td>\n",
       "      <td>Yes</td>\n",
       "      <td>Yes</td>\n",
       "      <td>Yes</td>\n",
       "      <td>Yes</td>\n",
       "    </tr>\n",
       "    <tr>\n",
       "      <th>1</th>\n",
       "      <td>.ad</td>\n",
       "      <td>アンドラ</td>\n",
       "      <td>NaN</td>\n",
       "      <td>アンドラにおける商標または市民権が必要となる[7][8]。</td>\n",
       "      <td>NaN</td>\n",
       "      <td>Yes</td>\n",
       "      <td>Yes</td>\n",
       "      <td>NaN</td>\n",
       "    </tr>\n",
       "    <tr>\n",
       "      <th>2</th>\n",
       "      <td>.ae</td>\n",
       "      <td>アラブ首長国連邦</td>\n",
       "      <td>NaN</td>\n",
       "      <td>NaN</td>\n",
       "      <td>NaN</td>\n",
       "      <td>No</td>\n",
       "      <td>Yes</td>\n",
       "      <td>NaN</td>\n",
       "    </tr>\n",
       "    <tr>\n",
       "      <th>3</th>\n",
       "      <td>.af</td>\n",
       "      <td>アフガニスタン</td>\n",
       "      <td>NaN</td>\n",
       "      <td>NaN</td>\n",
       "      <td>NaN</td>\n",
       "      <td>Yes</td>\n",
       "      <td>Yes</td>\n",
       "      <td>NaN</td>\n",
       "    </tr>\n",
       "    <tr>\n",
       "      <th>4</th>\n",
       "      <td>.ag</td>\n",
       "      <td>アンティグア・バーブーダ</td>\n",
       "      <td>NaN</td>\n",
       "      <td>AGがドイツの株式会社(Aktiengesellschaft)の略称であることから、非公式に...</td>\n",
       "      <td>NaN</td>\n",
       "      <td>Yes</td>\n",
       "      <td>Yes</td>\n",
       "      <td>NaN</td>\n",
       "    </tr>\n",
       "  </tbody>\n",
       "</table>\n",
       "</div>"
      ],
      "text/plain": [
       "  Name        Entity Explanation  \\\n",
       "0  .ac       アセンション島         NaN   \n",
       "1  .ad          アンドラ         NaN   \n",
       "2  .ae      アラブ首長国連邦         NaN   \n",
       "3  .af       アフガニスタン         NaN   \n",
       "4  .ag  アンティグア・バーブーダ         NaN   \n",
       "\n",
       "                                               Notes  IDN DNSSEC  SLD IPv6  \n",
       "0  広く学術的なサイト（大学など）のために用いられる。アセンション島はイギリス領であるが、イギリ...  Yes    Yes  Yes  Yes  \n",
       "1                      アンドラにおける商標または市民権が必要となる[7][8]。  NaN    Yes  Yes  NaN  \n",
       "2                                                NaN  NaN     No  Yes  NaN  \n",
       "3                                                NaN  NaN    Yes  Yes  NaN  \n",
       "4  AGがドイツの株式会社(Aktiengesellschaft)の略称であることから、非公式に...  NaN    Yes  Yes  NaN  "
      ]
     },
     "execution_count": 52,
     "metadata": {},
     "output_type": "execute_result"
    }
   ],
   "source": [
    "df = tables[4]\n",
    "df.head()"
   ]
  },
  {
   "cell_type": "code",
   "execution_count": 53,
   "metadata": {},
   "outputs": [
    {
     "data": {
      "text/plain": [
       "(253, 8)"
      ]
     },
     "execution_count": 53,
     "metadata": {},
     "output_type": "execute_result"
    }
   ],
   "source": [
    "df.shape"
   ]
  },
  {
   "cell_type": "code",
   "execution_count": 56,
   "metadata": {
    "collapsed": true,
    "jupyter": {
     "outputs_hidden": true
    }
   },
   "outputs": [
    {
     "ename": "UndefinedVariableError",
     "evalue": "name 'Yes' is not defined",
     "output_type": "error",
     "traceback": [
      "\u001b[0;31m-------------------------------------\u001b[0m",
      "\u001b[0;31mKeyError\u001b[0mTraceback (most recent call last)",
      "\u001b[0;32m~/.pyenv/versions/3.8.5/lib/python3.8/site-packages/pandas/core/computation/scope.py\u001b[0m in \u001b[0;36mresolve\u001b[0;34m(self, key, is_local)\u001b[0m\n\u001b[1;32m    187\u001b[0m             \u001b[0;32mif\u001b[0m \u001b[0mself\u001b[0m\u001b[0;34m.\u001b[0m\u001b[0mhas_resolvers\u001b[0m\u001b[0;34m:\u001b[0m\u001b[0;34m\u001b[0m\u001b[0;34m\u001b[0m\u001b[0m\n\u001b[0;32m--> 188\u001b[0;31m                 \u001b[0;32mreturn\u001b[0m \u001b[0mself\u001b[0m\u001b[0;34m.\u001b[0m\u001b[0mresolvers\u001b[0m\u001b[0;34m[\u001b[0m\u001b[0mkey\u001b[0m\u001b[0;34m]\u001b[0m\u001b[0;34m\u001b[0m\u001b[0;34m\u001b[0m\u001b[0m\n\u001b[0m\u001b[1;32m    189\u001b[0m \u001b[0;34m\u001b[0m\u001b[0m\n",
      "\u001b[0;32m~/.pyenv/versions/3.8.5/lib/python3.8/collections/__init__.py\u001b[0m in \u001b[0;36m__getitem__\u001b[0;34m(self, key)\u001b[0m\n\u001b[1;32m    897\u001b[0m                 \u001b[0;32mpass\u001b[0m\u001b[0;34m\u001b[0m\u001b[0;34m\u001b[0m\u001b[0m\n\u001b[0;32m--> 898\u001b[0;31m         \u001b[0;32mreturn\u001b[0m \u001b[0mself\u001b[0m\u001b[0;34m.\u001b[0m\u001b[0m__missing__\u001b[0m\u001b[0;34m(\u001b[0m\u001b[0mkey\u001b[0m\u001b[0;34m)\u001b[0m            \u001b[0;31m# support subclasses that define __missing__\u001b[0m\u001b[0;34m\u001b[0m\u001b[0;34m\u001b[0m\u001b[0m\n\u001b[0m\u001b[1;32m    899\u001b[0m \u001b[0;34m\u001b[0m\u001b[0m\n",
      "\u001b[0;32m~/.pyenv/versions/3.8.5/lib/python3.8/collections/__init__.py\u001b[0m in \u001b[0;36m__missing__\u001b[0;34m(self, key)\u001b[0m\n\u001b[1;32m    889\u001b[0m     \u001b[0;32mdef\u001b[0m \u001b[0m__missing__\u001b[0m\u001b[0;34m(\u001b[0m\u001b[0mself\u001b[0m\u001b[0;34m,\u001b[0m \u001b[0mkey\u001b[0m\u001b[0;34m)\u001b[0m\u001b[0;34m:\u001b[0m\u001b[0;34m\u001b[0m\u001b[0;34m\u001b[0m\u001b[0m\n\u001b[0;32m--> 890\u001b[0;31m         \u001b[0;32mraise\u001b[0m \u001b[0mKeyError\u001b[0m\u001b[0;34m(\u001b[0m\u001b[0mkey\u001b[0m\u001b[0;34m)\u001b[0m\u001b[0;34m\u001b[0m\u001b[0;34m\u001b[0m\u001b[0m\n\u001b[0m\u001b[1;32m    891\u001b[0m \u001b[0;34m\u001b[0m\u001b[0m\n",
      "\u001b[0;31mKeyError\u001b[0m: 'Yes'",
      "\nDuring handling of the above exception, another exception occurred:\n",
      "\u001b[0;31mKeyError\u001b[0mTraceback (most recent call last)",
      "\u001b[0;32m~/.pyenv/versions/3.8.5/lib/python3.8/site-packages/pandas/core/computation/scope.py\u001b[0m in \u001b[0;36mresolve\u001b[0;34m(self, key, is_local)\u001b[0m\n\u001b[1;32m    198\u001b[0m                 \u001b[0;31m# e.g., df[df > 0]\u001b[0m\u001b[0;34m\u001b[0m\u001b[0;34m\u001b[0m\u001b[0;34m\u001b[0m\u001b[0m\n\u001b[0;32m--> 199\u001b[0;31m                 \u001b[0;32mreturn\u001b[0m \u001b[0mself\u001b[0m\u001b[0;34m.\u001b[0m\u001b[0mtemps\u001b[0m\u001b[0;34m[\u001b[0m\u001b[0mkey\u001b[0m\u001b[0;34m]\u001b[0m\u001b[0;34m\u001b[0m\u001b[0;34m\u001b[0m\u001b[0m\n\u001b[0m\u001b[1;32m    200\u001b[0m             \u001b[0;32mexcept\u001b[0m \u001b[0mKeyError\u001b[0m \u001b[0;32mas\u001b[0m \u001b[0merr\u001b[0m\u001b[0;34m:\u001b[0m\u001b[0;34m\u001b[0m\u001b[0;34m\u001b[0m\u001b[0m\n",
      "\u001b[0;31mKeyError\u001b[0m: 'Yes'",
      "\nThe above exception was the direct cause of the following exception:\n",
      "\u001b[0;31mUndefinedVariableError\u001b[0mTraceback (most recent call last)",
      "\u001b[0;32m<ipython-input-56-83590b86c2a5>\u001b[0m in \u001b[0;36m<module>\u001b[0;34m\u001b[0m\n\u001b[0;32m----> 1\u001b[0;31m \u001b[0mdf\u001b[0m\u001b[0;34m.\u001b[0m\u001b[0mquery\u001b[0m\u001b[0;34m(\u001b[0m\u001b[0;34m\"IDN ==  Yes and SLD == Yes\"\u001b[0m\u001b[0;34m)\u001b[0m\u001b[0;34m\u001b[0m\u001b[0;34m\u001b[0m\u001b[0m\n\u001b[0m",
      "\u001b[0;32m~/.pyenv/versions/3.8.5/lib/python3.8/site-packages/pandas/core/frame.py\u001b[0m in \u001b[0;36mquery\u001b[0;34m(self, expr, inplace, **kwargs)\u001b[0m\n\u001b[1;32m   3343\u001b[0m         \u001b[0mkwargs\u001b[0m\u001b[0;34m[\u001b[0m\u001b[0;34m\"level\"\u001b[0m\u001b[0;34m]\u001b[0m \u001b[0;34m=\u001b[0m \u001b[0mkwargs\u001b[0m\u001b[0;34m.\u001b[0m\u001b[0mpop\u001b[0m\u001b[0;34m(\u001b[0m\u001b[0;34m\"level\"\u001b[0m\u001b[0;34m,\u001b[0m \u001b[0;36m0\u001b[0m\u001b[0;34m)\u001b[0m \u001b[0;34m+\u001b[0m \u001b[0;36m1\u001b[0m\u001b[0;34m\u001b[0m\u001b[0;34m\u001b[0m\u001b[0m\n\u001b[1;32m   3344\u001b[0m         \u001b[0mkwargs\u001b[0m\u001b[0;34m[\u001b[0m\u001b[0;34m\"target\"\u001b[0m\u001b[0;34m]\u001b[0m \u001b[0;34m=\u001b[0m \u001b[0;32mNone\u001b[0m\u001b[0;34m\u001b[0m\u001b[0;34m\u001b[0m\u001b[0m\n\u001b[0;32m-> 3345\u001b[0;31m         \u001b[0mres\u001b[0m \u001b[0;34m=\u001b[0m \u001b[0mself\u001b[0m\u001b[0;34m.\u001b[0m\u001b[0meval\u001b[0m\u001b[0;34m(\u001b[0m\u001b[0mexpr\u001b[0m\u001b[0;34m,\u001b[0m \u001b[0;34m**\u001b[0m\u001b[0mkwargs\u001b[0m\u001b[0;34m)\u001b[0m\u001b[0;34m\u001b[0m\u001b[0;34m\u001b[0m\u001b[0m\n\u001b[0m\u001b[1;32m   3346\u001b[0m \u001b[0;34m\u001b[0m\u001b[0m\n\u001b[1;32m   3347\u001b[0m         \u001b[0;32mtry\u001b[0m\u001b[0;34m:\u001b[0m\u001b[0;34m\u001b[0m\u001b[0;34m\u001b[0m\u001b[0m\n",
      "\u001b[0;32m~/.pyenv/versions/3.8.5/lib/python3.8/site-packages/pandas/core/frame.py\u001b[0m in \u001b[0;36meval\u001b[0;34m(self, expr, inplace, **kwargs)\u001b[0m\n\u001b[1;32m   3473\u001b[0m         \u001b[0mkwargs\u001b[0m\u001b[0;34m[\u001b[0m\u001b[0;34m\"resolvers\"\u001b[0m\u001b[0;34m]\u001b[0m \u001b[0;34m=\u001b[0m \u001b[0mkwargs\u001b[0m\u001b[0;34m.\u001b[0m\u001b[0mget\u001b[0m\u001b[0;34m(\u001b[0m\u001b[0;34m\"resolvers\"\u001b[0m\u001b[0;34m,\u001b[0m \u001b[0;34m(\u001b[0m\u001b[0;34m)\u001b[0m\u001b[0;34m)\u001b[0m \u001b[0;34m+\u001b[0m \u001b[0mtuple\u001b[0m\u001b[0;34m(\u001b[0m\u001b[0mresolvers\u001b[0m\u001b[0;34m)\u001b[0m\u001b[0;34m\u001b[0m\u001b[0;34m\u001b[0m\u001b[0m\n\u001b[1;32m   3474\u001b[0m \u001b[0;34m\u001b[0m\u001b[0m\n\u001b[0;32m-> 3475\u001b[0;31m         \u001b[0;32mreturn\u001b[0m \u001b[0m_eval\u001b[0m\u001b[0;34m(\u001b[0m\u001b[0mexpr\u001b[0m\u001b[0;34m,\u001b[0m \u001b[0minplace\u001b[0m\u001b[0;34m=\u001b[0m\u001b[0minplace\u001b[0m\u001b[0;34m,\u001b[0m \u001b[0;34m**\u001b[0m\u001b[0mkwargs\u001b[0m\u001b[0;34m)\u001b[0m\u001b[0;34m\u001b[0m\u001b[0;34m\u001b[0m\u001b[0m\n\u001b[0m\u001b[1;32m   3476\u001b[0m \u001b[0;34m\u001b[0m\u001b[0m\n\u001b[1;32m   3477\u001b[0m     \u001b[0;32mdef\u001b[0m \u001b[0mselect_dtypes\u001b[0m\u001b[0;34m(\u001b[0m\u001b[0mself\u001b[0m\u001b[0;34m,\u001b[0m \u001b[0minclude\u001b[0m\u001b[0;34m=\u001b[0m\u001b[0;32mNone\u001b[0m\u001b[0;34m,\u001b[0m \u001b[0mexclude\u001b[0m\u001b[0;34m=\u001b[0m\u001b[0;32mNone\u001b[0m\u001b[0;34m)\u001b[0m \u001b[0;34m->\u001b[0m \u001b[0;34m\"DataFrame\"\u001b[0m\u001b[0;34m:\u001b[0m\u001b[0;34m\u001b[0m\u001b[0;34m\u001b[0m\u001b[0m\n",
      "\u001b[0;32m~/.pyenv/versions/3.8.5/lib/python3.8/site-packages/pandas/core/computation/eval.py\u001b[0m in \u001b[0;36meval\u001b[0;34m(expr, parser, engine, truediv, local_dict, global_dict, resolvers, level, target, inplace)\u001b[0m\n\u001b[1;32m    339\u001b[0m         )\n\u001b[1;32m    340\u001b[0m \u001b[0;34m\u001b[0m\u001b[0m\n\u001b[0;32m--> 341\u001b[0;31m         \u001b[0mparsed_expr\u001b[0m \u001b[0;34m=\u001b[0m \u001b[0mExpr\u001b[0m\u001b[0;34m(\u001b[0m\u001b[0mexpr\u001b[0m\u001b[0;34m,\u001b[0m \u001b[0mengine\u001b[0m\u001b[0;34m=\u001b[0m\u001b[0mengine\u001b[0m\u001b[0;34m,\u001b[0m \u001b[0mparser\u001b[0m\u001b[0;34m=\u001b[0m\u001b[0mparser\u001b[0m\u001b[0;34m,\u001b[0m \u001b[0menv\u001b[0m\u001b[0;34m=\u001b[0m\u001b[0menv\u001b[0m\u001b[0;34m)\u001b[0m\u001b[0;34m\u001b[0m\u001b[0;34m\u001b[0m\u001b[0m\n\u001b[0m\u001b[1;32m    342\u001b[0m \u001b[0;34m\u001b[0m\u001b[0m\n\u001b[1;32m    343\u001b[0m         \u001b[0;31m# construct the engine and evaluate the parsed expression\u001b[0m\u001b[0;34m\u001b[0m\u001b[0;34m\u001b[0m\u001b[0;34m\u001b[0m\u001b[0m\n",
      "\u001b[0;32m~/.pyenv/versions/3.8.5/lib/python3.8/site-packages/pandas/core/computation/expr.py\u001b[0m in \u001b[0;36m__init__\u001b[0;34m(self, expr, engine, parser, env, level)\u001b[0m\n\u001b[1;32m    785\u001b[0m         \u001b[0mself\u001b[0m\u001b[0;34m.\u001b[0m\u001b[0mparser\u001b[0m \u001b[0;34m=\u001b[0m \u001b[0mparser\u001b[0m\u001b[0;34m\u001b[0m\u001b[0;34m\u001b[0m\u001b[0m\n\u001b[1;32m    786\u001b[0m         \u001b[0mself\u001b[0m\u001b[0;34m.\u001b[0m\u001b[0m_visitor\u001b[0m \u001b[0;34m=\u001b[0m \u001b[0m_parsers\u001b[0m\u001b[0;34m[\u001b[0m\u001b[0mparser\u001b[0m\u001b[0;34m]\u001b[0m\u001b[0;34m(\u001b[0m\u001b[0mself\u001b[0m\u001b[0;34m.\u001b[0m\u001b[0menv\u001b[0m\u001b[0;34m,\u001b[0m \u001b[0mself\u001b[0m\u001b[0;34m.\u001b[0m\u001b[0mengine\u001b[0m\u001b[0;34m,\u001b[0m \u001b[0mself\u001b[0m\u001b[0;34m.\u001b[0m\u001b[0mparser\u001b[0m\u001b[0;34m)\u001b[0m\u001b[0;34m\u001b[0m\u001b[0;34m\u001b[0m\u001b[0m\n\u001b[0;32m--> 787\u001b[0;31m         \u001b[0mself\u001b[0m\u001b[0;34m.\u001b[0m\u001b[0mterms\u001b[0m \u001b[0;34m=\u001b[0m \u001b[0mself\u001b[0m\u001b[0;34m.\u001b[0m\u001b[0mparse\u001b[0m\u001b[0;34m(\u001b[0m\u001b[0;34m)\u001b[0m\u001b[0;34m\u001b[0m\u001b[0;34m\u001b[0m\u001b[0m\n\u001b[0m\u001b[1;32m    788\u001b[0m \u001b[0;34m\u001b[0m\u001b[0m\n\u001b[1;32m    789\u001b[0m     \u001b[0;34m@\u001b[0m\u001b[0mproperty\u001b[0m\u001b[0;34m\u001b[0m\u001b[0;34m\u001b[0m\u001b[0m\n",
      "\u001b[0;32m~/.pyenv/versions/3.8.5/lib/python3.8/site-packages/pandas/core/computation/expr.py\u001b[0m in \u001b[0;36mparse\u001b[0;34m(self)\u001b[0m\n\u001b[1;32m    804\u001b[0m         \u001b[0mParse\u001b[0m \u001b[0man\u001b[0m \u001b[0mexpression\u001b[0m\u001b[0;34m.\u001b[0m\u001b[0;34m\u001b[0m\u001b[0;34m\u001b[0m\u001b[0m\n\u001b[1;32m    805\u001b[0m         \"\"\"\n\u001b[0;32m--> 806\u001b[0;31m         \u001b[0;32mreturn\u001b[0m \u001b[0mself\u001b[0m\u001b[0;34m.\u001b[0m\u001b[0m_visitor\u001b[0m\u001b[0;34m.\u001b[0m\u001b[0mvisit\u001b[0m\u001b[0;34m(\u001b[0m\u001b[0mself\u001b[0m\u001b[0;34m.\u001b[0m\u001b[0mexpr\u001b[0m\u001b[0;34m)\u001b[0m\u001b[0;34m\u001b[0m\u001b[0;34m\u001b[0m\u001b[0m\n\u001b[0m\u001b[1;32m    807\u001b[0m \u001b[0;34m\u001b[0m\u001b[0m\n\u001b[1;32m    808\u001b[0m     \u001b[0;34m@\u001b[0m\u001b[0mproperty\u001b[0m\u001b[0;34m\u001b[0m\u001b[0;34m\u001b[0m\u001b[0m\n",
      "\u001b[0;32m~/.pyenv/versions/3.8.5/lib/python3.8/site-packages/pandas/core/computation/expr.py\u001b[0m in \u001b[0;36mvisit\u001b[0;34m(self, node, **kwargs)\u001b[0m\n\u001b[1;32m    396\u001b[0m         \u001b[0mmethod\u001b[0m \u001b[0;34m=\u001b[0m \u001b[0;34m\"visit_\"\u001b[0m \u001b[0;34m+\u001b[0m \u001b[0mtype\u001b[0m\u001b[0;34m(\u001b[0m\u001b[0mnode\u001b[0m\u001b[0;34m)\u001b[0m\u001b[0;34m.\u001b[0m\u001b[0m__name__\u001b[0m\u001b[0;34m\u001b[0m\u001b[0;34m\u001b[0m\u001b[0m\n\u001b[1;32m    397\u001b[0m         \u001b[0mvisitor\u001b[0m \u001b[0;34m=\u001b[0m \u001b[0mgetattr\u001b[0m\u001b[0;34m(\u001b[0m\u001b[0mself\u001b[0m\u001b[0;34m,\u001b[0m \u001b[0mmethod\u001b[0m\u001b[0;34m)\u001b[0m\u001b[0;34m\u001b[0m\u001b[0;34m\u001b[0m\u001b[0m\n\u001b[0;32m--> 398\u001b[0;31m         \u001b[0;32mreturn\u001b[0m \u001b[0mvisitor\u001b[0m\u001b[0;34m(\u001b[0m\u001b[0mnode\u001b[0m\u001b[0;34m,\u001b[0m \u001b[0;34m**\u001b[0m\u001b[0mkwargs\u001b[0m\u001b[0;34m)\u001b[0m\u001b[0;34m\u001b[0m\u001b[0;34m\u001b[0m\u001b[0m\n\u001b[0m\u001b[1;32m    399\u001b[0m \u001b[0;34m\u001b[0m\u001b[0m\n\u001b[1;32m    400\u001b[0m     \u001b[0;32mdef\u001b[0m \u001b[0mvisit_Module\u001b[0m\u001b[0;34m(\u001b[0m\u001b[0mself\u001b[0m\u001b[0;34m,\u001b[0m \u001b[0mnode\u001b[0m\u001b[0;34m,\u001b[0m \u001b[0;34m**\u001b[0m\u001b[0mkwargs\u001b[0m\u001b[0;34m)\u001b[0m\u001b[0;34m:\u001b[0m\u001b[0;34m\u001b[0m\u001b[0;34m\u001b[0m\u001b[0m\n",
      "\u001b[0;32m~/.pyenv/versions/3.8.5/lib/python3.8/site-packages/pandas/core/computation/expr.py\u001b[0m in \u001b[0;36mvisit_Module\u001b[0;34m(self, node, **kwargs)\u001b[0m\n\u001b[1;32m    402\u001b[0m             \u001b[0;32mraise\u001b[0m \u001b[0mSyntaxError\u001b[0m\u001b[0;34m(\u001b[0m\u001b[0;34m\"only a single expression is allowed\"\u001b[0m\u001b[0;34m)\u001b[0m\u001b[0;34m\u001b[0m\u001b[0;34m\u001b[0m\u001b[0m\n\u001b[1;32m    403\u001b[0m         \u001b[0mexpr\u001b[0m \u001b[0;34m=\u001b[0m \u001b[0mnode\u001b[0m\u001b[0;34m.\u001b[0m\u001b[0mbody\u001b[0m\u001b[0;34m[\u001b[0m\u001b[0;36m0\u001b[0m\u001b[0;34m]\u001b[0m\u001b[0;34m\u001b[0m\u001b[0;34m\u001b[0m\u001b[0m\n\u001b[0;32m--> 404\u001b[0;31m         \u001b[0;32mreturn\u001b[0m \u001b[0mself\u001b[0m\u001b[0;34m.\u001b[0m\u001b[0mvisit\u001b[0m\u001b[0;34m(\u001b[0m\u001b[0mexpr\u001b[0m\u001b[0;34m,\u001b[0m \u001b[0;34m**\u001b[0m\u001b[0mkwargs\u001b[0m\u001b[0;34m)\u001b[0m\u001b[0;34m\u001b[0m\u001b[0;34m\u001b[0m\u001b[0m\n\u001b[0m\u001b[1;32m    405\u001b[0m \u001b[0;34m\u001b[0m\u001b[0m\n\u001b[1;32m    406\u001b[0m     \u001b[0;32mdef\u001b[0m \u001b[0mvisit_Expr\u001b[0m\u001b[0;34m(\u001b[0m\u001b[0mself\u001b[0m\u001b[0;34m,\u001b[0m \u001b[0mnode\u001b[0m\u001b[0;34m,\u001b[0m \u001b[0;34m**\u001b[0m\u001b[0mkwargs\u001b[0m\u001b[0;34m)\u001b[0m\u001b[0;34m:\u001b[0m\u001b[0;34m\u001b[0m\u001b[0;34m\u001b[0m\u001b[0m\n",
      "\u001b[0;32m~/.pyenv/versions/3.8.5/lib/python3.8/site-packages/pandas/core/computation/expr.py\u001b[0m in \u001b[0;36mvisit\u001b[0;34m(self, node, **kwargs)\u001b[0m\n\u001b[1;32m    396\u001b[0m         \u001b[0mmethod\u001b[0m \u001b[0;34m=\u001b[0m \u001b[0;34m\"visit_\"\u001b[0m \u001b[0;34m+\u001b[0m \u001b[0mtype\u001b[0m\u001b[0;34m(\u001b[0m\u001b[0mnode\u001b[0m\u001b[0;34m)\u001b[0m\u001b[0;34m.\u001b[0m\u001b[0m__name__\u001b[0m\u001b[0;34m\u001b[0m\u001b[0;34m\u001b[0m\u001b[0m\n\u001b[1;32m    397\u001b[0m         \u001b[0mvisitor\u001b[0m \u001b[0;34m=\u001b[0m \u001b[0mgetattr\u001b[0m\u001b[0;34m(\u001b[0m\u001b[0mself\u001b[0m\u001b[0;34m,\u001b[0m \u001b[0mmethod\u001b[0m\u001b[0;34m)\u001b[0m\u001b[0;34m\u001b[0m\u001b[0;34m\u001b[0m\u001b[0m\n\u001b[0;32m--> 398\u001b[0;31m         \u001b[0;32mreturn\u001b[0m \u001b[0mvisitor\u001b[0m\u001b[0;34m(\u001b[0m\u001b[0mnode\u001b[0m\u001b[0;34m,\u001b[0m \u001b[0;34m**\u001b[0m\u001b[0mkwargs\u001b[0m\u001b[0;34m)\u001b[0m\u001b[0;34m\u001b[0m\u001b[0;34m\u001b[0m\u001b[0m\n\u001b[0m\u001b[1;32m    399\u001b[0m \u001b[0;34m\u001b[0m\u001b[0m\n\u001b[1;32m    400\u001b[0m     \u001b[0;32mdef\u001b[0m \u001b[0mvisit_Module\u001b[0m\u001b[0;34m(\u001b[0m\u001b[0mself\u001b[0m\u001b[0;34m,\u001b[0m \u001b[0mnode\u001b[0m\u001b[0;34m,\u001b[0m \u001b[0;34m**\u001b[0m\u001b[0mkwargs\u001b[0m\u001b[0;34m)\u001b[0m\u001b[0;34m:\u001b[0m\u001b[0;34m\u001b[0m\u001b[0;34m\u001b[0m\u001b[0m\n",
      "\u001b[0;32m~/.pyenv/versions/3.8.5/lib/python3.8/site-packages/pandas/core/computation/expr.py\u001b[0m in \u001b[0;36mvisit_Expr\u001b[0;34m(self, node, **kwargs)\u001b[0m\n\u001b[1;32m    405\u001b[0m \u001b[0;34m\u001b[0m\u001b[0m\n\u001b[1;32m    406\u001b[0m     \u001b[0;32mdef\u001b[0m \u001b[0mvisit_Expr\u001b[0m\u001b[0;34m(\u001b[0m\u001b[0mself\u001b[0m\u001b[0;34m,\u001b[0m \u001b[0mnode\u001b[0m\u001b[0;34m,\u001b[0m \u001b[0;34m**\u001b[0m\u001b[0mkwargs\u001b[0m\u001b[0;34m)\u001b[0m\u001b[0;34m:\u001b[0m\u001b[0;34m\u001b[0m\u001b[0;34m\u001b[0m\u001b[0m\n\u001b[0;32m--> 407\u001b[0;31m         \u001b[0;32mreturn\u001b[0m \u001b[0mself\u001b[0m\u001b[0;34m.\u001b[0m\u001b[0mvisit\u001b[0m\u001b[0;34m(\u001b[0m\u001b[0mnode\u001b[0m\u001b[0;34m.\u001b[0m\u001b[0mvalue\u001b[0m\u001b[0;34m,\u001b[0m \u001b[0;34m**\u001b[0m\u001b[0mkwargs\u001b[0m\u001b[0;34m)\u001b[0m\u001b[0;34m\u001b[0m\u001b[0;34m\u001b[0m\u001b[0m\n\u001b[0m\u001b[1;32m    408\u001b[0m \u001b[0;34m\u001b[0m\u001b[0m\n\u001b[1;32m    409\u001b[0m     \u001b[0;32mdef\u001b[0m \u001b[0m_rewrite_membership_op\u001b[0m\u001b[0;34m(\u001b[0m\u001b[0mself\u001b[0m\u001b[0;34m,\u001b[0m \u001b[0mnode\u001b[0m\u001b[0;34m,\u001b[0m \u001b[0mleft\u001b[0m\u001b[0;34m,\u001b[0m \u001b[0mright\u001b[0m\u001b[0;34m)\u001b[0m\u001b[0;34m:\u001b[0m\u001b[0;34m\u001b[0m\u001b[0;34m\u001b[0m\u001b[0m\n",
      "\u001b[0;32m~/.pyenv/versions/3.8.5/lib/python3.8/site-packages/pandas/core/computation/expr.py\u001b[0m in \u001b[0;36mvisit\u001b[0;34m(self, node, **kwargs)\u001b[0m\n\u001b[1;32m    396\u001b[0m         \u001b[0mmethod\u001b[0m \u001b[0;34m=\u001b[0m \u001b[0;34m\"visit_\"\u001b[0m \u001b[0;34m+\u001b[0m \u001b[0mtype\u001b[0m\u001b[0;34m(\u001b[0m\u001b[0mnode\u001b[0m\u001b[0;34m)\u001b[0m\u001b[0;34m.\u001b[0m\u001b[0m__name__\u001b[0m\u001b[0;34m\u001b[0m\u001b[0;34m\u001b[0m\u001b[0m\n\u001b[1;32m    397\u001b[0m         \u001b[0mvisitor\u001b[0m \u001b[0;34m=\u001b[0m \u001b[0mgetattr\u001b[0m\u001b[0;34m(\u001b[0m\u001b[0mself\u001b[0m\u001b[0;34m,\u001b[0m \u001b[0mmethod\u001b[0m\u001b[0;34m)\u001b[0m\u001b[0;34m\u001b[0m\u001b[0;34m\u001b[0m\u001b[0m\n\u001b[0;32m--> 398\u001b[0;31m         \u001b[0;32mreturn\u001b[0m \u001b[0mvisitor\u001b[0m\u001b[0;34m(\u001b[0m\u001b[0mnode\u001b[0m\u001b[0;34m,\u001b[0m \u001b[0;34m**\u001b[0m\u001b[0mkwargs\u001b[0m\u001b[0;34m)\u001b[0m\u001b[0;34m\u001b[0m\u001b[0;34m\u001b[0m\u001b[0m\n\u001b[0m\u001b[1;32m    399\u001b[0m \u001b[0;34m\u001b[0m\u001b[0m\n\u001b[1;32m    400\u001b[0m     \u001b[0;32mdef\u001b[0m \u001b[0mvisit_Module\u001b[0m\u001b[0;34m(\u001b[0m\u001b[0mself\u001b[0m\u001b[0;34m,\u001b[0m \u001b[0mnode\u001b[0m\u001b[0;34m,\u001b[0m \u001b[0;34m**\u001b[0m\u001b[0mkwargs\u001b[0m\u001b[0;34m)\u001b[0m\u001b[0;34m:\u001b[0m\u001b[0;34m\u001b[0m\u001b[0;34m\u001b[0m\u001b[0m\n",
      "\u001b[0;32m~/.pyenv/versions/3.8.5/lib/python3.8/site-packages/pandas/core/computation/expr.py\u001b[0m in \u001b[0;36mvisit_BoolOp\u001b[0;34m(self, node, **kwargs)\u001b[0m\n\u001b[1;32m    724\u001b[0m \u001b[0;34m\u001b[0m\u001b[0m\n\u001b[1;32m    725\u001b[0m         \u001b[0moperands\u001b[0m \u001b[0;34m=\u001b[0m \u001b[0mnode\u001b[0m\u001b[0;34m.\u001b[0m\u001b[0mvalues\u001b[0m\u001b[0;34m\u001b[0m\u001b[0;34m\u001b[0m\u001b[0m\n\u001b[0;32m--> 726\u001b[0;31m         \u001b[0;32mreturn\u001b[0m \u001b[0mreduce\u001b[0m\u001b[0;34m(\u001b[0m\u001b[0mvisitor\u001b[0m\u001b[0;34m,\u001b[0m \u001b[0moperands\u001b[0m\u001b[0;34m)\u001b[0m\u001b[0;34m\u001b[0m\u001b[0;34m\u001b[0m\u001b[0m\n\u001b[0m\u001b[1;32m    727\u001b[0m \u001b[0;34m\u001b[0m\u001b[0m\n\u001b[1;32m    728\u001b[0m \u001b[0;34m\u001b[0m\u001b[0m\n",
      "\u001b[0;32m~/.pyenv/versions/3.8.5/lib/python3.8/site-packages/pandas/core/computation/expr.py\u001b[0m in \u001b[0;36mvisitor\u001b[0;34m(x, y)\u001b[0m\n\u001b[1;32m    717\u001b[0m     \u001b[0;32mdef\u001b[0m \u001b[0mvisit_BoolOp\u001b[0m\u001b[0;34m(\u001b[0m\u001b[0mself\u001b[0m\u001b[0;34m,\u001b[0m \u001b[0mnode\u001b[0m\u001b[0;34m,\u001b[0m \u001b[0;34m**\u001b[0m\u001b[0mkwargs\u001b[0m\u001b[0;34m)\u001b[0m\u001b[0;34m:\u001b[0m\u001b[0;34m\u001b[0m\u001b[0;34m\u001b[0m\u001b[0m\n\u001b[1;32m    718\u001b[0m         \u001b[0;32mdef\u001b[0m \u001b[0mvisitor\u001b[0m\u001b[0;34m(\u001b[0m\u001b[0mx\u001b[0m\u001b[0;34m,\u001b[0m \u001b[0my\u001b[0m\u001b[0;34m)\u001b[0m\u001b[0;34m:\u001b[0m\u001b[0;34m\u001b[0m\u001b[0;34m\u001b[0m\u001b[0m\n\u001b[0;32m--> 719\u001b[0;31m             \u001b[0mlhs\u001b[0m \u001b[0;34m=\u001b[0m \u001b[0mself\u001b[0m\u001b[0;34m.\u001b[0m\u001b[0m_try_visit_binop\u001b[0m\u001b[0;34m(\u001b[0m\u001b[0mx\u001b[0m\u001b[0;34m)\u001b[0m\u001b[0;34m\u001b[0m\u001b[0;34m\u001b[0m\u001b[0m\n\u001b[0m\u001b[1;32m    720\u001b[0m             \u001b[0mrhs\u001b[0m \u001b[0;34m=\u001b[0m \u001b[0mself\u001b[0m\u001b[0;34m.\u001b[0m\u001b[0m_try_visit_binop\u001b[0m\u001b[0;34m(\u001b[0m\u001b[0my\u001b[0m\u001b[0;34m)\u001b[0m\u001b[0;34m\u001b[0m\u001b[0;34m\u001b[0m\u001b[0m\n\u001b[1;32m    721\u001b[0m \u001b[0;34m\u001b[0m\u001b[0m\n",
      "\u001b[0;32m~/.pyenv/versions/3.8.5/lib/python3.8/site-packages/pandas/core/computation/expr.py\u001b[0m in \u001b[0;36m_try_visit_binop\u001b[0;34m(self, bop)\u001b[0m\n\u001b[1;32m    713\u001b[0m         \u001b[0;32mif\u001b[0m \u001b[0misinstance\u001b[0m\u001b[0;34m(\u001b[0m\u001b[0mbop\u001b[0m\u001b[0;34m,\u001b[0m \u001b[0;34m(\u001b[0m\u001b[0mOp\u001b[0m\u001b[0;34m,\u001b[0m \u001b[0mTerm\u001b[0m\u001b[0;34m)\u001b[0m\u001b[0;34m)\u001b[0m\u001b[0;34m:\u001b[0m\u001b[0;34m\u001b[0m\u001b[0;34m\u001b[0m\u001b[0m\n\u001b[1;32m    714\u001b[0m             \u001b[0;32mreturn\u001b[0m \u001b[0mbop\u001b[0m\u001b[0;34m\u001b[0m\u001b[0;34m\u001b[0m\u001b[0m\n\u001b[0;32m--> 715\u001b[0;31m         \u001b[0;32mreturn\u001b[0m \u001b[0mself\u001b[0m\u001b[0;34m.\u001b[0m\u001b[0mvisit\u001b[0m\u001b[0;34m(\u001b[0m\u001b[0mbop\u001b[0m\u001b[0;34m)\u001b[0m\u001b[0;34m\u001b[0m\u001b[0;34m\u001b[0m\u001b[0m\n\u001b[0m\u001b[1;32m    716\u001b[0m \u001b[0;34m\u001b[0m\u001b[0m\n\u001b[1;32m    717\u001b[0m     \u001b[0;32mdef\u001b[0m \u001b[0mvisit_BoolOp\u001b[0m\u001b[0;34m(\u001b[0m\u001b[0mself\u001b[0m\u001b[0;34m,\u001b[0m \u001b[0mnode\u001b[0m\u001b[0;34m,\u001b[0m \u001b[0;34m**\u001b[0m\u001b[0mkwargs\u001b[0m\u001b[0;34m)\u001b[0m\u001b[0;34m:\u001b[0m\u001b[0;34m\u001b[0m\u001b[0;34m\u001b[0m\u001b[0m\n",
      "\u001b[0;32m~/.pyenv/versions/3.8.5/lib/python3.8/site-packages/pandas/core/computation/expr.py\u001b[0m in \u001b[0;36mvisit\u001b[0;34m(self, node, **kwargs)\u001b[0m\n\u001b[1;32m    396\u001b[0m         \u001b[0mmethod\u001b[0m \u001b[0;34m=\u001b[0m \u001b[0;34m\"visit_\"\u001b[0m \u001b[0;34m+\u001b[0m \u001b[0mtype\u001b[0m\u001b[0;34m(\u001b[0m\u001b[0mnode\u001b[0m\u001b[0;34m)\u001b[0m\u001b[0;34m.\u001b[0m\u001b[0m__name__\u001b[0m\u001b[0;34m\u001b[0m\u001b[0;34m\u001b[0m\u001b[0m\n\u001b[1;32m    397\u001b[0m         \u001b[0mvisitor\u001b[0m \u001b[0;34m=\u001b[0m \u001b[0mgetattr\u001b[0m\u001b[0;34m(\u001b[0m\u001b[0mself\u001b[0m\u001b[0;34m,\u001b[0m \u001b[0mmethod\u001b[0m\u001b[0;34m)\u001b[0m\u001b[0;34m\u001b[0m\u001b[0;34m\u001b[0m\u001b[0m\n\u001b[0;32m--> 398\u001b[0;31m         \u001b[0;32mreturn\u001b[0m \u001b[0mvisitor\u001b[0m\u001b[0;34m(\u001b[0m\u001b[0mnode\u001b[0m\u001b[0;34m,\u001b[0m \u001b[0;34m**\u001b[0m\u001b[0mkwargs\u001b[0m\u001b[0;34m)\u001b[0m\u001b[0;34m\u001b[0m\u001b[0;34m\u001b[0m\u001b[0m\n\u001b[0m\u001b[1;32m    399\u001b[0m \u001b[0;34m\u001b[0m\u001b[0m\n\u001b[1;32m    400\u001b[0m     \u001b[0;32mdef\u001b[0m \u001b[0mvisit_Module\u001b[0m\u001b[0;34m(\u001b[0m\u001b[0mself\u001b[0m\u001b[0;34m,\u001b[0m \u001b[0mnode\u001b[0m\u001b[0;34m,\u001b[0m \u001b[0;34m**\u001b[0m\u001b[0mkwargs\u001b[0m\u001b[0;34m)\u001b[0m\u001b[0;34m:\u001b[0m\u001b[0;34m\u001b[0m\u001b[0;34m\u001b[0m\u001b[0m\n",
      "\u001b[0;32m~/.pyenv/versions/3.8.5/lib/python3.8/site-packages/pandas/core/computation/expr.py\u001b[0m in \u001b[0;36mvisit_Compare\u001b[0;34m(self, node, **kwargs)\u001b[0m\n\u001b[1;32m    697\u001b[0m             \u001b[0mop\u001b[0m \u001b[0;34m=\u001b[0m \u001b[0mself\u001b[0m\u001b[0;34m.\u001b[0m\u001b[0mtranslate_In\u001b[0m\u001b[0;34m(\u001b[0m\u001b[0mops\u001b[0m\u001b[0;34m[\u001b[0m\u001b[0;36m0\u001b[0m\u001b[0;34m]\u001b[0m\u001b[0;34m)\u001b[0m\u001b[0;34m\u001b[0m\u001b[0;34m\u001b[0m\u001b[0m\n\u001b[1;32m    698\u001b[0m             \u001b[0mbinop\u001b[0m \u001b[0;34m=\u001b[0m \u001b[0mast\u001b[0m\u001b[0;34m.\u001b[0m\u001b[0mBinOp\u001b[0m\u001b[0;34m(\u001b[0m\u001b[0mop\u001b[0m\u001b[0;34m=\u001b[0m\u001b[0mop\u001b[0m\u001b[0;34m,\u001b[0m \u001b[0mleft\u001b[0m\u001b[0;34m=\u001b[0m\u001b[0mnode\u001b[0m\u001b[0;34m.\u001b[0m\u001b[0mleft\u001b[0m\u001b[0;34m,\u001b[0m \u001b[0mright\u001b[0m\u001b[0;34m=\u001b[0m\u001b[0mcomps\u001b[0m\u001b[0;34m[\u001b[0m\u001b[0;36m0\u001b[0m\u001b[0;34m]\u001b[0m\u001b[0;34m)\u001b[0m\u001b[0;34m\u001b[0m\u001b[0;34m\u001b[0m\u001b[0m\n\u001b[0;32m--> 699\u001b[0;31m             \u001b[0;32mreturn\u001b[0m \u001b[0mself\u001b[0m\u001b[0;34m.\u001b[0m\u001b[0mvisit\u001b[0m\u001b[0;34m(\u001b[0m\u001b[0mbinop\u001b[0m\u001b[0;34m)\u001b[0m\u001b[0;34m\u001b[0m\u001b[0;34m\u001b[0m\u001b[0m\n\u001b[0m\u001b[1;32m    700\u001b[0m \u001b[0;34m\u001b[0m\u001b[0m\n\u001b[1;32m    701\u001b[0m         \u001b[0;31m# recursive case: we have a chained comparison, a CMP b CMP c, etc.\u001b[0m\u001b[0;34m\u001b[0m\u001b[0;34m\u001b[0m\u001b[0;34m\u001b[0m\u001b[0m\n",
      "\u001b[0;32m~/.pyenv/versions/3.8.5/lib/python3.8/site-packages/pandas/core/computation/expr.py\u001b[0m in \u001b[0;36mvisit\u001b[0;34m(self, node, **kwargs)\u001b[0m\n\u001b[1;32m    396\u001b[0m         \u001b[0mmethod\u001b[0m \u001b[0;34m=\u001b[0m \u001b[0;34m\"visit_\"\u001b[0m \u001b[0;34m+\u001b[0m \u001b[0mtype\u001b[0m\u001b[0;34m(\u001b[0m\u001b[0mnode\u001b[0m\u001b[0;34m)\u001b[0m\u001b[0;34m.\u001b[0m\u001b[0m__name__\u001b[0m\u001b[0;34m\u001b[0m\u001b[0;34m\u001b[0m\u001b[0m\n\u001b[1;32m    397\u001b[0m         \u001b[0mvisitor\u001b[0m \u001b[0;34m=\u001b[0m \u001b[0mgetattr\u001b[0m\u001b[0;34m(\u001b[0m\u001b[0mself\u001b[0m\u001b[0;34m,\u001b[0m \u001b[0mmethod\u001b[0m\u001b[0;34m)\u001b[0m\u001b[0;34m\u001b[0m\u001b[0;34m\u001b[0m\u001b[0m\n\u001b[0;32m--> 398\u001b[0;31m         \u001b[0;32mreturn\u001b[0m \u001b[0mvisitor\u001b[0m\u001b[0;34m(\u001b[0m\u001b[0mnode\u001b[0m\u001b[0;34m,\u001b[0m \u001b[0;34m**\u001b[0m\u001b[0mkwargs\u001b[0m\u001b[0;34m)\u001b[0m\u001b[0;34m\u001b[0m\u001b[0;34m\u001b[0m\u001b[0m\n\u001b[0m\u001b[1;32m    399\u001b[0m \u001b[0;34m\u001b[0m\u001b[0m\n\u001b[1;32m    400\u001b[0m     \u001b[0;32mdef\u001b[0m \u001b[0mvisit_Module\u001b[0m\u001b[0;34m(\u001b[0m\u001b[0mself\u001b[0m\u001b[0;34m,\u001b[0m \u001b[0mnode\u001b[0m\u001b[0;34m,\u001b[0m \u001b[0;34m**\u001b[0m\u001b[0mkwargs\u001b[0m\u001b[0;34m)\u001b[0m\u001b[0;34m:\u001b[0m\u001b[0;34m\u001b[0m\u001b[0;34m\u001b[0m\u001b[0m\n",
      "\u001b[0;32m~/.pyenv/versions/3.8.5/lib/python3.8/site-packages/pandas/core/computation/expr.py\u001b[0m in \u001b[0;36mvisit_BinOp\u001b[0;34m(self, node, **kwargs)\u001b[0m\n\u001b[1;32m    518\u001b[0m \u001b[0;34m\u001b[0m\u001b[0m\n\u001b[1;32m    519\u001b[0m     \u001b[0;32mdef\u001b[0m \u001b[0mvisit_BinOp\u001b[0m\u001b[0;34m(\u001b[0m\u001b[0mself\u001b[0m\u001b[0;34m,\u001b[0m \u001b[0mnode\u001b[0m\u001b[0;34m,\u001b[0m \u001b[0;34m**\u001b[0m\u001b[0mkwargs\u001b[0m\u001b[0;34m)\u001b[0m\u001b[0;34m:\u001b[0m\u001b[0;34m\u001b[0m\u001b[0;34m\u001b[0m\u001b[0m\n\u001b[0;32m--> 520\u001b[0;31m         \u001b[0mop\u001b[0m\u001b[0;34m,\u001b[0m \u001b[0mop_class\u001b[0m\u001b[0;34m,\u001b[0m \u001b[0mleft\u001b[0m\u001b[0;34m,\u001b[0m \u001b[0mright\u001b[0m \u001b[0;34m=\u001b[0m \u001b[0mself\u001b[0m\u001b[0;34m.\u001b[0m\u001b[0m_maybe_transform_eq_ne\u001b[0m\u001b[0;34m(\u001b[0m\u001b[0mnode\u001b[0m\u001b[0;34m)\u001b[0m\u001b[0;34m\u001b[0m\u001b[0;34m\u001b[0m\u001b[0m\n\u001b[0m\u001b[1;32m    521\u001b[0m         \u001b[0mleft\u001b[0m\u001b[0;34m,\u001b[0m \u001b[0mright\u001b[0m \u001b[0;34m=\u001b[0m \u001b[0mself\u001b[0m\u001b[0;34m.\u001b[0m\u001b[0m_maybe_downcast_constants\u001b[0m\u001b[0;34m(\u001b[0m\u001b[0mleft\u001b[0m\u001b[0;34m,\u001b[0m \u001b[0mright\u001b[0m\u001b[0;34m)\u001b[0m\u001b[0;34m\u001b[0m\u001b[0;34m\u001b[0m\u001b[0m\n\u001b[1;32m    522\u001b[0m         \u001b[0;32mreturn\u001b[0m \u001b[0mself\u001b[0m\u001b[0;34m.\u001b[0m\u001b[0m_maybe_evaluate_binop\u001b[0m\u001b[0;34m(\u001b[0m\u001b[0mop\u001b[0m\u001b[0;34m,\u001b[0m \u001b[0mop_class\u001b[0m\u001b[0;34m,\u001b[0m \u001b[0mleft\u001b[0m\u001b[0;34m,\u001b[0m \u001b[0mright\u001b[0m\u001b[0;34m)\u001b[0m\u001b[0;34m\u001b[0m\u001b[0;34m\u001b[0m\u001b[0m\n",
      "\u001b[0;32m~/.pyenv/versions/3.8.5/lib/python3.8/site-packages/pandas/core/computation/expr.py\u001b[0m in \u001b[0;36m_maybe_transform_eq_ne\u001b[0;34m(self, node, left, right)\u001b[0m\n\u001b[1;32m    439\u001b[0m             \u001b[0mleft\u001b[0m \u001b[0;34m=\u001b[0m \u001b[0mself\u001b[0m\u001b[0;34m.\u001b[0m\u001b[0mvisit\u001b[0m\u001b[0;34m(\u001b[0m\u001b[0mnode\u001b[0m\u001b[0;34m.\u001b[0m\u001b[0mleft\u001b[0m\u001b[0;34m,\u001b[0m \u001b[0mside\u001b[0m\u001b[0;34m=\u001b[0m\u001b[0;34m\"left\"\u001b[0m\u001b[0;34m)\u001b[0m\u001b[0;34m\u001b[0m\u001b[0;34m\u001b[0m\u001b[0m\n\u001b[1;32m    440\u001b[0m         \u001b[0;32mif\u001b[0m \u001b[0mright\u001b[0m \u001b[0;32mis\u001b[0m \u001b[0;32mNone\u001b[0m\u001b[0;34m:\u001b[0m\u001b[0;34m\u001b[0m\u001b[0;34m\u001b[0m\u001b[0m\n\u001b[0;32m--> 441\u001b[0;31m             \u001b[0mright\u001b[0m \u001b[0;34m=\u001b[0m \u001b[0mself\u001b[0m\u001b[0;34m.\u001b[0m\u001b[0mvisit\u001b[0m\u001b[0;34m(\u001b[0m\u001b[0mnode\u001b[0m\u001b[0;34m.\u001b[0m\u001b[0mright\u001b[0m\u001b[0;34m,\u001b[0m \u001b[0mside\u001b[0m\u001b[0;34m=\u001b[0m\u001b[0;34m\"right\"\u001b[0m\u001b[0;34m)\u001b[0m\u001b[0;34m\u001b[0m\u001b[0;34m\u001b[0m\u001b[0m\n\u001b[0m\u001b[1;32m    442\u001b[0m         \u001b[0mop\u001b[0m\u001b[0;34m,\u001b[0m \u001b[0mop_class\u001b[0m\u001b[0;34m,\u001b[0m \u001b[0mleft\u001b[0m\u001b[0;34m,\u001b[0m \u001b[0mright\u001b[0m \u001b[0;34m=\u001b[0m \u001b[0mself\u001b[0m\u001b[0;34m.\u001b[0m\u001b[0m_rewrite_membership_op\u001b[0m\u001b[0;34m(\u001b[0m\u001b[0mnode\u001b[0m\u001b[0;34m,\u001b[0m \u001b[0mleft\u001b[0m\u001b[0;34m,\u001b[0m \u001b[0mright\u001b[0m\u001b[0;34m)\u001b[0m\u001b[0;34m\u001b[0m\u001b[0;34m\u001b[0m\u001b[0m\n\u001b[1;32m    443\u001b[0m         \u001b[0;32mreturn\u001b[0m \u001b[0mop\u001b[0m\u001b[0;34m,\u001b[0m \u001b[0mop_class\u001b[0m\u001b[0;34m,\u001b[0m \u001b[0mleft\u001b[0m\u001b[0;34m,\u001b[0m \u001b[0mright\u001b[0m\u001b[0;34m\u001b[0m\u001b[0;34m\u001b[0m\u001b[0m\n",
      "\u001b[0;32m~/.pyenv/versions/3.8.5/lib/python3.8/site-packages/pandas/core/computation/expr.py\u001b[0m in \u001b[0;36mvisit\u001b[0;34m(self, node, **kwargs)\u001b[0m\n\u001b[1;32m    396\u001b[0m         \u001b[0mmethod\u001b[0m \u001b[0;34m=\u001b[0m \u001b[0;34m\"visit_\"\u001b[0m \u001b[0;34m+\u001b[0m \u001b[0mtype\u001b[0m\u001b[0;34m(\u001b[0m\u001b[0mnode\u001b[0m\u001b[0;34m)\u001b[0m\u001b[0;34m.\u001b[0m\u001b[0m__name__\u001b[0m\u001b[0;34m\u001b[0m\u001b[0;34m\u001b[0m\u001b[0m\n\u001b[1;32m    397\u001b[0m         \u001b[0mvisitor\u001b[0m \u001b[0;34m=\u001b[0m \u001b[0mgetattr\u001b[0m\u001b[0;34m(\u001b[0m\u001b[0mself\u001b[0m\u001b[0;34m,\u001b[0m \u001b[0mmethod\u001b[0m\u001b[0;34m)\u001b[0m\u001b[0;34m\u001b[0m\u001b[0;34m\u001b[0m\u001b[0m\n\u001b[0;32m--> 398\u001b[0;31m         \u001b[0;32mreturn\u001b[0m \u001b[0mvisitor\u001b[0m\u001b[0;34m(\u001b[0m\u001b[0mnode\u001b[0m\u001b[0;34m,\u001b[0m \u001b[0;34m**\u001b[0m\u001b[0mkwargs\u001b[0m\u001b[0;34m)\u001b[0m\u001b[0;34m\u001b[0m\u001b[0;34m\u001b[0m\u001b[0m\n\u001b[0m\u001b[1;32m    399\u001b[0m \u001b[0;34m\u001b[0m\u001b[0m\n\u001b[1;32m    400\u001b[0m     \u001b[0;32mdef\u001b[0m \u001b[0mvisit_Module\u001b[0m\u001b[0;34m(\u001b[0m\u001b[0mself\u001b[0m\u001b[0;34m,\u001b[0m \u001b[0mnode\u001b[0m\u001b[0;34m,\u001b[0m \u001b[0;34m**\u001b[0m\u001b[0mkwargs\u001b[0m\u001b[0;34m)\u001b[0m\u001b[0;34m:\u001b[0m\u001b[0;34m\u001b[0m\u001b[0;34m\u001b[0m\u001b[0m\n",
      "\u001b[0;32m~/.pyenv/versions/3.8.5/lib/python3.8/site-packages/pandas/core/computation/expr.py\u001b[0m in \u001b[0;36mvisit_Name\u001b[0;34m(self, node, **kwargs)\u001b[0m\n\u001b[1;32m    531\u001b[0m \u001b[0;34m\u001b[0m\u001b[0m\n\u001b[1;32m    532\u001b[0m     \u001b[0;32mdef\u001b[0m \u001b[0mvisit_Name\u001b[0m\u001b[0;34m(\u001b[0m\u001b[0mself\u001b[0m\u001b[0;34m,\u001b[0m \u001b[0mnode\u001b[0m\u001b[0;34m,\u001b[0m \u001b[0;34m**\u001b[0m\u001b[0mkwargs\u001b[0m\u001b[0;34m)\u001b[0m\u001b[0;34m:\u001b[0m\u001b[0;34m\u001b[0m\u001b[0;34m\u001b[0m\u001b[0m\n\u001b[0;32m--> 533\u001b[0;31m         \u001b[0;32mreturn\u001b[0m \u001b[0mself\u001b[0m\u001b[0;34m.\u001b[0m\u001b[0mterm_type\u001b[0m\u001b[0;34m(\u001b[0m\u001b[0mnode\u001b[0m\u001b[0;34m.\u001b[0m\u001b[0mid\u001b[0m\u001b[0;34m,\u001b[0m \u001b[0mself\u001b[0m\u001b[0;34m.\u001b[0m\u001b[0menv\u001b[0m\u001b[0;34m,\u001b[0m \u001b[0;34m**\u001b[0m\u001b[0mkwargs\u001b[0m\u001b[0;34m)\u001b[0m\u001b[0;34m\u001b[0m\u001b[0;34m\u001b[0m\u001b[0m\n\u001b[0m\u001b[1;32m    534\u001b[0m \u001b[0;34m\u001b[0m\u001b[0m\n\u001b[1;32m    535\u001b[0m     \u001b[0;32mdef\u001b[0m \u001b[0mvisit_NameConstant\u001b[0m\u001b[0;34m(\u001b[0m\u001b[0mself\u001b[0m\u001b[0;34m,\u001b[0m \u001b[0mnode\u001b[0m\u001b[0;34m,\u001b[0m \u001b[0;34m**\u001b[0m\u001b[0mkwargs\u001b[0m\u001b[0;34m)\u001b[0m\u001b[0;34m:\u001b[0m\u001b[0;34m\u001b[0m\u001b[0;34m\u001b[0m\u001b[0m\n",
      "\u001b[0;32m~/.pyenv/versions/3.8.5/lib/python3.8/site-packages/pandas/core/computation/ops.py\u001b[0m in \u001b[0;36m__init__\u001b[0;34m(self, name, env, side, encoding)\u001b[0m\n\u001b[1;32m     82\u001b[0m         \u001b[0mtname\u001b[0m \u001b[0;34m=\u001b[0m \u001b[0mstr\u001b[0m\u001b[0;34m(\u001b[0m\u001b[0mname\u001b[0m\u001b[0;34m)\u001b[0m\u001b[0;34m\u001b[0m\u001b[0;34m\u001b[0m\u001b[0m\n\u001b[1;32m     83\u001b[0m         \u001b[0mself\u001b[0m\u001b[0;34m.\u001b[0m\u001b[0mis_local\u001b[0m \u001b[0;34m=\u001b[0m \u001b[0mtname\u001b[0m\u001b[0;34m.\u001b[0m\u001b[0mstartswith\u001b[0m\u001b[0;34m(\u001b[0m\u001b[0m_LOCAL_TAG\u001b[0m\u001b[0;34m)\u001b[0m \u001b[0;32mor\u001b[0m \u001b[0mtname\u001b[0m \u001b[0;32min\u001b[0m \u001b[0m_DEFAULT_GLOBALS\u001b[0m\u001b[0;34m\u001b[0m\u001b[0;34m\u001b[0m\u001b[0m\n\u001b[0;32m---> 84\u001b[0;31m         \u001b[0mself\u001b[0m\u001b[0;34m.\u001b[0m\u001b[0m_value\u001b[0m \u001b[0;34m=\u001b[0m \u001b[0mself\u001b[0m\u001b[0;34m.\u001b[0m\u001b[0m_resolve_name\u001b[0m\u001b[0;34m(\u001b[0m\u001b[0;34m)\u001b[0m\u001b[0;34m\u001b[0m\u001b[0;34m\u001b[0m\u001b[0m\n\u001b[0m\u001b[1;32m     85\u001b[0m         \u001b[0mself\u001b[0m\u001b[0;34m.\u001b[0m\u001b[0mencoding\u001b[0m \u001b[0;34m=\u001b[0m \u001b[0mencoding\u001b[0m\u001b[0;34m\u001b[0m\u001b[0;34m\u001b[0m\u001b[0m\n\u001b[1;32m     86\u001b[0m \u001b[0;34m\u001b[0m\u001b[0m\n",
      "\u001b[0;32m~/.pyenv/versions/3.8.5/lib/python3.8/site-packages/pandas/core/computation/ops.py\u001b[0m in \u001b[0;36m_resolve_name\u001b[0;34m(self)\u001b[0m\n\u001b[1;32m     99\u001b[0m \u001b[0;34m\u001b[0m\u001b[0m\n\u001b[1;32m    100\u001b[0m     \u001b[0;32mdef\u001b[0m \u001b[0m_resolve_name\u001b[0m\u001b[0;34m(\u001b[0m\u001b[0mself\u001b[0m\u001b[0;34m)\u001b[0m\u001b[0;34m:\u001b[0m\u001b[0;34m\u001b[0m\u001b[0;34m\u001b[0m\u001b[0m\n\u001b[0;32m--> 101\u001b[0;31m         \u001b[0mres\u001b[0m \u001b[0;34m=\u001b[0m \u001b[0mself\u001b[0m\u001b[0;34m.\u001b[0m\u001b[0menv\u001b[0m\u001b[0;34m.\u001b[0m\u001b[0mresolve\u001b[0m\u001b[0;34m(\u001b[0m\u001b[0mself\u001b[0m\u001b[0;34m.\u001b[0m\u001b[0mlocal_name\u001b[0m\u001b[0;34m,\u001b[0m \u001b[0mis_local\u001b[0m\u001b[0;34m=\u001b[0m\u001b[0mself\u001b[0m\u001b[0;34m.\u001b[0m\u001b[0mis_local\u001b[0m\u001b[0;34m)\u001b[0m\u001b[0;34m\u001b[0m\u001b[0;34m\u001b[0m\u001b[0m\n\u001b[0m\u001b[1;32m    102\u001b[0m         \u001b[0mself\u001b[0m\u001b[0;34m.\u001b[0m\u001b[0mupdate\u001b[0m\u001b[0;34m(\u001b[0m\u001b[0mres\u001b[0m\u001b[0;34m)\u001b[0m\u001b[0;34m\u001b[0m\u001b[0;34m\u001b[0m\u001b[0m\n\u001b[1;32m    103\u001b[0m \u001b[0;34m\u001b[0m\u001b[0m\n",
      "\u001b[0;32m~/.pyenv/versions/3.8.5/lib/python3.8/site-packages/pandas/core/computation/scope.py\u001b[0m in \u001b[0;36mresolve\u001b[0;34m(self, key, is_local)\u001b[0m\n\u001b[1;32m    202\u001b[0m                 \u001b[0;32mfrom\u001b[0m \u001b[0mpandas\u001b[0m\u001b[0;34m.\u001b[0m\u001b[0mcore\u001b[0m\u001b[0;34m.\u001b[0m\u001b[0mcomputation\u001b[0m\u001b[0;34m.\u001b[0m\u001b[0mops\u001b[0m \u001b[0;32mimport\u001b[0m \u001b[0mUndefinedVariableError\u001b[0m\u001b[0;34m\u001b[0m\u001b[0;34m\u001b[0m\u001b[0m\n\u001b[1;32m    203\u001b[0m \u001b[0;34m\u001b[0m\u001b[0m\n\u001b[0;32m--> 204\u001b[0;31m                 \u001b[0;32mraise\u001b[0m \u001b[0mUndefinedVariableError\u001b[0m\u001b[0;34m(\u001b[0m\u001b[0mkey\u001b[0m\u001b[0;34m,\u001b[0m \u001b[0mis_local\u001b[0m\u001b[0;34m)\u001b[0m \u001b[0;32mfrom\u001b[0m \u001b[0merr\u001b[0m\u001b[0;34m\u001b[0m\u001b[0;34m\u001b[0m\u001b[0m\n\u001b[0m\u001b[1;32m    205\u001b[0m \u001b[0;34m\u001b[0m\u001b[0m\n\u001b[1;32m    206\u001b[0m     \u001b[0;32mdef\u001b[0m \u001b[0mswapkey\u001b[0m\u001b[0;34m(\u001b[0m\u001b[0mself\u001b[0m\u001b[0;34m,\u001b[0m \u001b[0mold_key\u001b[0m\u001b[0;34m:\u001b[0m \u001b[0mstr\u001b[0m\u001b[0;34m,\u001b[0m \u001b[0mnew_key\u001b[0m\u001b[0;34m:\u001b[0m \u001b[0mstr\u001b[0m\u001b[0;34m,\u001b[0m \u001b[0mnew_value\u001b[0m\u001b[0;34m=\u001b[0m\u001b[0;32mNone\u001b[0m\u001b[0;34m)\u001b[0m\u001b[0;34m:\u001b[0m\u001b[0;34m\u001b[0m\u001b[0;34m\u001b[0m\u001b[0m\n",
      "\u001b[0;31mUndefinedVariableError\u001b[0m: name 'Yes' is not defined"
     ]
    }
   ],
   "source": [
    "df.query()"
   ]
  },
  {
   "cell_type": "code",
   "execution_count": 57,
   "metadata": {},
   "outputs": [
    {
     "name": "stdout",
     "output_type": "stream",
     "text": [
      "\u001b[31mERROR: Could not find a version that satisfies the requirement numexpre\u001b[0m\n",
      "\u001b[31mERROR: No matching distribution found for numexpre\u001b[0m\n"
     ]
    }
   ],
   "source": [
    "!pip install numexpre"
   ]
  },
  {
   "cell_type": "code",
   "execution_count": 58,
   "metadata": {},
   "outputs": [
    {
     "name": "stdout",
     "output_type": "stream",
     "text": [
      "Collecting numexpr\n",
      "  Downloading numexpr-2.7.2-cp38-cp38-macosx_10_9_x86_64.whl (98 kB)\n",
      "\u001b[K     |████████████████████████████████| 98 kB 781 kB/s eta 0:00:01\n",
      "\u001b[?25hRequirement already satisfied: numpy>=1.7 in /Users/t/.pyenv/versions/3.8.5/lib/python3.8/site-packages (from numexpr) (1.19.4)\n",
      "Installing collected packages: numexpr\n",
      "Successfully installed numexpr-2.7.2\n"
     ]
    }
   ],
   "source": [
    "!pip install numexpr"
   ]
  },
  {
   "cell_type": "code",
   "execution_count": 60,
   "metadata": {},
   "outputs": [
    {
     "data": {
      "text/html": [
       "<div>\n",
       "<style scoped>\n",
       "    .dataframe tbody tr th:only-of-type {\n",
       "        vertical-align: middle;\n",
       "    }\n",
       "\n",
       "    .dataframe tbody tr th {\n",
       "        vertical-align: top;\n",
       "    }\n",
       "\n",
       "    .dataframe thead th {\n",
       "        text-align: right;\n",
       "    }\n",
       "</style>\n",
       "<table border=\"1\" class=\"dataframe\">\n",
       "  <thead>\n",
       "    <tr style=\"text-align: right;\">\n",
       "      <th></th>\n",
       "      <th>Name</th>\n",
       "      <th>Entity</th>\n",
       "      <th>Explanation</th>\n",
       "      <th>Notes</th>\n",
       "      <th>IDN</th>\n",
       "      <th>DNSSEC</th>\n",
       "      <th>SLD</th>\n",
       "      <th>IPv6</th>\n",
       "    </tr>\n",
       "  </thead>\n",
       "  <tbody>\n",
       "    <tr>\n",
       "      <th>0</th>\n",
       "      <td>.ac</td>\n",
       "      <td>アセンション島</td>\n",
       "      <td>NaN</td>\n",
       "      <td>広く学術的なサイト（大学など）のために用いられる。アセンション島はイギリス領であるが、イギリ...</td>\n",
       "      <td>Yes</td>\n",
       "      <td>Yes</td>\n",
       "      <td>Yes</td>\n",
       "      <td>Yes</td>\n",
       "    </tr>\n",
       "    <tr>\n",
       "      <th>46</th>\n",
       "      <td>.cl</td>\n",
       "      <td>チリ</td>\n",
       "      <td>NaN</td>\n",
       "      <td>NaN</td>\n",
       "      <td>Yes</td>\n",
       "      <td>Yes</td>\n",
       "      <td>Yes</td>\n",
       "      <td>Yes</td>\n",
       "    </tr>\n",
       "    <tr>\n",
       "      <th>102</th>\n",
       "      <td>.id</td>\n",
       "      <td>インドネシア</td>\n",
       "      <td>NaN</td>\n",
       "      <td>インドネシアの企業(co.id)、団体(or.id)、学術機関(ac.id, sch.id)...</td>\n",
       "      <td>Yes</td>\n",
       "      <td>Yes</td>\n",
       "      <td>Yes</td>\n",
       "      <td>NaN</td>\n",
       "    </tr>\n",
       "    <tr>\n",
       "      <th>110</th>\n",
       "      <td>.is</td>\n",
       "      <td>アイスランド</td>\n",
       "      <td>Ísland</td>\n",
       "      <td>NaN</td>\n",
       "      <td>Yes</td>\n",
       "      <td>Yes</td>\n",
       "      <td>Yes</td>\n",
       "      <td>NaN</td>\n",
       "    </tr>\n",
       "    <tr>\n",
       "      <th>123</th>\n",
       "      <td>.kr</td>\n",
       "      <td>韓国</td>\n",
       "      <td>NaN</td>\n",
       "      <td>NaN</td>\n",
       "      <td>Yes</td>\n",
       "      <td>Yes</td>\n",
       "      <td>Yes</td>\n",
       "      <td>NaN</td>\n",
       "    </tr>\n",
       "    <tr>\n",
       "      <th>131</th>\n",
       "      <td>.li</td>\n",
       "      <td>リヒテンシュタイン</td>\n",
       "      <td>NaN</td>\n",
       "      <td>ニューヨーク州ロングアイランドでも使用されている。</td>\n",
       "      <td>Yes</td>\n",
       "      <td>Yes</td>\n",
       "      <td>Yes</td>\n",
       "      <td>NaN</td>\n",
       "    </tr>\n",
       "    <tr>\n",
       "      <th>135</th>\n",
       "      <td>.lt</td>\n",
       "      <td>リトアニア</td>\n",
       "      <td>NaN</td>\n",
       "      <td>NaN</td>\n",
       "      <td>Yes</td>\n",
       "      <td>Yes</td>\n",
       "      <td>Yes</td>\n",
       "      <td>NaN</td>\n",
       "    </tr>\n",
       "    <tr>\n",
       "      <th>136</th>\n",
       "      <td>.lu</td>\n",
       "      <td>ルクセンブルク</td>\n",
       "      <td>NaN</td>\n",
       "      <td>NaN</td>\n",
       "      <td>Yes</td>\n",
       "      <td>Yes</td>\n",
       "      <td>Yes</td>\n",
       "      <td>NaN</td>\n",
       "    </tr>\n",
       "    <tr>\n",
       "      <th>137</th>\n",
       "      <td>.lv</td>\n",
       "      <td>ラトビア</td>\n",
       "      <td>NaN</td>\n",
       "      <td>NaN</td>\n",
       "      <td>Yes</td>\n",
       "      <td>Yes</td>\n",
       "      <td>Yes</td>\n",
       "      <td>NaN</td>\n",
       "    </tr>\n",
       "    <tr>\n",
       "      <th>168</th>\n",
       "      <td>.no</td>\n",
       "      <td>ノルウェー</td>\n",
       "      <td>NaN</td>\n",
       "      <td>ノルウェーで登録されている団体、またはノルウェーで住民登録された18歳以上の個人で、ノルウェ...</td>\n",
       "      <td>Yes</td>\n",
       "      <td>Yes</td>\n",
       "      <td>Yes</td>\n",
       "      <td>NaN</td>\n",
       "    </tr>\n",
       "    <tr>\n",
       "      <th>171</th>\n",
       "      <td>.nu</td>\n",
       "      <td>ニウエ</td>\n",
       "      <td>NaN</td>\n",
       "      <td>デンマーク・オランダ・スウェーデン各国の言葉で \"nu\"が「今」(now)の意味になることか...</td>\n",
       "      <td>Yes</td>\n",
       "      <td>Yes</td>\n",
       "      <td>Yes</td>\n",
       "      <td>NaN</td>\n",
       "    </tr>\n",
       "  </tbody>\n",
       "</table>\n",
       "</div>"
      ],
      "text/plain": [
       "    Name     Entity Explanation  \\\n",
       "0    .ac    アセンション島         NaN   \n",
       "46   .cl         チリ         NaN   \n",
       "102  .id     インドネシア         NaN   \n",
       "110  .is     アイスランド      Ísland   \n",
       "123  .kr         韓国         NaN   \n",
       "131  .li  リヒテンシュタイン         NaN   \n",
       "135  .lt      リトアニア         NaN   \n",
       "136  .lu    ルクセンブルク         NaN   \n",
       "137  .lv       ラトビア         NaN   \n",
       "168  .no      ノルウェー         NaN   \n",
       "171  .nu        ニウエ         NaN   \n",
       "\n",
       "                                                 Notes  IDN DNSSEC  SLD IPv6  \n",
       "0    広く学術的なサイト（大学など）のために用いられる。アセンション島はイギリス領であるが、イギリ...  Yes    Yes  Yes  Yes  \n",
       "46                                                 NaN  Yes    Yes  Yes  Yes  \n",
       "102  インドネシアの企業(co.id)、団体(or.id)、学術機関(ac.id, sch.id)...  Yes    Yes  Yes  NaN  \n",
       "110                                                NaN  Yes    Yes  Yes  NaN  \n",
       "123                                                NaN  Yes    Yes  Yes  NaN  \n",
       "131                          ニューヨーク州ロングアイランドでも使用されている。  Yes    Yes  Yes  NaN  \n",
       "135                                                NaN  Yes    Yes  Yes  NaN  \n",
       "136                                                NaN  Yes    Yes  Yes  NaN  \n",
       "137                                                NaN  Yes    Yes  Yes  NaN  \n",
       "168  ノルウェーで登録されている団体、またはノルウェーで住民登録された18歳以上の個人で、ノルウェ...  Yes    Yes  Yes  NaN  \n",
       "171  デンマーク・オランダ・スウェーデン各国の言葉で \"nu\"が「今」(now)の意味になることか...  Yes    Yes  Yes  NaN  "
      ]
     },
     "execution_count": 60,
     "metadata": {},
     "output_type": "execute_result"
    }
   ],
   "source": [
    "df.query(\"IDN == 'Yes' and SLD == 'Yes'  and DNSSEC == 'Yes' \")"
   ]
  },
  {
   "cell_type": "code",
   "execution_count": 61,
   "metadata": {},
   "outputs": [
    {
     "data": {
      "text/plain": [
       "Name           object\n",
       "Entity         object\n",
       "Explanation    object\n",
       "Notes          object\n",
       "IDN            object\n",
       "DNSSEC         object\n",
       "SLD            object\n",
       "IPv6           object\n",
       "dtype: object"
      ]
     },
     "execution_count": 61,
     "metadata": {},
     "output_type": "execute_result"
    }
   ],
   "source": [
    "df.dtypes"
   ]
  },
  {
   "cell_type": "code",
   "execution_count": 62,
   "metadata": {},
   "outputs": [
    {
     "name": "stdout",
     "output_type": "stream",
     "text": [
      "Collecting pydotplus\n",
      "  Downloading pydotplus-2.0.2.tar.gz (278 kB)\n",
      "\u001b[K     |████████████████████████████████| 278 kB 384 kB/s eta 0:00:01\n",
      "\u001b[?25hRequirement already satisfied: pyparsing>=2.0.1 in /Users/t/.pyenv/versions/3.8.5/lib/python3.8/site-packages (from pydotplus) (2.4.7)\n",
      "Building wheels for collected packages: pydotplus\n",
      "  Building wheel for pydotplus (setup.py) ... \u001b[?25ldone\n",
      "\u001b[?25h  Created wheel for pydotplus: filename=pydotplus-2.0.2-py3-none-any.whl size=24566 sha256=8183cd0b83a7bdb498adb20a080de3d633b1e835608016116e89cf265cf9b876\n",
      "  Stored in directory: /Users/t/Library/Caches/pip/wheels/fe/cd/78/a7e873cc049759194f8271f780640cf96b35e5a48bef0e2f36\n",
      "Successfully built pydotplus\n",
      "Installing collected packages: pydotplus\n",
      "Successfully installed pydotplus-2.0.2\n"
     ]
    }
   ],
   "source": [
    "!pip install pydotplus"
   ]
  },
  {
   "cell_type": "code",
   "execution_count": 64,
   "metadata": {},
   "outputs": [],
   "source": [
    "from sklearn.datasets import load_iris\n",
    "from sklearn.model_selection import train_test_split\n",
    "from sklearn.tree import DecisionTreeClassifier"
   ]
  },
  {
   "cell_type": "code",
   "execution_count": 65,
   "metadata": {},
   "outputs": [],
   "source": [
    "iris = load_iris()\n",
    "X, y = iris.data, iris.target"
   ]
  },
  {
   "cell_type": "code",
   "execution_count": 67,
   "metadata": {},
   "outputs": [
    {
     "data": {
      "text/plain": [
       "150"
      ]
     },
     "execution_count": 67,
     "metadata": {},
     "output_type": "execute_result"
    }
   ],
   "source": [
    "len(X)"
   ]
  },
  {
   "cell_type": "code",
   "execution_count": 68,
   "metadata": {},
   "outputs": [
    {
     "data": {
      "text/plain": [
       "150"
      ]
     },
     "execution_count": 68,
     "metadata": {},
     "output_type": "execute_result"
    }
   ],
   "source": [
    "len(y)"
   ]
  },
  {
   "cell_type": "code",
   "execution_count": 74,
   "metadata": {},
   "outputs": [],
   "source": [
    "X_train, X_test, y_train, y_test = train_test_split(X, y, test_size=0.3, random_state=0)"
   ]
  },
  {
   "cell_type": "code",
   "execution_count": 75,
   "metadata": {},
   "outputs": [
    {
     "name": "stdout",
     "output_type": "stream",
     "text": [
      "(105, 4)\n",
      "(45, 4)\n",
      "(105,)\n",
      "(45,)\n"
     ]
    }
   ],
   "source": [
    "print(X_train.shape)\n",
    "print(X_test.shape)\n",
    "print(y_train.shape)\n",
    "print(y_test.shape)"
   ]
  },
  {
   "cell_type": "code",
   "execution_count": 86,
   "metadata": {},
   "outputs": [],
   "source": [
    "tree = DecisionTreeClassifier(max_depth=3)\n",
    "tree = tree.fit(X_train, y_train)"
   ]
  },
  {
   "cell_type": "code",
   "execution_count": 87,
   "metadata": {},
   "outputs": [],
   "source": [
    "from pydotplus import graph_from_dot_data\n",
    "from sklearn.tree import export_graphviz"
   ]
  },
  {
   "cell_type": "code",
   "execution_count": 88,
   "metadata": {},
   "outputs": [],
   "source": [
    "dot_data = export_graphviz(tree,\n",
    "                           filled=True, \n",
    "                           rounded=True, \n",
    "                           class_names=[\"Setosa\", \"Versicolor\", \"Virginica\"], \n",
    "                           feature_names=[\"Sepal Length\", \"Sepal Width\", \"Petal Length\", \"Petal Width\"],\n",
    "                           out_file=None)"
   ]
  },
  {
   "cell_type": "code",
   "execution_count": 89,
   "metadata": {},
   "outputs": [],
   "source": [
    "graph = graph_from_dot_data(dot_data)"
   ]
  },
  {
   "cell_type": "code",
   "execution_count": 90,
   "metadata": {},
   "outputs": [
    {
     "ename": "InvocationException",
     "evalue": "GraphViz's executables not found",
     "output_type": "error",
     "traceback": [
      "\u001b[0;31m-------------------------------------\u001b[0m",
      "\u001b[0;31mInvocationException\u001b[0mTraceback (most recent call last)",
      "\u001b[0;32m<ipython-input-90-a8a58f890a36>\u001b[0m in \u001b[0;36m<module>\u001b[0;34m\u001b[0m\n\u001b[0;32m----> 1\u001b[0;31m \u001b[0mgraph\u001b[0m\u001b[0;34m.\u001b[0m\u001b[0mwrite_png\u001b[0m\u001b[0;34m(\u001b[0m\u001b[0;34m\"tree.png\"\u001b[0m\u001b[0;34m)\u001b[0m\u001b[0;34m\u001b[0m\u001b[0;34m\u001b[0m\u001b[0m\n\u001b[0m",
      "\u001b[0;32m~/.pyenv/versions/3.8.5/lib/python3.8/site-packages/pydotplus/graphviz.py\u001b[0m in \u001b[0;36m<lambda>\u001b[0;34m(path, f, prog)\u001b[0m\n\u001b[1;32m   1808\u001b[0m                 \u001b[0;32mlambda\u001b[0m \u001b[0mpath\u001b[0m\u001b[0;34m,\u001b[0m\u001b[0;34m\u001b[0m\u001b[0;34m\u001b[0m\u001b[0m\n\u001b[1;32m   1809\u001b[0m                 \u001b[0mf\u001b[0m\u001b[0;34m=\u001b[0m\u001b[0mfrmt\u001b[0m\u001b[0;34m,\u001b[0m\u001b[0;34m\u001b[0m\u001b[0;34m\u001b[0m\u001b[0m\n\u001b[0;32m-> 1810\u001b[0;31m                 \u001b[0mprog\u001b[0m\u001b[0;34m=\u001b[0m\u001b[0mself\u001b[0m\u001b[0;34m.\u001b[0m\u001b[0mprog\u001b[0m\u001b[0;34m:\u001b[0m \u001b[0mself\u001b[0m\u001b[0;34m.\u001b[0m\u001b[0mwrite\u001b[0m\u001b[0;34m(\u001b[0m\u001b[0mpath\u001b[0m\u001b[0;34m,\u001b[0m \u001b[0mformat\u001b[0m\u001b[0;34m=\u001b[0m\u001b[0mf\u001b[0m\u001b[0;34m,\u001b[0m \u001b[0mprog\u001b[0m\u001b[0;34m=\u001b[0m\u001b[0mprog\u001b[0m\u001b[0;34m)\u001b[0m\u001b[0;34m\u001b[0m\u001b[0;34m\u001b[0m\u001b[0m\n\u001b[0m\u001b[1;32m   1811\u001b[0m             )\n\u001b[1;32m   1812\u001b[0m \u001b[0;34m\u001b[0m\u001b[0m\n",
      "\u001b[0;32m~/.pyenv/versions/3.8.5/lib/python3.8/site-packages/pydotplus/graphviz.py\u001b[0m in \u001b[0;36mwrite\u001b[0;34m(self, path, prog, format)\u001b[0m\n\u001b[1;32m   1916\u001b[0m \u001b[0;34m\u001b[0m\u001b[0m\n\u001b[1;32m   1917\u001b[0m             \u001b[0;32melse\u001b[0m\u001b[0;34m:\u001b[0m\u001b[0;34m\u001b[0m\u001b[0;34m\u001b[0m\u001b[0m\n\u001b[0;32m-> 1918\u001b[0;31m                 \u001b[0mfobj\u001b[0m\u001b[0;34m.\u001b[0m\u001b[0mwrite\u001b[0m\u001b[0;34m(\u001b[0m\u001b[0mself\u001b[0m\u001b[0;34m.\u001b[0m\u001b[0mcreate\u001b[0m\u001b[0;34m(\u001b[0m\u001b[0mprog\u001b[0m\u001b[0;34m,\u001b[0m \u001b[0mformat\u001b[0m\u001b[0;34m)\u001b[0m\u001b[0;34m)\u001b[0m\u001b[0;34m\u001b[0m\u001b[0;34m\u001b[0m\u001b[0m\n\u001b[0m\u001b[1;32m   1919\u001b[0m         \u001b[0;32mfinally\u001b[0m\u001b[0;34m:\u001b[0m\u001b[0;34m\u001b[0m\u001b[0;34m\u001b[0m\u001b[0m\n\u001b[1;32m   1920\u001b[0m             \u001b[0;32mif\u001b[0m \u001b[0mclose\u001b[0m\u001b[0;34m:\u001b[0m\u001b[0;34m\u001b[0m\u001b[0;34m\u001b[0m\u001b[0m\n",
      "\u001b[0;32m~/.pyenv/versions/3.8.5/lib/python3.8/site-packages/pydotplus/graphviz.py\u001b[0m in \u001b[0;36mcreate\u001b[0;34m(self, prog, format)\u001b[0m\n\u001b[1;32m   1957\u001b[0m             \u001b[0mself\u001b[0m\u001b[0;34m.\u001b[0m\u001b[0mprogs\u001b[0m \u001b[0;34m=\u001b[0m \u001b[0mfind_graphviz\u001b[0m\u001b[0;34m(\u001b[0m\u001b[0;34m)\u001b[0m\u001b[0;34m\u001b[0m\u001b[0;34m\u001b[0m\u001b[0m\n\u001b[1;32m   1958\u001b[0m             \u001b[0;32mif\u001b[0m \u001b[0mself\u001b[0m\u001b[0;34m.\u001b[0m\u001b[0mprogs\u001b[0m \u001b[0;32mis\u001b[0m \u001b[0;32mNone\u001b[0m\u001b[0;34m:\u001b[0m\u001b[0;34m\u001b[0m\u001b[0;34m\u001b[0m\u001b[0m\n\u001b[0;32m-> 1959\u001b[0;31m                 raise InvocationException(\n\u001b[0m\u001b[1;32m   1960\u001b[0m                     'GraphViz\\'s executables not found')\n\u001b[1;32m   1961\u001b[0m \u001b[0;34m\u001b[0m\u001b[0m\n",
      "\u001b[0;31mInvocationException\u001b[0m: GraphViz's executables not found"
     ]
    }
   ],
   "source": [
    "graph.write_png(\"tree.png\")"
   ]
  },
  {
   "cell_type": "code",
   "execution_count": 91,
   "metadata": {},
   "outputs": [
    {
     "data": {
      "text/plain": [
       "DecisionTreeClassifier(max_depth=3)"
      ]
     },
     "execution_count": 91,
     "metadata": {},
     "output_type": "execute_result"
    }
   ],
   "source": [
    "tree"
   ]
  },
  {
   "cell_type": "code",
   "execution_count": 92,
   "metadata": {},
   "outputs": [
    {
     "data": {
      "text/plain": [
       "array([1, 2, 2, 2, 2, 1, 2, 1, 1, 2, 2, 2, 2, 1, 2, 1, 0, 2, 1, 1, 1, 1,\n",
       "       2, 0, 0, 2, 1, 0, 0, 1, 0, 2, 1, 0, 1, 2, 1, 0, 2, 2, 2, 2, 0, 0,\n",
       "       2, 2, 0, 2, 0, 2, 2, 0, 0, 2, 0, 0, 0, 1, 2, 2, 0, 0, 0, 1, 1, 0,\n",
       "       0, 1, 0, 2, 1, 2, 1, 0, 2, 0, 2, 0, 0, 2, 0, 2, 1, 1, 1, 2, 2, 1,\n",
       "       2, 0, 1, 2, 2, 0, 1, 1, 2, 1, 0, 0, 0, 2, 1, 2, 0])"
      ]
     },
     "execution_count": 92,
     "metadata": {},
     "output_type": "execute_result"
    }
   ],
   "source": [
    "y_pred = tree.predict(X_train)\n",
    "y_pred"
   ]
  },
  {
   "cell_type": "code",
   "execution_count": 94,
   "metadata": {},
   "outputs": [
    {
     "data": {
      "text/plain": [
       "array([2, 1, 0, 2, 0, 2, 0, 1, 1, 1, 2, 1, 1, 1, 1, 0, 1, 1, 0, 0, 2, 1,\n",
       "       0, 0, 2, 0, 0, 1, 1, 0, 2, 1, 0, 2, 2, 1, 0, 2, 1, 1, 2, 0, 2, 0,\n",
       "       0])"
      ]
     },
     "execution_count": 94,
     "metadata": {},
     "output_type": "execute_result"
    }
   ],
   "source": [
    "from sklearn.ensemble import RandomForestClassifier\n",
    "forest = RandomForestClassifier(n_estimators=100, random_state=0) #100個のきを作成\n",
    "forest.fit(X_train, y_train)\n",
    "y_pred = forest.predict(X_test)\n",
    "y_pred"
   ]
  },
  {
   "cell_type": "markdown",
   "metadata": {},
   "source": [
    "### Regression"
   ]
  },
  {
   "cell_type": "code",
   "execution_count": 95,
   "metadata": {},
   "outputs": [],
   "source": [
    "from sklearn.linear_model import LinearRegression\n",
    "from sklearn.datasets import load_boston\n",
    "from sklearn.model_selection import train_test_split"
   ]
  },
  {
   "cell_type": "code",
   "execution_count": 96,
   "metadata": {},
   "outputs": [],
   "source": [
    "boston = load_boston()\n",
    "X, y = boston.data, boston.target # Ndarray"
   ]
  },
  {
   "cell_type": "code",
   "execution_count": 99,
   "metadata": {},
   "outputs": [],
   "source": [
    "X_train, X_test, y_train, y_test = train_test_split(X, y, test_size=0.3, random_state=0)"
   ]
  },
  {
   "cell_type": "code",
   "execution_count": 100,
   "metadata": {},
   "outputs": [
    {
     "data": {
      "text/plain": [
       "array([24.9357079 , 23.75163164, 29.32638296, 11.97534566, 21.37272478,\n",
       "       19.19148525, 20.5717479 , 21.21154015, 19.04572003, 20.35463238,\n",
       "        5.44119126, 16.93688709, 17.15482272,  5.3928209 , 40.20270696,\n",
       "       32.31327348, 22.46213268, 36.50124666, 31.03737014, 23.17124551,\n",
       "       24.74815321, 24.49939403, 20.6595791 , 30.4547583 , 22.32487164,\n",
       "       10.18932894, 17.44286422, 18.26103077, 35.63299326, 20.81960303,\n",
       "       18.27218007, 17.72047628, 19.33772473, 23.62254823, 28.97766856,\n",
       "       19.45036239, 11.13170639, 24.81843595, 18.05294835, 15.59712226,\n",
       "       26.21043403, 20.81140432, 22.17349382, 15.48367365, 22.62261604,\n",
       "       24.88561528, 19.74754478, 23.0465628 ,  9.84579105, 24.36378793,\n",
       "       21.47849008, 17.62118176, 24.39160873, 29.95102691, 13.57219422,\n",
       "       21.53645439, 20.53306273, 15.03433182, 14.3232289 , 22.11929299,\n",
       "       17.07321915, 21.54141094, 32.96766968, 31.371599  , 17.7860591 ,\n",
       "       32.75069556, 18.74795323, 19.21428022, 19.41970047, 23.08087809,\n",
       "       22.87732816, 24.06399098, 30.52824406, 28.71453508, 25.90763165,\n",
       "        5.17596718, 36.8709072 , 23.76983849, 27.26064379, 19.25849042,\n",
       "       28.41860517, 19.3008798 , 18.94922353, 38.00154059, 39.44096748,\n",
       "       23.72297885, 24.83722534, 16.52015743, 25.9970546 , 16.73997072,\n",
       "       15.48656983, 13.52825536, 24.12884363, 30.76919578, 22.18731163,\n",
       "       19.8848644 ,  0.42275479, 24.86785849, 16.05692   , 17.42486412,\n",
       "       25.49798527, 22.35171315, 32.66562689, 22.04428746, 27.29799885,\n",
       "       23.20302026,  6.86196574, 14.869251  , 22.31804948, 29.18125768,\n",
       "       33.22568234, 13.24392523, 19.67195771, 20.7502616 , 12.02271319,\n",
       "       23.50067006,  5.55662571, 19.87634689,  9.27059783, 44.81787339,\n",
       "       30.56017983, 12.44394048, 17.33192202, 21.48313292, 23.52664913,\n",
       "       20.49877266, 35.09161099, 13.22639935, 20.70321163, 35.35582833,\n",
       "       19.45050576, 13.81603561, 14.15654562, 23.03678503, 15.07521258,\n",
       "       30.9662041 , 25.23236632, 15.43763716, 24.06406534,  9.93080346,\n",
       "       15.01618901, 21.06098873, 32.87115732, 27.80927747, 25.91293794,\n",
       "       15.27877362, 30.97489404, 27.81107682, 14.5068157 ,  7.57369946,\n",
       "       28.3348068 , 25.04341153])"
      ]
     },
     "execution_count": 100,
     "metadata": {},
     "output_type": "execute_result"
    }
   ],
   "source": [
    "lr = LinearRegression()\n",
    "lr.fit(X_train, y_train)\n",
    "y_pred = lr.predict(X_test)\n",
    "y_pred"
   ]
  },
  {
   "cell_type": "code",
   "execution_count": 105,
   "metadata": {},
   "outputs": [
    {
     "data": {
      "image/png": "[encoded data removed]",
      "text/plain": [
       "<Figure size 432x288 with 1 Axes>"
      ]
     },
     "metadata": {
      "needs_background": "light"
     },
     "output_type": "display_data"
    }
   ],
   "source": [
    "import matplotlib.pyplot as plt\n",
    "%matplotlib inline\n",
    "\n",
    "fig, ax = plt.subplots()\n",
    "ax.scatter(y_pred, y_test)\n",
    "ax.plot((0, 50), (0, 50), linestyle=\"dashed\", color=\"red\")\n",
    "ax.set_xlabel(\"predicted value\")\n",
    "ax.set_ylabel(\"actual value\")\n",
    "plt.grid(True)\n",
    "plt.show()"
   ]
  },
  {
   "cell_type": "markdown",
   "metadata": {},
   "source": [
    "#### Demnsion reduction"
   ]
  },
  {
   "cell_type": "code",
   "execution_count": null,
   "metadata": {},
   "outputs": [],
   "source": []
  }
 ],
 "metadata": {
  "kernelspec": {
   "display_name": "Python 3",
   "language": "python",
   "name": "python3"
  },
  "language_info": {
   "codemirror_mode": {
    "name": "ipython",
    "version": 3
   },
   "file_extension": ".py",
   "mimetype": "text/x-python",
   "name": "python",
   "nbconvert_exporter": "python",
   "pygments_lexer": "ipython3",
   "version": "3.8.5"
  }
 },
 "nbformat": 4,
 "nbformat_minor": 4
}
