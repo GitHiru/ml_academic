{
 "cells": [
  {
   "cell_type": "code",
   "execution_count": null,
   "metadata": {},
   "outputs": [],
   "source": [
    "# Google Colaboratoryを使用する場合は、下記のコメントアウトを外し、実行してください"
   ]
  },
  {
   "cell_type": "code",
   "execution_count": null,
   "metadata": {},
   "outputs": [],
   "source": [
    "# # 下記セルを実行すると、authorization codeの入力を求められます。\n",
    "# # 出力されたリンク先をクリックし、Googleアカウントにログインし、\n",
    "# # authorization codeをコピーし、貼り付けをおこなってください。\n",
    "# import os\n",
    "# from google.colab import drive\n",
    "# drive.mount('/content/drive')"
   ]
  },
  {
   "cell_type": "code",
   "execution_count": null,
   "metadata": {},
   "outputs": [],
   "source": [
    "# working_dir = 'MLSys_100Knocks' #　※※自分で作成したフォルダパスが異なる場合こちらを変更してください。※※\n",
    "# path = f'/content/drive/MyDrive/{working_dir}/本章/3章'\n",
    "# os.chdir(path)\n",
    "# ! pip install japanize-matplotlib"
   ]
  },
  {
   "cell_type": "markdown",
   "metadata": {},
   "source": [
    "# ３章　可視化の仕組みを構築する１０本ノック"
   ]
  },
  {
   "cell_type": "code",
   "execution_count": null,
   "metadata": {},
   "outputs": [],
   "source": [
    "import pandas as pd\n",
    "\n",
    "# master data\n",
    "m_store = pd.read_csv(\"../chapter01/input/m_store.csv\")\n",
    "m_area = pd.read_csv(\"../chapter01/input/m_area.csv\")\n",
    "# transacion data\n",
    "order_data = pd.read_csv(\"../chapter01/input/tbl_order_202004.csv\")"
   ]
  },
  {
   "cell_type": "code",
   "execution_count": null,
   "metadata": {},
   "outputs": [],
   "source": [
    "order_data = pd.merge(order_data, m_store, on=\"store_id\", how=\"left\")\n",
    "order_data = pd.merge(order_data, m_area, on=\"area_cd\", how=\"left\")"
   ]
  },
  {
   "cell_type": "code",
   "execution_count": null,
   "metadata": {},
   "outputs": [],
   "source": [
    "order_data.loc[order_data[\"takeout_flag\"] == 0, \"takeout_name\"] = \"delivery\"\n",
    "order_data.loc[order_data[\"takeout_flag\"] == 1, \"takeout_name\"] = \"takeaway\"\n",
    "order_data.loc[order_data[\"status\"] == 0, \"status_name\"] = \"recept\"\n",
    "order_data.loc[order_data[\"status\"] == 1, \"status_name\"] = \"paid\"\n",
    "order_data.loc[order_data[\"status\"] == 2, \"status_name\"] = \"passed\"\n",
    "order_data.loc[order_data[\"status\"] == 9, \"status_name\"] = \"cancel\""
   ]
  },
  {
   "cell_type": "code",
   "execution_count": null,
   "metadata": {},
   "outputs": [],
   "source": [
    "order_data.head()"
   ]
  },
  {
   "cell_type": "markdown",
   "metadata": {},
   "source": [
    "### ノック２１：店舗を絞り込んで可視化できるようにしてみよう\n",
    "\n",
    "> `cf.`\n",
    ">\n",
    "> + []()\n",
    "\n",
    "`observe()`"
   ]
  },
  {
   "cell_type": "code",
   "execution_count": null,
   "metadata": {},
   "outputs": [],
   "source": [
    "from IPython.display import display, clear_output\n",
    "from ipywidgets import Dropdown\n",
    "\n",
    "\n",
    "def order_by_store(val):\n",
    "    '''\n",
    "    この関数の処理はまず、\n",
    "    　1. 結果エリアのクリア\n",
    "       2. ドロップダウンの再描画\n",
    "       3. 選択された店舗名に該当する注文データを抽出\n",
    "       （ステータスコードが「paid(1)、passed(2)」を条件に付与。∵実際に売上として計上してよいデータに限定するため）\n",
    "       4. 画面上に表示\n",
    "    '''\n",
    "    clear_output()\n",
    "    display(dropdown)\n",
    "    pick_data = order_data.loc[(order_data[\"store_name\"] == val[\"new\"]) & (order_data[\"status\"].isin([1, 2]))]\n",
    "    display(pick_data.head())\n",
    "\n",
    "    \n",
    "store_list = m_store[\"store_name\"].tolist()\n",
    "dropdown = Dropdown(options=store_list) #ドロップダウンオブジェクト生成\n",
    "dropdown.observe(order_by_store, names=\"value\") #ドロップダウンオブジェクト生成変化を検知したら関数実行\n",
    "display(dropdown)"
   ]
  },
  {
   "cell_type": "code",
   "execution_count": null,
   "metadata": {},
   "outputs": [],
   "source": [
    "%matplotlib inline\n",
    "import matplotlib.pyplot as plt\n",
    "import japanize_matplotlib\n",
    "\n",
    "\n",
    "def graph_by_store(val):\n",
    "    '''\n",
    "    この関数の処理はまず、\n",
    "    　1~3. order_by_storeと同様\n",
    "       4. 描画用に一時的なデータフレームをコピー\n",
    "       5. 日付型に再定義（object型→datetime型）\n",
    "       6. 日付型のカラムをインデックス化（∵日時等でリサンプリング(再集計)を行うため）\n",
    "       7. 「D」日を意味し、日単位でリサンプリングを行った結果を描画\n",
    "    '''\n",
    "    clear_output()\n",
    "    display(dropdown2)\n",
    "    pick_data = order_data.loc[(order_data[\"store_name\"] == val[\"new\"]) & (order_data[\"status\"].isin([1, 2]))]\n",
    "    temp = pick_data[[\"order_accept_date\", \"total_amount\"]].copy()\n",
    "    temp.loc[:, \"order_accept_date\"] = pd.to_datetime(temp[\"order_accept_date\"])\n",
    "    temp.set_index(\"order_accept_date\", inplace=True)\n",
    "    temp.resample(\"D\").sum().plot()\n",
    "\n",
    "    \n",
    "dropdown2 = Dropdown(options=store_list)\n",
    "dropdown2.observe(graph_by_store, names=\"value\")\n",
    "display(dropdown2)"
   ]
  },
  {
   "cell_type": "markdown",
   "metadata": {},
   "source": [
    "##### - reverse engineering"
   ]
  },
  {
   "cell_type": "code",
   "execution_count": null,
   "metadata": {},
   "outputs": [],
   "source": [
    "pick_data = order_data.loc[(order_data[\"store_name\"] == \"あきる野店\") & (order_data[\"status\"].isin([1, 2]))] \n",
    "pick_data.head()"
   ]
  },
  {
   "cell_type": "code",
   "execution_count": null,
   "metadata": {},
   "outputs": [],
   "source": [
    "temp = pick_data[[\"order_accept_date\", \"total_amount\"]].copy()\n",
    "temp.iloc[:, 0]= pd.to_datetime(temp[\"order_accept_date\"])\n",
    "temp.dtypes"
   ]
  },
  {
   "cell_type": "code",
   "execution_count": null,
   "metadata": {},
   "outputs": [],
   "source": [
    "temp.set_index(\"order_accept_date\").head()"
   ]
  },
  {
   "cell_type": "markdown",
   "metadata": {},
   "source": [
    "### ノック２２：複数店舗の詳細を可視化できるようにしてみよう"
   ]
  },
  {
   "cell_type": "code",
   "execution_count": null,
   "metadata": {},
   "outputs": [],
   "source": [
    "from ipywidgets import SelectMultiple\n",
    "\n",
    "def order_by_multi(val):\n",
    "    '''\n",
    "    この関数の処理\n",
    "    1. 結果エリアのクリア\n",
    "    2. セレクトエリアの再描画\n",
    "    3. .isin(val[\"new\"])関数を用いて、選択された複数を取得\n",
    "    4. 画面上に表示\n",
    "    '''\n",
    "    clear_output()\n",
    "    display(select)\n",
    "    pick_data = order_data.loc[(order_data[\"store_name\"].isin(val[\"new\"])) & (order_data[\"status\"].isin([1, 2]))]\n",
    "    display(pick_data.head())\n",
    "\n",
    "    \n",
    "# 複数の店舗を選ぶときは、ShiftキーやCt rlキーを押しながらクリック\n",
    "select = SelectMultiple(options=store_list) #マルチセレクトオブジェクト生成\n",
    "select.observe(order_by_multi, names=\"value\")\n",
    "display(select)"
   ]
  },
  {
   "cell_type": "code",
   "execution_count": null,
   "metadata": {},
   "outputs": [],
   "source": [
    "def graph_by_multi(val):\n",
    "    clear_output()\n",
    "    display(select2)\n",
    "    fig = plt.figure(figsize=(17, 4))\n",
    "    plt.subplots_adjust(wspace=0.25, hspace=0.6)\n",
    "    \n",
    "    i = 0\n",
    "    \n",
    "    for trg in val[\"new\"]:\n",
    "        pick_data = order_data.loc[(order_data[\"store_name\"] == trg)&(order_data[\"status\"].isin([1, 2]))]\n",
    "        temp = order_data[[\"order_accept_date\", \"total_amount\", \"store_name\"]].copy()\n",
    "        temp.loc[:, \"order_accept_date\"] = pd.to_datetime(temp[\"order_accept_date\"])\n",
    "        temp.set_index(\"order_accept_date\", inplace=True)\n",
    "        i += 1\n",
    "        ax = fig.add_subplot(1, len(val[\"new\"]), i)\n",
    "        ax.plot(temp.resample(\"D\").sum())\n",
    "        ax.set_title(trg)\n",
    "        \n",
    "\n",
    "select2 = SelectMultiple(options=store_list)\n",
    "select2.observe(graph_by_multi, names=\"value\")\n",
    "display(select2)"
   ]
  },
  {
   "cell_type": "markdown",
   "metadata": {},
   "source": [
    "### ノック２３：スライドバーを用いてオーダー件数を調べてみよう\n",
    "> スライドパーでオーダー件数の[閾値](https://ja.wikipedia.org/wiki/%E3%81%97%E3%81%8D%E3%81%84%E5%80%A4)(しきい値:境目の値)を設定し、それより件数が少ない 多い店舗を調べてみましょう。\n",
    "\n",
    "> `cf.`\n",
    ">\n",
    "> + [Pythonでリストのサイズ（要素数）を取得 - note.nkmk.me](https://note.nkmk.me/python-list-len/)"
   ]
  },
  {
   "cell_type": "code",
   "execution_count": null,
   "metadata": {},
   "outputs": [],
   "source": [
    "from ipywidgets import IntSlider\n",
    "\n",
    "\n",
    "def store_lower(val):\n",
    "    clear_output()\n",
    "    display(slider)\n",
    "    temp = order_data.groupby(\"store_name\")\n",
    "    print(temp.size()[temp.size() < val[\"new\"]])\n",
    "\n",
    "slider = IntSlider(value=1100, min=1000, max=2000, step=100, description=\"件数：\", )\n",
    "slider.observe(store_lower, names=\"value\")\n",
    "display(slider)"
   ]
  },
  {
   "cell_type": "markdown",
   "metadata": {},
   "source": [
    "#### - reverse engineering"
   ]
  },
  {
   "cell_type": "code",
   "execution_count": null,
   "metadata": {},
   "outputs": [],
   "source": [
    "temp = order_data.groupby(\"store_name\")\n",
    "print(temp)"
   ]
  },
  {
   "cell_type": "code",
   "execution_count": null,
   "metadata": {},
   "outputs": [],
   "source": [
    "temp.size()"
   ]
  },
  {
   "cell_type": "code",
   "execution_count": null,
   "metadata": {},
   "outputs": [],
   "source": [
    "def store_upper(val):\n",
    "    clear_output()\n",
    "    display(slider2)\n",
    "    temp = order_data.groupby(\"store_name\")\n",
    "    print(temp.size()[temp.size() > val[\"new\"]])\n",
    "\n",
    "slider2 = IntSlider(value=1600, min=1000, max=2000, step=100, description=\"件数：\")\n",
    "slider2.observe(store_upper, names=\"value\")\n",
    "display(slider2)"
   ]
  },
  {
   "cell_type": "markdown",
   "metadata": {},
   "source": [
    "### ノック２４：トグルボタンで地域データを抽出しよう"
   ]
  },
  {
   "cell_type": "code",
   "execution_count": null,
   "metadata": {},
   "outputs": [],
   "source": []
  },
  {
   "cell_type": "code",
   "execution_count": null,
   "metadata": {},
   "outputs": [],
   "source": []
  },
  {
   "cell_type": "markdown",
   "metadata": {},
   "source": [
    "### ノック２５：日付を指定してデータを抽出してみよう"
   ]
  },
  {
   "cell_type": "code",
   "execution_count": null,
   "metadata": {},
   "outputs": [],
   "source": []
  },
  {
   "cell_type": "code",
   "execution_count": null,
   "metadata": {},
   "outputs": [],
   "source": []
  },
  {
   "cell_type": "markdown",
   "metadata": {},
   "source": [
    "### ノック２６：ストーリーを考えてデータを構築しよう"
   ]
  },
  {
   "cell_type": "code",
   "execution_count": null,
   "metadata": {},
   "outputs": [],
   "source": []
  },
  {
   "cell_type": "code",
   "execution_count": null,
   "metadata": {},
   "outputs": [],
   "source": []
  },
  {
   "cell_type": "markdown",
   "metadata": {},
   "source": [
    "### ノック２７：キャンセルの理由を分析してみよう"
   ]
  },
  {
   "cell_type": "code",
   "execution_count": null,
   "metadata": {},
   "outputs": [],
   "source": []
  },
  {
   "cell_type": "code",
   "execution_count": null,
   "metadata": {},
   "outputs": [],
   "source": []
  },
  {
   "cell_type": "markdown",
   "metadata": {},
   "source": [
    "### ノック２８：仮説を検証してみよう"
   ]
  },
  {
   "cell_type": "code",
   "execution_count": null,
   "metadata": {},
   "outputs": [],
   "source": []
  },
  {
   "cell_type": "code",
   "execution_count": null,
   "metadata": {},
   "outputs": [],
   "source": []
  },
  {
   "cell_type": "markdown",
   "metadata": {},
   "source": [
    "### ノック２９：ストーリーをもとにパーツやデータを組み合わせてダッシュボードを作ろう"
   ]
  },
  {
   "cell_type": "code",
   "execution_count": null,
   "metadata": {},
   "outputs": [],
   "source": []
  },
  {
   "cell_type": "code",
   "execution_count": null,
   "metadata": {},
   "outputs": [],
   "source": []
  },
  {
   "cell_type": "markdown",
   "metadata": {},
   "source": [
    "### ノック３０：ダッシュボードを改善しよう"
   ]
  },
  {
   "cell_type": "code",
   "execution_count": null,
   "metadata": {},
   "outputs": [],
   "source": []
  },
  {
   "cell_type": "code",
   "execution_count": null,
   "metadata": {},
   "outputs": [],
   "source": []
  }
 ],
 "metadata": {
  "kernelspec": {
   "display_name": "Python 3",
   "language": "python",
   "name": "python3"
  },
  "language_info": {
   "codemirror_mode": {
    "name": "ipython",
    "version": 3
   },
   "file_extension": ".py",
   "mimetype": "text/x-python",
   "name": "python",
   "nbconvert_exporter": "python",
   "pygments_lexer": "ipython3",
   "version": "3.8.5"
  }
 },
 "nbformat": 4,
 "nbformat_minor": 4
}
