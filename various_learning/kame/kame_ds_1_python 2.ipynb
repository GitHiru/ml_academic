{
 "cells": [
  {
   "cell_type": "markdown",
   "metadata": {},
   "source": [
    "# Python\n",
    "```index```(環境構築)\n",
    "+ [データサイエンスのためのPython入門①〜DockerでJupyter Labを使う〜](https://datawokagaku.com/startjupyternote/)\n",
    "+ [データサイエンスのためのPython入門②〜Jupyter Labの使い方とショートカット一覧まとめ〜](https://datawokagaku.com/howtouse_jupyter/)\n",
    "---\n",
    "\n",
    "```index```(Python)\n",
    "+ [データサイエンスのためのPython入門③〜Pythonのデータタイプまとめ〜](https://datawokagaku.com/python_datatypes/)\n",
    "+ [データサイエンスのためのPython入門④〜文法まとめ1 演算子, if文, ループと内包表記〜](https://datawokagaku.com/python_grammar1/)\n",
    "+ [データサイエンスのためのPython入門⑤〜文法まとめ2 関数〜](https://datawokagaku.com/python_grammar2/)"
   ]
  },
  {
   "cell_type": "code",
   "execution_count": null,
   "metadata": {},
   "outputs": [],
   "source": []
  },
  {
   "cell_type": "code",
   "execution_count": null,
   "metadata": {},
   "outputs": [],
   "source": []
  }
 ],
 "metadata": {
  "kernelspec": {
   "display_name": "Python 3",
   "language": "python",
   "name": "python3"
  },
  "language_info": {
   "codemirror_mode": {
    "name": "ipython",
    "version": 3
   },
   "file_extension": ".py",
   "mimetype": "text/x-python",
   "name": "python",
   "nbconvert_exporter": "python",
   "pygments_lexer": "ipython3",
   "version": "3.8.5"
  }
 },
 "nbformat": 4,
 "nbformat_minor": 4
}
