{
 "cells": [
  {
   "cell_type": "markdown",
   "metadata": {},
   "source": [
    "# 米国かめ＠統計学"
   ]
  },
  {
   "cell_type": "markdown",
   "metadata": {},
   "source": [
    "---\n",
    "🔗[【Pythonで学ぶ】統計学って？記述統計と推測統計【データサイエンス入門:統計編①】](https://datawokagaku.com/start_stats/)\n",
    "\n",
    "## 統計学\n",
    "---\n",
    "\n",
    "+ 統計\n",
    " + （推論統計）\n",
    " > 特徴：Population(母集団)に興味ある\n",
    " + （記述統計）\n",
    " > 特徴：Sample(標本)に興味ある\n",
    "\n",
    "\n",
    "## 代表値\n",
    "---\n",
    "\n",
    "+ *平均：mean value*\n",
    " + mean（算術平均）： ```.mean```\n",
    " + mean（幾何平均）： ```.gmean```\n",
    " + mean（調和平均）： ```.mean```"
   ]
  },
  {
   "cell_type": "code",
   "execution_count": null,
   "metadata": {},
   "outputs": [],
   "source": []
  }
 ],
 "metadata": {
  "kernelspec": {
   "display_name": "Python 3",
   "language": "python",
   "name": "python3"
  },
  "language_info": {
   "codemirror_mode": {
    "name": "ipython",
    "version": 3
   },
   "file_extension": ".py",
   "mimetype": "text/x-python",
   "name": "python",
   "nbconvert_exporter": "python",
   "pygments_lexer": "ipython3",
   "version": "3.8.5"
  }
 },
 "nbformat": 4,
 "nbformat_minor": 4
}
