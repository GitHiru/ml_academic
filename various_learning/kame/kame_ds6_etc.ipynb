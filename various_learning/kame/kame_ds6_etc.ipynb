{
 "cells": [
  {
   "cell_type": "markdown",
   "metadata": {},
   "source": [
    "# その他便利ライブラリ・モジュール等\n",
    "\n",
    ">`index`\n",
    "> + [28 OpenCVによる画像の読み込みと色空間の変換，表示](#-28-OpenCVによる画像の読み込みと色空間の変換，表示)\n",
    "> + [29 globの使い方・応用まで完全解説](#29-globの使い方・応用まで完全解説)\n",
    "> + [30 tqdmを使ってforループでプログレスバーを表示する](#-30-tqdmを使ってforループでプログレスバーを表示する)\n",
    "> + [31 osモジュールとpathlibモジュールを使って安全にPath操作をする](#-31-osモジュールとpathlibモジュールを使って安全にPath操作をする)\n",
    "> + [32 これだけ知っておけばいいmultiprocessingでの並列処理](#-32-これだけ知っておけばいいmultiprocessingでの並列処理)\n",
    "> + [33 Pythonスクリプトを作ってJupyterから呼び出す](#-33-Pythonスクリプトを作ってJupyterから呼び出す)\n",
    "\n",
    "> `Cf.`\n",
    "+ [データサイエンスのためのPython入門28〜OpenCVによる画像の読み込みと色空間の変換，表示〜](https://datawokagaku.com/opencv/)\n",
    "+ [データサイエンスのためのPython入門29〜globの使い方・応用まで完全解説〜](https://datawokagaku.com/glob/)\n",
    "+ [データサイエンスのためのPython入門30〜tqdmを使ってforループでプログレスバーを表示する〜](https://datawokagaku.com/tqdm/)\n",
    "+ [データサイエンスのためのPython入門31〜osモジュールとpathlibモジュールを使って安全にPath操作をする〜](https://datawokagaku.com/os_module/)\n",
    "+ [データサイエンスのためのPython入門32〜これだけ知っておけばいいmultiprocessingでの並列処理〜](https://datawokagaku.com/multiprocessing/)\n",
    "+ [データサイエンスのためのPython入門33(最終回)〜Pythonスクリプトを作ってJupyterから呼び出す〜](https://datawokagaku.com/python_script/)\n"
   ]
  },
  {
   "cell_type": "markdown",
   "metadata": {},
   "source": [
    "## 28 OpenCVによる画像の読み込みと色空間の変換，表示"
   ]
  },
  {
   "cell_type": "markdown",
   "metadata": {},
   "source": [
    "## 29 globの使い方・応用まで完全解説"
   ]
  },
  {
   "cell_type": "markdown",
   "metadata": {},
   "source": [
    "## 30 tqdmを使ってforループでプログレスバーを表示する"
   ]
  },
  {
   "cell_type": "markdown",
   "metadata": {},
   "source": [
    "## 31 osモジュールとpathlibモジュールを使って安全にPath操作をする"
   ]
  },
  {
   "cell_type": "markdown",
   "metadata": {},
   "source": [
    "## 32 これだけ知っておけばいいmultiprocessingでの並列処理"
   ]
  },
  {
   "cell_type": "markdown",
   "metadata": {},
   "source": [
    "## 33 Pythonスクリプトを作ってJupyterから呼び出す"
   ]
  }
 ],
 "metadata": {
  "kernelspec": {
   "display_name": "Python 3",
   "language": "python",
   "name": "python3"
  },
  "language_info": {
   "codemirror_mode": {
    "name": "ipython",
    "version": 3
   },
   "file_extension": ".py",
   "mimetype": "text/x-python",
   "name": "python",
   "nbconvert_exporter": "python",
   "pygments_lexer": "ipython3",
   "version": "3.8.5"
  }
 },
 "nbformat": 4,
 "nbformat_minor": 4
}
