{
 "cells": [
  {
   "cell_type": "markdown",
   "metadata": {},
   "source": [
    "# その他便利ライブラリ・モジュール等\n",
    "```index```\n",
    "+ [データサイエンスのためのPython入門28〜OpenCVによる画像の読み込みと色空間の変換，表示〜](https://datawokagaku.com/opencv/)\n",
    "+ [データサイエンスのためのPython入門29〜globの使い方・応用まで完全解説〜](https://datawokagaku.com/glob/)\n",
    "+ [データサイエンスのためのPython入門30〜tqdmを使ってforループでプログレスバーを表示する〜](https://datawokagaku.com/tqdm/)\n",
    "+ [データサイエンスのためのPython入門31〜osモジュールとpathlibモジュールを使って安全にPath操作をする〜](https://datawokagaku.com/os_module/)\n",
    "+ [データサイエンスのためのPython入門32〜これだけ知っておけばいいmultiprocessingでの並列処理〜](https://datawokagaku.com/multiprocessing/)\n",
    "+ [データサイエンスのためのPython入門33(最終回)〜Pythonスクリプトを作ってJupyterから呼び出す〜](https://datawokagaku.com/python_script/)\n"
   ]
  },
  {
   "cell_type": "code",
   "execution_count": null,
   "metadata": {},
   "outputs": [],
   "source": []
  }
 ],
 "metadata": {
  "kernelspec": {
   "display_name": "Python 3",
   "language": "python",
   "name": "python3"
  },
  "language_info": {
   "codemirror_mode": {
    "name": "ipython",
    "version": 3
   },
   "file_extension": ".py",
   "mimetype": "text/x-python",
   "name": "python",
   "nbconvert_exporter": "python",
   "pygments_lexer": "ipython3",
   "version": "3.8.5"
  }
 },
 "nbformat": 4,
 "nbformat_minor": 4
}
