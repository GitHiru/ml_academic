{
 "cells": [
  {
   "cell_type": "markdown",
   "metadata": {},
   "source": [
    "# Seabornで簡単にお洒落な図を描画する編\n",
    "> `index`\n",
    "> + [24 ヒストグラム，散布図編](#24-ヒストグラム，散布図編)\n",
    "> + [25 barplot, boxplot, swarmplot等](#25-barplot,-boxplot,-swarmplot等)\n",
    "> + [26 Heatmapを描画](#26-Heatmapを描画)\n",
    "> + [27 装飾(style)](#27-装飾(style))\n",
    "\n",
    "> `Cf.`\n",
    "> + [データサイエンスのためのPython入門24〜Seabornで簡単にお洒落な図を描画する【ヒストグラム，散布図編】〜](https://datawokagaku.com/seaborn_distribution/)\n",
    "> + [データサイエンスのためのPython入門25〜Seabornで簡単にお洒落な図を描画する【barplot, boxplot, swarmplot等】〜](https://datawokagaku.com/seaborn_categoricalplot/)\n",
    "> + [データサイエンスのためのPython入門26〜Seabornを使ってデータサイエンスに必須のHeatmapを描画する〜](https://datawokagaku.com/seaborn_heatmap/)\n",
    "> + [データサイエンスのためのPython入門27〜Seabornの装飾(style)をいじる〜](https://datawokagaku.com/seaborn_set/)\n"
   ]
  },
  {
   "cell_type": "markdown",
   "metadata": {},
   "source": [
    "## 24 ヒストグラム，散布図編"
   ]
  },
  {
   "cell_type": "markdown",
   "metadata": {},
   "source": [
    "## 25 barplot, boxplot, swarmplot等"
   ]
  },
  {
   "cell_type": "markdown",
   "metadata": {},
   "source": [
    "## 26 Heatmapを描画"
   ]
  },
  {
   "cell_type": "markdown",
   "metadata": {},
   "source": [
    "## 27 装飾(style)"
   ]
  },
  {
   "cell_type": "code",
   "execution_count": null,
   "metadata": {},
   "outputs": [],
   "source": []
  },
  {
   "cell_type": "code",
   "execution_count": null,
   "metadata": {},
   "outputs": [],
   "source": []
  }
 ],
 "metadata": {
  "kernelspec": {
   "display_name": "Python 3",
   "language": "python",
   "name": "python3"
  },
  "language_info": {
   "codemirror_mode": {
    "name": "ipython",
    "version": 3
   },
   "file_extension": ".py",
   "mimetype": "text/x-python",
   "name": "python",
   "nbconvert_exporter": "python",
   "pygments_lexer": "ipython3",
   "version": "3.8.5"
  }
 },
 "nbformat": 4,
 "nbformat_minor": 4
}
