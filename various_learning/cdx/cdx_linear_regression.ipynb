{
 "cells": [
  {
   "cell_type": "markdown",
   "metadata": {},
   "source": [
    "# 線形回帰 (Linear Regression)\n",
    "---\n",
    "\n",
    "+ 複数の変数における相関関係を直線モデルによって説明する分析手法\n"
   ]
  },
  {
   "cell_type": "code",
   "execution_count": null,
   "metadata": {},
   "outputs": [],
   "source": [
    "import numpy as np\n",
    "import matplotlib.pyplot as plt\n",
    "\n",
    "\n",
    "temp_list = [18, 25, 20, 27, 32, 22, 29, 19, 26, 30, 22, 28, 30]\n",
    "cell_list = [22000, 64500, 27800, 81500, 112000, 46500, 98000, 26000, 69000, 99500, 55000, 78500, 87000]\n",
    "\n",
    "d = np.array([temp_list, cell_list])\n",
    "d = d.T\n",
    "\n",
    "temp = d[:, 0]\n",
    "cell = d[:, 1]\n",
    "\n",
    "init_w0 = 0          # 初期値\n",
    "init_w1 = 0          # 初期値\n",
    "alpha = 0.01         # 学習率（適当）\n",
    "iterations = 5000    # モデルを回す回数（適当）\n",
    "[w0, w1] = run(d, init_w0, init_w1, alpha, iterations)\n",
    "print([w0.round(2), w1.round(2)])\n",
    "\n",
    "plt.plot(data[:, 0], data[:, 0]*w1+w0, 'r-', label='Linear Regression')\n",
    "\n",
    "plt.scatter(temp, cell)\n",
    "plt.xlabel('temp')\n",
    "plt.ylabel('cell')\n",
    "plt.grid(True)\n",
    "plt.show()"
   ]
  },
  {
   "cell_type": "markdown",
   "metadata": {},
   "source": [
    "<hr>"
   ]
  },
  {
   "cell_type": "markdown",
   "metadata": {},
   "source": [
    "## 単回帰分析 (Simple Regression)\n",
    "> 教師あり分析 (Superbaise learning)"
   ]
  },
  {
   "cell_type": "code",
   "execution_count": 1,
   "metadata": {},
   "outputs": [],
   "source": [
    "import numpy as np\n",
    "import matplotlib.pyplot as plt"
   ]
  },
  {
   "cell_type": "code",
   "execution_count": 2,
   "metadata": {},
   "outputs": [],
   "source": [
    "data = np.loadtxt('../csv/007-01.csv', delimiter=',', skiprows=1)"
   ]
  },
  {
   "cell_type": "code",
   "execution_count": 3,
   "metadata": {},
   "outputs": [
    {
     "data": {
      "image/png": "[encoded data removed]",
      "text/plain": [
       "<Figure size 432x288 with 1 Axes>"
      ]
     },
     "metadata": {
      "needs_background": "light"
     },
     "output_type": "display_data"
    }
   ],
   "source": [
    "# データ確認(可視化)\n",
    "plt.plot(data[:, 0], data[:, 1], 'bx', markersize=10, label='Traning')\n",
    "plt.ylabel('Test Score')\n",
    "plt.xlabel('Study Hour')\n",
    "plt.grid(True)\n",
    "plt.show()    # 強い正の線形関係"
   ]
  },
  {
   "cell_type": "code",
   "execution_count": 4,
   "metadata": {},
   "outputs": [],
   "source": [
    "# コスト関数\n",
    "def cost(w0, w1, data):\n",
    "    cost = 0\n",
    "    for i in range(0, len(data)):\n",
    "        x = data[i, 0]\n",
    "        y = data[i, 1]\n",
    "        cost += ((w1 * x + w0)-y)**2 # Σの意味合い\n",
    "    cost = cost / (len(data)*2)\n",
    "    return cost"
   ]
  },
  {
   "cell_type": "code",
   "execution_count": 5,
   "metadata": {},
   "outputs": [
    {
     "name": "stdout",
     "output_type": "stream",
     "text": [
      "3128.0\n"
     ]
    }
   ],
   "source": [
    "# e.g.\n",
    "w0, w1 = 0, 0\n",
    "cost_0 = cost(w0, w1, data)\n",
    "print(cost_0.round(0))"
   ]
  },
  {
   "cell_type": "code",
   "execution_count": 6,
   "metadata": {},
   "outputs": [
    {
     "data": {
      "image/png": "[encoded data removed]",
      "text/plain": [
       "<Figure size 432x288 with 1 Axes>"
      ]
     },
     "metadata": {
      "needs_background": "light"
     },
     "output_type": "display_data"
    }
   ],
   "source": [
    "# 線形図\n",
    "plt.plot(data[:, 0], data[:, 0]*w1+w0, 'r-', label='Linear Regression')\n",
    "\n",
    "# 散布図\n",
    "plt.plot(data[:, 0], data[:, 1], 'bx', markersize=10, label='Traning')\n",
    "\n",
    "plt.ylabel('Test Score')\n",
    "plt.xlabel('Study Hour')\n",
    "plt.legend()\n",
    "plt.grid(True)\n",
    "plt.show()  "
   ]
  },
  {
   "cell_type": "markdown",
   "metadata": {},
   "source": [
    "∴ ```(w０,w１)=(0,0)```は、```コスト＝３１２８```　より明らかにフィットしていない。\n",
    "\n",
    "---\n"
   ]
  },
  {
   "cell_type": "code",
   "execution_count": 7,
   "metadata": {},
   "outputs": [],
   "source": [
    "def gradientDescent(w0_in, w1_in, data, alpha):\n",
    "    w0_gradient = 0\n",
    "    w1_gradient = 0\n",
    "    m = float(len(data))\n",
    "    for i in range(0, len(data)):\n",
    "        x = data[i, 0]\n",
    "        y = data[i, 1]\n",
    "        w0_gradient += (1/m)*(((w1_in*x)+w0_in)-y)\n",
    "        w1_gradient += (1/m)*((((w1_in*x)+w0_in)-y)*x)\n",
    "    w0_out = w0_in-(alpha*w0_gradient)\n",
    "    w1_out = w1_in-(alpha*w1_gradient)\n",
    "    return [w0_out, w1_out]"
   ]
  },
  {
   "cell_type": "code",
   "execution_count": 8,
   "metadata": {},
   "outputs": [],
   "source": [
    "# 単回帰分析実行関数\n",
    "def run(data, init_w0, init_w1, alpha, iterations):\n",
    "    w0 = init_w0\n",
    "    w1 = init_w1\n",
    "    \n",
    "    for i in range(iterations):\n",
    "        w0, w1 = gradientDescent(w0, w1, np.array(data), alpha)\n",
    "        \n",
    "    return [w0, w1]"
   ]
  },
  {
   "cell_type": "code",
   "execution_count": 9,
   "metadata": {},
   "outputs": [
    {
     "name": "stdout",
     "output_type": "stream",
     "text": [
      "[55.19, 4.81]\n"
     ]
    }
   ],
   "source": [
    "# modules\n",
    "init_w0 = 0          # 初期値\n",
    "init_w1 = 0          # 初期値\n",
    "alpha = 0.01         # 学習率（適当）\n",
    "iterations = 5000    # モデルを回す回数（適当）\n",
    "\n",
    "[w0, w1] = run(data, init_w0, init_w1, alpha, iterations)\n",
    "print([w0.round(2), w1.round(2)])"
   ]
  },
  {
   "cell_type": "code",
   "execution_count": 10,
   "metadata": {},
   "outputs": [
    {
     "data": {
      "image/png": "[encoded data removed]",
      "text/plain": [
       "<Figure size 432x288 with 1 Axes>"
      ]
     },
     "metadata": {
      "needs_background": "light"
     },
     "output_type": "display_data"
    }
   ],
   "source": [
    "# 線形図\n",
    "plt.plot(data[:, 0],data[:, 0]*w1+w0,'-', label='Linear regression')\n",
    "\n",
    "# 散布図\n",
    "plt.plot(data[:, 0],data[:, 1], 'rx', markersize=10, label='Training')\n",
    "\n",
    "plt.xlabel('Study Hours')\n",
    "plt.ylabel('Test Scores')\n",
    "plt.legend(loc='lower right')\n",
    "plt.show()"
   ]
  },
  {
   "cell_type": "code",
   "execution_count": 11,
   "metadata": {},
   "outputs": [
    {
     "data": {
      "image/png": "[encoded data removed]",
      "text/plain": [
       "<Figure size 432x288 with 2 Axes>"
      ]
     },
     "metadata": {
      "needs_background": "light"
     },
     "output_type": "display_data"
    }
   ],
   "source": [
    "# 3D plot\n",
    "from mpl_toolkits.mplot3d import Axes3D\n",
    "from matplotlib import cm    # color map\n",
    "\n",
    "w0_vals = np.linspace(-75, 80, 100)\n",
    "w1_vals = np.linspace(-75, 80, 100)\n",
    "J_vals = np.zeros((len(w0_vals), len(w1_vals)))\n",
    "\n",
    "for i in range(len(w0_vals)):\n",
    "    for j in range(len(w1_vals)):\n",
    "        J_vals[i,j] = cost(w0_vals[i], w1_vals[j], data)\n",
    "J_vals = np.transpose(J_vals)\n",
    "\n",
    "fig = plt.figure()\n",
    "ax = fig.gca(projection='3d')\n",
    "\n",
    "w0_g, w1_g = np.meshgrid(w0_vals, w1_vals) # necessary for 3D graph\n",
    "\n",
    "surf = ax.plot_surface(w0_g, w1_g, J_vals, cmap=cm.coolwarm, rstride=2, cstride=2)\n",
    "fig.colorbar(surf)\n",
    "plt.xlabel('w0')\n",
    "plt.ylabel('w1')\n",
    "plt.show()"
   ]
  },
  {
   "cell_type": "code",
   "execution_count": 12,
   "metadata": {},
   "outputs": [
    {
     "data": {
      "image/png": "[encoded data removed]",
      "text/plain": [
       "<Figure size 432x288 with 1 Axes>"
      ]
     },
     "metadata": {
      "needs_background": "light"
     },
     "output_type": "display_data"
    }
   ],
   "source": [
    "cset = plt.contour(w0_vals, w1_vals, J_vals, np.logspace(-4, 9, 30), cmap=cm.coolwarm)\n",
    "fig.colorbar(cset)\n",
    "plt.xlabel('w0')\n",
    "plt.ylabel('w1')\n",
    "plt.plot(w0, w1, 'rx', markersize=10, linewidth=2)\n",
    "plt.grid(True)\n",
    "plt.show(block=False)"
   ]
  },
  {
   "cell_type": "markdown",
   "metadata": {},
   "source": [
    "<hr>"
   ]
  },
  {
   "cell_type": "markdown",
   "metadata": {},
   "source": [
    "## 重回帰分析(multiple linear egression)\n",
    "> 教師あり分析"
   ]
  },
  {
   "cell_type": "code",
   "execution_count": 13,
   "metadata": {},
   "outputs": [],
   "source": [
    "# Libraly\n",
    "import numpy as np\n",
    "import matplotlib.pyplot as plt\n",
    "from mpl_toolkits.mplot3d import Axes3D"
   ]
  },
  {
   "cell_type": "code",
   "execution_count": 14,
   "metadata": {},
   "outputs": [],
   "source": [
    "# Read CSV file\n",
    "data = np.loadtxt('../csv/007-02.csv', delimiter=',', skiprows=1)\n",
    "x = data[:, :3]    #全行〜カラム３まで\n",
    "y = data[:, 3]\n",
    "m = len(y)"
   ]
  },
  {
   "cell_type": "code",
   "execution_count": 15,
   "metadata": {
    "collapsed": true,
    "jupyter": {
     "outputs_hidden": true
    }
   },
   "outputs": [
    {
     "data": {
      "text/plain": [
       "array([[ 64.,  67.,  69.],\n",
       "       [ 74.,  74.,  63.],\n",
       "       [ 60.,  59.,  55.],\n",
       "       [ 84.,  88.,  89.],\n",
       "       [ 80.,  88.,  78.],\n",
       "       [ 75.,  68.,  68.],\n",
       "       [ 66.,  59.,  55.],\n",
       "       [ 77.,  71.,  66.],\n",
       "       [ 70.,  71.,  60.],\n",
       "       [ 89.,  84.,  80.],\n",
       "       [ 73.,  76.,  69.],\n",
       "       [ 78.,  74.,  63.],\n",
       "       [ 67.,  63.,  67.],\n",
       "       [ 80.,  81.,  83.],\n",
       "       [ 72.,  75.,  73.],\n",
       "       [ 68.,  63.,  76.],\n",
       "       [ 81.,  89.,  80.],\n",
       "       [ 64.,  66.,  59.],\n",
       "       [ 79.,  81.,  79.],\n",
       "       [ 70.,  76.,  69.],\n",
       "       [ 76.,  80.,  68.],\n",
       "       [ 71.,  64.,  75.],\n",
       "       [ 81.,  77.,  84.],\n",
       "       [ 85.,  83.,  87.],\n",
       "       [ 61.,  67.,  70.],\n",
       "       [ 74.,  71.,  75.],\n",
       "       [ 85.,  82.,  78.],\n",
       "       [ 60.,  60.,  57.],\n",
       "       [ 83.,  88.,  80.],\n",
       "       [ 85.,  80.,  76.],\n",
       "       [ 84.,  86.,  86.],\n",
       "       [ 82.,  79.,  88.],\n",
       "       [ 68.,  66.,  60.],\n",
       "       [ 89.,  85.,  88.],\n",
       "       [ 85.,  90.,  85.],\n",
       "       [ 68.,  66.,  62.],\n",
       "       [ 74.,  76.,  82.],\n",
       "       [ 76.,  75.,  84.],\n",
       "       [ 62.,  68.,  70.],\n",
       "       [ 64.,  67.,  68.],\n",
       "       [ 65.,  66.,  59.],\n",
       "       [ 64.,  57.,  56.],\n",
       "       [ 73.,  74.,  63.],\n",
       "       [ 65.,  65.,  69.],\n",
       "       [ 87.,  91.,  97.],\n",
       "       [ 62.,  60.,  61.],\n",
       "       [ 77.,  69.,  62.],\n",
       "       [ 77.,  76.,  75.],\n",
       "       [ 89.,  97.,  94.],\n",
       "       [ 63.,  56.,  59.],\n",
       "       [ 74.,  69.,  62.],\n",
       "       [ 72.,  67.,  67.],\n",
       "       [ 69.,  77.,  81.],\n",
       "       [ 88.,  86.,  95.],\n",
       "       [ 77.,  84.,  75.],\n",
       "       [ 83.,  80.,  77.],\n",
       "       [ 77.,  77.,  80.],\n",
       "       [ 84.,  83.,  86.],\n",
       "       [ 77.,  79.,  69.],\n",
       "       [ 66.,  74.,  71.],\n",
       "       [ 74.,  69.,  79.],\n",
       "       [ 67.,  75.,  78.],\n",
       "       [ 83.,  85.,  85.],\n",
       "       [ 72.,  65.,  73.],\n",
       "       [ 70.,  76.,  73.],\n",
       "       [ 71.,  70.,  74.],\n",
       "       [ 89.,  94.,  82.],\n",
       "       [ 82.,  86.,  85.],\n",
       "       [ 86.,  80.,  88.],\n",
       "       [ 85.,  89., 100.],\n",
       "       [ 89.,  83.,  79.],\n",
       "       [ 77.,  74.,  74.],\n",
       "       [ 79.,  83.,  93.],\n",
       "       [ 75.,  71.,  79.],\n",
       "       [ 68.,  66.,  68.],\n",
       "       [ 64.,  56.,  57.],\n",
       "       [ 66.,  60.,  55.],\n",
       "       [ 81.,  76.,  80.],\n",
       "       [ 68.,  72.,  71.],\n",
       "       [ 71.,  70.,  75.],\n",
       "       [ 62.,  54.,  56.],\n",
       "       [ 80.,  85.,  93.],\n",
       "       [ 80.,  84.,  86.],\n",
       "       [ 66.,  62.,  67.],\n",
       "       [ 73.,  77.,  69.],\n",
       "       [ 70.,  70.,  71.],\n",
       "       [ 62.,  55.,  62.],\n",
       "       [ 62.,  70.,  76.],\n",
       "       [ 74.,  67.,  65.],\n",
       "       [ 80.,  83.,  78.],\n",
       "       [ 90.,  84.,  83.],\n",
       "       [ 84.,  76.,  78.],\n",
       "       [ 84.,  87.,  96.],\n",
       "       [ 78.,  81.,  80.],\n",
       "       [ 90.,  92.,  81.],\n",
       "       [ 60.,  68.,  55.],\n",
       "       [ 86.,  85.,  80.],\n",
       "       [ 72.,  64.,  59.],\n",
       "       [ 69.,  63.,  62.]])"
      ]
     },
     "execution_count": 15,
     "metadata": {},
     "output_type": "execute_result"
    }
   ],
   "source": [
    "x"
   ]
  },
  {
   "cell_type": "code",
   "execution_count": 16,
   "metadata": {
    "collapsed": true,
    "jupyter": {
     "outputs_hidden": true
    }
   },
   "outputs": [
    {
     "data": {
      "text/plain": [
       "array([68., 67., 57., 91., 82., 63., 65., 73., 67., 85., 82., 67., 57.,\n",
       "       74., 83., 71., 85., 69., 87., 71., 80., 66., 73., 90., 61., 73.,\n",
       "       84., 52., 92., 87., 80., 83., 71., 91., 98., 61., 77., 81., 60.,\n",
       "       73., 58., 57., 69., 69., 97., 57., 70., 70., 99., 62., 75., 67.,\n",
       "       73., 86., 87., 80., 74., 87., 83., 74., 75., 73., 93., 69., 83.,\n",
       "       75., 86., 89., 75., 97., 76., 71., 89., 78., 67., 58., 57., 80.,\n",
       "       79., 72., 54., 85., 83., 58., 74., 67., 56., 76., 65., 78., 90.,\n",
       "       70., 92., 78., 89., 65., 93., 69., 57.])"
      ]
     },
     "execution_count": 16,
     "metadata": {},
     "output_type": "execute_result"
    }
   ],
   "source": [
    "y"
   ]
  },
  {
   "cell_type": "code",
   "execution_count": 17,
   "metadata": {},
   "outputs": [
    {
     "data": {
      "text/plain": [
       "99"
      ]
     },
     "execution_count": 17,
     "metadata": {},
     "output_type": "execute_result"
    }
   ],
   "source": [
    "m"
   ]
  },
  {
   "cell_type": "code",
   "execution_count": 18,
   "metadata": {},
   "outputs": [
    {
     "data": {
      "text/plain": [
       "4"
      ]
     },
     "execution_count": 18,
     "metadata": {},
     "output_type": "execute_result"
    }
   ],
   "source": [
    "data.shape[1]"
   ]
  },
  {
   "cell_type": "code",
   "execution_count": 19,
   "metadata": {},
   "outputs": [
    {
     "data": {
      "text/plain": [
       "(99, 3)"
      ]
     },
     "execution_count": 19,
     "metadata": {},
     "output_type": "execute_result"
    }
   ],
   "source": [
    "x.shape"
   ]
  },
  {
   "cell_type": "code",
   "execution_count": 20,
   "metadata": {},
   "outputs": [
    {
     "name": "stdout",
     "output_type": "stream",
     "text": [
      "x = [64 67 69], y = 68\n",
      "x = [74 74 63], y = 67\n",
      "x = [60 59 55], y = 57\n",
      "x = [84 88 89], y = 91\n",
      "x = [80 88 78], y = 82\n",
      "x = [75 68 68], y = 63\n",
      "x = [66 59 55], y = 65\n",
      "x = [77 71 66], y = 73\n",
      "x = [70 71 60], y = 67\n",
      "x = [89 84 80], y = 85\n"
     ]
    }
   ],
   "source": [
    "# （試しに10行確認）\n",
    "for i in range(10):\n",
    "    print('x = [{:.0f} {:.0f} {:.0f}], y = {:.0f}'.format(x[i,0], x[i,1], x[i,2], y[i]))"
   ]
  },
  {
   "cell_type": "code",
   "execution_count": 22,
   "metadata": {},
   "outputs": [
    {
     "data": {
      "image/png": "[encoded data removed]",
      "text/plain": [
       "<Figure size 432x288 with 1 Axes>"
      ]
     },
     "metadata": {
      "needs_background": "light"
     },
     "output_type": "display_data"
    }
   ],
   "source": [
    "# データの確認（可視化）\n",
    "# (特徴量が３つなので４次元になってしまうが不可、そこで、ターゲットと、特徴量２つを抜粋してプロッティングしていく)\n",
    "fig = plt.figure()\n",
    "ax = Axes3D(fig)\n",
    "ax.scatter(data[:, 0], data[:, 1], data[:, 3], color='#ef1234')    # (x軸特徴量, y軸特徴量, Z軸ターゲット)\n",
    "ax.set_xlabel('Pysic')   # 特徴量\n",
    "ax.set_ylabel('Sience')  # 特徴量\n",
    "ax.set_zlabel('Math')    # Target\n",
    "plt.show()"
   ]
  },
  {
   "cell_type": "markdown",
   "metadata": {},
   "source": [
    "### 正規化（FeatureScaling Normalization）"
   ]
  },
  {
   "cell_type": "code",
   "execution_count": 23,
   "metadata": {},
   "outputs": [],
   "source": [
    "# 正規化 （標準化:Z-score Normalization)\n",
    "def norm(X):\n",
    "    #初期値\n",
    "    X_norm = np.zeros((X.shape[0], X.shape[1])) #zeros((row, col)):指定行列だけ「０」を吐く  #99行３列ndarry作成\n",
    "    mean = np.zeros((1, X.shape[1]))            #1行3列 ndarry作成\n",
    "    std = np.zeros((1, X.shape[1]))             #1行3列 ndarry作成\n",
    "    #各科目毎の平均、標準偏差を求める\n",
    "    for i in range(X.shape[1]):         #0~3列回\n",
    "        mean[:, i] = np.mean(X[:, i])   #各特徴量の平均値を格納\n",
    "        std[:, i] = np.std(X[:, i])     #各特徴量の標準偏差を格納\n",
    "        X_norm[:, i] = (X[:,i]-float(mean[:,i]))/float(std[:,i])\n",
    "    return X_norm, mean, std"
   ]
  },
  {
   "cell_type": "code",
   "execution_count": 24,
   "metadata": {},
   "outputs": [
    {
     "data": {
      "text/plain": [
       "array([[64., 67., 69.],\n",
       "       [74., 74., 63.],\n",
       "       [60., 59., 55.],\n",
       "       [84., 88., 89.],\n",
       "       [80., 88., 78.]])"
      ]
     },
     "execution_count": 24,
     "metadata": {},
     "output_type": "execute_result"
    }
   ],
   "source": [
    "x[0:5,] # 正規化前"
   ]
  },
  {
   "cell_type": "code",
   "execution_count": 32,
   "metadata": {},
   "outputs": [
    {
     "name": "stdout",
     "output_type": "stream",
     "text": [
      "[[-1.28095057 -0.76202794 -0.45626449]\n",
      " [-0.10238081 -0.05223579 -1.002678  ]\n",
      " [-1.75237847 -1.57321897 -1.73122936]\n",
      " [ 1.07618895  1.36734852  1.36511391]\n",
      " [ 0.60476105  1.36734852  0.36335579]]\n",
      "\n",
      "mean =  [[74.87 74.52 74.01]]\n",
      "std =  [[ 8.48  9.86 10.98]]\n"
     ]
    }
   ],
   "source": [
    "X_norm, mean, std = norm(x)\n",
    "print(X_norm[0:5,])    #正規化後 0~5行\n",
    "print()\n",
    "print('mean = ', mean[0:5,].round(2))\n",
    "print('std = ', std[0:5,].round(2))"
   ]
  },
  {
   "cell_type": "code",
   "execution_count": 27,
   "metadata": {},
   "outputs": [
    {
     "data": {
      "text/plain": [
       "1.4354398702224247e-16"
      ]
     },
     "execution_count": 27,
     "metadata": {},
     "output_type": "execute_result"
    }
   ],
   "source": [
    "X_norm.mean()    # １０^-16 ∴限りなく０"
   ]
  },
  {
   "cell_type": "code",
   "execution_count": 28,
   "metadata": {},
   "outputs": [
    {
     "data": {
      "text/plain": [
       "1.0"
      ]
     },
     "execution_count": 28,
     "metadata": {},
     "output_type": "execute_result"
    }
   ],
   "source": [
    "X_norm.std()     # 1"
   ]
  },
  {
   "cell_type": "markdown",
   "metadata": {},
   "source": [
    "### 重回帰分析（コスト関数）：　y_hat = XW"
   ]
  },
  {
   "cell_type": "code",
   "execution_count": 33,
   "metadata": {},
   "outputs": [
    {
     "name": "stdout",
     "output_type": "stream",
     "text": [
      "[[0.]\n",
      " [0.]\n",
      " [0.]\n",
      " [0.]]\n"
     ]
    }
   ],
   "source": [
    "# モデル式 パラメーターのベクトル式(W):初期値\n",
    "weight_int = np.zeros((4, 1))\n",
    "print(weight_int)"
   ]
  },
  {
   "cell_type": "code",
   "execution_count": 35,
   "metadata": {},
   "outputs": [
    {
     "name": "stdout",
     "output_type": "stream",
     "text": [
      "[[ 1.         -1.28095057 -0.76202794 -0.45626449]\n",
      " [ 1.         -0.10238081 -0.05223579 -1.002678  ]\n",
      " [ 1.         -1.75237847 -1.57321897 -1.73122936]\n",
      " [ 1.          1.07618895  1.36734852  1.36511391]\n",
      " [ 1.          0.60476105  1.36734852  0.36335579]]\n"
     ]
    }
   ],
   "source": [
    "# 特徴量前処理\n",
    "X_padded = np.column_stack((np.ones((m,1)), X_norm)) #column_stack((行列1,行列2))\n",
    "print(X_padded[0:5,])    #[[w0 w1 w2 w3]]"
   ]
  },
  {
   "cell_type": "code",
   "execution_count": 36,
   "metadata": {},
   "outputs": [],
   "source": [
    "# コスト関数\n",
    "def cost(X, y, weight):\n",
    "    # 初期値\n",
    "    m = len(y)\n",
    "    J = 0\n",
    "    # 計算式\n",
    "    y_hut = X.dot(weight)\n",
    "    diff = np.power((y_hut - np.transpose([y])),2)\n",
    "    J = (1.0/(m*2))*diff.sum(axis=0)\n",
    "    return J"
   ]
  },
  {
   "cell_type": "code",
   "execution_count": 39,
   "metadata": {},
   "outputs": [
    {
     "data": {
      "text/plain": [
       "array([1541.35])"
      ]
     },
     "execution_count": 39,
     "metadata": {},
     "output_type": "execute_result"
    }
   ],
   "source": [
    "# コスト関数確認(パラメーターテスト)\n",
    "weight_test = np.array([[20],\n",
    "                        [10],\n",
    "                        [5],\n",
    "                        [-1]])\n",
    "\n",
    "cost(X_padded, y, weight_test).round(2)"
   ]
  },
  {
   "cell_type": "code",
   "execution_count": 41,
   "metadata": {},
   "outputs": [],
   "source": [
    "# コスト関数（ベクトル化 ver.）\n",
    "def cost2(X, y, weight):\n",
    "    # 初期値\n",
    "    m = len(y)     #(1, 99)\n",
    "    J = 0\n",
    "    # 計算式\n",
    "    y_shaped = y.reshape(len(y), 1) #99行1列にreshape (99,1)\n",
    "    model = np.dot(X, weight)\n",
    "    delta = np.dot((model-y_shaped).T, (model-y_shaped))\n",
    "    J = delta/(m*2)\n",
    "    return J"
   ]
  },
  {
   "cell_type": "code",
   "execution_count": 43,
   "metadata": {},
   "outputs": [
    {
     "data": {
      "text/plain": [
       "array([[1541.35]])"
      ]
     },
     "execution_count": 43,
     "metadata": {},
     "output_type": "execute_result"
    }
   ],
   "source": [
    "cost2(X_padded, y, weight_test).round(2)"
   ]
  },
  {
   "cell_type": "markdown",
   "metadata": {},
   "source": [
    "<hr>"
   ]
  },
  {
   "cell_type": "markdown",
   "metadata": {},
   "source": [
    "### 最急降下法（Gradient Disent）"
   ]
  },
  {
   "cell_type": "code",
   "execution_count": 47,
   "metadata": {},
   "outputs": [],
   "source": [
    "# 学習率（alpha）　学習回数（iteration）\n",
    "alpha = 0.01\n",
    "num_itrs = 500"
   ]
  },
  {
   "cell_type": "code",
   "execution_count": 48,
   "metadata": {},
   "outputs": [],
   "source": [
    "# 最急降下法（Gradient Descent）:パラメーターを更新する\n",
    "def gradientDescent(X, y, weight, alpah, iterations):\n",
    "    m = len(y)\n",
    "    J_history = np.zeros((iterations, 1))  #e.g.(500,1) # （余力）コストの履歴\n",
    "    \n",
    "    for i in range(iterations):\n",
    "        weight = weight - alpha*(1.0/m)*np.transpose(X).dot(X.dot(weight)-np.transpose([y]))\n",
    "        J_history[i] = cost(X, y, weight)\n",
    "    return weight, J_history"
   ]
  },
  {
   "cell_type": "code",
   "execution_count": 49,
   "metadata": {},
   "outputs": [
    {
     "data": {
      "text/plain": [
       "array([[0.],\n",
       "       [0.],\n",
       "       [0.],\n",
       "       [0.]])"
      ]
     },
     "execution_count": 49,
     "metadata": {},
     "output_type": "execute_result"
    }
   ],
   "source": [
    "weight_int"
   ]
  },
  {
   "cell_type": "code",
   "execution_count": 50,
   "metadata": {},
   "outputs": [],
   "source": [
    "weight, J_history = gradientDescent(X_padded, y, weight_int, alpha, num_itrs)"
   ]
  },
  {
   "cell_type": "code",
   "execution_count": 51,
   "metadata": {},
   "outputs": [
    {
     "data": {
      "text/plain": [
       "array([[74.6],\n",
       "       [ 2.2],\n",
       "       [ 5.5],\n",
       "       [ 3.2]])"
      ]
     },
     "execution_count": 51,
     "metadata": {},
     "output_type": "execute_result"
    }
   ],
   "source": [
    "weight.round(1)    # 最適パラメーター抽出 [[w0],[w1],[w2],[w3]]"
   ]
  },
  {
   "cell_type": "code",
   "execution_count": 52,
   "metadata": {
    "collapsed": true,
    "jupyter": {
     "outputs_hidden": true
    }
   },
   "outputs": [
    {
     "name": "stdout",
     "output_type": "stream",
     "text": [
      "0回目： cost = [2824.1]\n",
      "1回目： cost = [2766.5]\n",
      "2回目： cost = [2710.1]\n",
      "3回目： cost = [2655.]\n",
      "4回目： cost = [2601.]\n",
      "5回目： cost = [2548.2]\n",
      "6回目： cost = [2496.5]\n",
      "7回目： cost = [2445.9]\n",
      "8回目： cost = [2396.3]\n",
      "9回目： cost = [2347.8]\n",
      "10回目： cost = [2300.3]\n",
      "11回目： cost = [2253.8]\n",
      "12回目： cost = [2208.3]\n",
      "13回目： cost = [2163.8]\n",
      "14回目： cost = [2120.1]\n",
      "15回目： cost = [2077.4]\n",
      "16回目： cost = [2035.6]\n",
      "17回目： cost = [1994.6]\n",
      "18回目： cost = [1954.5]\n",
      "19回目： cost = [1915.2]\n",
      "20回目： cost = [1876.8]\n",
      "21回目： cost = [1839.1]\n",
      "22回目： cost = [1802.2]\n",
      "23回目： cost = [1766.1]\n",
      "24回目： cost = [1730.7]\n",
      "25回目： cost = [1696.1]\n",
      "26回目： cost = [1662.1]\n",
      "27回目： cost = [1628.9]\n",
      "28回目： cost = [1596.3]\n",
      "29回目： cost = [1564.5]\n",
      "30回目： cost = [1533.2]\n",
      "31回目： cost = [1502.6]\n",
      "32回目： cost = [1472.6]\n",
      "33回目： cost = [1443.3]\n",
      "34回目： cost = [1414.5]\n",
      "35回目： cost = [1386.4]\n",
      "36回目： cost = [1358.8]\n",
      "37回目： cost = [1331.7]\n",
      "38回目： cost = [1305.2]\n",
      "39回目： cost = [1279.3]\n",
      "40回目： cost = [1253.9]\n",
      "41回目： cost = [1229.]\n",
      "42回目： cost = [1204.6]\n",
      "43回目： cost = [1180.7]\n",
      "44回目： cost = [1157.2]\n",
      "45回目： cost = [1134.3]\n",
      "46回目： cost = [1111.8]\n",
      "47回目： cost = [1089.8]\n",
      "48回目： cost = [1068.2]\n",
      "49回目： cost = [1047.1]\n",
      "50回目： cost = [1026.3]\n",
      "51回目： cost = [1006.]\n",
      "52回目： cost = [986.2]\n",
      "53回目： cost = [966.7]\n",
      "54回目： cost = [947.6]\n",
      "55回目： cost = [928.9]\n",
      "56回目： cost = [910.5]\n",
      "57回目： cost = [892.6]\n",
      "58回目： cost = [875.]\n",
      "59回目： cost = [857.7]\n",
      "60回目： cost = [840.8]\n",
      "61回目： cost = [824.2]\n",
      "62回目： cost = [808.]\n",
      "63回目： cost = [792.1]\n",
      "64回目： cost = [776.5]\n",
      "65回目： cost = [761.3]\n",
      "66回目： cost = [746.3]\n",
      "67回目： cost = [731.6]\n",
      "68回目： cost = [717.3]\n",
      "69回目： cost = [703.2]\n",
      "70回目： cost = [689.4]\n",
      "71回目： cost = [675.9]\n",
      "72回目： cost = [662.6]\n",
      "73回目： cost = [649.6]\n",
      "74回目： cost = [636.9]\n",
      "75回目： cost = [624.4]\n",
      "76回目： cost = [612.2]\n",
      "77回目： cost = [600.2]\n",
      "78回目： cost = [588.5]\n",
      "79回目： cost = [577.]\n",
      "80回目： cost = [565.7]\n",
      "81回目： cost = [554.7]\n",
      "82回目： cost = [543.9]\n",
      "83回目： cost = [533.3]\n",
      "84回目： cost = [522.9]\n",
      "85回目： cost = [512.7]\n",
      "86回目： cost = [502.7]\n",
      "87回目： cost = [492.9]\n",
      "88回目： cost = [483.3]\n",
      "89回目： cost = [473.9]\n",
      "90回目： cost = [464.7]\n",
      "91回目： cost = [455.7]\n",
      "92回目： cost = [446.8]\n",
      "93回目： cost = [438.2]\n",
      "94回目： cost = [429.7]\n",
      "95回目： cost = [421.3]\n",
      "96回目： cost = [413.2]\n",
      "97回目： cost = [405.2]\n",
      "98回目： cost = [397.3]\n",
      "99回目： cost = [389.7]\n",
      "100回目： cost = [382.1]\n",
      "101回目： cost = [374.8]\n",
      "102回目： cost = [367.5]\n",
      "103回目： cost = [360.4]\n",
      "104回目： cost = [353.5]\n",
      "105回目： cost = [346.7]\n",
      "106回目： cost = [340.]\n",
      "107回目： cost = [333.5]\n",
      "108回目： cost = [327.1]\n",
      "109回目： cost = [320.8]\n",
      "110回目： cost = [314.6]\n",
      "111回目： cost = [308.6]\n",
      "112回目： cost = [302.7]\n",
      "113回目： cost = [296.9]\n",
      "114回目： cost = [291.2]\n",
      "115回目： cost = [285.6]\n",
      "116回目： cost = [280.2]\n",
      "117回目： cost = [274.8]\n",
      "118回目： cost = [269.6]\n",
      "119回目： cost = [264.5]\n",
      "120回目： cost = [259.4]\n",
      "121回目： cost = [254.5]\n",
      "122回目： cost = [249.7]\n",
      "123回目： cost = [244.9]\n",
      "124回目： cost = [240.3]\n",
      "125回目： cost = [235.7]\n",
      "126回目： cost = [231.3]\n",
      "127回目： cost = [226.9]\n",
      "128回目： cost = [222.6]\n",
      "129回目： cost = [218.4]\n",
      "130回目： cost = [214.3]\n",
      "131回目： cost = [210.3]\n",
      "132回目： cost = [206.3]\n",
      "133回目： cost = [202.4]\n",
      "134回目： cost = [198.6]\n",
      "135回目： cost = [194.9]\n",
      "136回目： cost = [191.3]\n",
      "137回目： cost = [187.7]\n",
      "138回目： cost = [184.2]\n",
      "139回目： cost = [180.8]\n",
      "140回目： cost = [177.4]\n",
      "141回目： cost = [174.1]\n",
      "142回目： cost = [170.9]\n",
      "143回目： cost = [167.7]\n",
      "144回目： cost = [164.6]\n",
      "145回目： cost = [161.5]\n",
      "146回目： cost = [158.6]\n",
      "147回目： cost = [155.6]\n",
      "148回目： cost = [152.8]\n",
      "149回目： cost = [150.]\n",
      "150回目： cost = [147.2]\n",
      "151回目： cost = [144.5]\n",
      "152回目： cost = [141.9]\n",
      "153回目： cost = [139.3]\n",
      "154回目： cost = [136.7]\n",
      "155回目： cost = [134.2]\n",
      "156回目： cost = [131.8]\n",
      "157回目： cost = [129.4]\n",
      "158回目： cost = [127.1]\n",
      "159回目： cost = [124.8]\n",
      "160回目： cost = [122.5]\n",
      "161回目： cost = [120.3]\n",
      "162回目： cost = [118.1]\n",
      "163回目： cost = [116.]\n",
      "164回目： cost = [113.9]\n",
      "165回目： cost = [111.9]\n",
      "166回目： cost = [109.9]\n",
      "167回目： cost = [107.9]\n",
      "168回目： cost = [106.]\n",
      "169回目： cost = [104.2]\n",
      "170回目： cost = [102.3]\n",
      "171回目： cost = [100.5]\n",
      "172回目： cost = [98.7]\n",
      "173回目： cost = [97.]\n",
      "174回目： cost = [95.3]\n",
      "175回目： cost = [93.6]\n",
      "176回目： cost = [92.]\n",
      "177回目： cost = [90.4]\n",
      "178回目： cost = [88.8]\n",
      "179回目： cost = [87.3]\n",
      "180回目： cost = [85.8]\n",
      "181回目： cost = [84.3]\n",
      "182回目： cost = [82.9]\n",
      "183回目： cost = [81.4]\n",
      "184回目： cost = [80.]\n",
      "185回目： cost = [78.7]\n",
      "186回目： cost = [77.3]\n",
      "187回目： cost = [76.]\n",
      "188回目： cost = [74.8]\n",
      "189回目： cost = [73.5]\n",
      "190回目： cost = [72.3]\n",
      "191回目： cost = [71.1]\n",
      "192回目： cost = [69.9]\n",
      "193回目： cost = [68.7]\n",
      "194回目： cost = [67.6]\n",
      "195回目： cost = [66.5]\n",
      "196回目： cost = [65.4]\n",
      "197回目： cost = [64.3]\n",
      "198回目： cost = [63.2]\n",
      "199回目： cost = [62.2]\n",
      "200回目： cost = [61.2]\n",
      "201回目： cost = [60.2]\n",
      "202回目： cost = [59.2]\n",
      "203回目： cost = [58.3]\n",
      "204回目： cost = [57.4]\n",
      "205回目： cost = [56.5]\n",
      "206回目： cost = [55.6]\n",
      "207回目： cost = [54.7]\n",
      "208回目： cost = [53.8]\n",
      "209回目： cost = [53.]\n",
      "210回目： cost = [52.2]\n",
      "211回目： cost = [51.3]\n",
      "212回目： cost = [50.6]\n",
      "213回目： cost = [49.8]\n",
      "214回目： cost = [49.]\n",
      "215回目： cost = [48.3]\n",
      "216回目： cost = [47.5]\n",
      "217回目： cost = [46.8]\n",
      "218回目： cost = [46.1]\n",
      "219回目： cost = [45.4]\n",
      "220回目： cost = [44.7]\n",
      "221回目： cost = [44.1]\n",
      "222回目： cost = [43.4]\n",
      "223回目： cost = [42.8]\n",
      "224回目： cost = [42.2]\n",
      "225回目： cost = [41.6]\n",
      "226回目： cost = [41.]\n",
      "227回目： cost = [40.4]\n",
      "228回目： cost = [39.8]\n",
      "229回目： cost = [39.2]\n",
      "230回目： cost = [38.7]\n",
      "231回目： cost = [38.1]\n",
      "232回目： cost = [37.6]\n",
      "233回目： cost = [37.1]\n",
      "234回目： cost = [36.6]\n",
      "235回目： cost = [36.1]\n",
      "236回目： cost = [35.6]\n",
      "237回目： cost = [35.1]\n",
      "238回目： cost = [34.6]\n",
      "239回目： cost = [34.2]\n",
      "240回目： cost = [33.7]\n",
      "241回目： cost = [33.3]\n",
      "242回目： cost = [32.9]\n",
      "243回目： cost = [32.4]\n",
      "244回目： cost = [32.]\n",
      "245回目： cost = [31.6]\n",
      "246回目： cost = [31.2]\n",
      "247回目： cost = [30.8]\n",
      "248回目： cost = [30.4]\n",
      "249回目： cost = [30.]\n",
      "250回目： cost = [29.7]\n",
      "251回目： cost = [29.3]\n",
      "252回目： cost = [29.]\n",
      "253回目： cost = [28.6]\n",
      "254回目： cost = [28.3]\n",
      "255回目： cost = [27.9]\n",
      "256回目： cost = [27.6]\n",
      "257回目： cost = [27.3]\n",
      "258回目： cost = [27.]\n",
      "259回目： cost = [26.6]\n",
      "260回目： cost = [26.3]\n",
      "261回目： cost = [26.]\n",
      "262回目： cost = [25.8]\n",
      "263回目： cost = [25.5]\n",
      "264回目： cost = [25.2]\n",
      "265回目： cost = [24.9]\n",
      "266回目： cost = [24.6]\n",
      "267回目： cost = [24.4]\n",
      "268回目： cost = [24.1]\n",
      "269回目： cost = [23.9]\n",
      "270回目： cost = [23.6]\n",
      "271回目： cost = [23.4]\n",
      "272回目： cost = [23.1]\n",
      "273回目： cost = [22.9]\n",
      "274回目： cost = [22.7]\n",
      "275回目： cost = [22.5]\n",
      "276回目： cost = [22.2]\n",
      "277回目： cost = [22.]\n",
      "278回目： cost = [21.8]\n",
      "279回目： cost = [21.6]\n",
      "280回目： cost = [21.4]\n",
      "281回目： cost = [21.2]\n",
      "282回目： cost = [21.]\n",
      "283回目： cost = [20.8]\n",
      "284回目： cost = [20.6]\n",
      "285回目： cost = [20.4]\n",
      "286回目： cost = [20.3]\n",
      "287回目： cost = [20.1]\n",
      "288回目： cost = [19.9]\n",
      "289回目： cost = [19.7]\n",
      "290回目： cost = [19.6]\n",
      "291回目： cost = [19.4]\n",
      "292回目： cost = [19.2]\n",
      "293回目： cost = [19.1]\n",
      "294回目： cost = [18.9]\n",
      "295回目： cost = [18.8]\n",
      "296回目： cost = [18.6]\n",
      "297回目： cost = [18.5]\n",
      "298回目： cost = [18.3]\n",
      "299回目： cost = [18.2]\n",
      "300回目： cost = [18.1]\n",
      "301回目： cost = [17.9]\n",
      "302回目： cost = [17.8]\n",
      "303回目： cost = [17.7]\n",
      "304回目： cost = [17.6]\n",
      "305回目： cost = [17.4]\n",
      "306回目： cost = [17.3]\n",
      "307回目： cost = [17.2]\n",
      "308回目： cost = [17.1]\n",
      "309回目： cost = [17.]\n",
      "310回目： cost = [16.8]\n",
      "311回目： cost = [16.7]\n",
      "312回目： cost = [16.6]\n",
      "313回目： cost = [16.5]\n",
      "314回目： cost = [16.4]\n",
      "315回目： cost = [16.3]\n",
      "316回目： cost = [16.2]\n",
      "317回目： cost = [16.1]\n",
      "318回目： cost = [16.]\n",
      "319回目： cost = [15.9]\n",
      "320回目： cost = [15.8]\n",
      "321回目： cost = [15.7]\n",
      "322回目： cost = [15.7]\n",
      "323回目： cost = [15.6]\n",
      "324回目： cost = [15.5]\n",
      "325回目： cost = [15.4]\n",
      "326回目： cost = [15.3]\n",
      "327回目： cost = [15.2]\n",
      "328回目： cost = [15.2]\n",
      "329回目： cost = [15.1]\n",
      "330回目： cost = [15.]\n",
      "331回目： cost = [14.9]\n",
      "332回目： cost = [14.9]\n",
      "333回目： cost = [14.8]\n",
      "334回目： cost = [14.7]\n",
      "335回目： cost = [14.7]\n",
      "336回目： cost = [14.6]\n",
      "337回目： cost = [14.5]\n",
      "338回目： cost = [14.5]\n",
      "339回目： cost = [14.4]\n",
      "340回目： cost = [14.3]\n",
      "341回目： cost = [14.3]\n",
      "342回目： cost = [14.2]\n",
      "343回目： cost = [14.2]\n",
      "344回目： cost = [14.1]\n",
      "345回目： cost = [14.]\n",
      "346回目： cost = [14.]\n",
      "347回目： cost = [13.9]\n",
      "348回目： cost = [13.9]\n",
      "349回目： cost = [13.8]\n",
      "350回目： cost = [13.8]\n",
      "351回目： cost = [13.7]\n",
      "352回目： cost = [13.7]\n",
      "353回目： cost = [13.6]\n",
      "354回目： cost = [13.6]\n",
      "355回目： cost = [13.5]\n",
      "356回目： cost = [13.5]\n",
      "357回目： cost = [13.4]\n",
      "358回目： cost = [13.4]\n",
      "359回目： cost = [13.4]\n",
      "360回目： cost = [13.3]\n",
      "361回目： cost = [13.3]\n",
      "362回目： cost = [13.2]\n",
      "363回目： cost = [13.2]\n",
      "364回目： cost = [13.2]\n",
      "365回目： cost = [13.1]\n",
      "366回目： cost = [13.1]\n",
      "367回目： cost = [13.]\n",
      "368回目： cost = [13.]\n",
      "369回目： cost = [13.]\n",
      "370回目： cost = [12.9]\n",
      "371回目： cost = [12.9]\n",
      "372回目： cost = [12.9]\n",
      "373回目： cost = [12.8]\n",
      "374回目： cost = [12.8]\n",
      "375回目： cost = [12.8]\n",
      "376回目： cost = [12.7]\n",
      "377回目： cost = [12.7]\n",
      "378回目： cost = [12.7]\n",
      "379回目： cost = [12.7]\n",
      "380回目： cost = [12.6]\n",
      "381回目： cost = [12.6]\n",
      "382回目： cost = [12.6]\n",
      "383回目： cost = [12.6]\n",
      "384回目： cost = [12.5]\n",
      "385回目： cost = [12.5]\n",
      "386回目： cost = [12.5]\n",
      "387回目： cost = [12.4]\n",
      "388回目： cost = [12.4]\n",
      "389回目： cost = [12.4]\n",
      "390回目： cost = [12.4]\n",
      "391回目： cost = [12.4]\n",
      "392回目： cost = [12.3]\n",
      "393回目： cost = [12.3]\n",
      "394回目： cost = [12.3]\n",
      "395回目： cost = [12.3]\n",
      "396回目： cost = [12.2]\n",
      "397回目： cost = [12.2]\n",
      "398回目： cost = [12.2]\n",
      "399回目： cost = [12.2]\n",
      "400回目： cost = [12.2]\n",
      "401回目： cost = [12.1]\n",
      "402回目： cost = [12.1]\n",
      "403回目： cost = [12.1]\n",
      "404回目： cost = [12.1]\n",
      "405回目： cost = [12.1]\n",
      "406回目： cost = [12.1]\n",
      "407回目： cost = [12.]\n",
      "408回目： cost = [12.]\n",
      "409回目： cost = [12.]\n",
      "410回目： cost = [12.]\n",
      "411回目： cost = [12.]\n",
      "412回目： cost = [12.]\n",
      "413回目： cost = [11.9]\n",
      "414回目： cost = [11.9]\n",
      "415回目： cost = [11.9]\n",
      "416回目： cost = [11.9]\n",
      "417回目： cost = [11.9]\n",
      "418回目： cost = [11.9]\n",
      "419回目： cost = [11.9]\n",
      "420回目： cost = [11.8]\n",
      "421回目： cost = [11.8]\n",
      "422回目： cost = [11.8]\n",
      "423回目： cost = [11.8]\n",
      "424回目： cost = [11.8]\n",
      "425回目： cost = [11.8]\n",
      "426回目： cost = [11.8]\n",
      "427回目： cost = [11.8]\n",
      "428回目： cost = [11.7]\n",
      "429回目： cost = [11.7]\n",
      "430回目： cost = [11.7]\n",
      "431回目： cost = [11.7]\n",
      "432回目： cost = [11.7]\n",
      "433回目： cost = [11.7]\n",
      "434回目： cost = [11.7]\n",
      "435回目： cost = [11.7]\n",
      "436回目： cost = [11.7]\n",
      "437回目： cost = [11.6]\n",
      "438回目： cost = [11.6]\n",
      "439回目： cost = [11.6]\n",
      "440回目： cost = [11.6]\n",
      "441回目： cost = [11.6]\n",
      "442回目： cost = [11.6]\n",
      "443回目： cost = [11.6]\n",
      "444回目： cost = [11.6]\n",
      "445回目： cost = [11.6]\n",
      "446回目： cost = [11.6]\n",
      "447回目： cost = [11.6]\n",
      "448回目： cost = [11.5]\n",
      "449回目： cost = [11.5]\n",
      "450回目： cost = [11.5]\n",
      "451回目： cost = [11.5]\n",
      "452回目： cost = [11.5]\n",
      "453回目： cost = [11.5]\n",
      "454回目： cost = [11.5]\n",
      "455回目： cost = [11.5]\n",
      "456回目： cost = [11.5]\n",
      "457回目： cost = [11.5]\n",
      "458回目： cost = [11.5]\n",
      "459回目： cost = [11.5]\n",
      "460回目： cost = [11.5]\n",
      "461回目： cost = [11.5]\n",
      "462回目： cost = [11.4]\n",
      "463回目： cost = [11.4]\n",
      "464回目： cost = [11.4]\n",
      "465回目： cost = [11.4]\n",
      "466回目： cost = [11.4]\n",
      "467回目： cost = [11.4]\n",
      "468回目： cost = [11.4]\n",
      "469回目： cost = [11.4]\n",
      "470回目： cost = [11.4]\n",
      "471回目： cost = [11.4]\n",
      "472回目： cost = [11.4]\n",
      "473回目： cost = [11.4]\n",
      "474回目： cost = [11.4]\n",
      "475回目： cost = [11.4]\n",
      "476回目： cost = [11.4]\n",
      "477回目： cost = [11.4]\n",
      "478回目： cost = [11.4]\n",
      "479回目： cost = [11.4]\n",
      "480回目： cost = [11.4]\n",
      "481回目： cost = [11.3]\n",
      "482回目： cost = [11.3]\n",
      "483回目： cost = [11.3]\n",
      "484回目： cost = [11.3]\n",
      "485回目： cost = [11.3]\n",
      "486回目： cost = [11.3]\n",
      "487回目： cost = [11.3]\n",
      "488回目： cost = [11.3]\n",
      "489回目： cost = [11.3]\n",
      "490回目： cost = [11.3]\n",
      "491回目： cost = [11.3]\n",
      "492回目： cost = [11.3]\n",
      "493回目： cost = [11.3]\n",
      "494回目： cost = [11.3]\n",
      "495回目： cost = [11.3]\n",
      "496回目： cost = [11.3]\n",
      "497回目： cost = [11.3]\n",
      "498回目： cost = [11.3]\n",
      "499回目： cost = [11.3]\n"
     ]
    }
   ],
   "source": [
    "# print(J_history[0:10].round(2))\n",
    "\n",
    "for i in range(J_history.size):\n",
    "    print('{}回目： cost = {}' .format(i, J_history[i].round(1)))"
   ]
  },
  {
   "cell_type": "code",
   "execution_count": 53,
   "metadata": {},
   "outputs": [
    {
     "data": {
      "image/png": "[encoded data removed]",
      "text/plain": [
       "<Figure size 432x288 with 1 Axes>"
      ]
     },
     "metadata": {
      "needs_background": "light"
     },
     "output_type": "display_data"
    }
   ],
   "source": [
    "# コストと学習回数のグラフ\n",
    "plt.plot(range(J_history.size), J_history, '-b', linewidth=1)\n",
    "plt.xlabel('Number of Iterations')\n",
    "plt.ylabel('Cost(J)')\n",
    "plt.grid(True)\n",
    "plt.show()"
   ]
  },
  {
   "cell_type": "markdown",
   "metadata": {},
   "source": [
    "徐々にコストが低減している。（∴より精度が高まっている。）\n",
    "<hr>"
   ]
  },
  {
   "cell_type": "code",
   "execution_count": null,
   "metadata": {},
   "outputs": [],
   "source": [
    "# 最適パラメーター確認\n",
    "for i in range(weight.size):\n",
    "    print('w{} = {}' .format(i, weight[i].round(3)))\n",
    "# w0:1\n",
    "# w1:Pysics\n",
    "# w2:Sciencs\n",
    "# w3:Statistics"
   ]
  },
  {
   "cell_type": "code",
   "execution_count": 54,
   "metadata": {},
   "outputs": [],
   "source": [
    "# 数学点数予測 = （物理点数＊w１）＋（化学点数＊w２）＋（統計学点数＊w３）＋w０\n",
    "\n",
    "# e.g.) N君　物理：７６点 化学:９６点 統計:８２点\n",
    "# i)正規化\n",
    "pysics_norm = (76-float(mean[:,0])) /float(std[:,0])\n",
    "sciencs_norm = (96-float(mean[:,1])) /float(std[:,1])\n",
    "statistics_norm = (82-float(mean[:,2])) /float(std[:,2])\n"
   ]
  },
  {
   "cell_type": "code",
   "execution_count": 55,
   "metadata": {},
   "outputs": [
    {
     "data": {
      "text/plain": [
       "array([1.        , 0.13333314, 2.17853956, 0.72763147])"
      ]
     },
     "execution_count": 55,
     "metadata": {},
     "output_type": "execute_result"
    }
   ],
   "source": [
    "# ii)x0を追加\n",
    "pred_padded = np.array([1, pysics_norm, sciencs_norm, statistics_norm])\n",
    "pred_padded"
   ]
  },
  {
   "cell_type": "code",
   "execution_count": 57,
   "metadata": {},
   "outputs": [
    {
     "data": {
      "text/plain": [
       "array([89.1])"
      ]
     },
     "execution_count": 57,
     "metadata": {},
     "output_type": "execute_result"
    }
   ],
   "source": [
    "# N君の数学点数をモデルを用いて予測\n",
    "pred = pred_padded.dot(weight)\n",
    "pred.round(2)"
   ]
  }
 ],
 "metadata": {
  "kernelspec": {
   "display_name": "Python 3",
   "language": "python",
   "name": "python3"
  },
  "language_info": {
   "codemirror_mode": {
    "name": "ipython",
    "version": 3
   },
   "file_extension": ".py",
   "mimetype": "text/x-python",
   "name": "python",
   "nbconvert_exporter": "python",
   "pygments_lexer": "ipython3",
   "version": "3.8.5"
  }
 },
 "nbformat": 4,
 "nbformat_minor": 4
}
