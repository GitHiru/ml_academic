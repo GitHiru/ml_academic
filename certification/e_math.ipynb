{
 "cells": [
  {
   "cell_type": "markdown",
   "metadata": {},
   "source": [
    "# DeepLearning\n",
    "> `cf.`<br>\n",
    "> + [DeepLearning - An MIT Press book](https://www.deeplearningbook.org/) "
   ]
  },
  {
   "cell_type": "markdown",
   "metadata": {},
   "source": [
    "### ■ 線形代数\n",
    "\n",
    "#### - 固有値分解\n",
    "#### - 得異値分解\n",
    "#### - ノルム\n",
    "\n",
    "> `cf.`<br>\n",
    "> + [応用数学 – 線形代数 – 特異値分解 - ゼロからディープラーニング始めました](https://japage3-blog.com/2018/09/12/%e5%bf%9c%e7%94%a8%e6%95%b0%e5%ad%a6-%e7%b7%9a%e5%bd%a2%e4%bb%a3%e6%95%b0-%e7%89%b9%e7%95%b0%e5%80%a4%e5%88%86%e8%a7%a3/)\n",
    "> + []()"
   ]
  },
  {
   "cell_type": "markdown",
   "metadata": {},
   "source": [
    "### ■ 統計・確率\n",
    "\n",
    "#### ベルヌーイの分布\n",
    "#### マルチヌーイの分布\n",
    "#### ガウス分布\n",
    "\n",
    "> `cf.`<br>\n",
    "> + [応用数学 – 確率・統計 – 一般的な確率分布 - ゼロからディープラーニング始めました](https://japage3-blog.com/2018/09/12/%e5%bf%9c%e7%94%a8%e6%95%b0%e5%ad%a6-%e7%a2%ba%e7%8e%87%e3%83%bb%e7%b5%b1%e8%a8%88-%e4%b8%80%e8%88%ac%e7%9a%84%e3%81%aa%e7%a2%ba%e7%8e%87%e5%88%86%e5%b8%83/)"
   ]
  },
  {
   "cell_type": "markdown",
   "metadata": {},
   "source": [
    "### ■ 情報理論\n",
    "\n",
    "#### 情報量\n",
    "#### エントロピー\n",
    "#### 交差エントロピー\n",
    "#### KLダイバージェンス"
   ]
  },
  {
   "cell_type": "code",
   "execution_count": null,
   "metadata": {},
   "outputs": [],
   "source": []
  },
  {
   "cell_type": "code",
   "execution_count": null,
   "metadata": {},
   "outputs": [],
   "source": []
  },
  {
   "cell_type": "code",
   "execution_count": null,
   "metadata": {},
   "outputs": [],
   "source": []
  }
 ],
 "metadata": {
  "kernelspec": {
   "display_name": "Python 3",
   "language": "python",
   "name": "python3"
  },
  "language_info": {
   "codemirror_mode": {
    "name": "ipython",
    "version": 3
   },
   "file_extension": ".py",
   "mimetype": "text/x-python",
   "name": "python",
   "nbconvert_exporter": "python",
   "pygments_lexer": "ipython3",
   "version": "3.8.5"
  }
 },
 "nbformat": 4,
 "nbformat_minor": 4
}
