{
 "cells": [
  {
   "cell_type": "markdown",
   "metadata": {},
   "source": [
    "# matplotlib\n",
    "```index```\n",
    "+ [データサイエンスのためのPython入門20〜matplotlibを使ってData Visualizationを始めよう〜](https://datawokagaku.com/data_vis_intro/)\n",
    "+ [データサイエンスのためのPython入門21〜matplotlibのsubplotとオブジェクト指向を使って複数のグラフを並べる〜](https://datawokagaku.com/matplotlib_subplot/)\n",
    "+ [データサイエンスのためのPython入門22〜matplotlibを使ってグラフをPNG，PDFで保存する〜](https://datawokagaku.com/savefig_png_pdf/)\n",
    "+ [データサイエンスのためのPython入門23〜matplotlibで色々なグラフを描画する〜](https://datawokagaku.com/matplotlib_variousplots/)\n"
   ]
  },
  {
   "cell_type": "code",
   "execution_count": null,
   "metadata": {},
   "outputs": [],
   "source": []
  }
 ],
 "metadata": {
  "kernelspec": {
   "display_name": "Python 3",
   "language": "python",
   "name": "python3"
  },
  "language_info": {
   "codemirror_mode": {
    "name": "ipython",
    "version": 3
   },
   "file_extension": ".py",
   "mimetype": "text/x-python",
   "name": "python",
   "nbconvert_exporter": "python",
   "pygments_lexer": "ipython3",
   "version": "3.8.5"
  }
 },
 "nbformat": 4,
 "nbformat_minor": 4
}
