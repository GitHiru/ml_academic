{
 "cells": [
  {
   "cell_type": "markdown",
   "metadata": {},
   "source": [
    "# NumPy\n",
    "\n",
    "```index```\n",
    "+ [データサイエンスのためのPython入門⑥〜はじめてのNumpy〜](https://datawokagaku.com/numpy/)\n",
    "+ [データサイエンスのためのPython入門⑦〜これだけ知っておけばいいNumPyのindexingとslicing〜](https://datawokagaku.com/numpy_slice/)\n",
    "+ [データサイエンスのためのPython入門⑧〜NumPyでよく使う行列生成〜](https://datawokagaku.com/numpy_generate/)\n",
    "+ [データサイエンスのためのPython入門⑨〜NumPyでよく使う便利関数〜](https://datawokagaku.com/numpy_functions/)"
   ]
  },
  {
   "cell_type": "markdown",
   "metadata": {},
   "source": [
    "## 6:はじめてのNumPy"
   ]
  },
  {
   "cell_type": "code",
   "execution_count": null,
   "metadata": {},
   "outputs": [],
   "source": []
  },
  {
   "cell_type": "markdown",
   "metadata": {},
   "source": [
    "## 7:indexingとslicing"
   ]
  },
  {
   "cell_type": "code",
   "execution_count": null,
   "metadata": {},
   "outputs": [],
   "source": []
  },
  {
   "cell_type": "markdown",
   "metadata": {},
   "source": [
    "## 8:行列生成"
   ]
  },
  {
   "cell_type": "code",
   "execution_count": null,
   "metadata": {},
   "outputs": [],
   "source": []
  },
  {
   "cell_type": "markdown",
   "metadata": {},
   "source": [
    "## 9:よく使う便利関数"
   ]
  },
  {
   "cell_type": "markdown",
   "metadata": {},
   "source": [
    "### 要素の統計量\n",
    "```\n",
    "統計量というのは，最大値，最小値，平均，中央値，標準偏差などデータの特徴を要約した値\n",
    "```\n",
    "\n",
    "※np.関数名(ndarray)で呼ぶことも可能"
   ]
  },
  {
   "cell_type": "code",
   "execution_count": 2,
   "metadata": {},
   "outputs": [
    {
     "name": "stdout",
     "output_type": "stream",
     "text": [
      "[[ 0.96600385 -0.02716392  1.75684008  0.84533213 -1.73184816]\n",
      " [ 0.78739486 -0.4111424  -0.03966487 -1.40209136  0.96080699]\n",
      " [-0.94178733 -0.34900372 -0.43038778 -1.56188951 -1.77069901]\n",
      " [-0.47365733 -0.15981977  0.14071678  1.45150087  1.12416214]\n",
      " [-0.99713712  0.00700762 -0.48220499 -0.02323135  0.91702799]]\n"
     ]
    }
   ],
   "source": [
    "import numpy as np\n",
    "normal_dist_mat = np.random.randn(5, 5)\n",
    "print(normal_dist_mat)"
   ]
  },
  {
   "cell_type": "markdown",
   "metadata": {},
   "source": [
    "#### - .max() .argmax()"
   ]
  },
  {
   "cell_type": "code",
   "execution_count": 21,
   "metadata": {},
   "outputs": [
    {
     "name": "stdout",
     "output_type": "stream",
     "text": [
      "max is 1.7568400841568912\n",
      "max is 1.7568400841568912\n"
     ]
    }
   ],
   "source": [
    "#max 最大値を求める\n",
    "print('max is', normal_dist_mat.max())\n",
    "print('max is', np.max(normal_dist_mat))"
   ]
  },
  {
   "cell_type": "code",
   "execution_count": 22,
   "metadata": {},
   "outputs": [
    {
     "name": "stdout",
     "output_type": "stream",
     "text": [
      "argmax is 2\n",
      "argmax is 2\n"
     ]
    }
   ],
   "source": [
    "#argmax \n",
    "print('argmax is', normal_dist_mat.argmax())\n",
    "print('argmax is', np.argmax(normal_dist_mat))"
   ]
  },
  {
   "cell_type": "code",
   "execution_count": 13,
   "metadata": {},
   "outputs": [
    {
     "name": "stdout",
     "output_type": "stream",
     "text": [
      "(25,) \n",
      " [ 0.96600385 -0.02716392  1.75684008  0.84533213 -1.73184816  0.78739486\n",
      " -0.4111424  -0.03966487 -1.40209136  0.96080699 -0.94178733 -0.34900372\n",
      " -0.43038778 -1.56188951 -1.77069901 -0.47365733 -0.15981977  0.14071678\n",
      "  1.45150087  1.12416214 -0.99713712  0.00700762 -0.48220499 -0.02323135\n",
      "  0.91702799] \n",
      " max is 1.7568400841568912\n"
     ]
    }
   ],
   "source": [
    "#(余談)flatten 一列にできる\n",
    "flat = normal_dist_mat.flatten()\n",
    "print(flat.shape, '\\n', flat, '\\n', 'max is', flat[2])"
   ]
  },
  {
   "cell_type": "markdown",
   "metadata": {},
   "source": [
    "#### - .min() .argmin()"
   ]
  },
  {
   "cell_type": "code",
   "execution_count": 14,
   "metadata": {},
   "outputs": [
    {
     "name": "stdout",
     "output_type": "stream",
     "text": [
      "min is -1.770699009026913\n"
     ]
    }
   ],
   "source": [
    "#min\n",
    "print('min is', normal_dist_mat.min())"
   ]
  },
  {
   "cell_type": "code",
   "execution_count": 15,
   "metadata": {},
   "outputs": [
    {
     "name": "stdout",
     "output_type": "stream",
     "text": [
      "argmin is 14\n"
     ]
    }
   ],
   "source": [
    "#argmin\n",
    "print('argmin is', normal_dist_mat.argmin())"
   ]
  },
  {
   "cell_type": "markdown",
   "metadata": {},
   "source": [
    "#### - .mean()"
   ]
  },
  {
   "cell_type": "code",
   "execution_count": 17,
   "metadata": {},
   "outputs": [
    {
     "name": "stdout",
     "output_type": "stream",
     "text": [
      "mean is -0.07379741315482549\n"
     ]
    }
   ],
   "source": [
    "#mean 平均値取得\n",
    "print('mean is', normal_dist_mat.mean())"
   ]
  },
  {
   "cell_type": "markdown",
   "metadata": {},
   "source": [
    "#### - np.median(ndarray)\n",
    "npから呼び出すことに注意"
   ]
  },
  {
   "cell_type": "code",
   "execution_count": 18,
   "metadata": {},
   "outputs": [
    {
     "name": "stdout",
     "output_type": "stream",
     "text": [
      "median is -0.039664871522982155\n"
     ]
    }
   ],
   "source": [
    "#median 中央値\n",
    "print('median is', np.median(normal_dist_mat))"
   ]
  },
  {
   "cell_type": "markdown",
   "metadata": {},
   "source": [
    "#### - .std()"
   ]
  },
  {
   "cell_type": "code",
   "execution_count": 19,
   "metadata": {},
   "outputs": [
    {
     "name": "stdout",
     "output_type": "stream",
     "text": [
      "std is 0.9747867761231602\n"
     ]
    }
   ],
   "source": [
    "#std 標準偏差：standard deviation\n",
    "print('std is', normal_dist_mat.std())"
   ]
  },
  {
   "cell_type": "markdown",
   "metadata": {},
   "source": [
    "**標準偏差(standard deviation)**\n",
    ">標準偏差というのは，データの分散(ばらつき)を示す指標です．よく記号で𝜎(シグマ)や𝑠で表します．よく略してstdと言う\n",
    ">\n",
    "> cf.[【Pythonで学ぶ】絶対にわかる分散と標準偏差(超重要)【データサイエンス入門:統計編⑤】](https://datawokagaku.com/var_std/)\n",
    "\n",
    "\n",
    "**68-95-99.7ルール**\n",
    "> （正規分布では）平均から±1標準偏差には約68%のデータが，平均から±2標準偏差には約95%のデータが，平均から±3標準偏差には約99%のデータが，含まれるという経験則\n",
    ">\n",
    "> Cf.[【Pythonで学ぶ】標準偏差から散らばり具合をどう読み取る？【データサイエンス入門:統計編⑧】](https://datawokagaku.com/std_distribution/)\n",
    "\n",
    "<img src='https://datawokagaku.com/wp-content/uploads/2020/01/std_rule.png' width=35%>\n",
    "\n",
    "標準正規分布というのは平均0，分散1(標準偏差は分散の平方根なので標準偏差も1)の正規分布\n",
    "本来meanとstdは0と1に近い,２５個(5×５)程度のサンプリングでは元の特徴を表すには少ないことが分かる。"
   ]
  },
  {
   "cell_type": "markdown",
   "metadata": {},
   "source": [
    "#### - 引数axis\n",
    ">特定の行，列での統計量を求めたい\n",
    "+ axis=0を指定すると各列の統計量\n",
    "+ axis=1を指定すると各行の統計量"
   ]
  },
  {
   "cell_type": "code",
   "execution_count": 25,
   "metadata": {},
   "outputs": [
    {
     "name": "stdout",
     "output_type": "stream",
     "text": [
      "[[ 0.96600385 -0.02716392  1.75684008  0.84533213 -1.73184816]\n",
      " [ 0.78739486 -0.4111424  -0.03966487 -1.40209136  0.96080699]\n",
      " [-0.94178733 -0.34900372 -0.43038778 -1.56188951 -1.77069901]\n",
      " [-0.47365733 -0.15981977  0.14071678  1.45150087  1.12416214]\n",
      " [-0.99713712  0.00700762 -0.48220499 -0.02323135  0.91702799]]\n",
      "axis=0 各列最大値 > [0.96600385 0.00700762 1.75684008 1.45150087 1.12416214]\n",
      "axis=1 各行最大値 > [ 1.75684008  0.96080699 -0.34900372  1.45150087  0.91702799]\n"
     ]
    }
   ],
   "source": [
    "print(normal_dist_mat)\n",
    "print('axis=0 各列最大値 > {}'.format(normal_dist_mat.max(axis=0)))\n",
    "print('axis=1 各行最大値 > {}'.format(normal_dist_mat.max(axis=1)))"
   ]
  },
  {
   "cell_type": "markdown",
   "metadata": {},
   "source": [
    "### 数学でよく使う関数"
   ]
  },
  {
   "cell_type": "markdown",
   "metadata": {},
   "source": [
    "#### - np.exp(ndarray)\n",
    "> 指数関数(exponential function)\n",
    "> + NumPyではネイピア数e(約2.718)の指数関数"
   ]
  },
  {
   "cell_type": "code",
   "execution_count": 35,
   "metadata": {},
   "outputs": [],
   "source": [
    "ndarray = np.linspace(-3, 3, 10)"
   ]
  },
  {
   "cell_type": "code",
   "execution_count": 36,
   "metadata": {},
   "outputs": [
    {
     "name": "stdout",
     "output_type": "stream",
     "text": [
      "[-3.         -2.33333333 -1.66666667 -1.         -0.33333333  0.33333333\n",
      "  1.          1.66666667  2.33333333  3.        ] \n",
      " [ 0.04978707  0.09697197  0.1888756   0.36787944  0.71653131  1.39561243\n",
      "  2.71828183  5.29449005 10.3122585  20.08553692]\n"
     ]
    }
   ],
   "source": [
    "expndarray = np.exp(ndarray)\n",
    "print('{0} \\n {1}'.format(ndarray, expndarray))"
   ]
  },
  {
   "cell_type": "code",
   "execution_count": 37,
   "metadata": {},
   "outputs": [
    {
     "data": {
      "text/plain": [
       "<function matplotlib.pyplot.show(close=None, block=None)>"
      ]
     },
     "execution_count": 37,
     "metadata": {},
     "output_type": "execute_result"
    },
    {
     "data": {
      "image/png": "[encoded data removed]",
      "text/plain": [
       "<Figure size 432x288 with 1 Axes>"
      ]
     },
     "metadata": {
      "needs_background": "light"
     },
     "output_type": "display_data"
    }
   ],
   "source": [
    "import matplotlib.pyplot as plt\n",
    "%matplotlib inline\n",
    "\n",
    "plt.plot(ndarray, expndarray)\n",
    "plt.show"
   ]
  },
  {
   "cell_type": "markdown",
   "metadata": {},
   "source": [
    "#### - np.log(ndarray)\n",
    "> 負の数は対数を取れないのでnan"
   ]
  },
  {
   "cell_type": "code",
   "execution_count": 38,
   "metadata": {},
   "outputs": [
    {
     "name": "stdout",
     "output_type": "stream",
     "text": [
      "[-3.         -2.33333333 -1.66666667 -1.         -0.33333333  0.33333333\n",
      "  1.          1.66666667  2.33333333  3.        ] \n",
      " [        nan         nan         nan         nan         nan -1.09861229\n",
      "  0.          0.51082562  0.84729786  1.09861229]\n"
     ]
    },
    {
     "name": "stderr",
     "output_type": "stream",
     "text": [
      "<ipython-input-38-475293300e96>:1: RuntimeWarning: invalid value encountered in log\n",
      "  logndarray = np.log(ndarray)\n"
     ]
    }
   ],
   "source": [
    "logndarray = np.log(ndarray)\n",
    "print('{0} \\n {1}'.format(ndarray, logndarray))"
   ]
  },
  {
   "cell_type": "code",
   "execution_count": 39,
   "metadata": {},
   "outputs": [
    {
     "data": {
      "text/plain": [
       "<function matplotlib.pyplot.show(close=None, block=None)>"
      ]
     },
     "execution_count": 39,
     "metadata": {},
     "output_type": "execute_result"
    },
    {
     "data": {
      "image/png": "[encoded data removed]",
      "text/plain": [
       "<Figure size 432x288 with 1 Axes>"
      ]
     },
     "metadata": {
      "needs_background": "light"
     },
     "output_type": "display_data"
    }
   ],
   "source": [
    "plt.plot(ndarray, logndarray)\n",
    "plt.show"
   ]
  },
  {
   "cell_type": "markdown",
   "metadata": {},
   "source": [
    "#### - np.nan np.isnan()\n",
    "> nan = Not-A-Number\n",
    ">+ NumPy演算で例えば0で割ったりすると出てきます．\n",
    ">+ PythonのNoneとは別物"
   ]
  },
  {
   "cell_type": "code",
   "execution_count": 40,
   "metadata": {},
   "outputs": [
    {
     "name": "stdout",
     "output_type": "stream",
     "text": [
      "nan\n"
     ]
    }
   ],
   "source": [
    "print(logndarray[0])"
   ]
  },
  {
   "cell_type": "code",
   "execution_count": 41,
   "metadata": {},
   "outputs": [
    {
     "name": "stdout",
     "output_type": "stream",
     "text": [
      "nan == None?:False\n"
     ]
    }
   ],
   "source": [
    "print('nan == None?:{}'.format(logndarray[0] is None))"
   ]
  },
  {
   "cell_type": "code",
   "execution_count": 42,
   "metadata": {},
   "outputs": [
    {
     "data": {
      "text/plain": [
       "True"
      ]
     },
     "execution_count": 42,
     "metadata": {},
     "output_type": "execute_result"
    }
   ],
   "source": [
    "np.isnan(logndarray[0])"
   ]
  },
  {
   "cell_type": "markdown",
   "metadata": {},
   "source": [
    "#### - np.e\n",
    "> ネイピア数(2.7182….)"
   ]
  },
  {
   "cell_type": "code",
   "execution_count": 43,
   "metadata": {},
   "outputs": [
    {
     "name": "stdout",
     "output_type": "stream",
     "text": [
      "2.718281828459045\n",
      "1.0\n"
     ]
    }
   ],
   "source": [
    "e = np.e\n",
    "print(e)\n",
    "print(np.log(e))"
   ]
  },
  {
   "cell_type": "markdown",
   "metadata": {},
   "source": [
    "### ndarrayのshape操作\n",
    "> **rank:次元の数**\n",
    "> + (3,3) = rank 2\n",
    "> + (3,3,1) = rank 3\n",
    ">\n",
    "> いずれも同じ行列を意味する。"
   ]
  },
  {
   "cell_type": "code",
   "execution_count": 44,
   "metadata": {},
   "outputs": [
    {
     "name": "stdout",
     "output_type": "stream",
     "text": [
      "array is:\n",
      "[[1 2 3]\n",
      " [4 5 6]\n",
      " [7 8 9]]\n",
      "ndarray's shape is:\n",
      "(3, 3)\n"
     ]
    }
   ],
   "source": [
    "ndarray = np.array([[1, 2, 3], [4, 5, 6], [7, 8, 9]])\n",
    "print('array is:\\n{}'.format(ndarray))\n",
    "print(\"ndarray's shape is:\\n{}\".format(ndarray.shape))"
   ]
  },
  {
   "cell_type": "markdown",
   "metadata": {},
   "source": [
    "#### -np.expand_dims(ndarray, axis)\n",
    ">**rankを一つ追加**\n",
    ">+ axis=0:一つ目の次元を追加\n",
    ">+ axis=-1:最後の次元を追加"
   ]
  },
  {
   "cell_type": "code",
   "execution_count": 49,
   "metadata": {},
   "outputs": [
    {
     "name": "stdout",
     "output_type": "stream",
     "text": [
      "array is:\n",
      "[[[1 2 3]\n",
      "  [4 5 6]\n",
      "  [7 8 9]]]\n",
      "ndarray's shape is:\n",
      "(1, 3, 3)\n"
     ]
    }
   ],
   "source": [
    "expanded_ndarray = np.expand_dims(ndarray, axis=0)\n",
    "print('array is:\\n{}'.format(expanded_ndarray))\n",
    "print(\"ndarray's shape is:\\n{}\".format(expanded_ndarray.shape))"
   ]
  },
  {
   "cell_type": "markdown",
   "metadata": {},
   "source": [
    "#### - np.squeeze(ndarray)\n",
    "> squeeze(絞る)するイメージ"
   ]
  },
  {
   "cell_type": "code",
   "execution_count": 50,
   "metadata": {},
   "outputs": [
    {
     "name": "stdout",
     "output_type": "stream",
     "text": [
      "array is:\n",
      "[[1 2 3]\n",
      " [4 5 6]\n",
      " [7 8 9]]\n",
      "ndarray's shape is:\n",
      "(3, 3)\n"
     ]
    }
   ],
   "source": [
    "squeezed_expanded_ndarray = np.squeeze(expanded_ndarray)\n",
    "print('array is:\\n{}'.format(squeezed_expanded_ndarray))\n",
    "print(\"ndarray's shape is:\\n{}\".format(squeezed_expanded_ndarray.shape))"
   ]
  },
  {
   "cell_type": "markdown",
   "metadata": {},
   "source": [
    "#### - .flatten()\n",
    ">ndarrayを一列にします．行列構造を持つ必要がなくなったりしたら使います．\n",
    "(もとのndarrayは変更されないことに注意)"
   ]
  },
  {
   "cell_type": "code",
   "execution_count": 51,
   "metadata": {},
   "outputs": [
    {
     "name": "stdout",
     "output_type": "stream",
     "text": [
      "flatten_array:\n",
      "[1 2 3 4 5 6 7 8 9]\n",
      "ndarray:\n",
      "[[1 2 3]\n",
      " [4 5 6]\n",
      " [7 8 9]]\n"
     ]
    }
   ],
   "source": [
    "flatten_array = ndarray.flatten()\n",
    "print('flatten_array:\\n{}'.format(flatten_array))\n",
    "print('ndarray:\\n{}'.format(ndarray))"
   ]
  },
  {
   "cell_type": "markdown",
   "metadata": {},
   "source": [
    "### NumPyArray 保存＆読込"
   ]
  },
  {
   "cell_type": "markdown",
   "metadata": {},
   "source": [
    "#### - np.save(‘ファイルパス’, ndarray)"
   ]
  },
  {
   "cell_type": "code",
   "execution_count": 52,
   "metadata": {},
   "outputs": [],
   "source": [
    "ndarray = np.array([\n",
    "    [1, 2, 3, 4],\n",
    "    [10, 20, 30, 40],\n",
    "    [100, 200, 300, 400],\n",
    "])\n",
    "np.save('saved_numpy', ndarray) #拡張子.npyを書いてもOK"
   ]
  },
  {
   "cell_type": "markdown",
   "metadata": {},
   "source": [
    "#### - np.load(‘ファイルパス’)"
   ]
  },
  {
   "cell_type": "code",
   "execution_count": 53,
   "metadata": {},
   "outputs": [
    {
     "data": {
      "text/plain": [
       "array([[  1,   2,   3,   4],\n",
       "       [ 10,  20,  30,  40],\n",
       "       [100, 200, 300, 400]])"
      ]
     },
     "execution_count": 53,
     "metadata": {},
     "output_type": "execute_result"
    }
   ],
   "source": [
    "loaded_numpy = np.load('saved_numpy.npy')\n",
    "loaded_numpy"
   ]
  }
 ],
 "metadata": {
  "kernelspec": {
   "display_name": "Python 3",
   "language": "python",
   "name": "python3"
  },
  "language_info": {
   "codemirror_mode": {
    "name": "ipython",
    "version": 3
   },
   "file_extension": ".py",
   "mimetype": "text/x-python",
   "name": "python",
   "nbconvert_exporter": "python",
   "pygments_lexer": "ipython3",
   "version": "3.8.5"
  }
 },
 "nbformat": 4,
 "nbformat_minor": 4
}
