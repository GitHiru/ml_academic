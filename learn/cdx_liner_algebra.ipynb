{
 "cells": [
  {
   "cell_type": "markdown",
   "metadata": {},
   "source": [
    "# 線形代数 （Linear Algebra - リニアーアルジェブラ）\n",
    "\n",
    "> 線型空間と線型変換を中心とした理論を研究する代数学の一分野。 もう少し噛み砕いた言い方だと、行列の性質や扱い方を考えた学問と捉えても問題ない。 link\n",
    "\n",
    "```txt\n",
    "基本的な線形代数は、機械学習を学ぶ際の必要最低限の知識。 機械学習では、PandasやNumpyで、データセット前処理として行列の演算などを行う。その際に「行列」の基本的な役割や扱い方の知識が必要。\n",
    "\n",
    "また、線形代数をより深く理解することで、機械学習で使われるアルゴリズムをより深く理解できる。 アルゴリズムの理解が深まれば、より深いレベルでのアルゴリズムの実装や、さらには正しい理解のもとチューニングを行うことも可能。\n",
    "\n",
    "線形代数を理解することで、機械学習で行えることや得られる結果に大きく幅を持つことが可能。\n",
    "```\n"
   ]
  },
  {
   "cell_type": "code",
   "execution_count": 1,
   "metadata": {},
   "outputs": [
    {
     "ename": "ModuleNotFoundError",
     "evalue": "No module named 'numpy'",
     "output_type": "error",
     "traceback": [
      "\u001b[0;31m---------------------------------------------------------------------------\u001b[0m",
      "\u001b[0;31mModuleNotFoundError\u001b[0m                       Traceback (most recent call last)",
      "\u001b[0;32m<ipython-input-1-8c18ac5072d2>\u001b[0m in \u001b[0;36m<module>\u001b[0;34m\u001b[0m\n\u001b[0;32m----> 1\u001b[0;31m \u001b[0;32mimport\u001b[0m \u001b[0mnumpy\u001b[0m \u001b[0;32mas\u001b[0m \u001b[0mnp\u001b[0m\u001b[0;34m\u001b[0m\u001b[0;34m\u001b[0m\u001b[0m\n\u001b[0m\u001b[1;32m      2\u001b[0m \u001b[0;34m\u001b[0m\u001b[0m\n\u001b[1;32m      3\u001b[0m a = np.array([[2,4],\n\u001b[1;32m      4\u001b[0m               \u001b[0;34m[\u001b[0m\u001b[0;36m0\u001b[0m\u001b[0;34m,\u001b[0m\u001b[0;36m4\u001b[0m\u001b[0;34m]\u001b[0m\u001b[0;34m,\u001b[0m\u001b[0;34m\u001b[0m\u001b[0;34m\u001b[0m\u001b[0m\n\u001b[1;32m      5\u001b[0m               \u001b[0;34m[\u001b[0m\u001b[0;36m7\u001b[0m\u001b[0;34m,\u001b[0m\u001b[0;36m9\u001b[0m\u001b[0;34m]\u001b[0m\u001b[0;34m,\u001b[0m\u001b[0;34m\u001b[0m\u001b[0;34m\u001b[0m\u001b[0m\n",
      "\u001b[0;31mModuleNotFoundError\u001b[0m: No module named 'numpy'"
     ]
    }
   ],
   "source": [
    "import numpy as np\n",
    "\n",
    "a = np.array([[2,4],\n",
    "              [0,4],\n",
    "              [7,9],\n",
    "              [3,7]])\n",
    "\n",
    "b = np.array([[9,2],\n",
    "              [4,1],\n",
    "              [1,7],\n",
    "              [0,2]])\n",
    "\n",
    "print(a)"
   ]
  },
  {
   "cell_type": "code",
   "execution_count": 4,
   "metadata": {},
   "outputs": [
    {
     "name": "stdout",
     "output_type": "stream",
     "text": [
      "/Users/t/.pyenv/versions/3.8.5/bin/pip\n",
      "/Users/t/.pyenv/versions/3.8.5/bin/pip3\n"
     ]
    }
   ],
   "source": [
    "# https://teratail.com/questions/122118\n",
    "!which pip\n",
    "!which pip3"
   ]
  },
  {
   "cell_type": "code",
   "execution_count": 5,
   "metadata": {},
   "outputs": [
    {
     "name": "stdout",
     "output_type": "stream",
     "text": [
      "Collecting numpy\n",
      "  Downloading numpy-1.19.4-cp38-cp38-macosx_10_9_x86_64.whl (15.3 MB)\n",
      "\u001b[K     |████████████████████████████████| 15.3 MB 802 kB/s eta 0:00:01\n",
      "\u001b[?25hInstalling collected packages: numpy\n",
      "Successfully installed numpy-1.19.4\n"
     ]
    }
   ],
   "source": [
    "!pip install numpy"
   ]
  },
  {
   "cell_type": "code",
   "execution_count": 11,
   "metadata": {},
   "outputs": [],
   "source": [
    "import numpy as np\n",
    "\n",
    "a = np.array([[2,4],\n",
    "              [0,4],\n",
    "              [7,9],\n",
    "              [3,7]])\n",
    "\n",
    "b = np.array([[9,2],\n",
    "              [4,1],\n",
    "              [1,7],\n",
    "              [0,2]])"
   ]
  },
  {
   "cell_type": "code",
   "execution_count": 12,
   "metadata": {},
   "outputs": [
    {
     "name": "stdout",
     "output_type": "stream",
     "text": [
      "[[2 4]\n",
      " [0 4]\n",
      " [7 9]\n",
      " [3 7]]\n"
     ]
    }
   ],
   "source": [
    "print(a)"
   ]
  },
  {
   "cell_type": "code",
   "execution_count": 13,
   "metadata": {},
   "outputs": [
    {
     "name": "stdout",
     "output_type": "stream",
     "text": [
      "[[11  6]\n",
      " [ 4  5]\n",
      " [ 8 16]\n",
      " [ 3  9]]\n"
     ]
    }
   ],
   "source": [
    "print(a+b)"
   ]
  },
  {
   "cell_type": "code",
   "execution_count": 14,
   "metadata": {},
   "outputs": [
    {
     "data": {
      "text/plain": [
       "array([[11,  6],\n",
       "       [ 4,  5],\n",
       "       [ 8, 16],\n",
       "       [ 3,  9]])"
      ]
     },
     "execution_count": 14,
     "metadata": {},
     "output_type": "execute_result"
    }
   ],
   "source": [
    "a+b"
   ]
  },
  {
   "cell_type": "code",
   "execution_count": 15,
   "metadata": {},
   "outputs": [
    {
     "ename": "ValueError",
     "evalue": "shapes (4,2) and (4,2) not aligned: 2 (dim 1) != 4 (dim 0)",
     "output_type": "error",
     "traceback": [
      "\u001b[0;31m---------------------------------------------------------------------------\u001b[0m",
      "\u001b[0;31mValueError\u001b[0m                                Traceback (most recent call last)",
      "\u001b[0;32m<ipython-input-15-c9cc415545b4>\u001b[0m in \u001b[0;36m<module>\u001b[0;34m\u001b[0m\n\u001b[0;32m----> 1\u001b[0;31m \u001b[0mnp\u001b[0m\u001b[0;34m.\u001b[0m\u001b[0mdot\u001b[0m\u001b[0;34m(\u001b[0m\u001b[0ma\u001b[0m\u001b[0;34m,\u001b[0m \u001b[0mb\u001b[0m\u001b[0;34m)\u001b[0m\u001b[0;34m\u001b[0m\u001b[0;34m\u001b[0m\u001b[0m\n\u001b[0m",
      "\u001b[0;32m<__array_function__ internals>\u001b[0m in \u001b[0;36mdot\u001b[0;34m(*args, **kwargs)\u001b[0m\n",
      "\u001b[0;31mValueError\u001b[0m: shapes (4,2) and (4,2) not aligned: 2 (dim 1) != 4 (dim 0)"
     ]
    }
   ],
   "source": [
    "np.dot(a, b)"
   ]
  },
  {
   "cell_type": "markdown",
   "metadata": {},
   "source": [
    "## 行列とベクトル\n",
    "---\n",
    "\n",
    "+ 行列とは数字が超形状に並んだ配列\n",
    "+ 行列は英語でマトリックス（Matrix / Matrices(複数形）)\n",
    "+ 行列の縦部分を「行」（Row）\n",
    "+ 行列の横部分を「列」（Column)\n",
    "+ ```Xij``` i行j列の要素\n",
    "+ ベクトルは「n x 1」または「1 x n」の行列\n",
    "\n",
    "### 行列\n",
    "```txt\n",
    "M = [22, 123]\n",
    "    [65, 54]\n",
    "    [32, 1]\n",
    "\n",
    "Mij\n",
    "M１１(1行１列) = ２２\n",
    "M22（2行２列） = 54\n",
    "```\n",
    "\n",
    "### ベクトル\n",
    "```txt\n",
    "v = [34]\n",
    "    [2]\n",
    "    [532]\n",
    "\n",
    "v = [232 1 35 81]\n",
    "```\n",
    "\n",
    "#### ０オリジン、１オリジン（０インデックス、１インデックス）\n",
    "```txt\n",
    "Octave (機械学習で用いられる)：１インデックス\n",
    "v = [v1 v2 v3 v4]\n",
    "\n",
    "Python：０インデックス\n",
    "v = [v0 v1 v2 v3]\n",
    "```"
   ]
  },
  {
   "cell_type": "code",
   "execution_count": 12,
   "metadata": {},
   "outputs": [
    {
     "data": {
      "text/plain": [
       "array([[11,  6],\n",
       "       [ 4,  5],\n",
       "       [ 8, 16],\n",
       "       [ 3,  9]])"
      ]
     },
     "execution_count": 12,
     "metadata": {},
     "output_type": "execute_result"
    }
   ],
   "source": [
    "# 行列　足し算\n",
    "# (※同じ行列の形でないと計算不可)\n",
    "import numpy as np\n",
    "a = np.array([[2,4],\n",
    "              [0,4],\n",
    "              [7,9],\n",
    "              [3,7]]) #4row2col\n",
    "b = np.array([[9,2],\n",
    "              [4,1],\n",
    "              [1,7],\n",
    "              [0,2]]) #4row2col\n",
    "a + b"
   ]
  },
  {
   "cell_type": "code",
   "execution_count": 7,
   "metadata": {
    "collapsed": true,
    "jupyter": {
     "outputs_hidden": true
    }
   },
   "outputs": [
    {
     "data": {
      "text/plain": [
       "array([[ 6, 18, 42],\n",
       "       [12, 54,  0]])"
      ]
     },
     "execution_count": 7,
     "metadata": {},
     "output_type": "execute_result"
    }
   ],
   "source": [
    "# 行列　スカラー倍\n",
    "c = np.array([[1,3,7],\n",
    "              [2,9,0]])\n",
    "\n",
    "6 * c"
   ]
  },
  {
   "cell_type": "code",
   "execution_count": 8,
   "metadata": {
    "collapsed": true,
    "jupyter": {
     "outputs_hidden": true
    }
   },
   "outputs": [
    {
     "data": {
      "text/plain": [
       "array([[2.        , 1.        ],\n",
       "       [0.        , 0.33333333]])"
      ]
     },
     "execution_count": 8,
     "metadata": {},
     "output_type": "execute_result"
    }
   ],
   "source": [
    "# 行列　スカラー倍（割り算編）\n",
    "d = np.array([[6,3],\n",
    "              [0,1]])\n",
    "\n",
    "d / 3 # = * 1/3　なのでスカラー倍"
   ]
  },
  {
   "cell_type": "code",
   "execution_count": 11,
   "metadata": {
    "collapsed": true,
    "jupyter": {
     "outputs_hidden": true
    }
   },
   "outputs": [
    {
     "data": {
      "text/plain": [
       "array([[ 7. ],\n",
       "       [ 3. ],\n",
       "       [-2.5],\n",
       "       [16. ]])"
      ]
     },
     "execution_count": 11,
     "metadata": {},
     "output_type": "execute_result"
    }
   ],
   "source": [
    "# ベクトル計算\n",
    "e = np.array([[2],[1],[0],[3]])\n",
    "f = np.array([[4],[2],[3],[1]])\n",
    "g = np.array([[6],[0],[3],[12]])\n",
    "\n",
    "(5*e) - f + (g/6)"
   ]
  },
  {
   "cell_type": "code",
   "execution_count": 15,
   "metadata": {},
   "outputs": [
    {
     "data": {
      "text/plain": [
       "array([[19],\n",
       "       [29],\n",
       "       [ 9]])"
      ]
     },
     "execution_count": 15,
     "metadata": {},
     "output_type": "execute_result"
    }
   ],
   "source": [
    "# 行列　×　ベクトル　計算\n",
    "import numpy as np\n",
    "a = np.array([[2,5],[1,9],[0,3]]) # 行列　3行２列\n",
    "b = np.array([[2],[3]]) # ベクトル　2行１列\n",
    "\n",
    "np.dot(a, b) # 3行１列が出る"
   ]
  },
  {
   "cell_type": "code",
   "execution_count": 17,
   "metadata": {
    "collapsed": true,
    "jupyter": {
     "outputs_hidden": true
    }
   },
   "outputs": [
    {
     "data": {
      "text/plain": [
       "array([[13],\n",
       "       [ 2],\n",
       "       [11],\n",
       "       [18]])"
      ]
     },
     "execution_count": 17,
     "metadata": {},
     "output_type": "execute_result"
    }
   ],
   "source": [
    "# 練習\n",
    "# 4行２列\n",
    "c = np.array([[1,4],\n",
    "              [2,0],\n",
    "              [8,1],\n",
    "              [3,5]])\n",
    "# 2行１列\n",
    "d = np.array([[1],\n",
    "              [3]])\n",
    "\n",
    "np.dot(c, d)"
   ]
  },
  {
   "cell_type": "code",
   "execution_count": 20,
   "metadata": {
    "collapsed": true,
    "jupyter": {
     "outputs_hidden": true
    }
   },
   "outputs": [
    {
     "data": {
      "text/plain": [
       "array([[72.6 ],\n",
       "       [71.32],\n",
       "       [64.92],\n",
       "       [66.2 ]])"
      ]
     },
     "execution_count": 20,
     "metadata": {},
     "output_type": "execute_result"
    }
   ],
   "source": [
    "# 練習　（身長から体重を予測する）\n",
    "# ４名の身長リスト :4行２列 行列\n",
    "e = np.array([[1,180],\n",
    "              [1,176],\n",
    "              [1,156],\n",
    "              [1,160]])\n",
    "# 仮説（Hypothesis） :2行１列 ベクトル\n",
    "f = np.array([[15],\n",
    "              [0.32]])\n",
    "\n",
    "np.dot(e, f)"
   ]
  },
  {
   "cell_type": "code",
   "execution_count": 21,
   "metadata": {
    "collapsed": true,
    "jupyter": {
     "outputs_hidden": true
    }
   },
   "outputs": [
    {
     "data": {
      "text/plain": [
       "array([[33, 23],\n",
       "       [11, 19],\n",
       "       [ 0,  4]])"
      ]
     },
     "execution_count": 21,
     "metadata": {},
     "output_type": "execute_result"
    }
   ],
   "source": [
    "# 行列 × 行列 計算\n",
    "a = np.array([[1,3],\n",
    "              [6,1],\n",
    "              [2,0]]) # 3行２列\n",
    "b = np.array([[0,2],\n",
    "              [11,7]]) # 2行２列\n",
    "\n",
    "np.dot(a, b)"
   ]
  },
  {
   "cell_type": "code",
   "execution_count": 22,
   "metadata": {
    "collapsed": true,
    "jupyter": {
     "outputs_hidden": true
    }
   },
   "outputs": [
    {
     "data": {
      "text/plain": [
       "array([[17,  3,  5],\n",
       "       [92, 26, 24]])"
      ]
     },
     "execution_count": 22,
     "metadata": {},
     "output_type": "execute_result"
    }
   ],
   "source": [
    "c = np.array([[2,1,0],\n",
    "              [9,6,2]]) # 2行３列\n",
    "d = np.array([[8,0,2],\n",
    "              [1,3,1],\n",
    "              [7,4,0]]) # 3行３列\n",
    "\n",
    "np.dot(c, d)"
   ]
  },
  {
   "cell_type": "code",
   "execution_count": 23,
   "metadata": {},
   "outputs": [
    {
     "data": {
      "text/plain": [
       "array([[ 72.6 ,  85.4 , 104.6 ],\n",
       "       [ 71.32,  83.68, 102.12],\n",
       "       [ 64.92,  75.08,  89.72],\n",
       "       [ 66.2 ,  76.8 ,  92.2 ]])"
      ]
     },
     "execution_count": 23,
     "metadata": {},
     "output_type": "execute_result"
    }
   ],
   "source": [
    "# 練習　（身長から体重を予測する）\n",
    "# ４名の身長リスト :4行２列 行列\n",
    "e = np.array([[1,180],\n",
    "              [1,176],\n",
    "              [1,156],\n",
    "              [1,160]])\n",
    "# 仮説（Hypothesis） :2行３列 ベクトル　# ３パターンの仮説\n",
    "f = np.array([[  15,   8,  -7],\n",
    "              [0.32,0.43,0.62]])\n",
    "\n",
    "np.dot(e, f)"
   ]
  },
  {
   "cell_type": "markdown",
   "metadata": {},
   "source": [
    "### 行列の積の性質\n",
    "\n",
    "+ 可換則（成り立たない）\n",
    "> a×b != b×a\n",
    "+ 結合法則（成り立つ）\n",
    "> 4×2×3 = 4(2×3) =(4×3)3 = 24\n",
    ">\n",
    "> a×b×c\n",
    "> d = b×c  e = a×b\n",
    "> a×d = e×c\n",
    "+ 単位行列「 I 」\n",
    "> 1×B = B×1 = B\n",
    ">\n",
    "> (1)がBにおける単位行列"
   ]
  },
  {
   "cell_type": "code",
   "execution_count": 26,
   "metadata": {},
   "outputs": [
    {
     "data": {
      "text/plain": [
       "array([[19, 22],\n",
       "       [43, 50]])"
      ]
     },
     "execution_count": 26,
     "metadata": {},
     "output_type": "execute_result"
    }
   ],
   "source": [
    "# 可換即\n",
    "a = np.array([[1,2],[3,4]])\n",
    "b = np.array([[5,6],[7,8]])\n",
    "\n",
    "np.dot(a, b)"
   ]
  },
  {
   "cell_type": "code",
   "execution_count": 25,
   "metadata": {},
   "outputs": [
    {
     "data": {
      "text/plain": [
       "array([[23, 34],\n",
       "       [31, 46]])"
      ]
     },
     "execution_count": 25,
     "metadata": {},
     "output_type": "execute_result"
    }
   ],
   "source": [
    "np.dot(b, a)"
   ]
  },
  {
   "cell_type": "code",
   "execution_count": 36,
   "metadata": {},
   "outputs": [
    {
     "data": {
      "text/plain": [
       "array([[126,  85],\n",
       "       [286, 193]])"
      ]
     },
     "execution_count": 36,
     "metadata": {},
     "output_type": "execute_result"
    }
   ],
   "source": [
    "# 結合法則\n",
    "a = np.array([[1,2],[3,4]])\n",
    "b = np.array([[5,6],[7,8]])\n",
    "c = np.array([[2,1],[4,3]])\n",
    "\n",
    "a.dot(b).dot(c)"
   ]
  },
  {
   "cell_type": "code",
   "execution_count": 33,
   "metadata": {
    "collapsed": true,
    "jupyter": {
     "outputs_hidden": true
    }
   },
   "outputs": [
    {
     "data": {
      "text/plain": [
       "array([[19, 22],\n",
       "       [43, 50]])"
      ]
     },
     "execution_count": 33,
     "metadata": {},
     "output_type": "execute_result"
    }
   ],
   "source": [
    "e = np.dot(a, b)\n",
    "e"
   ]
  },
  {
   "cell_type": "code",
   "execution_count": 34,
   "metadata": {
    "collapsed": true,
    "jupyter": {
     "outputs_hidden": true
    }
   },
   "outputs": [
    {
     "data": {
      "text/plain": [
       "array([[34, 23],\n",
       "       [46, 31]])"
      ]
     },
     "execution_count": 34,
     "metadata": {},
     "output_type": "execute_result"
    }
   ],
   "source": [
    "d = np.dot(b, c)\n",
    "d"
   ]
  },
  {
   "cell_type": "code",
   "execution_count": 35,
   "metadata": {},
   "outputs": [
    {
     "name": "stdout",
     "output_type": "stream",
     "text": [
      "[[126  85]\n",
      " [286 193]]\n",
      "[[126  85]\n",
      " [286 193]]\n"
     ]
    }
   ],
   "source": [
    "print(e.dot(c))\n",
    "print(a.dot(d))"
   ]
  },
  {
   "cell_type": "code",
   "execution_count": 47,
   "metadata": {},
   "outputs": [
    {
     "data": {
      "text/plain": [
       "array([[1., 0.],\n",
       "       [0., 1.]])"
      ]
     },
     "execution_count": 47,
     "metadata": {},
     "output_type": "execute_result"
    }
   ],
   "source": [
    "# 単位行列\n",
    "eye = np.eye(2) # 2行２列\n",
    "eye"
   ]
  },
  {
   "cell_type": "code",
   "execution_count": 48,
   "metadata": {},
   "outputs": [
    {
     "data": {
      "text/plain": [
       "array([[1, 2],\n",
       "       [3, 4]])"
      ]
     },
     "execution_count": 48,
     "metadata": {},
     "output_type": "execute_result"
    }
   ],
   "source": [
    "a"
   ]
  },
  {
   "cell_type": "code",
   "execution_count": 49,
   "metadata": {},
   "outputs": [
    {
     "data": {
      "text/plain": [
       "array([[1., 2.],\n",
       "       [3., 4.]])"
      ]
     },
     "execution_count": 49,
     "metadata": {},
     "output_type": "execute_result"
    }
   ],
   "source": [
    "np.dot(eye, a)"
   ]
  },
  {
   "cell_type": "code",
   "execution_count": 50,
   "metadata": {},
   "outputs": [
    {
     "data": {
      "text/plain": [
       "array([[1., 2.],\n",
       "       [3., 4.]])"
      ]
     },
     "execution_count": 50,
     "metadata": {},
     "output_type": "execute_result"
    }
   ],
   "source": [
    "np.dot(a, eye)"
   ]
  },
  {
   "cell_type": "markdown",
   "metadata": {},
   "source": [
    "### 逆行列　転置行列\n",
    "\n",
    "+ 単位元と逆数\n",
    "> ３ × □ ＝ １\n",
    ">\n",
    "> ３に何かをかけて１となる状態＝単位元\n",
    ">\n",
    "> □　＝　逆数\n",
    ">\n",
    "> よって 1/3 (逆数は指数−１で表記する＝3^-1)\n",
    "+ 逆行列\n",
    "> m行m列の正方行列時しか成り立たない！\n",
    "+ 転置行列\n",
    "> m行n列の行列X、行列Xの転置行列X^T=Yとした時、\n",
    "Yはn行m列の行列となる。\n"
   ]
  },
  {
   "cell_type": "code",
   "execution_count": 57,
   "metadata": {},
   "outputs": [
    {
     "data": {
      "text/plain": [
       "array([[1, 0],\n",
       "       [0, 1]])"
      ]
     },
     "execution_count": 57,
     "metadata": {},
     "output_type": "execute_result"
    }
   ],
   "source": [
    "# A × A^-1 = I\n",
    "a = np.array([[2,5],\n",
    "              [1,3]]) # A\n",
    "b = np.array([[3,-5],\n",
    "              [-1,2]]) # 逆数： A^-1\n",
    "np.dot(a, b) # 単位行列: I"
   ]
  },
  {
   "cell_type": "code",
   "execution_count": 58,
   "metadata": {},
   "outputs": [
    {
     "data": {
      "text/plain": [
       "array([[ 3., -5.],\n",
       "       [-1.,  2.]])"
      ]
     },
     "execution_count": 58,
     "metadata": {},
     "output_type": "execute_result"
    }
   ],
   "source": [
    "# 逆行列の求め方\n",
    "np.linalg.inv(a)"
   ]
  },
  {
   "cell_type": "code",
   "execution_count": 60,
   "metadata": {},
   "outputs": [
    {
     "data": {
      "text/plain": [
       "array([[3, 2, 4],\n",
       "       [1, 6, 5]])"
      ]
     },
     "execution_count": 60,
     "metadata": {},
     "output_type": "execute_result"
    }
   ],
   "source": [
    "# 転置行列の求め方(Transposed)\n",
    "c = np.array([[3,1],\n",
    "              [2,6],\n",
    "              [4,5]])\n",
    "c.T"
   ]
  },
  {
   "cell_type": "markdown",
   "metadata": {},
   "source": [
    "### アダマール積\n",
    "> 同じ要素数を持った行列、或いは、ベクトルについて、同座標同士の掛け合わせを行う計算の仕方\n",
    "\n",
    "cf. [numpyと、アダマール積](https://note.com/mucun_wuxian/n/n9c8e0ed3c8a6)\n",
    "\n",
    "<img src='https://assets.st-note.com/production/uploads/images/27144341/rectangle_large_type_2_f1ad1e6620e6d56221d5944979e9b449.png' width=50%>\n"
   ]
  },
  {
   "cell_type": "code",
   "execution_count": 61,
   "metadata": {},
   "outputs": [
    {
     "name": "stdout",
     "output_type": "stream",
     "text": [
      "A * B = \n",
      "[[ 3  8]\n",
      " [15  6]\n",
      " [56 20]]\n",
      "\n",
      "A.T @ B = \n",
      "[[74 85]\n",
      " [56 34]]\n"
     ]
    }
   ],
   "source": [
    "import numpy as np\n",
    "\n",
    "A = np.array([[1, 4], \n",
    "              [3, 6], \n",
    "              [8, 2]])\n",
    "\n",
    "B = np.array([[3, 2], \n",
    "              [5, 1], \n",
    "              [7, 10]])\n",
    "\n",
    "print('A * B = ')\n",
    "print(A * B)\n",
    "print()\n",
    "print('A.T @ B = ')\n",
    "print(A.T @ B)"
   ]
  }
 ],
 "metadata": {
  "kernelspec": {
   "display_name": "Python 3",
   "language": "python",
   "name": "python3"
  },
  "language_info": {
   "codemirror_mode": {
    "name": "ipython",
    "version": 3
   },
   "file_extension": ".py",
   "mimetype": "text/x-python",
   "name": "python",
   "nbconvert_exporter": "python",
   "pygments_lexer": "ipython3",
   "version": "3.8.5"
  }
 },
 "nbformat": 4,
 "nbformat_minor": 4
}
